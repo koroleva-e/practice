{
 "cells": [
  {
   "cell_type": "markdown",
   "metadata": {},
   "source": [
    "# Исследование для мобильного приложения"
   ]
  },
  {
   "cell_type": "markdown",
   "metadata": {
    "toc": true
   },
   "source": [
    "<h1>Навигация<span class=\"tocSkip\"></span></h1>\n",
    "<div class=\"toc\"><ul class=\"toc-item\"><li><span><a href=\"#Откроем-файл-с-данными-и-изучим-общую-информацию\" data-toc-modified-id=\"Откроем-файл-с-данными-и-изучим-общую-информацию-1\"><span class=\"toc-item-num\">1&nbsp;&nbsp;</span>Откроем файл с данными и изучим общую информацию</a></span><ul class=\"toc-item\"><li><span><a href=\"#Импортируем-нужные-библиотеки\" data-toc-modified-id=\"Импортируем-нужные-библиотеки-1.1\"><span class=\"toc-item-num\">1.1&nbsp;&nbsp;</span>Импортируем нужные библиотеки</a></span></li><li><span><a href=\"#Загрузим-данные-из-CSV-файлов-в-переменные\" data-toc-modified-id=\"Загрузим-данные-из-CSV-файлов-в-переменные-1.2\"><span class=\"toc-item-num\">1.2&nbsp;&nbsp;</span>Загрузим данные из CSV-файлов в переменные</a></span></li><li><span><a href=\"#Посмотрим-на-содержимое-датасетов\" data-toc-modified-id=\"Посмотрим-на-содержимое-датасетов-1.3\"><span class=\"toc-item-num\">1.3&nbsp;&nbsp;</span>Посмотрим на содержимое датасетов</a></span></li><li><span><a href=\"#Вывод\" data-toc-modified-id=\"Вывод-1.4\"><span class=\"toc-item-num\">1.4&nbsp;&nbsp;</span>Вывод</a></span></li></ul></li><li><span><a href=\"#Предобработка-данных\" data-toc-modified-id=\"Предобработка-данных-2\"><span class=\"toc-item-num\">2&nbsp;&nbsp;</span>Предобработка данных</a></span><ul class=\"toc-item\"><li><span><a href=\"#Заменим-названия-столбцов\" data-toc-modified-id=\"Заменим-названия-столбцов-2.1\"><span class=\"toc-item-num\">2.1&nbsp;&nbsp;</span>Заменим названия столбцов</a></span></li><li><span><a href=\"#Проверим-пропуски\" data-toc-modified-id=\"Проверим-пропуски-2.2\"><span class=\"toc-item-num\">2.2&nbsp;&nbsp;</span>Проверим пропуски</a></span></li><li><span><a href=\"#Проверим-на-явные-дубликаты\" data-toc-modified-id=\"Проверим-на-явные-дубликаты-2.3\"><span class=\"toc-item-num\">2.3&nbsp;&nbsp;</span>Проверим на явные дубликаты</a></span></li><li><span><a href=\"#Проверим-на-неявные-дубликаты\" data-toc-modified-id=\"Проверим-на-неявные-дубликаты-2.4\"><span class=\"toc-item-num\">2.4&nbsp;&nbsp;</span>Проверим на неявные дубликаты</a></span></li><li><span><a href=\"#Проверим-не-попадают-ли-какие-либо-пользователи-в-обе-группы,-например,-вследствие-ошибки-при-настройке-или-проведении-теста\" data-toc-modified-id=\"Проверим-не-попадают-ли-какие-либо-пользователи-в-обе-группы,-например,-вследствие-ошибки-при-настройке-или-проведении-теста-2.5\"><span class=\"toc-item-num\">2.5&nbsp;&nbsp;</span>Проверим не попадают ли какие-либо пользователи в обе группы, например, вследствие ошибки при настройке или проведении теста</a></span></li><li><span><a href=\"#Добавим-столбец-даты-и-времени,-а-также-отдельный-столбец-дат\" data-toc-modified-id=\"Добавим-столбец-даты-и-времени,-а-также-отдельный-столбец-дат-2.6\"><span class=\"toc-item-num\">2.6&nbsp;&nbsp;</span>Добавим столбец даты и времени, а также отдельный столбец дат</a></span></li><li><span><a href=\"#Вывод\" data-toc-modified-id=\"Вывод-2.7\"><span class=\"toc-item-num\">2.7&nbsp;&nbsp;</span>Вывод</a></span></li></ul></li><li><span><a href=\"#Изучим-и-проверим-данные\" data-toc-modified-id=\"Изучим-и-проверим-данные-3\"><span class=\"toc-item-num\">3&nbsp;&nbsp;</span>Изучим и проверим данные</a></span><ul class=\"toc-item\"><li><span><a href=\"#Сколько-пользователей-и-связанных-с-ними-событий-в-логе?\" data-toc-modified-id=\"Сколько-пользователей-и-связанных-с-ними-событий-в-логе?-3.1\"><span class=\"toc-item-num\">3.1&nbsp;&nbsp;</span>Сколько пользователей и связанных с ними событий в логе?</a></span></li><li><span><a href=\"#Данными-за-какой-период-мы-располагаем?\" data-toc-modified-id=\"Данными-за-какой-период-мы-располагаем?-3.2\"><span class=\"toc-item-num\">3.2&nbsp;&nbsp;</span>Данными за какой период мы располагаем?</a></span></li><li><span><a href=\"#Проверим-распределение-событий-по-периоду\" data-toc-modified-id=\"Проверим-распределение-событий-по-периоду-3.3\"><span class=\"toc-item-num\">3.3&nbsp;&nbsp;</span>Проверим распределение событий по периоду</a></span></li><li><span><a href=\"#Много-ли-событий-и-пользователей-мы-потеряем,-отбросив-старые-данные?\" data-toc-modified-id=\"Много-ли-событий-и-пользователей-мы-потеряем,-отбросив-старые-данные?-3.4\"><span class=\"toc-item-num\">3.4&nbsp;&nbsp;</span>Много ли событий и пользователей мы потеряем, отбросив старые данные?</a></span></li><li><span><a href=\"#Вывод\" data-toc-modified-id=\"Вывод-3.5\"><span class=\"toc-item-num\">3.5&nbsp;&nbsp;</span>Вывод</a></span></li></ul></li><li><span><a href=\"#Изучим-воронку-событий\" data-toc-modified-id=\"Изучим-воронку-событий-4\"><span class=\"toc-item-num\">4&nbsp;&nbsp;</span>Изучим воронку событий</a></span><ul class=\"toc-item\"><li><span><a href=\"#Посмотрим-какие-события-есть-в-логах-и-как-часто-они-встречаются\" data-toc-modified-id=\"Посмотрим-какие-события-есть-в-логах-и-как-часто-они-встречаются-4.1\"><span class=\"toc-item-num\">4.1&nbsp;&nbsp;</span>Посмотрим какие события есть в логах и как часто они встречаются</a></span></li><li><span><a href=\"#Сколько-пользователей-совершали-каждое-из-этих-событий\" data-toc-modified-id=\"Сколько-пользователей-совершали-каждое-из-этих-событий-4.2\"><span class=\"toc-item-num\">4.2&nbsp;&nbsp;</span>Сколько пользователей совершали каждое из этих событий</a></span></li><li><span><a href=\"#Предположим-в-каком-порядке-происходят-события\" data-toc-modified-id=\"Предположим-в-каком-порядке-происходят-события-4.3\"><span class=\"toc-item-num\">4.3&nbsp;&nbsp;</span>Предположим в каком порядке происходят события</a></span></li><li><span><a href=\"#Посчитаем-какая-доля-пользователей-проходит-на-следующий-шаг-воронки\" data-toc-modified-id=\"Посчитаем-какая-доля-пользователей-проходит-на-следующий-шаг-воронки-4.4\"><span class=\"toc-item-num\">4.4&nbsp;&nbsp;</span>Посчитаем какая доля пользователей проходит на следующий шаг воронки</a></span></li><li><span><a href=\"#Вывод\" data-toc-modified-id=\"Вывод-4.5\"><span class=\"toc-item-num\">4.5&nbsp;&nbsp;</span>Вывод</a></span></li></ul></li><li><span><a href=\"#Изучим-результаты-эксперимента\" data-toc-modified-id=\"Изучим-результаты-эксперимента-5\"><span class=\"toc-item-num\">5&nbsp;&nbsp;</span>Изучим результаты эксперимента</a></span><ul class=\"toc-item\"><li><span><a href=\"#Сколько-пользователей-в-каждой-экспериментальной-группе?\" data-toc-modified-id=\"Сколько-пользователей-в-каждой-экспериментальной-группе?-5.1\"><span class=\"toc-item-num\">5.1&nbsp;&nbsp;</span>Сколько пользователей в каждой экспериментальной группе?</a></span></li><li><span><a href=\"#Есть-2-контрольные-группы-для-А/А-эксперимента,-чтобы-проверить-корректность-всех-механизмов-и-расчётов.-Проверим,-находят-ли-статистические-критерии-разницу-между-выборками-246-и-247\" data-toc-modified-id=\"Есть-2-контрольные-группы-для-А/А-эксперимента,-чтобы-проверить-корректность-всех-механизмов-и-расчётов.-Проверим,-находят-ли-статистические-критерии-разницу-между-выборками-246-и-247-5.2\"><span class=\"toc-item-num\">5.2&nbsp;&nbsp;</span>Есть 2 контрольные группы для А/А-эксперимента, чтобы проверить корректность всех механизмов и расчётов. Проверим, находят ли статистические критерии разницу между выборками 246 и 247</a></span></li><li><span><a href=\"#Аналогично-поступим-с-группой-с-изменённым-шрифтом\" data-toc-modified-id=\"Аналогично-поступим-с-группой-с-изменённым-шрифтом-5.3\"><span class=\"toc-item-num\">5.3&nbsp;&nbsp;</span>Аналогично поступим с группой с изменённым шрифтом</a></span><ul class=\"toc-item\"><li><span><a href=\"#Сравним-результаты-с-каждой-из-контрольных-групп-в-отдельности-по-каждому-событию\" data-toc-modified-id=\"Сравним-результаты-с-каждой-из-контрольных-групп-в-отдельности-по-каждому-событию-5.3.1\"><span class=\"toc-item-num\">5.3.1&nbsp;&nbsp;</span>Сравним результаты с каждой из контрольных групп в отдельности по каждому событию</a></span></li><li><span><a href=\"#Сравним-результаты-с-объединённой-контрольной-группой\" data-toc-modified-id=\"Сравним-результаты-с-объединённой-контрольной-группой-5.3.2\"><span class=\"toc-item-num\">5.3.2&nbsp;&nbsp;</span>Сравним результаты с объединённой контрольной группой</a></span></li></ul></li><li><span><a href=\"#Какой-уровень-значимости-выбираем-при-проверке-статистических-гипотез-выше?\" data-toc-modified-id=\"Какой-уровень-значимости-выбираем-при-проверке-статистических-гипотез-выше?-5.4\"><span class=\"toc-item-num\">5.4&nbsp;&nbsp;</span>Какой уровень значимости выбираем при проверке статистических гипотез выше?</a></span></li><li><span><a href=\"#Вывод\" data-toc-modified-id=\"Вывод-5.5\"><span class=\"toc-item-num\">5.5&nbsp;&nbsp;</span>Вывод</a></span></li></ul></li><li><span><a href=\"#Общий-вывод\" data-toc-modified-id=\"Общий-вывод-6\"><span class=\"toc-item-num\">6&nbsp;&nbsp;</span>Общий вывод</a></span></li></ul></div>"
   ]
  },
  {
   "cell_type": "markdown",
   "metadata": {},
   "source": [
    "# Цель исследования\n",
    "\n",
    "Есть стартап, который продаёт продукты питания. Нужно разобраться, как ведут себя пользователи мобильного приложения\n",
    "\n",
    "# Ход исследования\n",
    "\n",
    "1. Откроем файл с данными и изучим общую информацию:\n",
    "\n",
    "Путь к файлу: `/datasets/logs_exp.csv`\n",
    "\n",
    "2. Подготовим данные:\n",
    "- Заменим названия столбцов на удобные\n",
    "- Проверим пропуски и типы данных. Откорректируем при необходимости\n",
    "- Проверим данные на явные и неявные дубликаты\n",
    "- Добавим столбец даты и времени, а также отдельный столбец дат\n",
    "\n",
    "3. Изучим и проверим данные:\n",
    "- Сколько всего событий в логе?\n",
    "- Сколько всего пользователей в логе?\n",
    "- Сколько в среднем событий приходится на пользователя?\n",
    "- Данными за какой период мы располагаем? \n",
    "- Найдем максимальную и минимальную дату \n",
    "- Построим гистограмму по дате и времени\n",
    "- Убедимся, что у нас одинаково полные данные за весь период. Технически в логи новых дней по некоторым пользователям могут «доезжать» события из прошлого — это может «перекашивать данные»\n",
    "- Определим, с какого момента данные полные и отбросим более старые \n",
    "- Посмотрим данными за какой период времени мы располагаем на самом деле\n",
    "- Много ли событий и пользователей мы потеряли, отбросив старые данные?\n",
    "- Проверим, что у нас есть пользователи из всех трёх экспериментальных групп\n",
    "\n",
    "4. Изучим воронку событий:\n",
    "- Посмотрим, какие события есть в логах, как часто они встречаются. Отсортируем события по частоте\n",
    "- Посчитаем, сколько пользователей совершали каждое из этих событий. Отсортируем события по числу пользователей. Посчитаем долю пользователей, которые хоть раз совершали событие\n",
    "- Предположим, в каком порядке происходят события. Все ли они выстраиваются в последовательную цепочку? Их не будем учитывать при расчёте воронки\n",
    "- По воронке событий посчитаем, какая доля пользователей проходит на следующий шаг воронки (от числа пользователей на предыдущем). То есть для последовательности событий A → B → C посчитаем отношение числа пользователей с событием B к количеству пользователей с событием A, а также отношение числа пользователей с событием C к количеству пользователей с событием B\n",
    "- На каком шаге теряем больше всего пользователей?\n",
    "- Какая доля пользователей доходит от первого события до оплаты?\n",
    "\n",
    "5. Изучим результаты эксперимента:\n",
    "- Сколько пользователей в каждой экспериментальной группе?\n",
    "- Есть 2 контрольные группы для А/А-эксперимента, чтобы проверить корректность всех механизмов и расчётов. Проверим, находят ли статистические критерии разницу между выборками 246 и 247\n",
    "- Выберем самое популярное событие. Посчитаем число пользователей, совершивших это событие в каждой из контрольных групп. Посчитаем долю пользователей, совершивших это событие. Проверим, будет ли отличие между группами статистически достоверным. Проделаем то же самое для всех других событий (удобно обернуть проверку в отдельную функцию). Можем ли сказать, что разбиение на группы работает корректно?\n",
    "- Аналогично поступим с группой с изменённым шрифтом. Сравним результаты с каждой из контрольных групп в отдельности по каждому событию. Сравним результаты с объединённой контрольной группой. Какие выводы из эксперимента можем сделать?\n",
    "- Какой уровень значимости выбираем при проверке статистических гипотез выше? Посчитаем, сколько проверок статистических гипотез мы сделали. При уровне значимости 0.1 каждый десятый раз можно получать ложный результат. Какой уровень значимости стоит применить? Если хотим изменить его, проделаем предыдущие пункты и проверим свои выводы\n",
    "\n",
    "6. Напишем общий вывод\n",
    "\n",
    "# Описание данных\n",
    "\n",
    "Каждая запись в логе — это действие пользователя, или событие\n",
    "\n",
    "- `EventName` — название события\n",
    "- `DeviceIDHash` — уникальный идентификатор пользователя\n",
    "- `EventTimestamp` — время события\n",
    "- `ExpId` — номер эксперимента: 246 и 247 — контрольные группы, а 248 — экспериментальная"
   ]
  },
  {
   "cell_type": "markdown",
   "metadata": {},
   "source": [
    "## Откроем файл с данными и изучим общую информацию"
   ]
  },
  {
   "cell_type": "markdown",
   "metadata": {},
   "source": [
    "### Импортируем нужные библиотеки"
   ]
  },
  {
   "cell_type": "code",
   "execution_count": 1,
   "metadata": {},
   "outputs": [],
   "source": [
    "import pandas as pd\n",
    "import math as mth\n",
    "import datetime as dt\n",
    "import numpy as np\n",
    "from plotly import graph_objects as go\n",
    "import seaborn as sns\n",
    "sns.set(style=\"whitegrid\")\n",
    "import scipy.stats as stats\n",
    "import matplotlib.pyplot as plt\n",
    "from pandas.plotting import register_matplotlib_converters\n",
    "import warnings\n",
    "# конвертеры, которые позволяют использовать типы pandas в matplotlib  \n",
    "register_matplotlib_converters()"
   ]
  },
  {
   "cell_type": "code",
   "execution_count": 2,
   "metadata": {},
   "outputs": [
    {
     "name": "stdout",
     "output_type": "stream",
     "text": [
      "Requirement already satisfied: kaleido in /opt/conda/lib/python3.9/site-packages (0.2.1)\r\n"
     ]
    }
   ],
   "source": [
    "# для отображения графиков в GitHub\n",
    "! pip install kaleido\n",
    "\n",
    "import plotly.io as pio\n",
    "pio.renderers.default = \"png\"\n",
    "png_renderer = pio.renderers[\"png\"]\n",
    "png_renderer.scale = 1.2"
   ]
  },
  {
   "cell_type": "markdown",
   "metadata": {},
   "source": [
    "### Загрузим данные из CSV-файлов в переменные"
   ]
  },
  {
   "cell_type": "code",
   "execution_count": 3,
   "metadata": {},
   "outputs": [],
   "source": [
    "try:    \n",
    "    data = pd.read_csv('/datasets/logs_exp.csv', sep='\\t')\n",
    "except: \n",
    "    data = pd.read_csv('https://code.s3.yandex.net/datasets/logs_exp.csv', sep='\\t')"
   ]
  },
  {
   "cell_type": "markdown",
   "metadata": {},
   "source": [
    "### Посмотрим на содержимое датасетов"
   ]
  },
  {
   "cell_type": "code",
   "execution_count": 4,
   "metadata": {},
   "outputs": [
    {
     "data": {
      "text/html": [
       "<div>\n",
       "<style scoped>\n",
       "    .dataframe tbody tr th:only-of-type {\n",
       "        vertical-align: middle;\n",
       "    }\n",
       "\n",
       "    .dataframe tbody tr th {\n",
       "        vertical-align: top;\n",
       "    }\n",
       "\n",
       "    .dataframe thead th {\n",
       "        text-align: right;\n",
       "    }\n",
       "</style>\n",
       "<table border=\"1\" class=\"dataframe\">\n",
       "  <thead>\n",
       "    <tr style=\"text-align: right;\">\n",
       "      <th></th>\n",
       "      <th>EventName</th>\n",
       "      <th>DeviceIDHash</th>\n",
       "      <th>EventTimestamp</th>\n",
       "      <th>ExpId</th>\n",
       "    </tr>\n",
       "  </thead>\n",
       "  <tbody>\n",
       "    <tr>\n",
       "      <th>0</th>\n",
       "      <td>MainScreenAppear</td>\n",
       "      <td>4575588528974610257</td>\n",
       "      <td>1564029816</td>\n",
       "      <td>246</td>\n",
       "    </tr>\n",
       "    <tr>\n",
       "      <th>1</th>\n",
       "      <td>MainScreenAppear</td>\n",
       "      <td>7416695313311560658</td>\n",
       "      <td>1564053102</td>\n",
       "      <td>246</td>\n",
       "    </tr>\n",
       "    <tr>\n",
       "      <th>2</th>\n",
       "      <td>PaymentScreenSuccessful</td>\n",
       "      <td>3518123091307005509</td>\n",
       "      <td>1564054127</td>\n",
       "      <td>248</td>\n",
       "    </tr>\n",
       "    <tr>\n",
       "      <th>3</th>\n",
       "      <td>CartScreenAppear</td>\n",
       "      <td>3518123091307005509</td>\n",
       "      <td>1564054127</td>\n",
       "      <td>248</td>\n",
       "    </tr>\n",
       "    <tr>\n",
       "      <th>4</th>\n",
       "      <td>PaymentScreenSuccessful</td>\n",
       "      <td>6217807653094995999</td>\n",
       "      <td>1564055322</td>\n",
       "      <td>248</td>\n",
       "    </tr>\n",
       "    <tr>\n",
       "      <th>...</th>\n",
       "      <td>...</td>\n",
       "      <td>...</td>\n",
       "      <td>...</td>\n",
       "      <td>...</td>\n",
       "    </tr>\n",
       "    <tr>\n",
       "      <th>244121</th>\n",
       "      <td>MainScreenAppear</td>\n",
       "      <td>4599628364049201812</td>\n",
       "      <td>1565212345</td>\n",
       "      <td>247</td>\n",
       "    </tr>\n",
       "    <tr>\n",
       "      <th>244122</th>\n",
       "      <td>MainScreenAppear</td>\n",
       "      <td>5849806612437486590</td>\n",
       "      <td>1565212439</td>\n",
       "      <td>246</td>\n",
       "    </tr>\n",
       "    <tr>\n",
       "      <th>244123</th>\n",
       "      <td>MainScreenAppear</td>\n",
       "      <td>5746969938801999050</td>\n",
       "      <td>1565212483</td>\n",
       "      <td>246</td>\n",
       "    </tr>\n",
       "    <tr>\n",
       "      <th>244124</th>\n",
       "      <td>MainScreenAppear</td>\n",
       "      <td>5746969938801999050</td>\n",
       "      <td>1565212498</td>\n",
       "      <td>246</td>\n",
       "    </tr>\n",
       "    <tr>\n",
       "      <th>244125</th>\n",
       "      <td>OffersScreenAppear</td>\n",
       "      <td>5746969938801999050</td>\n",
       "      <td>1565212517</td>\n",
       "      <td>246</td>\n",
       "    </tr>\n",
       "  </tbody>\n",
       "</table>\n",
       "<p>244126 rows × 4 columns</p>\n",
       "</div>"
      ],
      "text/plain": [
       "                      EventName         DeviceIDHash  EventTimestamp  ExpId\n",
       "0              MainScreenAppear  4575588528974610257      1564029816    246\n",
       "1              MainScreenAppear  7416695313311560658      1564053102    246\n",
       "2       PaymentScreenSuccessful  3518123091307005509      1564054127    248\n",
       "3              CartScreenAppear  3518123091307005509      1564054127    248\n",
       "4       PaymentScreenSuccessful  6217807653094995999      1564055322    248\n",
       "...                         ...                  ...             ...    ...\n",
       "244121         MainScreenAppear  4599628364049201812      1565212345    247\n",
       "244122         MainScreenAppear  5849806612437486590      1565212439    246\n",
       "244123         MainScreenAppear  5746969938801999050      1565212483    246\n",
       "244124         MainScreenAppear  5746969938801999050      1565212498    246\n",
       "244125       OffersScreenAppear  5746969938801999050      1565212517    246\n",
       "\n",
       "[244126 rows x 4 columns]"
      ]
     },
     "execution_count": 4,
     "metadata": {},
     "output_type": "execute_result"
    }
   ],
   "source": [
    "data"
   ]
  },
  {
   "cell_type": "code",
   "execution_count": 5,
   "metadata": {},
   "outputs": [
    {
     "data": {
      "text/html": [
       "<div>\n",
       "<style scoped>\n",
       "    .dataframe tbody tr th:only-of-type {\n",
       "        vertical-align: middle;\n",
       "    }\n",
       "\n",
       "    .dataframe tbody tr th {\n",
       "        vertical-align: top;\n",
       "    }\n",
       "\n",
       "    .dataframe thead th {\n",
       "        text-align: right;\n",
       "    }\n",
       "</style>\n",
       "<table border=\"1\" class=\"dataframe\">\n",
       "  <thead>\n",
       "    <tr style=\"text-align: right;\">\n",
       "      <th></th>\n",
       "      <th>DeviceIDHash</th>\n",
       "      <th>EventTimestamp</th>\n",
       "      <th>ExpId</th>\n",
       "    </tr>\n",
       "  </thead>\n",
       "  <tbody>\n",
       "    <tr>\n",
       "      <th>count</th>\n",
       "      <td>2.441260e+05</td>\n",
       "      <td>2.441260e+05</td>\n",
       "      <td>244126.000000</td>\n",
       "    </tr>\n",
       "    <tr>\n",
       "      <th>mean</th>\n",
       "      <td>4.627568e+18</td>\n",
       "      <td>1.564914e+09</td>\n",
       "      <td>247.022296</td>\n",
       "    </tr>\n",
       "    <tr>\n",
       "      <th>std</th>\n",
       "      <td>2.642425e+18</td>\n",
       "      <td>1.771343e+05</td>\n",
       "      <td>0.824434</td>\n",
       "    </tr>\n",
       "    <tr>\n",
       "      <th>min</th>\n",
       "      <td>6.888747e+15</td>\n",
       "      <td>1.564030e+09</td>\n",
       "      <td>246.000000</td>\n",
       "    </tr>\n",
       "    <tr>\n",
       "      <th>25%</th>\n",
       "      <td>2.372212e+18</td>\n",
       "      <td>1.564757e+09</td>\n",
       "      <td>246.000000</td>\n",
       "    </tr>\n",
       "    <tr>\n",
       "      <th>50%</th>\n",
       "      <td>4.623192e+18</td>\n",
       "      <td>1.564919e+09</td>\n",
       "      <td>247.000000</td>\n",
       "    </tr>\n",
       "    <tr>\n",
       "      <th>75%</th>\n",
       "      <td>6.932517e+18</td>\n",
       "      <td>1.565075e+09</td>\n",
       "      <td>248.000000</td>\n",
       "    </tr>\n",
       "    <tr>\n",
       "      <th>max</th>\n",
       "      <td>9.222603e+18</td>\n",
       "      <td>1.565213e+09</td>\n",
       "      <td>248.000000</td>\n",
       "    </tr>\n",
       "  </tbody>\n",
       "</table>\n",
       "</div>"
      ],
      "text/plain": [
       "       DeviceIDHash  EventTimestamp          ExpId\n",
       "count  2.441260e+05    2.441260e+05  244126.000000\n",
       "mean   4.627568e+18    1.564914e+09     247.022296\n",
       "std    2.642425e+18    1.771343e+05       0.824434\n",
       "min    6.888747e+15    1.564030e+09     246.000000\n",
       "25%    2.372212e+18    1.564757e+09     246.000000\n",
       "50%    4.623192e+18    1.564919e+09     247.000000\n",
       "75%    6.932517e+18    1.565075e+09     248.000000\n",
       "max    9.222603e+18    1.565213e+09     248.000000"
      ]
     },
     "execution_count": 5,
     "metadata": {},
     "output_type": "execute_result"
    }
   ],
   "source": [
    "data.describe()"
   ]
  },
  {
   "cell_type": "code",
   "execution_count": 6,
   "metadata": {},
   "outputs": [
    {
     "name": "stdout",
     "output_type": "stream",
     "text": [
      "<class 'pandas.core.frame.DataFrame'>\n",
      "RangeIndex: 244126 entries, 0 to 244125\n",
      "Data columns (total 4 columns):\n",
      " #   Column          Non-Null Count   Dtype \n",
      "---  ------          --------------   ----- \n",
      " 0   EventName       244126 non-null  object\n",
      " 1   DeviceIDHash    244126 non-null  int64 \n",
      " 2   EventTimestamp  244126 non-null  int64 \n",
      " 3   ExpId           244126 non-null  int64 \n",
      "dtypes: int64(3), object(1)\n",
      "memory usage: 7.5+ MB\n"
     ]
    }
   ],
   "source": [
    "# Выведем основную информацию о датафрейме\n",
    "data.info()"
   ]
  },
  {
   "cell_type": "markdown",
   "metadata": {},
   "source": [
    "👀\n",
    "- пропусков или видимых аномалий нет\n",
    "- названия столбцов можно заменить на удобные\n",
    "- тип даты нужно поменять"
   ]
  },
  {
   "cell_type": "markdown",
   "metadata": {},
   "source": [
    "### Вывод"
   ]
  },
  {
   "cell_type": "markdown",
   "metadata": {},
   "source": [
    "- Импортировали нужные библиотеки\n",
    "- Загрузили данные из CSV-файлов в переменные\n",
    "- Посмотрели на содержимое датасетов и определили дальнейшие шаги для очистки"
   ]
  },
  {
   "cell_type": "markdown",
   "metadata": {},
   "source": [
    "## Предобработка данных"
   ]
  },
  {
   "cell_type": "markdown",
   "metadata": {},
   "source": [
    "### Заменим названия столбцов"
   ]
  },
  {
   "cell_type": "code",
   "execution_count": 7,
   "metadata": {
    "scrolled": true
   },
   "outputs": [
    {
     "data": {
      "text/html": [
       "<div>\n",
       "<style scoped>\n",
       "    .dataframe tbody tr th:only-of-type {\n",
       "        vertical-align: middle;\n",
       "    }\n",
       "\n",
       "    .dataframe tbody tr th {\n",
       "        vertical-align: top;\n",
       "    }\n",
       "\n",
       "    .dataframe thead th {\n",
       "        text-align: right;\n",
       "    }\n",
       "</style>\n",
       "<table border=\"1\" class=\"dataframe\">\n",
       "  <thead>\n",
       "    <tr style=\"text-align: right;\">\n",
       "      <th></th>\n",
       "      <th>event_name</th>\n",
       "      <th>user_id</th>\n",
       "      <th>date_time</th>\n",
       "      <th>group</th>\n",
       "    </tr>\n",
       "  </thead>\n",
       "  <tbody>\n",
       "    <tr>\n",
       "      <th>150283</th>\n",
       "      <td>CartScreenAppear</td>\n",
       "      <td>2438520924615884865</td>\n",
       "      <td>1564997394</td>\n",
       "      <td>246</td>\n",
       "    </tr>\n",
       "  </tbody>\n",
       "</table>\n",
       "</div>"
      ],
      "text/plain": [
       "              event_name              user_id   date_time  group\n",
       "150283  CartScreenAppear  2438520924615884865  1564997394    246"
      ]
     },
     "execution_count": 7,
     "metadata": {},
     "output_type": "execute_result"
    }
   ],
   "source": [
    "data = data.rename(columns={'EventName': 'event_name', 'DeviceIDHash': 'user_id', \n",
    "                     'EventTimestamp': 'date_time', 'ExpId': 'group'})\n",
    "data.sample()"
   ]
  },
  {
   "cell_type": "markdown",
   "metadata": {},
   "source": [
    "### Проверим пропуски"
   ]
  },
  {
   "cell_type": "code",
   "execution_count": 8,
   "metadata": {},
   "outputs": [
    {
     "data": {
      "text/plain": [
       "event_name    0\n",
       "user_id       0\n",
       "date_time     0\n",
       "group         0\n",
       "dtype: int64"
      ]
     },
     "execution_count": 8,
     "metadata": {},
     "output_type": "execute_result"
    }
   ],
   "source": [
    "data.isna().sum()"
   ]
  },
  {
   "cell_type": "markdown",
   "metadata": {},
   "source": [
    "👀 Пропусков нет"
   ]
  },
  {
   "cell_type": "markdown",
   "metadata": {},
   "source": [
    "### Проверим на явные дубликаты"
   ]
  },
  {
   "cell_type": "code",
   "execution_count": 9,
   "metadata": {},
   "outputs": [
    {
     "data": {
      "text/plain": [
       "413"
      ]
     },
     "execution_count": 9,
     "metadata": {},
     "output_type": "execute_result"
    }
   ],
   "source": [
    "data.duplicated().sum()"
   ]
  },
  {
   "cell_type": "code",
   "execution_count": 10,
   "metadata": {},
   "outputs": [
    {
     "data": {
      "text/plain": [
       "0.0016917493425526163"
      ]
     },
     "execution_count": 10,
     "metadata": {},
     "output_type": "execute_result"
    }
   ],
   "source": [
    "# Доля дубликатов\n",
    "data.duplicated().sum() / len(data)"
   ]
  },
  {
   "cell_type": "markdown",
   "metadata": {},
   "source": [
    "👀 Доля дубликатов меньше 1% - можем спокойно удалить"
   ]
  },
  {
   "cell_type": "code",
   "execution_count": 11,
   "metadata": {
    "scrolled": true
   },
   "outputs": [
    {
     "data": {
      "text/plain": [
       "0"
      ]
     },
     "execution_count": 11,
     "metadata": {},
     "output_type": "execute_result"
    }
   ],
   "source": [
    "# Очистим дубликаты\n",
    "data = data.drop_duplicates() \n",
    "data.duplicated().sum()"
   ]
  },
  {
   "cell_type": "code",
   "execution_count": 12,
   "metadata": {},
   "outputs": [],
   "source": [
    "# Cбросим индексацию после чисток\n",
    "data.reset_index(drop=True,inplace=True)"
   ]
  },
  {
   "cell_type": "markdown",
   "metadata": {},
   "source": [
    "### Проверим на неявные дубликаты"
   ]
  },
  {
   "cell_type": "code",
   "execution_count": 13,
   "metadata": {},
   "outputs": [
    {
     "data": {
      "text/plain": [
       "array(['MainScreenAppear', 'PaymentScreenSuccessful', 'CartScreenAppear',\n",
       "       'OffersScreenAppear', 'Tutorial'], dtype=object)"
      ]
     },
     "execution_count": 13,
     "metadata": {},
     "output_type": "execute_result"
    }
   ],
   "source": [
    "data['event_name'].unique()"
   ]
  },
  {
   "cell_type": "markdown",
   "metadata": {},
   "source": [
    "👀 С названиями все в порядке"
   ]
  },
  {
   "cell_type": "markdown",
   "metadata": {},
   "source": [
    "### Проверим не попадают ли какие-либо пользователи в обе группы, например, вследствие ошибки при настройке или проведении теста"
   ]
  },
  {
   "cell_type": "code",
   "execution_count": 14,
   "metadata": {},
   "outputs": [
    {
     "data": {
      "text/plain": [
       "array([], dtype=int64)"
      ]
     },
     "execution_count": 14,
     "metadata": {},
     "output_type": "execute_result"
    }
   ],
   "source": [
    "ambiguous_users = data.groupby('user_id', as_index=False).agg({'group': pd.Series.nunique}).query('group>1')['user_id'].unique()\n",
    "ambiguous_users"
   ]
  },
  {
   "cell_type": "markdown",
   "metadata": {},
   "source": [
    "👀 Пользователи в группах не дублируют друг друга"
   ]
  },
  {
   "cell_type": "markdown",
   "metadata": {},
   "source": [
    "### Добавим столбец даты и времени, а также отдельный столбец дат"
   ]
  },
  {
   "cell_type": "code",
   "execution_count": 15,
   "metadata": {},
   "outputs": [],
   "source": [
    "# Заменим тип данных на `datetime`\n",
    "data['date_time'] = pd.to_datetime(data['date_time'], unit='s')\n",
    "\n",
    "# Добавим поле с датой 'date'\n",
    "data['date'] = pd.to_datetime(data['date_time'].dt.date)"
   ]
  },
  {
   "cell_type": "code",
   "execution_count": 16,
   "metadata": {},
   "outputs": [
    {
     "name": "stdout",
     "output_type": "stream",
     "text": [
      "<class 'pandas.core.frame.DataFrame'>\n",
      "RangeIndex: 243713 entries, 0 to 243712\n",
      "Data columns (total 5 columns):\n",
      " #   Column      Non-Null Count   Dtype         \n",
      "---  ------      --------------   -----         \n",
      " 0   event_name  243713 non-null  object        \n",
      " 1   user_id     243713 non-null  int64         \n",
      " 2   date_time   243713 non-null  datetime64[ns]\n",
      " 3   group       243713 non-null  int64         \n",
      " 4   date        243713 non-null  datetime64[ns]\n",
      "dtypes: datetime64[ns](2), int64(2), object(1)\n",
      "memory usage: 9.3+ MB\n"
     ]
    }
   ],
   "source": [
    "# Еще раз взглянем не предобработанные данные\n",
    "data.info()"
   ]
  },
  {
   "cell_type": "markdown",
   "metadata": {},
   "source": [
    "👀 Теперь выглядит хорошо - с данными можно работать дальше"
   ]
  },
  {
   "cell_type": "markdown",
   "metadata": {},
   "source": [
    "### Вывод"
   ]
  },
  {
   "cell_type": "markdown",
   "metadata": {},
   "source": [
    "- Заменили названия столбцов на удобные\n",
    "- Пропусков и неявных дубликатов не обнаружили\n",
    "- Нашли 413 явных дубликата. Их доля составила меньше 1%, поэтому удалили из датасета и сбросили индексацию\n",
    "- Пользователи в группах не дублируют друг друга\n",
    "- Добавили столбец даты и времени, а также отдельный столбец дат. Изменили в них тип данных на 'datetime'"
   ]
  },
  {
   "cell_type": "markdown",
   "metadata": {},
   "source": [
    "## Изучим и проверим данные"
   ]
  },
  {
   "cell_type": "markdown",
   "metadata": {},
   "source": [
    "### Сколько пользователей и связанных с ними событий в логе?"
   ]
  },
  {
   "cell_type": "code",
   "execution_count": 17,
   "metadata": {
    "scrolled": true
   },
   "outputs": [
    {
     "name": "stdout",
     "output_type": "stream",
     "text": [
      "Всего событий в логе: 243713\n",
      "Всего уникальных пользователей: 7551\n",
      "Всего типов событий: 5\n"
     ]
    }
   ],
   "source": [
    "print(f'Всего событий в логе: {data.shape[0]}')\n",
    "print(f'Всего уникальных пользователей: {data[\"user_id\"].nunique()}')\n",
    "print(f'Всего типов событий: {data[\"event_name\"].nunique()}')"
   ]
  },
  {
   "cell_type": "markdown",
   "metadata": {},
   "source": [
    "Чтобы посчитать среднее количество событий на пользователя, проверим выбросы"
   ]
  },
  {
   "cell_type": "code",
   "execution_count": 18,
   "metadata": {},
   "outputs": [
    {
     "data": {
      "text/html": [
       "<div>\n",
       "<style scoped>\n",
       "    .dataframe tbody tr th:only-of-type {\n",
       "        vertical-align: middle;\n",
       "    }\n",
       "\n",
       "    .dataframe tbody tr th {\n",
       "        vertical-align: top;\n",
       "    }\n",
       "\n",
       "    .dataframe thead th {\n",
       "        text-align: right;\n",
       "    }\n",
       "</style>\n",
       "<table border=\"1\" class=\"dataframe\">\n",
       "  <thead>\n",
       "    <tr style=\"text-align: right;\">\n",
       "      <th></th>\n",
       "      <th>event_name</th>\n",
       "    </tr>\n",
       "    <tr>\n",
       "      <th>user_id</th>\n",
       "      <th></th>\n",
       "    </tr>\n",
       "  </thead>\n",
       "  <tbody>\n",
       "    <tr>\n",
       "      <th>6888746892508752</th>\n",
       "      <td>1</td>\n",
       "    </tr>\n",
       "    <tr>\n",
       "      <th>6909561520679493</th>\n",
       "      <td>5</td>\n",
       "    </tr>\n",
       "    <tr>\n",
       "      <th>6922444491712477</th>\n",
       "      <td>47</td>\n",
       "    </tr>\n",
       "    <tr>\n",
       "      <th>7435777799948366</th>\n",
       "      <td>6</td>\n",
       "    </tr>\n",
       "    <tr>\n",
       "      <th>7702139951469979</th>\n",
       "      <td>137</td>\n",
       "    </tr>\n",
       "    <tr>\n",
       "      <th>...</th>\n",
       "      <td>...</td>\n",
       "    </tr>\n",
       "    <tr>\n",
       "      <th>9217594193087726423</th>\n",
       "      <td>9</td>\n",
       "    </tr>\n",
       "    <tr>\n",
       "      <th>9219463515465815368</th>\n",
       "      <td>17</td>\n",
       "    </tr>\n",
       "    <tr>\n",
       "      <th>9220879493065341500</th>\n",
       "      <td>7</td>\n",
       "    </tr>\n",
       "    <tr>\n",
       "      <th>9221926045299980007</th>\n",
       "      <td>7</td>\n",
       "    </tr>\n",
       "    <tr>\n",
       "      <th>9222603179720523844</th>\n",
       "      <td>59</td>\n",
       "    </tr>\n",
       "  </tbody>\n",
       "</table>\n",
       "<p>7551 rows × 1 columns</p>\n",
       "</div>"
      ],
      "text/plain": [
       "                     event_name\n",
       "user_id                        \n",
       "6888746892508752              1\n",
       "6909561520679493              5\n",
       "6922444491712477             47\n",
       "7435777799948366              6\n",
       "7702139951469979            137\n",
       "...                         ...\n",
       "9217594193087726423           9\n",
       "9219463515465815368          17\n",
       "9220879493065341500           7\n",
       "9221926045299980007           7\n",
       "9222603179720523844          59\n",
       "\n",
       "[7551 rows x 1 columns]"
      ]
     },
     "execution_count": 18,
     "metadata": {},
     "output_type": "execute_result"
    }
   ],
   "source": [
    "# Сгруппируем по пользователям, посчитаем количество событий на пользователя\n",
    "evens_per_users = data.groupby('user_id').agg({'event_name':'count'})\n",
    "evens_per_users"
   ]
  },
  {
   "cell_type": "code",
   "execution_count": 19,
   "metadata": {},
   "outputs": [
    {
     "data": {
      "image/png": "[encoded data removed]",
      "text/plain": [
       "<Figure size 432x288 with 1 Axes>"
      ]
     },
     "metadata": {},
     "output_type": "display_data"
    },
    {
     "data": {
      "text/html": [
       "<div>\n",
       "<style scoped>\n",
       "    .dataframe tbody tr th:only-of-type {\n",
       "        vertical-align: middle;\n",
       "    }\n",
       "\n",
       "    .dataframe tbody tr th {\n",
       "        vertical-align: top;\n",
       "    }\n",
       "\n",
       "    .dataframe thead th {\n",
       "        text-align: right;\n",
       "    }\n",
       "</style>\n",
       "<table border=\"1\" class=\"dataframe\">\n",
       "  <thead>\n",
       "    <tr style=\"text-align: right;\">\n",
       "      <th></th>\n",
       "      <th>event_name</th>\n",
       "    </tr>\n",
       "  </thead>\n",
       "  <tbody>\n",
       "    <tr>\n",
       "      <th>count</th>\n",
       "      <td>7551.000000</td>\n",
       "    </tr>\n",
       "    <tr>\n",
       "      <th>mean</th>\n",
       "      <td>32.275593</td>\n",
       "    </tr>\n",
       "    <tr>\n",
       "      <th>std</th>\n",
       "      <td>65.154219</td>\n",
       "    </tr>\n",
       "    <tr>\n",
       "      <th>min</th>\n",
       "      <td>1.000000</td>\n",
       "    </tr>\n",
       "    <tr>\n",
       "      <th>25%</th>\n",
       "      <td>9.000000</td>\n",
       "    </tr>\n",
       "    <tr>\n",
       "      <th>50%</th>\n",
       "      <td>20.000000</td>\n",
       "    </tr>\n",
       "    <tr>\n",
       "      <th>75%</th>\n",
       "      <td>37.000000</td>\n",
       "    </tr>\n",
       "    <tr>\n",
       "      <th>max</th>\n",
       "      <td>2307.000000</td>\n",
       "    </tr>\n",
       "  </tbody>\n",
       "</table>\n",
       "</div>"
      ],
      "text/plain": [
       "        event_name\n",
       "count  7551.000000\n",
       "mean     32.275593\n",
       "std      65.154219\n",
       "min       1.000000\n",
       "25%       9.000000\n",
       "50%      20.000000\n",
       "75%      37.000000\n",
       "max    2307.000000"
      ]
     },
     "execution_count": 19,
     "metadata": {},
     "output_type": "execute_result"
    }
   ],
   "source": [
    "# Распределение событий на \"ящике с усами\", чтобы увидеть выбросы\n",
    "evens_per_users.boxplot(column=['event_name'])\n",
    "plt.ylabel('Количество событий')\n",
    "plt.show();\n",
    "\n",
    "evens_per_users.describe()"
   ]
  },
  {
   "cell_type": "code",
   "execution_count": 20,
   "metadata": {},
   "outputs": [
    {
     "name": "stdout",
     "output_type": "stream",
     "text": [
      "В среднем событий приходится на пользователя: 20.0\n"
     ]
    }
   ],
   "source": [
    "# Учитывая, что в данных есть выбросы, среднее количество событий на пользователя посчитаем по медиане\n",
    "print(f'В среднем событий приходится на пользователя: {data.groupby(\"user_id\")[\"event_name\"].agg(\"count\").median()}')"
   ]
  },
  {
   "cell_type": "markdown",
   "metadata": {},
   "source": [
    "### Данными за какой период мы располагаем?"
   ]
  },
  {
   "cell_type": "code",
   "execution_count": 21,
   "metadata": {},
   "outputs": [
    {
     "name": "stdout",
     "output_type": "stream",
     "text": [
      "Минимальная дата наблюдения: 2019-07-25 04:43:36\n",
      "Максимальная дата наблюдения: 2019-08-07 21:15:17\n"
     ]
    }
   ],
   "source": [
    "# Найдем минимальную и максимальную дату исследования\n",
    "print(f'Минимальная дата наблюдения: {data[\"date_time\"].min()}')\n",
    "print(f'Максимальная дата наблюдения: {data[\"date_time\"].max()}')"
   ]
  },
  {
   "cell_type": "markdown",
   "metadata": {},
   "source": [
    "👀 В нашем распоряжении данные с 25 июля 2019 г. по 7 августа 2019 г."
   ]
  },
  {
   "cell_type": "markdown",
   "metadata": {},
   "source": [
    "### Проверим распределение событий по периоду"
   ]
  },
  {
   "cell_type": "code",
   "execution_count": 22,
   "metadata": {},
   "outputs": [
    {
     "data": {
      "text/html": [
       "<div>\n",
       "<style scoped>\n",
       "    .dataframe tbody tr th:only-of-type {\n",
       "        vertical-align: middle;\n",
       "    }\n",
       "\n",
       "    .dataframe tbody tr th {\n",
       "        vertical-align: top;\n",
       "    }\n",
       "\n",
       "    .dataframe thead th {\n",
       "        text-align: right;\n",
       "    }\n",
       "</style>\n",
       "<table border=\"1\" class=\"dataframe\">\n",
       "  <thead>\n",
       "    <tr style=\"text-align: right;\">\n",
       "      <th></th>\n",
       "      <th>event_name</th>\n",
       "    </tr>\n",
       "    <tr>\n",
       "      <th>date</th>\n",
       "      <th></th>\n",
       "    </tr>\n",
       "  </thead>\n",
       "  <tbody>\n",
       "    <tr>\n",
       "      <th>2019-07-25</th>\n",
       "      <td>9</td>\n",
       "    </tr>\n",
       "    <tr>\n",
       "      <th>2019-07-26</th>\n",
       "      <td>31</td>\n",
       "    </tr>\n",
       "    <tr>\n",
       "      <th>2019-07-27</th>\n",
       "      <td>55</td>\n",
       "    </tr>\n",
       "    <tr>\n",
       "      <th>2019-07-28</th>\n",
       "      <td>105</td>\n",
       "    </tr>\n",
       "    <tr>\n",
       "      <th>2019-07-29</th>\n",
       "      <td>184</td>\n",
       "    </tr>\n",
       "    <tr>\n",
       "      <th>2019-07-30</th>\n",
       "      <td>412</td>\n",
       "    </tr>\n",
       "    <tr>\n",
       "      <th>2019-07-31</th>\n",
       "      <td>2030</td>\n",
       "    </tr>\n",
       "    <tr>\n",
       "      <th>2019-08-01</th>\n",
       "      <td>36141</td>\n",
       "    </tr>\n",
       "    <tr>\n",
       "      <th>2019-08-02</th>\n",
       "      <td>35554</td>\n",
       "    </tr>\n",
       "    <tr>\n",
       "      <th>2019-08-03</th>\n",
       "      <td>33282</td>\n",
       "    </tr>\n",
       "    <tr>\n",
       "      <th>2019-08-04</th>\n",
       "      <td>32968</td>\n",
       "    </tr>\n",
       "    <tr>\n",
       "      <th>2019-08-05</th>\n",
       "      <td>36058</td>\n",
       "    </tr>\n",
       "    <tr>\n",
       "      <th>2019-08-06</th>\n",
       "      <td>35788</td>\n",
       "    </tr>\n",
       "    <tr>\n",
       "      <th>2019-08-07</th>\n",
       "      <td>31096</td>\n",
       "    </tr>\n",
       "  </tbody>\n",
       "</table>\n",
       "</div>"
      ],
      "text/plain": [
       "            event_name\n",
       "date                  \n",
       "2019-07-25           9\n",
       "2019-07-26          31\n",
       "2019-07-27          55\n",
       "2019-07-28         105\n",
       "2019-07-29         184\n",
       "2019-07-30         412\n",
       "2019-07-31        2030\n",
       "2019-08-01       36141\n",
       "2019-08-02       35554\n",
       "2019-08-03       33282\n",
       "2019-08-04       32968\n",
       "2019-08-05       36058\n",
       "2019-08-06       35788\n",
       "2019-08-07       31096"
      ]
     },
     "execution_count": 22,
     "metadata": {},
     "output_type": "execute_result"
    }
   ],
   "source": [
    "# Найдем количество событий по периоду\n",
    "data.groupby('date').agg({'event_name':'count'}).sort_values(by='date')"
   ]
  },
  {
   "cell_type": "code",
   "execution_count": 23,
   "metadata": {},
   "outputs": [
    {
     "data": {
      "image/png": "[encoded data removed]",
      "text/plain": [
       "<Figure size 1080x360 with 1 Axes>"
      ]
     },
     "metadata": {},
     "output_type": "display_data"
    }
   ],
   "source": [
    "# Построим диаграмму распределения событий по датам\n",
    "data.groupby('date').agg({'event_name':'count'}).sort_values(by='date')\\\n",
    "    .plot(kind='bar', figsize=(15,5), title=('Распределение событий по датам'), color='green', alpha = 0.7)\n",
    "plt.xlabel('Даты')\n",
    "plt.ylabel('Количество событий')\n",
    "plt.xticks(rotation=50)\n",
    "plt.show()"
   ]
  },
  {
   "cell_type": "code",
   "execution_count": 24,
   "metadata": {},
   "outputs": [
    {
     "data": {
      "image/png": "[encoded data removed]",
      "text/plain": [
       "<Figure size 1080x360 with 1 Axes>"
      ]
     },
     "metadata": {},
     "output_type": "display_data"
    }
   ],
   "source": [
    "# Построим диаграмму распределения событий по времени\n",
    "data['date_time'].dt.hour.hist(bins=24, figsize=(15,5), color='orange', alpha = 0.7)\n",
    "plt.title=('Распределение событий по времени суток')\n",
    "plt.xlabel('Время, ч.')\n",
    "plt.ylabel('Количество событий')\n",
    "plt.show()"
   ]
  },
  {
   "cell_type": "markdown",
   "metadata": {},
   "source": [
    "👀\n",
    "- события по периоду распределены неравномерно\n",
    "- полные данные — с 1-7.08, неполные — с 25-31.07\n",
    "- меньше всего активности в ночное время (примерно с 21 до 03 часов)\n",
    "\n",
    "Технически в логи новых дней по некоторым пользователям могут «доезжать» события из прошлого (например пользователь мог начать сессию в один день и закончить на следующий) — это может «перекашивать данные». Правильно будет отбросить записи с 25.07-31.07 включительно"
   ]
  },
  {
   "cell_type": "markdown",
   "metadata": {},
   "source": [
    "### Много ли событий и пользователей мы потеряем, отбросив старые данные?"
   ]
  },
  {
   "cell_type": "code",
   "execution_count": 25,
   "metadata": {},
   "outputs": [
    {
     "name": "stdout",
     "output_type": "stream",
     "text": [
      "Потеряли 2826 событий, это 1.17% от общего числа\n",
      "Потеряли 17 пользователей, это 0.23% от общего числа\n",
      "В среднем событий приходится на пользователя: 19.0\n"
     ]
    }
   ],
   "source": [
    "# Запишем количество событий и пользователей до удаления\n",
    "c_events = data.shape[0]\n",
    "c_users = data['user_id'].nunique()\n",
    "\n",
    "# Удалим старые данные\n",
    "data = data.query('date >= \"2019-08-01\"')\n",
    "\n",
    "# Посчитаем потери событий и пользователей\n",
    "print(f'Потеряли {c_events - data.shape[0]} событий, это {round((c_events - data.shape[0]) / data.shape[0] * 100, 2)}% от общего числа')\n",
    "print(f'Потеряли {c_users - data[\"user_id\"].nunique()} пользователей, это {round((c_users - data[\"user_id\"].nunique()) / data[\"user_id\"].nunique() * 100, 2)}% от общего числа')\n",
    "\n",
    "# Как изменилось среднее количество событий на пользователя\n",
    "print(f'В среднем событий приходится на пользователя: {data.groupby(\"user_id\")[\"event_name\"].agg(\"count\").median()}')"
   ]
  },
  {
   "cell_type": "markdown",
   "metadata": {},
   "source": [
    "👀 При отбрасывании теряем около 1% данных. Это не сильно скажется на нашем исследовании"
   ]
  },
  {
   "cell_type": "code",
   "execution_count": 26,
   "metadata": {
    "scrolled": true
   },
   "outputs": [
    {
     "name": "stdout",
     "output_type": "stream",
     "text": [
      "Новая минимальная дата наблюдения: 2019-08-01 00:07:28\n",
      "Максимальная дата наблюдения: 2019-08-07 21:15:17\n"
     ]
    }
   ],
   "source": [
    "print('Новая минимальная дата наблюдения:', data['date_time'].min())\n",
    "print('Максимальная дата наблюдения:', data['date_time'].max())"
   ]
  },
  {
   "cell_type": "markdown",
   "metadata": {},
   "source": [
    "### Вывод"
   ]
  },
  {
   "cell_type": "markdown",
   "metadata": {},
   "source": [
    "Взглянули на исходные данные в логе. В нём:\n",
    "- Всего событий: 243713\n",
    "- Всего типов событий: 5\n",
    "- Всего уникальных пользователей: 7551\n",
    "- В среднем событий приходится на пользователя: 20\n",
    "- Минимальная дата наблюдения: 2019-07-25 04:43:36\n",
    "- Максимальная дата наблюдения: 2019-08-07 21:15:17\n",
    "\n",
    "Меньше всего пользователи проявляют активность в ночное время (примерно с 21 до 03 часов). И достигают пика в 15-16 ч. Здесь ничего необычного.\n",
    "\n",
    "После проверки событий выяснили, что их распределение по дням неравномерное - т.е. данные с 25-31.07 еще не \"доехали\" до текущих дней. Предположили, что такое может быть, если пользователь начал сессию в один день и закончил в другой. \n",
    "\n",
    "Приняли решение, что перед удалением данных - проверим их влияние на выборку. Получили такие результаты:\n",
    "- Потеряли 2826 событий (1.17% от общего числа)\n",
    "- Потеряли 17 пользователей (0.23% от общего числа)\n",
    "- В среднем событий приходится на пользователя: 19\n",
    "- Новая минимальная дата наблюдения: 2019-08-01 00:07:28\n",
    "- Максимальная дата наблюдения: 2019-08-07 21:15:17\n",
    "\n",
    "Итого, при отбрасывании потеряем около 1% данных. Это не сильно скажется на нашем исследовании. Поэтому старые данные удалили"
   ]
  },
  {
   "cell_type": "markdown",
   "metadata": {},
   "source": [
    "## Изучим воронку событий"
   ]
  },
  {
   "cell_type": "markdown",
   "metadata": {},
   "source": [
    "### Посмотрим какие события есть в логах и как часто они встречаются"
   ]
  },
  {
   "cell_type": "code",
   "execution_count": 27,
   "metadata": {},
   "outputs": [
    {
     "data": {
      "text/html": [
       "<div>\n",
       "<style scoped>\n",
       "    .dataframe tbody tr th:only-of-type {\n",
       "        vertical-align: middle;\n",
       "    }\n",
       "\n",
       "    .dataframe tbody tr th {\n",
       "        vertical-align: top;\n",
       "    }\n",
       "\n",
       "    .dataframe thead th {\n",
       "        text-align: right;\n",
       "    }\n",
       "</style>\n",
       "<table border=\"1\" class=\"dataframe\">\n",
       "  <thead>\n",
       "    <tr style=\"text-align: right;\">\n",
       "      <th></th>\n",
       "      <th>event_name</th>\n",
       "      <th>event_count</th>\n",
       "      <th>event_percent</th>\n",
       "    </tr>\n",
       "  </thead>\n",
       "  <tbody>\n",
       "    <tr>\n",
       "      <th>1</th>\n",
       "      <td>MainScreenAppear</td>\n",
       "      <td>117328</td>\n",
       "      <td>48.7</td>\n",
       "    </tr>\n",
       "    <tr>\n",
       "      <th>2</th>\n",
       "      <td>OffersScreenAppear</td>\n",
       "      <td>46333</td>\n",
       "      <td>19.2</td>\n",
       "    </tr>\n",
       "    <tr>\n",
       "      <th>0</th>\n",
       "      <td>CartScreenAppear</td>\n",
       "      <td>42303</td>\n",
       "      <td>17.6</td>\n",
       "    </tr>\n",
       "    <tr>\n",
       "      <th>3</th>\n",
       "      <td>PaymentScreenSuccessful</td>\n",
       "      <td>33918</td>\n",
       "      <td>14.1</td>\n",
       "    </tr>\n",
       "    <tr>\n",
       "      <th>4</th>\n",
       "      <td>Tutorial</td>\n",
       "      <td>1005</td>\n",
       "      <td>0.4</td>\n",
       "    </tr>\n",
       "  </tbody>\n",
       "</table>\n",
       "</div>"
      ],
      "text/plain": [
       "                event_name  event_count  event_percent\n",
       "1         MainScreenAppear       117328           48.7\n",
       "2       OffersScreenAppear        46333           19.2\n",
       "0         CartScreenAppear        42303           17.6\n",
       "3  PaymentScreenSuccessful        33918           14.1\n",
       "4                 Tutorial         1005            0.4"
      ]
     },
     "execution_count": 27,
     "metadata": {},
     "output_type": "execute_result"
    }
   ],
   "source": [
    "# Посмотрим какие есть типы событий\n",
    "events = (data.groupby('event_name')\n",
    "        .agg({'user_id': 'count'})\n",
    "        .reset_index()\n",
    "        .rename(columns={'user_id' : 'event_count'})\n",
    "        .sort_values(by='event_count', ascending=False))\n",
    "\n",
    "# Доля от событий %\n",
    "events['event_percent'] = round(events['event_count'] / events['event_count'].sum() * 100,1)\n",
    "events"
   ]
  },
  {
   "cell_type": "code",
   "execution_count": 28,
   "metadata": {},
   "outputs": [
    {
     "data": {
      "image/png": "[encoded data removed]",
      "text/plain": [
       "<Figure size 1080x360 with 1 Axes>"
      ]
     },
     "metadata": {},
     "output_type": "display_data"
    },
    {
     "data": {
      "image/png": "[encoded data removed]",
      "text/plain": [
       "<Figure size 3600x504 with 1 Axes>"
      ]
     },
     "metadata": {},
     "output_type": "display_data"
    }
   ],
   "source": [
    "# Посмотрим распределение событий на графике\n",
    "plt.figure(figsize=(15, 5))\n",
    "ax = sns.barplot(x='event_count', y='event_name', data=events, orient='h')\n",
    "ax.set_title('Частота событий в логах', loc='Left')\n",
    "ax.set_xlabel('Количество событий') \n",
    "ax.set_ylabel('') \n",
    "plt.show();\n",
    "\n",
    "# Доля событий на круговой диаграмме\n",
    "events.pivot_table(index='event_name', values='event_count', aggfunc='median') \\\n",
    "      .plot(kind='pie', subplots=True, figsize=(50, 7), startangle=212, autopct='%1.1f%%');"
   ]
  },
  {
   "cell_type": "markdown",
   "metadata": {},
   "source": [
    "👀 Количество событий:\n",
    "\n",
    "- 117328 (49%) - `MainScreenAppear` - главный экран - ***(самое частое событие)***\n",
    "- 46333 (19%) - `OffersScreenAppear` - каталог предложений\n",
    "- 42303 (18%) - `CartScreenAppear`- карточка товара\n",
    "- 33918 (14%) - `PaymentScreenSuccessful` - экран с подтверждением оплаты\n",
    "- 1005 (0.4%) - `Tutorial` - обучение - ***(самое редкое событие)***"
   ]
  },
  {
   "cell_type": "markdown",
   "metadata": {},
   "source": [
    "### Сколько пользователей совершали каждое из этих событий"
   ]
  },
  {
   "cell_type": "code",
   "execution_count": 29,
   "metadata": {},
   "outputs": [
    {
     "data": {
      "text/html": [
       "<div>\n",
       "<style scoped>\n",
       "    .dataframe tbody tr th:only-of-type {\n",
       "        vertical-align: middle;\n",
       "    }\n",
       "\n",
       "    .dataframe tbody tr th {\n",
       "        vertical-align: top;\n",
       "    }\n",
       "\n",
       "    .dataframe thead th {\n",
       "        text-align: right;\n",
       "    }\n",
       "</style>\n",
       "<table border=\"1\" class=\"dataframe\">\n",
       "  <thead>\n",
       "    <tr style=\"text-align: right;\">\n",
       "      <th></th>\n",
       "      <th>event_name</th>\n",
       "      <th>user_count</th>\n",
       "      <th>user_percent</th>\n",
       "    </tr>\n",
       "  </thead>\n",
       "  <tbody>\n",
       "    <tr>\n",
       "      <th>1</th>\n",
       "      <td>MainScreenAppear</td>\n",
       "      <td>7419</td>\n",
       "      <td>36.9</td>\n",
       "    </tr>\n",
       "    <tr>\n",
       "      <th>2</th>\n",
       "      <td>OffersScreenAppear</td>\n",
       "      <td>4593</td>\n",
       "      <td>22.8</td>\n",
       "    </tr>\n",
       "    <tr>\n",
       "      <th>0</th>\n",
       "      <td>CartScreenAppear</td>\n",
       "      <td>3734</td>\n",
       "      <td>18.6</td>\n",
       "    </tr>\n",
       "    <tr>\n",
       "      <th>3</th>\n",
       "      <td>PaymentScreenSuccessful</td>\n",
       "      <td>3539</td>\n",
       "      <td>17.6</td>\n",
       "    </tr>\n",
       "    <tr>\n",
       "      <th>4</th>\n",
       "      <td>Tutorial</td>\n",
       "      <td>840</td>\n",
       "      <td>4.2</td>\n",
       "    </tr>\n",
       "  </tbody>\n",
       "</table>\n",
       "</div>"
      ],
      "text/plain": [
       "                event_name  user_count  user_percent\n",
       "1         MainScreenAppear        7419          36.9\n",
       "2       OffersScreenAppear        4593          22.8\n",
       "0         CartScreenAppear        3734          18.6\n",
       "3  PaymentScreenSuccessful        3539          17.6\n",
       "4                 Tutorial         840           4.2"
      ]
     },
     "execution_count": 29,
     "metadata": {},
     "output_type": "execute_result"
    }
   ],
   "source": [
    "# Посчитаем сколько пользователей совершали каждое из этих событий\n",
    "users = (data.groupby('event_name')\n",
    "        .agg({'user_id': 'nunique'})\n",
    "        .reset_index() \n",
    "        .rename(columns={'user_id' : 'user_count'})\n",
    "        .sort_values(by='user_count', ascending=False))\n",
    "\n",
    "# Доля пользователей, которые хоть раз совершали событие %\n",
    "users['user_percent'] = round(users['user_count'] / users['user_count'].sum() * 100,1)\n",
    "users"
   ]
  },
  {
   "cell_type": "code",
   "execution_count": 30,
   "metadata": {},
   "outputs": [
    {
     "data": {
      "image/png": "[encoded data removed]",
      "text/plain": [
       "<Figure size 1080x360 with 1 Axes>"
      ]
     },
     "metadata": {},
     "output_type": "display_data"
    },
    {
     "data": {
      "image/png": "[encoded data removed]",
      "text/plain": [
       "<Figure size 3600x504 with 1 Axes>"
      ]
     },
     "metadata": {},
     "output_type": "display_data"
    }
   ],
   "source": [
    "# Посмотрим распределение пользователей по событиям на графике\n",
    "plt.figure(figsize=(15, 5))\n",
    "ax = sns.barplot(x='user_count', y='event_name', data=users, orient='h')\n",
    "ax.set_title('Количество пользователей в событиях', loc='Left')\n",
    "ax.set_xlabel('Количество пользователей') \n",
    "ax.set_ylabel('') \n",
    "plt.show();\n",
    "\n",
    "# Доля пользователей по событиям на круговой диаграмме\n",
    "users.pivot_table(index='event_name', values='user_count', aggfunc='median') \\\n",
    "      .plot(kind='pie', subplots=True, figsize=(50, 7), startangle=250, autopct='%1.1f%%');"
   ]
  },
  {
   "cell_type": "markdown",
   "metadata": {},
   "source": [
    "👀 Пользователи в событиях по убыванию значений:\n",
    "\n",
    "- 7419 (37%) - `MainScreenAppear` - главный экран - ***(самое частое событие)***\n",
    "- 4593 (23%) - `OffersScreenAppear` - каталог предложений\n",
    "- 3734 (19%) - `CartScreenAppear` - карточка товара\n",
    "- 3539 (18%) - `PaymentScreenSuccessful` - экран с подтверждением оплаты\n",
    "- 840 (4%) - `Tutorial` - обучение - ***(самое редкое событие)***"
   ]
  },
  {
   "cell_type": "markdown",
   "metadata": {},
   "source": [
    "### Предположим в каком порядке происходят события"
   ]
  },
  {
   "cell_type": "markdown",
   "metadata": {},
   "source": [
    "Заметно, что все события логически выстраиваются в некую цепочку (воронку):\n",
    "\n",
    "1. Tutorial - пользователь проходит обучение (или пропускает его, т.к. в большинстве приложений интерфейс интуитивно понятен - **поэтому его можно не учитывать при расчете воронки**)\n",
    "2. MainScreenAppear - переходит на главный экран\n",
    "3. OffersScreenAppear - смотрит каталог предложений\n",
    "4. CartScreenAppear - заходит в интересующий товар\n",
    "5. PaymentScreenSuccessful - если товар заинтересовал, оформляет покупку и видит экран с подтверждением оплаты"
   ]
  },
  {
   "cell_type": "markdown",
   "metadata": {},
   "source": [
    "### Посчитаем какая доля пользователей проходит на следующий шаг воронки"
   ]
  },
  {
   "cell_type": "code",
   "execution_count": 31,
   "metadata": {},
   "outputs": [
    {
     "data": {
      "text/html": [
       "<div>\n",
       "<style scoped>\n",
       "    .dataframe tbody tr th:only-of-type {\n",
       "        vertical-align: middle;\n",
       "    }\n",
       "\n",
       "    .dataframe tbody tr th {\n",
       "        vertical-align: top;\n",
       "    }\n",
       "\n",
       "    .dataframe thead th {\n",
       "        text-align: right;\n",
       "    }\n",
       "</style>\n",
       "<table border=\"1\" class=\"dataframe\">\n",
       "  <thead>\n",
       "    <tr style=\"text-align: right;\">\n",
       "      <th></th>\n",
       "      <th>event_name</th>\n",
       "      <th>user_count</th>\n",
       "      <th>user_percent</th>\n",
       "    </tr>\n",
       "  </thead>\n",
       "  <tbody>\n",
       "    <tr>\n",
       "      <th>1</th>\n",
       "      <td>MainScreenAppear</td>\n",
       "      <td>7419</td>\n",
       "      <td>0.984736</td>\n",
       "    </tr>\n",
       "    <tr>\n",
       "      <th>2</th>\n",
       "      <td>OffersScreenAppear</td>\n",
       "      <td>4593</td>\n",
       "      <td>0.609636</td>\n",
       "    </tr>\n",
       "    <tr>\n",
       "      <th>0</th>\n",
       "      <td>CartScreenAppear</td>\n",
       "      <td>3734</td>\n",
       "      <td>0.495620</td>\n",
       "    </tr>\n",
       "    <tr>\n",
       "      <th>3</th>\n",
       "      <td>PaymentScreenSuccessful</td>\n",
       "      <td>3539</td>\n",
       "      <td>0.469737</td>\n",
       "    </tr>\n",
       "  </tbody>\n",
       "</table>\n",
       "</div>"
      ],
      "text/plain": [
       "                event_name  user_count  user_percent\n",
       "1         MainScreenAppear        7419      0.984736\n",
       "2       OffersScreenAppear        4593      0.609636\n",
       "0         CartScreenAppear        3734      0.495620\n",
       "3  PaymentScreenSuccessful        3539      0.469737"
      ]
     },
     "execution_count": 31,
     "metadata": {},
     "output_type": "execute_result"
    }
   ],
   "source": [
    "# Сформируем таблицу с данными по воронке (абсолютная конверсия)\n",
    "funnel = (data[data['event_name'] != 'Tutorial']\n",
    "        .groupby('event_name')\n",
    "        .agg({'user_id': 'nunique'})\n",
    "        .reset_index() \n",
    "        .rename(columns={'user_id' : 'user_count'})\n",
    "        .sort_values(by='user_count', ascending=False))\n",
    "\n",
    "# Посчитаем долю пользователей, которые проходят на следующий шаг воронки % (A → B → C)\n",
    "funnel['user_percent'] = funnel['user_count'] / data['user_id'].nunique()\n",
    "funnel"
   ]
  },
  {
   "cell_type": "markdown",
   "metadata": {},
   "source": [
    "👀 Видно, что наибольшее количество пользователей теряется после первого шага (примерно -38%). И только около 47% от первоначального количества пользователей успешно оплачивают товары"
   ]
  },
  {
   "cell_type": "markdown",
   "metadata": {},
   "source": [
    "По воронке событий посчитаем, какая доля пользователей проходит на следующий шаг воронки (от числа пользователей на предыдущем). То есть для последовательности событий A → B → C посчитаем отношение числа пользователей с событием B к количеству пользователей с событием A, а также отношение числа пользователей с событием C к количеству пользователей с событием B"
   ]
  },
  {
   "cell_type": "code",
   "execution_count": 32,
   "metadata": {},
   "outputs": [
    {
     "data": {
      "image/png": "[encoded data removed]"
     },
     "metadata": {},
     "output_type": "display_data"
    }
   ],
   "source": [
    "# Строим график-воронку (относительная конверсия)\n",
    "fig = go.Figure(go.Funnel(y = funnel['event_name'],\n",
    "                          x = funnel['user_count'],\n",
    "                          opacity = 0.6,\n",
    "                          textposition = 'inside',\n",
    "                          textinfo = 'value + percent previous'))\n",
    "fig.update_layout(title_text='Воронка событий')\n",
    "fig.show()"
   ]
  },
  {
   "cell_type": "markdown",
   "metadata": {},
   "source": [
    "👀 \n",
    "- Главный экран - 100% пользователей\n",
    "- Заходят в каталог предложений после главного экрана - 62%\n",
    "- Просматривают карточку товара - 81% от числа заглянувших в каталог\n",
    "- Совершают покупку - 95% среди посмотревших товар\t"
   ]
  },
  {
   "cell_type": "markdown",
   "metadata": {},
   "source": [
    "### Вывод"
   ]
  },
  {
   "cell_type": "markdown",
   "metadata": {},
   "source": [
    "Посмотрели какие события есть в логах и как часто они встречаются:\n",
    "- 117328 (49%) - главный экран\n",
    "- 46333 (19%) - каталог предложений\n",
    "- 42303 (18%) - карточка товара\n",
    "- 33918 (14%) - экран с подтверждением оплаты\n",
    "- 1005 (0.4%) - обучение\n",
    "\n",
    "Проверили сколько пользователей совершали каждое из этих событий:\n",
    "- 7419 (37%) - заходили на главный экран\n",
    "- 4593 (23%) - смотрели каталог предложений\n",
    "- 3734 (19%) - переходили в карточку товара\n",
    "- 3539 (18%) - совершали оплату\n",
    "- 840 (4%) - проходили обучение\n",
    "\n",
    "Заметно, что все события логически выстраиваются в некую цепочку (воронку):\n",
    "- Tutorial - пользователь проходит обучение (или пропускает его, т.к. в большинстве приложений интерфейс интуитивно понятен - поэтому его не учитывали при расчете воронки)\n",
    "- MainScreenAppear - переходит на главный экран\n",
    "- OffersScreenAppear - смотрит каталог предложений\n",
    "- CartScreenAppear - заходит в интересующий товар\n",
    "- PaymentScreenSuccessful - если товар заинтересовал, оформляет покупку и видит экран с подтверждением оплаты\n",
    "\n",
    "По воронке событий посчитали, какая доля пользователей проходит на следующий шаг воронки от числа пользователей на предыдущем (Относительная конверсия) и долю пользователей от первоначального шага (Абсолютная конверсия).\n",
    "Получили такие данные:\n",
    "\n",
    "|Событие|Количество пользователей |Абсолютная конверсия|Относительная конверсия|\n",
    "| --- | --- | --- |--- |\n",
    "|Главный экран| 7419|98.5%|100%|\n",
    "|Заходят в каталог предложений после главного экрана| 4593|61.0%|62%|\n",
    "|Просматривают карточку товара| 3734|49.6%|81%|\n",
    "|Совершают покупку| 3539|47.0%|95%|\n",
    "\n",
    "Видно, что наибольшее количество пользователей теряется после первого шага (примерно -38%). И только около 47% от первоначального количества пользователей успешно оплачивают товары.\n",
    "\n",
    "Это может говорить о том что интерфейс основной страницы неудобен или некорректно отображается на части устройств, хорошо бы запросить данные о моделях устройств и проверить нет ли зависимости оттока пользователей от устройств."
   ]
  },
  {
   "cell_type": "markdown",
   "metadata": {},
   "source": [
    "## Изучим результаты эксперимента"
   ]
  },
  {
   "cell_type": "markdown",
   "metadata": {},
   "source": [
    "До начала пилота нужно определиться с тестовой и контрольной группой."
   ]
  },
  {
   "cell_type": "markdown",
   "metadata": {},
   "source": [
    "### Сколько пользователей в каждой экспериментальной группе?"
   ]
  },
  {
   "cell_type": "code",
   "execution_count": 33,
   "metadata": {},
   "outputs": [
    {
     "data": {
      "text/html": [
       "<div>\n",
       "<style scoped>\n",
       "    .dataframe tbody tr th:only-of-type {\n",
       "        vertical-align: middle;\n",
       "    }\n",
       "\n",
       "    .dataframe tbody tr th {\n",
       "        vertical-align: top;\n",
       "    }\n",
       "\n",
       "    .dataframe thead th {\n",
       "        text-align: right;\n",
       "    }\n",
       "</style>\n",
       "<table border=\"1\" class=\"dataframe\">\n",
       "  <thead>\n",
       "    <tr style=\"text-align: right;\">\n",
       "      <th></th>\n",
       "      <th>user_count</th>\n",
       "    </tr>\n",
       "    <tr>\n",
       "      <th>group</th>\n",
       "      <th></th>\n",
       "    </tr>\n",
       "  </thead>\n",
       "  <tbody>\n",
       "    <tr>\n",
       "      <th>246</th>\n",
       "      <td>2484</td>\n",
       "    </tr>\n",
       "    <tr>\n",
       "      <th>247</th>\n",
       "      <td>2513</td>\n",
       "    </tr>\n",
       "    <tr>\n",
       "      <th>248</th>\n",
       "      <td>2537</td>\n",
       "    </tr>\n",
       "  </tbody>\n",
       "</table>\n",
       "</div>"
      ],
      "text/plain": [
       "       user_count\n",
       "group            \n",
       "246          2484\n",
       "247          2513\n",
       "248          2537"
      ]
     },
     "execution_count": 33,
     "metadata": {},
     "output_type": "execute_result"
    }
   ],
   "source": [
    "data.groupby('group').agg({'user_id': 'nunique'}).rename(columns={'user_id' : 'user_count'})"
   ]
  },
  {
   "cell_type": "markdown",
   "metadata": {},
   "source": [
    "👀 В нашем распоряжении:\n",
    "- 246 и 247 - контрольные группы для А/А-эксперимента (на них проверим корректность всех механизмов и расчётов)\n",
    "- 248 - тестовая группа"
   ]
  },
  {
   "cell_type": "code",
   "execution_count": 34,
   "metadata": {},
   "outputs": [
    {
     "data": {
      "text/html": [
       "<div>\n",
       "<style scoped>\n",
       "    .dataframe tbody tr th:only-of-type {\n",
       "        vertical-align: middle;\n",
       "    }\n",
       "\n",
       "    .dataframe tbody tr th {\n",
       "        vertical-align: top;\n",
       "    }\n",
       "\n",
       "    .dataframe thead th {\n",
       "        text-align: right;\n",
       "    }\n",
       "</style>\n",
       "<table border=\"1\" class=\"dataframe\">\n",
       "  <thead>\n",
       "    <tr style=\"text-align: right;\">\n",
       "      <th></th>\n",
       "      <th>event_name</th>\n",
       "      <th>group</th>\n",
       "      <th>user_count</th>\n",
       "    </tr>\n",
       "  </thead>\n",
       "  <tbody>\n",
       "    <tr>\n",
       "      <th>5</th>\n",
       "      <td>MainScreenAppear</td>\n",
       "      <td>248</td>\n",
       "      <td>2493</td>\n",
       "    </tr>\n",
       "    <tr>\n",
       "      <th>8</th>\n",
       "      <td>OffersScreenAppear</td>\n",
       "      <td>248</td>\n",
       "      <td>1531</td>\n",
       "    </tr>\n",
       "    <tr>\n",
       "      <th>2</th>\n",
       "      <td>CartScreenAppear</td>\n",
       "      <td>248</td>\n",
       "      <td>1230</td>\n",
       "    </tr>\n",
       "    <tr>\n",
       "      <th>11</th>\n",
       "      <td>PaymentScreenSuccessful</td>\n",
       "      <td>248</td>\n",
       "      <td>1181</td>\n",
       "    </tr>\n",
       "    <tr>\n",
       "      <th>4</th>\n",
       "      <td>MainScreenAppear</td>\n",
       "      <td>247</td>\n",
       "      <td>2476</td>\n",
       "    </tr>\n",
       "    <tr>\n",
       "      <th>7</th>\n",
       "      <td>OffersScreenAppear</td>\n",
       "      <td>247</td>\n",
       "      <td>1520</td>\n",
       "    </tr>\n",
       "    <tr>\n",
       "      <th>1</th>\n",
       "      <td>CartScreenAppear</td>\n",
       "      <td>247</td>\n",
       "      <td>1238</td>\n",
       "    </tr>\n",
       "    <tr>\n",
       "      <th>10</th>\n",
       "      <td>PaymentScreenSuccessful</td>\n",
       "      <td>247</td>\n",
       "      <td>1158</td>\n",
       "    </tr>\n",
       "    <tr>\n",
       "      <th>3</th>\n",
       "      <td>MainScreenAppear</td>\n",
       "      <td>246</td>\n",
       "      <td>2450</td>\n",
       "    </tr>\n",
       "    <tr>\n",
       "      <th>6</th>\n",
       "      <td>OffersScreenAppear</td>\n",
       "      <td>246</td>\n",
       "      <td>1542</td>\n",
       "    </tr>\n",
       "    <tr>\n",
       "      <th>0</th>\n",
       "      <td>CartScreenAppear</td>\n",
       "      <td>246</td>\n",
       "      <td>1266</td>\n",
       "    </tr>\n",
       "    <tr>\n",
       "      <th>9</th>\n",
       "      <td>PaymentScreenSuccessful</td>\n",
       "      <td>246</td>\n",
       "      <td>1200</td>\n",
       "    </tr>\n",
       "  </tbody>\n",
       "</table>\n",
       "</div>"
      ],
      "text/plain": [
       "                 event_name  group  user_count\n",
       "5          MainScreenAppear    248        2493\n",
       "8        OffersScreenAppear    248        1531\n",
       "2          CartScreenAppear    248        1230\n",
       "11  PaymentScreenSuccessful    248        1181\n",
       "4          MainScreenAppear    247        2476\n",
       "7        OffersScreenAppear    247        1520\n",
       "1          CartScreenAppear    247        1238\n",
       "10  PaymentScreenSuccessful    247        1158\n",
       "3          MainScreenAppear    246        2450\n",
       "6        OffersScreenAppear    246        1542\n",
       "0          CartScreenAppear    246        1266\n",
       "9   PaymentScreenSuccessful    246        1200"
      ]
     },
     "execution_count": 34,
     "metadata": {},
     "output_type": "execute_result"
    }
   ],
   "source": [
    "funnel_group = (data[data['event_name'] != 'Tutorial']\n",
    "        .groupby(['event_name', 'group'])\n",
    "        .agg({'user_id': 'nunique'})\n",
    "        .reset_index() \n",
    "        .rename(columns={'user_id' : 'user_count'})\n",
    "        .sort_values(by=['group','user_count'], ascending=False))\n",
    "funnel_group"
   ]
  },
  {
   "cell_type": "code",
   "execution_count": 35,
   "metadata": {},
   "outputs": [
    {
     "data": {
      "image/png": "[encoded data removed]"
     },
     "metadata": {},
     "output_type": "display_data"
    }
   ],
   "source": [
    "# Строим воронку\n",
    "fig = go.Figure()\n",
    "\n",
    "fig.add_trace(go.Funnel(name = '246',\n",
    "                        y = funnel_group.query('group == 246')['event_name'],\n",
    "                        x = funnel_group.query('group == 246')['user_count'],\n",
    "                        opacity = 0.6,\n",
    "                        textposition = 'inside',\n",
    "                        textinfo = 'value + percent previous'))\n",
    "\n",
    "fig.add_trace(go.Funnel(name = '247',\n",
    "                        y = funnel_group.query('group == 247')['event_name'],\n",
    "                        x = funnel_group.query('group == 247')['user_count'],\n",
    "                        opacity = 0.6,\n",
    "                        textposition = 'inside',\n",
    "                        textinfo = 'value + percent previous'))\n",
    "\n",
    "\n",
    "fig.add_trace(go.Funnel(name = '248',\n",
    "                        y = funnel_group.query('group == 248')['event_name'],\n",
    "                        x = funnel_group.query('group == 248')['user_count'],\n",
    "                        opacity = 0.6,\n",
    "                        textposition = 'inside',\n",
    "                        textinfo = 'value + percent previous'))\n",
    "                        \n",
    "fig.update_layout(title_text='Воронка событий в разрезе экспериментальных групп')\n",
    "fig.show()"
   ]
  },
  {
   "cell_type": "markdown",
   "metadata": {},
   "source": [
    "👀 Пользователи распределяются по группам, как планировалось.\n",
    "Самое популярноее событие - MainScreenAppear"
   ]
  },
  {
   "cell_type": "code",
   "execution_count": 36,
   "metadata": {
    "scrolled": true
   },
   "outputs": [
    {
     "data": {
      "text/html": [
       "<style  type=\"text/css\" >\n",
       "</style><table id=\"T_7996d_\" ><thead>    <tr>        <th class=\"blank level0\" ></th>        <th class=\"col_heading level0 col0\" >user_count</th>        <th class=\"col_heading level0 col1\" >user_percent</th>    </tr>    <tr>        <th class=\"index_name level0\" >group</th>        <th class=\"blank\" ></th>        <th class=\"blank\" ></th>    </tr></thead><tbody>\n",
       "                <tr>\n",
       "                        <th id=\"T_7996d_level0_row0\" class=\"row_heading level0 row0\" >246</th>\n",
       "                        <td id=\"T_7996d_row0_col0\" class=\"data row0 col0\" >2450</td>\n",
       "                        <td id=\"T_7996d_row0_col1\" class=\"data row0 col1\" >98.63%</td>\n",
       "            </tr>\n",
       "            <tr>\n",
       "                        <th id=\"T_7996d_level0_row1\" class=\"row_heading level0 row1\" >247</th>\n",
       "                        <td id=\"T_7996d_row1_col0\" class=\"data row1 col0\" >2476</td>\n",
       "                        <td id=\"T_7996d_row1_col1\" class=\"data row1 col1\" >98.53%</td>\n",
       "            </tr>\n",
       "    </tbody></table>"
      ],
      "text/plain": [
       "<pandas.io.formats.style.Styler at 0x7f92908a1700>"
      ]
     },
     "execution_count": 36,
     "metadata": {},
     "output_type": "execute_result"
    }
   ],
   "source": [
    "# Посчитаем число пользователей с событием MainScreenAppear в каждой из контрольных групп\n",
    "check_groups = data.query('event_name == \"MainScreenAppear\" & (group == 246 | group == 247)').groupby('group').agg({'user_id':'nunique'})\n",
    "check_groups.columns = ['user_count']\n",
    "count_246 = data.query('group == 246')['user_id'].nunique()\n",
    "count_247 = data.query('group == 247')['user_id'].nunique()\n",
    "\n",
    "# Посчитаем долю пользователей, совершивших это событие\n",
    "check_groups.loc[246, 'user_percent'] = check_groups.loc[246, 'user_count'] / count_246\n",
    "check_groups.loc[247, 'user_percent'] = check_groups.loc[247, 'user_count'] / count_247\n",
    "check_groups.style.format({'user_percent':'{:.2%}'})"
   ]
  },
  {
   "cell_type": "markdown",
   "metadata": {},
   "source": [
    "👀"
   ]
  },
  {
   "cell_type": "markdown",
   "metadata": {},
   "source": [
    "### Есть 2 контрольные группы для А/А-эксперимента, чтобы проверить корректность всех механизмов и расчётов. Проверим, находят ли статистические критерии разницу между выборками 246 и 247"
   ]
  },
  {
   "cell_type": "markdown",
   "metadata": {},
   "source": [
    "Задача этого этапа – убедиться, что подобранный нами метод подбора похожих групп находит такие группы, что до начала пилота количество пользователей статистически не различается."
   ]
  },
  {
   "cell_type": "markdown",
   "metadata": {},
   "source": [
    "**Выдвинем гипотезы:**\n",
    "\n",
    "- H₀: различий в долях групп 246 и 247 нет\n",
    "- H₁: между долями есть значимая разница"
   ]
  },
  {
   "cell_type": "code",
   "execution_count": 37,
   "metadata": {},
   "outputs": [],
   "source": [
    "# Напишем функцию для автоматизации теста\n",
    "def z_test(group1, group2, event, alpha):\n",
    "\n",
    "    def successes_trials(group1, group2, event):\n",
    "    \n",
    "        successes = np.array([data.query(f'group == {group1} & event_name == \"{event}\"')['user_id'].nunique(),\\\n",
    "                          data.query(f'group == {group2} & event_name == \"{event}\"')['user_id'].nunique()])\n",
    "\n",
    "        trials = np.array([data.query(f'group == {group1}')['user_id'].nunique(),\\\n",
    "                           data.query(f'group == {group2}')['user_id'].nunique()])\n",
    "        return successes, trials\n",
    "    \n",
    "    successes, trials = successes_trials(group1, group2, event) \n",
    "   \n",
    "    # Пропорция успехов в первой группе:\n",
    "    p1 = successes[0]/trials[0]\n",
    " \n",
    "    # Пропорция успехов во второй группе:\n",
    "    p2 = successes[1]/trials[1]\n",
    " \n",
    "    # Пропорция успехов в комбинированном датасете:\n",
    "    p_combined = (successes[0] + successes[1]) / (trials[0] + trials[1])\n",
    " \n",
    "    # Разница пропорций в датасетах\n",
    "    difference = p1 - p2 \n",
    " \n",
    "    # Считаем статистику в ст.отклонениях стандартного нормального распределения\n",
    "    z_value = difference / mth.sqrt(p_combined * (1 - p_combined) * (1/trials[0] + 1/trials[1]))\n",
    " \n",
    "    # Задаем стандартное нормальное распределение (среднее 0, ст.отклонение 1)\n",
    "    distr = stats.norm(0, 1) \n",
    " \n",
    "    p_value = (1 - distr.cdf(abs(z_value))) * 2\n",
    "    \n",
    "    print(f'Тест для групп {group1} и {group2} и события {event}')\n",
    " \n",
    "    print('p-значение: ', p_value)\n",
    "    if p_value < alpha:\n",
    "        print('Отвергаем нулевую гипотезу: между долями есть значимая разница')\n",
    "    else:\n",
    "        print('Не получилось отвергнуть нулевую гипотезу, нет оснований считать доли разными')"
   ]
  },
  {
   "cell_type": "code",
   "execution_count": 38,
   "metadata": {},
   "outputs": [
    {
     "name": "stdout",
     "output_type": "stream",
     "text": [
      "Тест для групп 246 и 247 и события MainScreenAppear\n",
      "p-значение:  0.7570597232046099\n",
      "Не получилось отвергнуть нулевую гипотезу, нет оснований считать доли разными\n"
     ]
    }
   ],
   "source": [
    "z_test(246, 247, 'MainScreenAppear', 0.05)"
   ]
  },
  {
   "cell_type": "code",
   "execution_count": 39,
   "metadata": {},
   "outputs": [
    {
     "name": "stdout",
     "output_type": "stream",
     "text": [
      "Тест для групп 246 и 247 и события OffersScreenAppear\n",
      "p-значение:  0.2480954578522181\n",
      "Не получилось отвергнуть нулевую гипотезу, нет оснований считать доли разными\n"
     ]
    }
   ],
   "source": [
    "z_test(246, 247, 'OffersScreenAppear', 0.05)"
   ]
  },
  {
   "cell_type": "code",
   "execution_count": 40,
   "metadata": {},
   "outputs": [
    {
     "name": "stdout",
     "output_type": "stream",
     "text": [
      "Тест для групп 246 и 247 и события CartScreenAppear\n",
      "p-значение:  0.22883372237997213\n",
      "Не получилось отвергнуть нулевую гипотезу, нет оснований считать доли разными\n"
     ]
    }
   ],
   "source": [
    "z_test(246, 247, 'CartScreenAppear', 0.05)"
   ]
  },
  {
   "cell_type": "code",
   "execution_count": 41,
   "metadata": {},
   "outputs": [
    {
     "name": "stdout",
     "output_type": "stream",
     "text": [
      "Тест для групп 246 и 247 и события PaymentScreenSuccessful\n",
      "p-значение:  0.11456679313141849\n",
      "Не получилось отвергнуть нулевую гипотезу, нет оснований считать доли разными\n"
     ]
    }
   ],
   "source": [
    "z_test(246, 247, 'PaymentScreenSuccessful', 0.05)"
   ]
  },
  {
   "cell_type": "markdown",
   "metadata": {},
   "source": [
    "Согласно проведенным тестам, различие между контрольными группа 246 и 247 статистически незначимо, поэтому можно сказать, что разбиение на группы работает корректно."
   ]
  },
  {
   "cell_type": "markdown",
   "metadata": {},
   "source": [
    "### Аналогично поступим с группой с изменённым шрифтом"
   ]
  },
  {
   "cell_type": "markdown",
   "metadata": {},
   "source": [
    "#### Сравним результаты с каждой из контрольных групп в отдельности по каждому событию\n",
    "\n",
    "**Гипотезы:**\n",
    "\n",
    "- H₀: различий в долях групп 246 и 248 нет\n",
    "- H₁: между долями есть значимая разница"
   ]
  },
  {
   "cell_type": "code",
   "execution_count": 42,
   "metadata": {},
   "outputs": [
    {
     "name": "stdout",
     "output_type": "stream",
     "text": [
      "Тест для групп 246 и 248 и события MainScreenAppear\n",
      "p-значение:  0.2949721933554552\n",
      "Не получилось отвергнуть нулевую гипотезу, нет оснований считать доли разными\n"
     ]
    }
   ],
   "source": [
    "z_test(246, 248, 'MainScreenAppear', 0.05)"
   ]
  },
  {
   "cell_type": "code",
   "execution_count": 43,
   "metadata": {},
   "outputs": [
    {
     "name": "stdout",
     "output_type": "stream",
     "text": [
      "Тест для групп 246 и 248 и события OffersScreenAppear\n",
      "p-значение:  0.20836205402738917\n",
      "Не получилось отвергнуть нулевую гипотезу, нет оснований считать доли разными\n"
     ]
    }
   ],
   "source": [
    "z_test(246, 248, 'OffersScreenAppear', 0.05)"
   ]
  },
  {
   "cell_type": "code",
   "execution_count": 44,
   "metadata": {},
   "outputs": [
    {
     "name": "stdout",
     "output_type": "stream",
     "text": [
      "Тест для групп 246 и 248 и события CartScreenAppear\n",
      "p-значение:  0.07842923237520116\n",
      "Не получилось отвергнуть нулевую гипотезу, нет оснований считать доли разными\n"
     ]
    }
   ],
   "source": [
    "z_test(246, 248, 'CartScreenAppear', 0.05)"
   ]
  },
  {
   "cell_type": "code",
   "execution_count": 45,
   "metadata": {},
   "outputs": [
    {
     "name": "stdout",
     "output_type": "stream",
     "text": [
      "Тест для групп 246 и 248 и события PaymentScreenSuccessful\n",
      "p-значение:  0.2122553275697796\n",
      "Не получилось отвергнуть нулевую гипотезу, нет оснований считать доли разными\n"
     ]
    }
   ],
   "source": [
    "z_test(246, 248, 'PaymentScreenSuccessful', 0.05)"
   ]
  },
  {
   "cell_type": "markdown",
   "metadata": {},
   "source": [
    "**Гипотезы:**\n",
    "\n",
    "- H₀: различий в долях групп 247 и 248 нет\n",
    "- H₁: между долями есть значимая разница"
   ]
  },
  {
   "cell_type": "code",
   "execution_count": 46,
   "metadata": {},
   "outputs": [
    {
     "name": "stdout",
     "output_type": "stream",
     "text": [
      "Тест для групп 247 и 248 и события MainScreenAppear\n",
      "p-значение:  0.4587053616621515\n",
      "Не получилось отвергнуть нулевую гипотезу, нет оснований считать доли разными\n"
     ]
    }
   ],
   "source": [
    "z_test(247, 248, 'MainScreenAppear', 0.05)"
   ]
  },
  {
   "cell_type": "code",
   "execution_count": 47,
   "metadata": {},
   "outputs": [
    {
     "name": "stdout",
     "output_type": "stream",
     "text": [
      "Тест для групп 247 и 248 и события OffersScreenAppear\n",
      "p-значение:  0.9197817830592261\n",
      "Не получилось отвергнуть нулевую гипотезу, нет оснований считать доли разными\n"
     ]
    }
   ],
   "source": [
    "z_test(247, 248, 'OffersScreenAppear', 0.05)"
   ]
  },
  {
   "cell_type": "code",
   "execution_count": 48,
   "metadata": {},
   "outputs": [
    {
     "name": "stdout",
     "output_type": "stream",
     "text": [
      "Тест для групп 247 и 248 и события CartScreenAppear\n",
      "p-значение:  0.5786197879539783\n",
      "Не получилось отвергнуть нулевую гипотезу, нет оснований считать доли разными\n"
     ]
    }
   ],
   "source": [
    "z_test(247, 248, 'CartScreenAppear', 0.05)"
   ]
  },
  {
   "cell_type": "code",
   "execution_count": 49,
   "metadata": {},
   "outputs": [
    {
     "name": "stdout",
     "output_type": "stream",
     "text": [
      "Тест для групп 247 и 248 и события PaymentScreenSuccessful\n",
      "p-значение:  0.7373415053803964\n",
      "Не получилось отвергнуть нулевую гипотезу, нет оснований считать доли разными\n"
     ]
    }
   ],
   "source": [
    "z_test(247, 248, 'PaymentScreenSuccessful', 0.05)"
   ]
  },
  {
   "cell_type": "markdown",
   "metadata": {},
   "source": [
    "#### Сравним результаты с объединённой контрольной группой"
   ]
  },
  {
   "cell_type": "code",
   "execution_count": 50,
   "metadata": {},
   "outputs": [],
   "source": [
    "# Немного изменим функцию чтобы в group1 функции можно было передавать параметр в виде списка групп\n",
    "def z_test_3_groups(group1, group2, event, alpha):\n",
    "\n",
    "    def successes_trials_3_groups(group1, group2, event):\n",
    "    #изменили вот тут\n",
    "        successes = np.array([data.query(f'group.isin({group1}) & event_name == \"{event}\"')['user_id'].nunique(),\\\n",
    "                              data.query(f'group == {group2} & event_name == \"{event}\"')['user_id'].nunique()])\n",
    "    #и вот тут\n",
    "        trials = np.array([data.query(f'group.isin({group1})')['user_id'].nunique(),\\\n",
    "                           data.query(f'group == {group2}')['user_id'].nunique()])\n",
    "        return successes, trials\n",
    "    \n",
    "    successes, trials = successes_trials_3_groups(group1, group2, event) \n",
    "    \n",
    "    # пропорция успехов в первой группе:\n",
    "    p1 = successes[0]/trials[0]\n",
    " \n",
    "    # пропорция успехов во второй группе:\n",
    "    p2 = successes[1]/trials[1]\n",
    " \n",
    "    # пропорция успехов в комбинированном датасете:\n",
    "    p_combined = (successes[0] + successes[1]) / (trials[0] + trials[1])\n",
    " \n",
    "    # разница пропорций в датасетах\n",
    "    difference = p1 - p2 \n",
    " \n",
    "    # считаем статистику в ст.отклонениях стандартного нормального распределения\n",
    "    z_value = difference / mth.sqrt(p_combined * (1 - p_combined) * (1/trials[0] + 1/trials[1]))\n",
    " \n",
    "    # задаем стандартное нормальное распределение (среднее 0, ст.отклонение 1)\n",
    "    distr = stats.norm(0, 1) \n",
    " \n",
    "    p_value = (1 - distr.cdf(abs(z_value))) * 2\n",
    "    \n",
    "    print(f'Тест для групп {group1} и {group2} и события {event}')\n",
    " \n",
    "    print('p-значение: ', p_value)\n",
    "    if p_value < alpha:\n",
    "        print('Отвергаем нулевую гипотезу: между долями есть значимая разница')\n",
    "    else:\n",
    "        print('Не получилось отвергнуть нулевую гипотезу, нет оснований считать доли разными')"
   ]
  },
  {
   "cell_type": "markdown",
   "metadata": {},
   "source": [
    "**Гипотезы:**\n",
    "\n",
    "- H₀: различий в долях между объединенными контрольными группами [246 и 247] и контрольной 248 нет\n",
    "- H₁: между долями есть значимая разница"
   ]
  },
  {
   "cell_type": "code",
   "execution_count": 51,
   "metadata": {},
   "outputs": [
    {
     "name": "stdout",
     "output_type": "stream",
     "text": [
      "Тест для групп [246, 247] и 248 и события MainScreenAppear\n",
      "p-значение:  0.29424526837179577\n",
      "Не получилось отвергнуть нулевую гипотезу, нет оснований считать доли разными\n"
     ]
    }
   ],
   "source": [
    "z_test_3_groups([246, 247], 248, 'MainScreenAppear', 0.05)"
   ]
  },
  {
   "cell_type": "code",
   "execution_count": 52,
   "metadata": {},
   "outputs": [
    {
     "name": "stdout",
     "output_type": "stream",
     "text": [
      "Тест для групп [246, 247] и 248 и события OffersScreenAppear\n",
      "p-значение:  0.43425549655188256\n",
      "Не получилось отвергнуть нулевую гипотезу, нет оснований считать доли разными\n"
     ]
    }
   ],
   "source": [
    "z_test_3_groups([246, 247], 248, 'OffersScreenAppear', 0.05)"
   ]
  },
  {
   "cell_type": "code",
   "execution_count": 53,
   "metadata": {},
   "outputs": [
    {
     "name": "stdout",
     "output_type": "stream",
     "text": [
      "Тест для групп [246, 247] и 248 и события CartScreenAppear\n",
      "p-значение:  0.18175875284404386\n",
      "Не получилось отвергнуть нулевую гипотезу, нет оснований считать доли разными\n"
     ]
    }
   ],
   "source": [
    "z_test_3_groups([246, 247], 248, 'CartScreenAppear', 0.05)"
   ]
  },
  {
   "cell_type": "code",
   "execution_count": 54,
   "metadata": {},
   "outputs": [
    {
     "name": "stdout",
     "output_type": "stream",
     "text": [
      "Тест для групп [246, 247] и 248 и события PaymentScreenSuccessful\n",
      "p-значение:  0.6004294282308704\n",
      "Не получилось отвергнуть нулевую гипотезу, нет оснований считать доли разными\n"
     ]
    }
   ],
   "source": [
    "z_test_3_groups([246, 247], 248, 'PaymentScreenSuccessful', 0.05)"
   ]
  },
  {
   "cell_type": "markdown",
   "metadata": {},
   "source": [
    "👀 Согласно проведенным тестам, различия между контрольными группами 246 и 247 и экспериментальной 248 не являются статистически значимыми. Поэтому можно сказать, что изменение шрифтов во всем приложении не повлияло на воронку продаж и пользователи переходят от шага к шагу в одинаковых пропорциях, независимо от шрифта приложения."
   ]
  },
  {
   "cell_type": "markdown",
   "metadata": {},
   "source": [
    "### Какой уровень значимости выбираем при проверке статистических гипотез выше?"
   ]
  },
  {
   "cell_type": "markdown",
   "metadata": {},
   "source": [
    "Уровень статистической значимости — вероятность случайно получить в реальном наблюдении значение, далёкое от предполагаемого в нулевой гипотез.\n",
    "\n",
    "Было проведено 16 проверок статистических гипотез с уровнем значимости 0.05 (12 из них проверяли разницу между контрольными группами и группой с изменённым шрифтом) и ни одна из них не выявила значимой разницы.\n",
    "\n",
    "Несколько сравнений, проводимых на одних и тех же данных — это множественный тест. Его важная особенность в том, что с каждой новой проверкой гипотезы растёт вероятность ошибки первого рода (FWER). \n",
    "\n",
    "Чтобы снизить вероятность ложнопозитивного результата при множественном тестировании гипотез, применяют разные методы корректировки уровня значимости для уменьшения FWER."
   ]
  },
  {
   "attachments": {
    "image.png": {
     "image/png": "[encoded data removed]"
    }
   },
   "cell_type": "markdown",
   "metadata": {},
   "source": [
    "Метод Шидака обеспечивает FWER < ɑ. Скорректированное значение требуемого уровня значимости рассчитывается по формуле: \n",
    "![image.png](attachment:image.png)"
   ]
  },
  {
   "cell_type": "code",
   "execution_count": 55,
   "metadata": {},
   "outputs": [
    {
     "name": "stdout",
     "output_type": "stream",
     "text": [
      "0.0032006977101884937\n"
     ]
    }
   ],
   "source": [
    "# При ɑ = 0.05\n",
    "print(1 - (1 - 0.05)**(1/16))"
   ]
  },
  {
   "cell_type": "markdown",
   "metadata": {},
   "source": [
    "👀 Разницы с предыдущим результатом нет"
   ]
  },
  {
   "cell_type": "markdown",
   "metadata": {},
   "source": [
    "👀 При уровне значимости 0.1 только одна из проверок покажет значимую разницу, между контрольной группой 246 и 248 в доле перехода пользователей в корзину(CartScreenAppear), но эта разница будет не в пользу нашей экспериментальной группы. Но при уровне значимости 0.1 каждый десятый раз можно получать ложный результат, поэтому стоит применить изначально выбранный нами уровень значимости 0.05"
   ]
  },
  {
   "cell_type": "markdown",
   "metadata": {},
   "source": [
    "### Вывод"
   ]
  },
  {
   "cell_type": "markdown",
   "metadata": {},
   "source": [
    "Посчитали сколько пользователей в каждой экспериментальной группе:\n",
    "- 246 (2484 пользователей)\n",
    "- 247 (2513 пользователей)\n",
    "- 248 (2537 пользователей)\n",
    "\n",
    "246 и 247 - контрольные группы для А/А-эксперимента (на них проверим корректность всех механизмов и расчётов). 248 - тестовая группа\n",
    "\n",
    "Ранее мы уже выяснили, что самое популярноее событие - MainScreenAppear. Посчитали число пользователей и долю с этим событием в каждой из контрольных групп:\n",
    "- 246 - 2450 пользователей (98,63%)\n",
    "- 247 - 2476 пользователей (98,53%)\n",
    "\n",
    "Есть 2 контрольные группы для А/А-эксперимента, чтобы проверить корректность всех механизмов и расчётов. Задача этого этапа – убедиться, что подобранный нами метод подбора похожих групп находит такие группы, что до начала пилота количество пользователей статистически не различается.\n",
    "\n",
    "Проверим, находят ли статистические критерии разницу между выборками (246 и 247), (246 и 248). Аналогично поступим с группой с изменённым шрифтом:\n",
    "- Сравним результаты с каждой из контрольных групп в отдельности по каждому событию (247 и 248)\n",
    "- Сравним результаты с объединённой контрольной группой ([246 + 247] и 248)\n",
    "\n",
    "|Гипотеза|Сравниваемые группы|Событие|p-значение|ɑ = 0.05|с поправкой Шидака ɑ = 0.003|ɑ = 0.1|\n",
    "| --- | --- | --- | --- | --- | --- | --- | \n",
    "|**H₀** - различий в долях групп 246 и 247 нет. **H₁** - между долями есть значимая разница|246 и 247|MainScreenAppear|0.757|Не получилось отвергнуть нулевую гипотезу, нет оснований считать доли разными|Не получилось отвергнуть нулевую гипотезу, нет оснований считать доли разными|Не получилось отвергнуть нулевую гипотезу, нет оснований считать доли разными|\n",
    "|--//-- |246 и 247|OffersScreenAppear|0.248|Не получилось отвергнуть нулевую гипотезу, нет оснований считать доли разными|Не получилось отвергнуть нулевую гипотезу, нет оснований считать доли разными|Не получилось отвергнуть нулевую гипотезу, нет оснований считать доли разными|\n",
    "|--//--|246 и 247|CartScreenAppear|0.229|Не получилось отвергнуть нулевую гипотезу, нет оснований считать доли разными|Не получилось отвергнуть нулевую гипотезу, нет оснований считать доли разными|Не получилось отвергнуть нулевую гипотезу, нет оснований считать доли разными|\n",
    "|--//--|246 и 247|PaymentScreenSuccessful|0.115|Не получилось отвергнуть нулевую гипотезу, нет оснований считать доли разными|Не получилось отвергнуть нулевую гипотезу, нет оснований считать доли разными|Не получилось отвергнуть нулевую гипотезу, нет оснований считать доли разными|\n",
    "| **H₀** - различий в долях групп 246 и 248 нет. **H₁** - между долями есть значимая разница|246 и 248|MainScreenAppear|0.295 |Не получилось отвергнуть нулевую гипотезу, нет оснований считать доли разными|Не получилось отвергнуть нулевую гипотезу, нет оснований считать доли разными|Не получилось отвергнуть нулевую гипотезу, нет оснований считать доли разными|\n",
    "|--//--|246 и 248|OffersScreenAppear|0.208|Не получилось отвергнуть нулевую гипотезу, нет оснований считать доли разными|Не получилось отвергнуть нулевую гипотезу, нет оснований считать доли разными|Не получилось отвергнуть нулевую гипотезу, нет оснований считать доли разными|\n",
    "|--//--|246 и 248|CartScreenAppear|0.078|Не получилось отвергнуть нулевую гипотезу, нет оснований считать доли разными|Не получилось отвергнуть нулевую гипотезу, нет оснований считать доли разными|<font color='red'>Отвергаем нулевую гипотезу: между долями есть значимая разница</font>|\n",
    "|--//--|246 и 248|PaymentScreenSuccessful|0.212|Не получилось отвергнуть нулевую гипотезу, нет оснований считать доли разными|Не получилось отвергнуть нулевую гипотезу, нет оснований считать доли разными|Не получилось отвергнуть нулевую гипотезу, нет оснований считать доли разными|\n",
    "|**H₀** - различий в долях групп 247 и 248 нет. **H₁** - между долями есть значимая разница |247 и 248|MainScreenAppear|0.459 |Не получилось отвергнуть нулевую гипотезу, нет оснований считать доли разными|Не получилось отвергнуть нулевую гипотезу, нет оснований считать доли разными|Не получилось отвергнуть нулевую гипотезу, нет оснований считать доли разными|\n",
    "| --//--|247 и 248|OffersScreenAppear|0.920|Не получилось отвергнуть нулевую гипотезу, нет оснований считать доли разными|Не получилось отвергнуть нулевую гипотезу, нет оснований считать доли разными|Не получилось отвергнуть нулевую гипотезу, нет оснований считать доли разными|\n",
    "|--//-- |247 и 248|CartScreenAppear|0.579 |Не получилось отвергнуть нулевую гипотезу, нет оснований считать доли разными|Не получилось отвергнуть нулевую гипотезу, нет оснований считать доли разными|Не получилось отвергнуть нулевую гипотезу, нет оснований считать доли разными|\n",
    "|--//-- |247 и 248|PaymentScreenSuccessful|0.737|Не получилось отвергнуть нулевую гипотезу, нет оснований считать доли разными|Не получилось отвергнуть нулевую гипотезу, нет оснований считать доли разными|Не получилось отвергнуть нулевую гипотезу, нет оснований считать доли разными|\n",
    "| **H₀** - различий в долях между объединенными контрольными группами [246 и 247] и контрольной 248 нет. **H₁** - между долями есть значимая разница|[246 + 247] и 248|MainScreenAppear| 0.294|Не получилось отвергнуть нулевую гипотезу, нет оснований считать доли разными|Не получилось отвергнуть нулевую гипотезу, нет оснований считать доли разными|Не получилось отвергнуть нулевую гипотезу, нет оснований считать доли разными|\n",
    "|--//--|[246 + 247] и 248| OffersScreenAppear|0.434|Не получилось отвергнуть нулевую гипотезу, нет оснований считать доли разными|Не получилось отвергнуть нулевую гипотезу, нет оснований считать доли разными|Не получилось отвергнуть нулевую гипотезу, нет оснований считать доли разными|\n",
    "|--//--|[246 + 247] и 248| CartScreenAppear|0.182|Не получилось отвергнуть нулевую гипотезу, нет оснований считать доли разными|Не получилось отвергнуть нулевую гипотезу, нет оснований считать доли разными|Не получилось отвергнуть нулевую гипотезу, нет оснований считать доли разными|\n",
    "|--//-- |[246 + 247] и 248|PaymentScreenSuccessful |0.600|Не получилось отвергнуть нулевую гипотезу, нет оснований считать доли разными|Не получилось отвергнуть нулевую гипотезу, нет оснований считать доли разными|Не получилось отвергнуть нулевую гипотезу, нет оснований считать доли разными|\n",
    "\n",
    "Было проведено 16 проверок статистических гипотез с уровнем значимости 0.05 (12 из них проверяли разницу между контрольными группами и группой с изменённым шрифтом) и ни одна из них не выявила значимой разницы:\n",
    "- Согласно проведенным тестам, различие между контрольными группами (246 и 247), (246 и 248) и (247 и 248) статистически незначимо, поэтому можно сказать, что разбиение на группы корректно\n",
    "- Согласно проведенным тестам, различия между контрольными группами [246 + 247] и экспериментальной 248 не являются статистически значимыми. Поэтому можно сказать, что изменение шрифтов во всем приложении не повлияло на воронку продаж и пользователи переходят от шага к шагу в одинаковых пропорциях, независимо от шрифта приложения.\n",
    "\n",
    "При уровне значимости 0.1 только одна из проверок покажет значимую разницу, между контрольной группой 246 и 248 в доле перехода пользователей в корзину(CartScreenAppear), но эта разница будет не в пользу нашей экспериментальной группы. Но при уровне значимости 0.1 каждый десятый раз можно получать ложный результат, поэтому стоит применить изначально выбранный нами уровень значимости 0.05\n",
    "\n",
    "**Итоговые рекомендации:**\n",
    "\n",
    "Почти половина первоначальных пользователей проходит весь путь воронки и попадает на страницу успешной оплаты - 47% всех пользователей, просматривающих главную страницу. Это довольно успешный результат.\n",
    "\n",
    "Все тесты показали, что нет никаких оснований считать пропорции групп разными: это означает, что внесение изменений в дизайн приложения никак не повлияло на пропорции пользователей, переходящих с одной стадии воронки на другую.\n",
    "\n",
    "Таким образом, мы можем судить, что изменение шрифта значимого эффекта на поведение пользователей не оказало. Это можно считать успехом, если целью было узнать не отпугнут ли пользователй данные изменения.\n",
    "\n",
    "Чтобы получить более репрезентативный результат, можно добавить еще немного информации для анализа - не только пропорции пользователей от этапа к этапу воронки, но и доход и другие количественные показатели заказов. Это позволит более глубоко проанализировать влияние изменений в дизайне и сделать более широкие выводы. На данный момент кажется, что изменения не стоят усилий. И если изменение шрифта не продиктовано проблемами в работе приложения, его можно не менять."
   ]
  },
  {
   "cell_type": "markdown",
   "metadata": {},
   "source": [
    "## Общий вывод"
   ]
  },
  {
   "cell_type": "markdown",
   "metadata": {},
   "source": [
    "Открыли файл с данными и изучили общую информацию:\n",
    "- Импортировали нужные библиотеки\n",
    "- Загрузили данные из CSV-файлов в переменные\n",
    "- Посмотрели на содержимое датасетов и определили дальнейшие шаги для очистки\n",
    "\n",
    "Предобработали данные:\n",
    "- Заменили названия столбцов на удобные\n",
    "- Пропусков и неявных дубликатов не обнаружили\n",
    "- Пользователи в группах не дублируют друг друга\n",
    "- Нашли 413 явных дубликата. Их доля составила меньше 1%, поэтому удалили из датасета и сбросили индексацию\n",
    "- Добавили столбец даты и времени, а также отдельный столбец дат. Изменили в них тип данных на 'datetime'\n",
    "\n",
    "Взглянули на исходные данные в логе. В нём:\n",
    "- Всего событий: 243713\n",
    "- Всего типов событий: 5\n",
    "- Всего уникальных пользователей: 7551\n",
    "- В среднем событий приходится на пользователя: 20\n",
    "- Минимальная дата наблюдения: 2019-07-25 04:43:36\n",
    "- Максимальная дата наблюдения: 2019-08-07 21:15:17\n",
    "\n",
    "Меньше всего пользователи проявляют активность в ночное время (примерно с 21 до 03 часов). И достигают пика в 15-16 ч. Здесь ничего необычного.\n",
    "\n",
    "После проверки событий выяснили, что их распределение по дням неравномерное - т.е. данные с 25-31.07 еще не \"доехали\" до текущих дней. Предположили, что такое может быть, если пользователь начал сессию в один день и закончил в другой. \n",
    "\n",
    "Приняли решение, что перед удалением данных - проверим их влияние на выборку. Получили такие результаты:\n",
    "- Потеряли 2826 событий (1.17% от общего числа)\n",
    "- Потеряли 17 пользователей (0.23% от общего числа)\n",
    "- В среднем событий приходится на пользователя: 19\n",
    "- Новая минимальная дата наблюдения: 2019-08-01 00:07:28\n",
    "- Максимальная дата наблюдения: 2019-08-07 21:15:17\n",
    "\n",
    "Итого, при отбрасывании потеряем около 1% данных. Это не сильно скажется на нашем исследовании. Поэтому старые данные удалили.\n",
    "\n",
    "Изучили воронку событий. Посмотрели какие события есть в логах и как часто они встречаются:\n",
    "- 117328 (49%) - главный экран\n",
    "- 46333 (19%) - каталог предложений\n",
    "- 42303 (18%) - карточка товара\n",
    "- 33918 (14%) - экран с подтверждением оплаты\n",
    "- 1005 (0.4%) - обучение\n",
    "\n",
    "Проверили сколько пользователей совершали каждое из этих событий:\n",
    "- 7419 (37%) - заходили на главный экран\n",
    "- 4593 (23%) - смотрели каталог предложений\n",
    "- 3734 (19%) - переходили в карточку товара\n",
    "- 3539 (18%) - совершали оплату\n",
    "- 840 (4%) - проходили обучение\n",
    "\n",
    "Заметно, что все события логически выстраиваются в некую цепочку (воронку):\n",
    "- Tutorial - пользователь проходит обучение (или пропускает его, т.к. в большинстве приложений интерфейс интуитивно понятен - поэтому его не учитывали при расчете воронки)\n",
    "- MainScreenAppear - переходит на главный экран\n",
    "- OffersScreenAppear - смотрит каталог предложений\n",
    "- CartScreenAppear - заходит в интересующий товар\n",
    "- PaymentScreenSuccessful - если товар заинтересовал, оформляет покупку и видит экран с подтверждением оплаты\n",
    "\n",
    "По воронке событий посчитали, какая доля пользователей проходит на следующий шаг воронки от числа пользователей на предыдущем (Относительная конверсия) и долю пользователей от первоначального шага (Абсолютная конверсия).\n",
    "Получили такие данные:\n",
    "\n",
    "|Событие|Количество пользователееей |Абсолютная конверсия|Относительная конверсия|\n",
    "| --- | --- | --- |--- |\n",
    "|Главный экран| 7419|98.5%|100%|\n",
    "|Заходят в каталог предложений после главного экрана| 4593|61.0%|62%|\n",
    "|Просматривают карточку товара| 3734|49.6%|81%|\n",
    "|Совершают покупку| 3539|47.0%|95%|\n",
    "\n",
    "Видно, что наибольшее количество пользователей теряется после первого шага (примерно -38%). И только около 47% от первоначального количества пользователей успешно оплачивают товары.\n",
    "\n",
    "Это может говорить о том что интерфейс основной страницы неудобен или некорректно отображается на части устройств, хорошо бы запросить данные о моделях устройств и проверить нет ли зависимости оттока пользователей от устройств.\n",
    "\n",
    "Посчитали сколько пользователей в каждой экспериментальной группе:\n",
    "- 246 (2484 пользователей)\n",
    "- 247 (2513 пользователей)\n",
    "- 248 (2537 пользователей)\n",
    "\n",
    "246 и 247 - контрольные группы для А/А-эксперимента (на них проверим корректность всех механизмов и расчётов). 248 - тестовая группа\n",
    "\n",
    "Ранее мы уже выяснили, что самое популярноее событие - MainScreenAppear. Посчитали число пользователей и долю с этим событием в каждой из контрольных групп:\n",
    "- 246 - 2450 пользователей (98,63%)\n",
    "- 247 - 2476 пользователей (98,53%)\n",
    "\n",
    "Есть 2 контрольные группы для А/А-эксперимента, чтобы проверить корректность всех механизмов и расчётов. Была задача – убедиться, что подобранный нами метод подбора похожих групп находит такие группы, что до начала пилота количество пользователей статистически не различается.\n",
    "\n",
    "Проверили, находят ли статистические критерии разницу между выборками (246 и 247), (246 и 248). Аналогично поступили с группой с изменённым шрифтом:\n",
    "- сравнили результаты с каждой из контрольных групп в отдельности по каждому событию (247 и 248)\n",
    "- сравнили результаты с объединённой контрольной группой ([246 + 247] и 248)\n",
    "\n",
    "Итого провели 16 проверок статистических гипотез с уровнем значимости 0.05 (12 из них проверяли разницу между контрольными группами и группой с изменённым шрифтом) и ни одна из них не выявила значимой разницы:\n",
    "- различие между контрольными группами (246 и 247), (246 и 248) и (247 и 248) статистически незначимо, поэтому можно сказать, что разбиение на группы корректно\n",
    "- различия между контрольными группами [246 + 247] и экспериментальной 248 не являются статистически значимыми. Поэтому можно сказать, что изменение шрифтов во всем приложении не повлияло на воронку продаж и пользователи переходят от шага к шагу в одинаковых пропорциях, независимо от шрифта приложения.\n",
    "\n",
    "Чтобы снизить вероятность ложнопозитивного результата при множественном тестировании гипотез, применили метод Шидака для корректировки уровня значимости для уменьшения FWER (ɑ=0.003).\n",
    "\n",
    "При уровне значимости 0.1 только одна из проверок показала значимую разницу, между контрольной группой 246 и 248 в доле перехода пользователей в корзину(CartScreenAppear), но эта разница будет не в пользу нашей экспериментальной группы. Но при уровне значимости 0.1 каждый десятый раз можно получать ложный результат, поэтому стоит применить изначально выбранный нами уровень значимости 0.05\n",
    "\n",
    "|Гипотеза|Сравниваемые группы|Событие|p-значение|ɑ = 0.05|с поправкой Шидака ɑ = 0.003|ɑ = 0.1|\n",
    "| --- | --- | --- | --- | --- | --- | --- | \n",
    "|**H₀** - различий в долях групп 246 и 247 нет. **H₁** - между долями есть значимая разница|246 и 247|MainScreenAppear|0.757|Не получилось отвергнуть нулевую гипотезу, нет оснований считать доли разными|Не получилось отвергнуть нулевую гипотезу, нет оснований считать доли разными|Не получилось отвергнуть нулевую гипотезу, нет оснований считать доли разными|\n",
    "|--//-- |246 и 247|OffersScreenAppear|0.248|Не получилось отвергнуть нулевую гипотезу, нет оснований считать доли разными|Не получилось отвергнуть нулевую гипотезу, нет оснований считать доли разными|Не получилось отвергнуть нулевую гипотезу, нет оснований считать доли разными|\n",
    "|--//--|246 и 247|CartScreenAppear|0.229|Не получилось отвергнуть нулевую гипотезу, нет оснований считать доли разными|Не получилось отвергнуть нулевую гипотезу, нет оснований считать доли разными|Не получилось отвергнуть нулевую гипотезу, нет оснований считать доли разными|\n",
    "|--//--|246 и 247|PaymentScreenSuccessful|0.115|Не получилось отвергнуть нулевую гипотезу, нет оснований считать доли разными|Не получилось отвергнуть нулевую гипотезу, нет оснований считать доли разными|Не получилось отвергнуть нулевую гипотезу, нет оснований считать доли разными|\n",
    "| **H₀** - различий в долях групп 246 и 248 нет. **H₁** - между долями есть значимая разница|246 и 248|MainScreenAppear|0.295 |Не получилось отвергнуть нулевую гипотезу, нет оснований считать доли разными|Не получилось отвергнуть нулевую гипотезу, нет оснований считать доли разными|Не получилось отвергнуть нулевую гипотезу, нет оснований считать доли разными|\n",
    "|--//--|246 и 248|OffersScreenAppear|0.208|Не получилось отвергнуть нулевую гипотезу, нет оснований считать доли разными|Не получилось отвергнуть нулевую гипотезу, нет оснований считать доли разными|Не получилось отвергнуть нулевую гипотезу, нет оснований считать доли разными|\n",
    "|--//--|246 и 248|CartScreenAppear|0.078|Не получилось отвергнуть нулевую гипотезу, нет оснований считать доли разными|Не получилось отвергнуть нулевую гипотезу, нет оснований считать доли разными|<font color='red'>Отвергаем нулевую гипотезу: между долями есть значимая разница</font>|\n",
    "|--//--|246 и 248|PaymentScreenSuccessful|0.212|Не получилось отвергнуть нулевую гипотезу, нет оснований считать доли разными|Не получилось отвергнуть нулевую гипотезу, нет оснований считать доли разными|Не получилось отвергнуть нулевую гипотезу, нет оснований считать доли разными|\n",
    "|**H₀** - различий в долях групп 247 и 248 нет. **H₁** - между долями есть значимая разница |247 и 248|MainScreenAppear|0.459 |Не получилось отвергнуть нулевую гипотезу, нет оснований считать доли разными|Не получилось отвергнуть нулевую гипотезу, нет оснований считать доли разными|Не получилось отвергнуть нулевую гипотезу, нет оснований считать доли разными|\n",
    "| --//--|247 и 248|OffersScreenAppear|0.920|Не получилось отвергнуть нулевую гипотезу, нет оснований считать доли разными|Не получилось отвергнуть нулевую гипотезу, нет оснований считать доли разными|Не получилось отвергнуть нулевую гипотезу, нет оснований считать доли разными|\n",
    "|--//-- |247 и 248|CartScreenAppear|0.579 |Не получилось отвергнуть нулевую гипотезу, нет оснований считать доли разными|Не получилось отвергнуть нулевую гипотезу, нет оснований считать доли разными|Не получилось отвергнуть нулевую гипотезу, нет оснований считать доли разными|\n",
    "|--//-- |247 и 248|PaymentScreenSuccessful|0.737|Не получилось отвергнуть нулевую гипотезу, нет оснований считать доли разными|Не получилось отвергнуть нулевую гипотезу, нет оснований считать доли разными|Не получилось отвергнуть нулевую гипотезу, нет оснований считать доли разными|\n",
    "| **H₀** - различий в долях между объединенными контрольными группами [246 и 247] и контрольной 248 нет. **H₁** - между долями есть значимая разница|[246 + 247] и 248|MainScreenAppear| 0.294|Не получилось отвергнуть нулевую гипотезу, нет оснований считать доли разными|Не получилось отвергнуть нулевую гипотезу, нет оснований считать доли разными|Не получилось отвергнуть нулевую гипотезу, нет оснований считать доли разными|\n",
    "|--//--|[246 + 247] и 248| OffersScreenAppear|0.434|Не получилось отвергнуть нулевую гипотезу, нет оснований считать доли разными|Не получилось отвергнуть нулевую гипотезу, нет оснований считать доли разными|Не получилось отвергнуть нулевую гипотезу, нет оснований считать доли разными|\n",
    "|--//--|[246 + 247] и 248| CartScreenAppear|0.182|Не получилось отвергнуть нулевую гипотезу, нет оснований считать доли разными|Не получилось отвергнуть нулевую гипотезу, нет оснований считать доли разными|Не получилось отвергнуть нулевую гипотезу, нет оснований считать доли разными|\n",
    "|--//-- |[246 + 247] и 248|PaymentScreenSuccessful |0.600|Не получилось отвергнуть нулевую гипотезу, нет оснований считать доли разными|Не получилось отвергнуть нулевую гипотезу, нет оснований считать доли разными|Не получилось отвергнуть нулевую гипотезу, нет оснований считать доли разными|\n",
    "\n",
    "**Итоговые рекомендации:**\n",
    "\n",
    "Почти половина первоначальных пользователей проходит весь путь воронки и попадает на страницу успешной оплаты - 47% всех пользователей, просматривающих главную страницу. Это довольно успешный результат.\n",
    "\n",
    "Все тесты показали, что нет никаких оснований считать пропорции групп разными: это означает, что внесение изменений в дизайн приложения никак не повлияло на пропорции пользователей, переходящих с одной стадии воронки на другую.\n",
    "\n",
    "Таким образом, мы можем судить, что изменение шрифта значимого эффекта на поведение пользователей не оказало. Это можно считать успехом, если целью было узнать не отпугнут ли пользователй данные изменения.\n",
    "\n",
    "Чтобы получить более репрезентативный результат, можно добавить еще немного информации для анализа - не только пропорции пользователей от этапа к этапу воронки, но и доход и другие количественные показатели заказов. Это позволит более глубоко проанализировать влияние изменений в дизайне и сделать более широкие выводы. На данный момент кажется, что изменения не стоят усилий. И если изменение шрифта не продиктовано проблемами в работе приложения, его можно не менять."
   ]
  }
 ],
 "metadata": {
  "ExecuteTimeLog": [
   {
    "duration": 1423,
    "start_time": "2023-04-25T18:31:22.013Z"
   },
   {
    "duration": 1386,
    "start_time": "2023-04-25T18:35:45.743Z"
   },
   {
    "duration": 13,
    "start_time": "2023-04-25T18:36:23.263Z"
   },
   {
    "duration": 7,
    "start_time": "2023-04-25T18:38:35.280Z"
   },
   {
    "duration": 165,
    "start_time": "2023-04-25T18:40:57.369Z"
   },
   {
    "duration": 8,
    "start_time": "2023-04-25T18:41:00.077Z"
   },
   {
    "duration": 170,
    "start_time": "2023-04-25T18:46:50.573Z"
   },
   {
    "duration": 23,
    "start_time": "2023-04-25T18:46:54.874Z"
   },
   {
    "duration": 21,
    "start_time": "2023-04-25T18:46:59.171Z"
   },
   {
    "duration": 25,
    "start_time": "2023-04-25T19:32:30.172Z"
   },
   {
    "duration": 9,
    "start_time": "2023-04-25T19:32:41.728Z"
   },
   {
    "duration": 18,
    "start_time": "2023-04-25T19:32:47.923Z"
   },
   {
    "duration": 15,
    "start_time": "2023-04-25T19:34:10.557Z"
   },
   {
    "duration": 12,
    "start_time": "2023-04-25T19:34:15.848Z"
   },
   {
    "duration": 18,
    "start_time": "2023-04-25T19:34:33.371Z"
   },
   {
    "duration": 23,
    "start_time": "2023-04-25T19:35:36.901Z"
   },
   {
    "duration": 15,
    "start_time": "2023-04-25T19:35:42.260Z"
   },
   {
    "duration": 17,
    "start_time": "2023-04-25T19:35:52.759Z"
   },
   {
    "duration": 15,
    "start_time": "2023-04-25T19:36:03.517Z"
   },
   {
    "duration": 1248,
    "start_time": "2023-04-25T19:36:34.259Z"
   },
   {
    "duration": 184,
    "start_time": "2023-04-25T19:36:35.510Z"
   },
   {
    "duration": 21,
    "start_time": "2023-04-25T19:36:35.699Z"
   },
   {
    "duration": 34,
    "start_time": "2023-04-25T19:36:35.723Z"
   },
   {
    "duration": 16,
    "start_time": "2023-04-25T19:36:35.759Z"
   },
   {
    "duration": 68,
    "start_time": "2023-04-25T19:36:35.777Z"
   },
   {
    "duration": 0,
    "start_time": "2023-04-25T19:36:35.847Z"
   },
   {
    "duration": 17,
    "start_time": "2023-04-25T19:39:04.940Z"
   },
   {
    "duration": 92,
    "start_time": "2023-04-25T19:40:34.009Z"
   },
   {
    "duration": 99,
    "start_time": "2023-04-25T19:40:50.647Z"
   },
   {
    "duration": 79,
    "start_time": "2023-04-25T19:42:33.807Z"
   },
   {
    "duration": 182,
    "start_time": "2023-04-25T19:48:27.746Z"
   },
   {
    "duration": 119,
    "start_time": "2023-04-25T19:48:33.531Z"
   },
   {
    "duration": 103,
    "start_time": "2023-04-25T19:49:12.802Z"
   },
   {
    "duration": 93,
    "start_time": "2023-04-25T19:49:50.129Z"
   },
   {
    "duration": 98,
    "start_time": "2023-04-25T19:50:15.877Z"
   },
   {
    "duration": 174,
    "start_time": "2023-04-25T19:50:21.598Z"
   },
   {
    "duration": 145,
    "start_time": "2023-04-25T19:50:42.615Z"
   },
   {
    "duration": 1209,
    "start_time": "2023-04-25T19:53:16.352Z"
   },
   {
    "duration": 228,
    "start_time": "2023-04-25T19:53:17.563Z"
   },
   {
    "duration": 18,
    "start_time": "2023-04-25T19:53:17.794Z"
   },
   {
    "duration": 30,
    "start_time": "2023-04-25T19:53:17.815Z"
   },
   {
    "duration": 52,
    "start_time": "2023-04-25T19:53:17.847Z"
   },
   {
    "duration": 21,
    "start_time": "2023-04-25T19:53:17.902Z"
   },
   {
    "duration": 99,
    "start_time": "2023-04-25T19:53:17.925Z"
   },
   {
    "duration": 48,
    "start_time": "2023-04-25T19:54:11.731Z"
   },
   {
    "duration": 0,
    "start_time": "2023-04-25T19:54:11.783Z"
   },
   {
    "duration": 98,
    "start_time": "2023-04-25T19:54:12.095Z"
   },
   {
    "duration": 183,
    "start_time": "2023-04-25T19:54:21.828Z"
   },
   {
    "duration": 143,
    "start_time": "2023-04-25T19:54:32.899Z"
   },
   {
    "duration": 27,
    "start_time": "2023-04-25T19:58:03.113Z"
   },
   {
    "duration": 112,
    "start_time": "2023-04-25T20:00:51.989Z"
   },
   {
    "duration": 25,
    "start_time": "2023-04-25T20:01:24.490Z"
   },
   {
    "duration": 1228,
    "start_time": "2023-04-25T20:01:32.902Z"
   },
   {
    "duration": 191,
    "start_time": "2023-04-25T20:01:34.133Z"
   },
   {
    "duration": 12,
    "start_time": "2023-04-25T20:01:34.326Z"
   },
   {
    "duration": 22,
    "start_time": "2023-04-25T20:01:34.340Z"
   },
   {
    "duration": 35,
    "start_time": "2023-04-25T20:01:34.364Z"
   },
   {
    "duration": 18,
    "start_time": "2023-04-25T20:01:34.402Z"
   },
   {
    "duration": 97,
    "start_time": "2023-04-25T20:01:34.422Z"
   },
   {
    "duration": 173,
    "start_time": "2023-04-25T20:01:34.521Z"
   },
   {
    "duration": 24,
    "start_time": "2023-04-25T20:01:34.696Z"
   },
   {
    "duration": 55,
    "start_time": "2023-04-25T20:01:34.723Z"
   },
   {
    "duration": 3,
    "start_time": "2023-04-25T20:01:41.519Z"
   },
   {
    "duration": 121,
    "start_time": "2023-04-25T20:05:32.276Z"
   },
   {
    "duration": 1274,
    "start_time": "2023-04-25T20:07:22.562Z"
   },
   {
    "duration": 194,
    "start_time": "2023-04-25T20:07:23.839Z"
   },
   {
    "duration": 16,
    "start_time": "2023-04-25T20:07:24.035Z"
   },
   {
    "duration": 36,
    "start_time": "2023-04-25T20:07:24.054Z"
   },
   {
    "duration": 17,
    "start_time": "2023-04-25T20:07:24.092Z"
   },
   {
    "duration": 21,
    "start_time": "2023-04-25T20:07:24.113Z"
   },
   {
    "duration": 106,
    "start_time": "2023-04-25T20:07:24.136Z"
   },
   {
    "duration": 165,
    "start_time": "2023-04-25T20:07:24.244Z"
   },
   {
    "duration": 23,
    "start_time": "2023-04-25T20:07:24.411Z"
   },
   {
    "duration": 134,
    "start_time": "2023-04-25T20:07:24.436Z"
   },
   {
    "duration": 4,
    "start_time": "2023-04-25T20:10:08.537Z"
   },
   {
    "duration": 22,
    "start_time": "2023-04-25T20:10:11.264Z"
   },
   {
    "duration": 21,
    "start_time": "2023-04-25T20:10:20.712Z"
   },
   {
    "duration": 29,
    "start_time": "2023-04-25T20:10:33.306Z"
   },
   {
    "duration": 94,
    "start_time": "2023-04-25T20:11:41.705Z"
   },
   {
    "duration": 1275,
    "start_time": "2023-04-25T20:11:48.358Z"
   },
   {
    "duration": 174,
    "start_time": "2023-04-25T20:11:49.635Z"
   },
   {
    "duration": 13,
    "start_time": "2023-04-25T20:11:49.810Z"
   },
   {
    "duration": 22,
    "start_time": "2023-04-25T20:11:49.825Z"
   },
   {
    "duration": 12,
    "start_time": "2023-04-25T20:11:49.849Z"
   },
   {
    "duration": 46,
    "start_time": "2023-04-25T20:11:49.863Z"
   },
   {
    "duration": 96,
    "start_time": "2023-04-25T20:11:49.911Z"
   },
   {
    "duration": 68,
    "start_time": "2023-04-25T20:11:50.009Z"
   },
   {
    "duration": 163,
    "start_time": "2023-04-25T20:11:50.078Z"
   },
   {
    "duration": 27,
    "start_time": "2023-04-25T20:11:50.244Z"
   },
   {
    "duration": 149,
    "start_time": "2023-04-25T20:11:50.274Z"
   },
   {
    "duration": 1210,
    "start_time": "2023-04-25T20:17:23.314Z"
   },
   {
    "duration": 178,
    "start_time": "2023-04-25T20:17:24.526Z"
   },
   {
    "duration": 13,
    "start_time": "2023-04-25T20:17:24.706Z"
   },
   {
    "duration": 21,
    "start_time": "2023-04-25T20:17:24.722Z"
   },
   {
    "duration": 14,
    "start_time": "2023-04-25T20:17:24.745Z"
   },
   {
    "duration": 47,
    "start_time": "2023-04-25T20:17:24.761Z"
   },
   {
    "duration": 90,
    "start_time": "2023-04-25T20:17:24.810Z"
   },
   {
    "duration": 79,
    "start_time": "2023-04-25T20:17:24.907Z"
   },
   {
    "duration": 181,
    "start_time": "2023-04-25T20:17:24.990Z"
   },
   {
    "duration": 32,
    "start_time": "2023-04-25T20:17:25.174Z"
   },
   {
    "duration": 142,
    "start_time": "2023-04-25T20:17:25.209Z"
   },
   {
    "duration": 147,
    "start_time": "2023-04-25T20:18:06.589Z"
   },
   {
    "duration": 19,
    "start_time": "2023-04-25T20:18:26.508Z"
   },
   {
    "duration": 19,
    "start_time": "2023-04-25T20:18:40.523Z"
   },
   {
    "duration": 1277,
    "start_time": "2023-04-25T20:18:49.829Z"
   },
   {
    "duration": 196,
    "start_time": "2023-04-25T20:18:51.108Z"
   },
   {
    "duration": 16,
    "start_time": "2023-04-25T20:18:51.306Z"
   },
   {
    "duration": 23,
    "start_time": "2023-04-25T20:18:51.325Z"
   },
   {
    "duration": 21,
    "start_time": "2023-04-25T20:18:51.350Z"
   },
   {
    "duration": 20,
    "start_time": "2023-04-25T20:18:51.391Z"
   },
   {
    "duration": 93,
    "start_time": "2023-04-25T20:18:51.412Z"
   },
   {
    "duration": 97,
    "start_time": "2023-04-25T20:18:51.507Z"
   },
   {
    "duration": 153,
    "start_time": "2023-04-25T20:18:51.606Z"
   },
   {
    "duration": 19,
    "start_time": "2023-04-25T20:18:51.761Z"
   },
   {
    "duration": 140,
    "start_time": "2023-04-25T20:18:51.792Z"
   },
   {
    "duration": 31,
    "start_time": "2023-04-25T20:20:32.935Z"
   },
   {
    "duration": 4,
    "start_time": "2023-04-25T20:21:04.535Z"
   },
   {
    "duration": 6,
    "start_time": "2023-04-25T20:26:17.382Z"
   },
   {
    "duration": 9,
    "start_time": "2023-04-25T20:27:54.206Z"
   },
   {
    "duration": 14,
    "start_time": "2023-04-25T20:29:33.092Z"
   },
   {
    "duration": 1216,
    "start_time": "2023-04-25T20:31:25.101Z"
   },
   {
    "duration": 180,
    "start_time": "2023-04-25T20:31:26.319Z"
   },
   {
    "duration": 16,
    "start_time": "2023-04-25T20:31:26.501Z"
   },
   {
    "duration": 22,
    "start_time": "2023-04-25T20:31:26.519Z"
   },
   {
    "duration": 24,
    "start_time": "2023-04-25T20:31:26.543Z"
   },
   {
    "duration": 30,
    "start_time": "2023-04-25T20:31:26.569Z"
   },
   {
    "duration": 89,
    "start_time": "2023-04-25T20:31:26.608Z"
   },
   {
    "duration": 67,
    "start_time": "2023-04-25T20:31:26.705Z"
   },
   {
    "duration": 147,
    "start_time": "2023-04-25T20:31:26.773Z"
   },
   {
    "duration": 4,
    "start_time": "2023-04-25T20:31:26.922Z"
   },
   {
    "duration": 23,
    "start_time": "2023-04-25T20:31:26.927Z"
   },
   {
    "duration": 152,
    "start_time": "2023-04-25T20:31:26.952Z"
   },
   {
    "duration": 10,
    "start_time": "2023-04-25T20:31:27.105Z"
   },
   {
    "duration": 8,
    "start_time": "2023-04-25T20:31:27.118Z"
   },
   {
    "duration": 7,
    "start_time": "2023-04-25T20:31:27.128Z"
   },
   {
    "duration": 36,
    "start_time": "2023-04-25T20:34:59.224Z"
   },
   {
    "duration": 1188,
    "start_time": "2023-04-25T20:35:08.517Z"
   },
   {
    "duration": 176,
    "start_time": "2023-04-25T20:35:09.708Z"
   },
   {
    "duration": 26,
    "start_time": "2023-04-25T20:35:09.885Z"
   },
   {
    "duration": 61,
    "start_time": "2023-04-25T20:35:09.914Z"
   },
   {
    "duration": 31,
    "start_time": "2023-04-25T20:35:09.978Z"
   },
   {
    "duration": 26,
    "start_time": "2023-04-25T20:35:10.011Z"
   },
   {
    "duration": 16,
    "start_time": "2023-04-25T20:35:10.039Z"
   },
   {
    "duration": 96,
    "start_time": "2023-04-25T20:35:10.057Z"
   },
   {
    "duration": 76,
    "start_time": "2023-04-25T20:35:10.155Z"
   },
   {
    "duration": 200,
    "start_time": "2023-04-25T20:35:10.235Z"
   },
   {
    "duration": 4,
    "start_time": "2023-04-25T20:35:10.438Z"
   },
   {
    "duration": 22,
    "start_time": "2023-04-25T20:35:10.444Z"
   },
   {
    "duration": 174,
    "start_time": "2023-04-25T20:35:10.468Z"
   },
   {
    "duration": 10,
    "start_time": "2023-04-25T20:35:10.644Z"
   },
   {
    "duration": 8,
    "start_time": "2023-04-25T20:35:10.656Z"
   },
   {
    "duration": 43,
    "start_time": "2023-04-25T20:35:10.665Z"
   },
   {
    "duration": 71,
    "start_time": "2023-04-25T20:36:29.575Z"
   },
   {
    "duration": 148,
    "start_time": "2023-04-25T20:37:34.560Z"
   },
   {
    "duration": 65,
    "start_time": "2023-04-25T20:37:49.875Z"
   },
   {
    "duration": 139,
    "start_time": "2023-04-25T20:38:00.087Z"
   },
   {
    "duration": 63,
    "start_time": "2023-04-25T20:38:11.556Z"
   },
   {
    "duration": 61,
    "start_time": "2023-04-25T20:38:26.062Z"
   },
   {
    "duration": 135,
    "start_time": "2023-04-25T20:38:28.606Z"
   },
   {
    "duration": 70,
    "start_time": "2023-04-25T20:38:33.908Z"
   },
   {
    "duration": 68,
    "start_time": "2023-04-25T20:38:37.449Z"
   },
   {
    "duration": 128,
    "start_time": "2023-04-25T20:40:41.005Z"
   },
   {
    "duration": 21,
    "start_time": "2023-04-25T20:40:58.652Z"
   },
   {
    "duration": 37,
    "start_time": "2023-04-25T20:49:59.006Z"
   },
   {
    "duration": 75,
    "start_time": "2023-04-25T20:52:36.353Z"
   },
   {
    "duration": 8,
    "start_time": "2023-04-25T20:52:41.109Z"
   },
   {
    "duration": 7,
    "start_time": "2023-04-25T20:53:04.556Z"
   },
   {
    "duration": 57,
    "start_time": "2023-04-26T08:20:33.194Z"
   },
   {
    "duration": 1582,
    "start_time": "2023-04-26T08:21:04.927Z"
   },
   {
    "duration": 308,
    "start_time": "2023-04-26T08:21:06.511Z"
   },
   {
    "duration": 14,
    "start_time": "2023-04-26T08:21:06.823Z"
   },
   {
    "duration": 47,
    "start_time": "2023-04-26T08:21:06.838Z"
   },
   {
    "duration": 20,
    "start_time": "2023-04-26T08:21:06.888Z"
   },
   {
    "duration": 19,
    "start_time": "2023-04-26T08:21:06.909Z"
   },
   {
    "duration": 37,
    "start_time": "2023-04-26T08:21:06.930Z"
   },
   {
    "duration": 67,
    "start_time": "2023-04-26T08:21:06.969Z"
   },
   {
    "duration": 73,
    "start_time": "2023-04-26T08:21:07.037Z"
   },
   {
    "duration": 129,
    "start_time": "2023-04-26T08:21:07.112Z"
   },
   {
    "duration": 3,
    "start_time": "2023-04-26T08:21:07.242Z"
   },
   {
    "duration": 30,
    "start_time": "2023-04-26T08:21:07.249Z"
   },
   {
    "duration": 143,
    "start_time": "2023-04-26T08:21:07.282Z"
   },
   {
    "duration": 27,
    "start_time": "2023-04-26T08:21:07.428Z"
   },
   {
    "duration": 79,
    "start_time": "2023-04-26T08:21:07.457Z"
   },
   {
    "duration": 10,
    "start_time": "2023-04-26T08:21:07.551Z"
   },
   {
    "duration": 16,
    "start_time": "2023-04-26T08:21:07.564Z"
   },
   {
    "duration": 6,
    "start_time": "2023-04-26T08:21:07.581Z"
   },
   {
    "duration": 37,
    "start_time": "2023-04-26T08:21:38.588Z"
   },
   {
    "duration": 37,
    "start_time": "2023-04-26T08:22:00.382Z"
   },
   {
    "duration": 54,
    "start_time": "2023-04-26T08:22:07.625Z"
   },
   {
    "duration": 36,
    "start_time": "2023-04-26T08:22:22.863Z"
   },
   {
    "duration": 34,
    "start_time": "2023-04-26T08:34:11.146Z"
   },
   {
    "duration": 27,
    "start_time": "2023-04-26T08:49:58.161Z"
   },
   {
    "duration": 345,
    "start_time": "2023-04-26T09:14:09.443Z"
   },
   {
    "duration": 263,
    "start_time": "2023-04-26T09:54:32.144Z"
   },
   {
    "duration": 238,
    "start_time": "2023-04-26T09:54:37.800Z"
   },
   {
    "duration": 7,
    "start_time": "2023-04-26T10:15:55.761Z"
   },
   {
    "duration": 24,
    "start_time": "2023-04-26T10:16:24.999Z"
   },
   {
    "duration": 18,
    "start_time": "2023-04-26T10:16:53.942Z"
   },
   {
    "duration": 13,
    "start_time": "2023-04-26T10:17:12.203Z"
   },
   {
    "duration": 13,
    "start_time": "2023-04-26T10:17:56.508Z"
   },
   {
    "duration": 13,
    "start_time": "2023-04-26T10:20:10.109Z"
   },
   {
    "duration": 1262,
    "start_time": "2023-04-26T10:20:18.530Z"
   },
   {
    "duration": 191,
    "start_time": "2023-04-26T10:20:19.795Z"
   },
   {
    "duration": 17,
    "start_time": "2023-04-26T10:20:19.988Z"
   },
   {
    "duration": 77,
    "start_time": "2023-04-26T10:20:20.006Z"
   },
   {
    "duration": 28,
    "start_time": "2023-04-26T10:20:20.085Z"
   },
   {
    "duration": 24,
    "start_time": "2023-04-26T10:20:20.115Z"
   },
   {
    "duration": 28,
    "start_time": "2023-04-26T10:20:20.140Z"
   },
   {
    "duration": 76,
    "start_time": "2023-04-26T10:20:20.169Z"
   },
   {
    "duration": 75,
    "start_time": "2023-04-26T10:20:20.247Z"
   },
   {
    "duration": 134,
    "start_time": "2023-04-26T10:20:20.323Z"
   },
   {
    "duration": 3,
    "start_time": "2023-04-26T10:20:20.459Z"
   },
   {
    "duration": 45,
    "start_time": "2023-04-26T10:20:20.464Z"
   },
   {
    "duration": 115,
    "start_time": "2023-04-26T10:20:20.511Z"
   },
   {
    "duration": 18,
    "start_time": "2023-04-26T10:20:20.629Z"
   },
   {
    "duration": 60,
    "start_time": "2023-04-26T10:20:20.648Z"
   },
   {
    "duration": 4,
    "start_time": "2023-04-26T10:20:20.710Z"
   },
   {
    "duration": 344,
    "start_time": "2023-04-26T10:20:20.715Z"
   },
   {
    "duration": 29,
    "start_time": "2023-04-26T10:20:21.061Z"
   },
   {
    "duration": 27,
    "start_time": "2023-04-26T10:20:21.092Z"
   },
   {
    "duration": 18,
    "start_time": "2023-04-26T10:20:21.120Z"
   },
   {
    "duration": 40,
    "start_time": "2023-04-26T10:20:21.140Z"
   },
   {
    "duration": 38,
    "start_time": "2023-04-26T11:42:18.041Z"
   },
   {
    "duration": 1150,
    "start_time": "2023-04-26T11:42:26.155Z"
   },
   {
    "duration": 233,
    "start_time": "2023-04-26T11:42:27.307Z"
   },
   {
    "duration": 39,
    "start_time": "2023-04-26T11:42:27.542Z"
   },
   {
    "duration": 75,
    "start_time": "2023-04-26T11:42:27.586Z"
   },
   {
    "duration": 48,
    "start_time": "2023-04-26T11:42:27.664Z"
   },
   {
    "duration": 28,
    "start_time": "2023-04-26T11:42:27.713Z"
   },
   {
    "duration": 24,
    "start_time": "2023-04-26T11:42:27.743Z"
   },
   {
    "duration": 123,
    "start_time": "2023-04-26T11:42:27.768Z"
   },
   {
    "duration": 53,
    "start_time": "2023-04-26T11:42:27.892Z"
   },
   {
    "duration": 136,
    "start_time": "2023-04-26T11:42:27.946Z"
   },
   {
    "duration": 3,
    "start_time": "2023-04-26T11:42:28.083Z"
   },
   {
    "duration": 24,
    "start_time": "2023-04-26T11:42:28.087Z"
   },
   {
    "duration": 117,
    "start_time": "2023-04-26T11:42:28.112Z"
   },
   {
    "duration": 27,
    "start_time": "2023-04-26T11:42:28.232Z"
   },
   {
    "duration": 58,
    "start_time": "2023-04-26T11:42:28.260Z"
   },
   {
    "duration": 5,
    "start_time": "2023-04-26T11:42:28.319Z"
   },
   {
    "duration": 289,
    "start_time": "2023-04-26T11:42:28.325Z"
   },
   {
    "duration": 18,
    "start_time": "2023-04-26T11:42:28.616Z"
   },
   {
    "duration": 23,
    "start_time": "2023-04-26T11:42:28.636Z"
   },
   {
    "duration": 30,
    "start_time": "2023-04-26T11:42:28.660Z"
   },
   {
    "duration": 30,
    "start_time": "2023-04-26T11:42:28.692Z"
   },
   {
    "duration": 247,
    "start_time": "2023-04-26T11:43:25.717Z"
   },
   {
    "duration": 0,
    "start_time": "2023-04-26T11:52:31.145Z"
   },
   {
    "duration": 12,
    "start_time": "2023-04-26T11:53:06.580Z"
   },
   {
    "duration": 1164,
    "start_time": "2023-04-26T11:53:12.875Z"
   },
   {
    "duration": 196,
    "start_time": "2023-04-26T11:53:14.041Z"
   },
   {
    "duration": 33,
    "start_time": "2023-04-26T11:53:14.238Z"
   },
   {
    "duration": 103,
    "start_time": "2023-04-26T11:53:14.276Z"
   },
   {
    "duration": 26,
    "start_time": "2023-04-26T11:53:14.380Z"
   },
   {
    "duration": 22,
    "start_time": "2023-04-26T11:53:14.408Z"
   },
   {
    "duration": 25,
    "start_time": "2023-04-26T11:53:14.432Z"
   },
   {
    "duration": 152,
    "start_time": "2023-04-26T11:53:14.459Z"
   },
   {
    "duration": 83,
    "start_time": "2023-04-26T11:53:14.612Z"
   },
   {
    "duration": 146,
    "start_time": "2023-04-26T11:53:14.697Z"
   },
   {
    "duration": 10,
    "start_time": "2023-04-26T11:53:14.845Z"
   },
   {
    "duration": 65,
    "start_time": "2023-04-26T11:53:14.856Z"
   },
   {
    "duration": 123,
    "start_time": "2023-04-26T11:53:14.923Z"
   },
   {
    "duration": 44,
    "start_time": "2023-04-26T11:53:15.048Z"
   },
   {
    "duration": 39,
    "start_time": "2023-04-26T11:53:15.096Z"
   },
   {
    "duration": 5,
    "start_time": "2023-04-26T11:53:15.137Z"
   },
   {
    "duration": 344,
    "start_time": "2023-04-26T11:53:15.144Z"
   },
   {
    "duration": 283,
    "start_time": "2023-04-26T11:53:15.492Z"
   },
   {
    "duration": 24,
    "start_time": "2023-04-26T11:53:15.783Z"
   },
   {
    "duration": 10,
    "start_time": "2023-04-26T11:53:15.809Z"
   },
   {
    "duration": 7,
    "start_time": "2023-04-26T11:53:15.820Z"
   },
   {
    "duration": 67,
    "start_time": "2023-04-26T11:53:15.828Z"
   },
   {
    "duration": 246,
    "start_time": "2023-04-26T11:53:42.286Z"
   },
   {
    "duration": 255,
    "start_time": "2023-04-26T11:53:50.787Z"
   },
   {
    "duration": 269,
    "start_time": "2023-04-26T11:57:01.741Z"
   },
   {
    "duration": 262,
    "start_time": "2023-04-26T11:57:39.814Z"
   },
   {
    "duration": 235,
    "start_time": "2023-04-26T11:58:28.268Z"
   },
   {
    "duration": 36,
    "start_time": "2023-04-26T12:07:30.309Z"
   },
   {
    "duration": 16,
    "start_time": "2023-04-26T12:08:34.407Z"
   },
   {
    "duration": 22,
    "start_time": "2023-04-26T12:08:51.917Z"
   },
   {
    "duration": 229,
    "start_time": "2023-04-26T12:09:06.176Z"
   },
   {
    "duration": 258,
    "start_time": "2023-04-26T12:09:12.139Z"
   },
   {
    "duration": 304,
    "start_time": "2023-04-26T12:09:34.838Z"
   },
   {
    "duration": 22,
    "start_time": "2023-04-26T12:42:17.680Z"
   },
   {
    "duration": 47,
    "start_time": "2023-04-27T05:56:32.041Z"
   },
   {
    "duration": 1276,
    "start_time": "2023-04-27T05:57:08.811Z"
   },
   {
    "duration": 820,
    "start_time": "2023-04-27T05:57:10.090Z"
   },
   {
    "duration": 13,
    "start_time": "2023-04-27T05:57:10.912Z"
   },
   {
    "duration": 54,
    "start_time": "2023-04-27T05:57:10.927Z"
   },
   {
    "duration": 21,
    "start_time": "2023-04-27T05:57:10.982Z"
   },
   {
    "duration": 23,
    "start_time": "2023-04-27T05:57:11.004Z"
   },
   {
    "duration": 17,
    "start_time": "2023-04-27T05:57:11.029Z"
   },
   {
    "duration": 81,
    "start_time": "2023-04-27T05:57:11.047Z"
   },
   {
    "duration": 59,
    "start_time": "2023-04-27T05:57:11.130Z"
   },
   {
    "duration": 121,
    "start_time": "2023-04-27T05:57:11.193Z"
   },
   {
    "duration": 3,
    "start_time": "2023-04-27T05:57:11.316Z"
   },
   {
    "duration": 23,
    "start_time": "2023-04-27T05:57:11.320Z"
   },
   {
    "duration": 120,
    "start_time": "2023-04-27T05:57:11.345Z"
   },
   {
    "duration": 27,
    "start_time": "2023-04-27T05:57:11.467Z"
   },
   {
    "duration": 39,
    "start_time": "2023-04-27T05:57:11.496Z"
   },
   {
    "duration": 5,
    "start_time": "2023-04-27T05:57:11.537Z"
   },
   {
    "duration": 47,
    "start_time": "2023-04-27T05:57:11.543Z"
   },
   {
    "duration": 272,
    "start_time": "2023-04-27T05:57:11.592Z"
   },
   {
    "duration": 280,
    "start_time": "2023-04-27T05:57:11.865Z"
   },
   {
    "duration": 105,
    "start_time": "2023-04-27T05:57:12.147Z"
   },
   {
    "duration": 0,
    "start_time": "2023-04-27T05:57:12.254Z"
   },
   {
    "duration": 0,
    "start_time": "2023-04-27T05:57:12.255Z"
   },
   {
    "duration": 0,
    "start_time": "2023-04-27T05:57:12.256Z"
   },
   {
    "duration": 0,
    "start_time": "2023-04-27T05:57:12.257Z"
   },
   {
    "duration": 58,
    "start_time": "2023-04-27T05:57:54.818Z"
   },
   {
    "duration": 903,
    "start_time": "2023-04-27T05:57:59.625Z"
   },
   {
    "duration": 8756,
    "start_time": "2023-04-27T05:58:15.825Z"
   },
   {
    "duration": 8958,
    "start_time": "2023-04-27T05:59:45.017Z"
   },
   {
    "duration": 8754,
    "start_time": "2023-04-27T06:00:22.658Z"
   },
   {
    "duration": 8534,
    "start_time": "2023-04-27T06:00:47.180Z"
   },
   {
    "duration": 8787,
    "start_time": "2023-04-27T06:01:02.009Z"
   },
   {
    "duration": 9699,
    "start_time": "2023-04-27T06:01:20.168Z"
   },
   {
    "duration": 5,
    "start_time": "2023-04-27T06:01:51.413Z"
   },
   {
    "duration": 8831,
    "start_time": "2023-04-27T06:01:57.478Z"
   },
   {
    "duration": 5,
    "start_time": "2023-04-27T06:03:09.052Z"
   },
   {
    "duration": 8525,
    "start_time": "2023-04-27T06:03:13.260Z"
   },
   {
    "duration": 5,
    "start_time": "2023-04-27T06:03:45.801Z"
   },
   {
    "duration": 5,
    "start_time": "2023-04-27T06:06:23.701Z"
   },
   {
    "duration": 8914,
    "start_time": "2023-04-27T06:06:28.804Z"
   },
   {
    "duration": 55,
    "start_time": "2023-04-27T06:07:45.236Z"
   },
   {
    "duration": 8969,
    "start_time": "2023-04-27T06:07:57.108Z"
   },
   {
    "duration": 48,
    "start_time": "2023-04-27T06:10:19.724Z"
   },
   {
    "duration": 4,
    "start_time": "2023-04-27T06:10:32.556Z"
   },
   {
    "duration": 9010,
    "start_time": "2023-04-27T06:10:37.670Z"
   },
   {
    "duration": 6,
    "start_time": "2023-04-27T06:12:24.405Z"
   },
   {
    "duration": 8889,
    "start_time": "2023-04-27T06:12:30.863Z"
   },
   {
    "duration": 8658,
    "start_time": "2023-04-27T06:23:04.054Z"
   },
   {
    "duration": 4,
    "start_time": "2023-04-27T06:24:39.458Z"
   },
   {
    "duration": 8874,
    "start_time": "2023-04-27T06:24:46.073Z"
   },
   {
    "duration": 13,
    "start_time": "2023-04-27T06:26:54.754Z"
   },
   {
    "duration": 6,
    "start_time": "2023-04-27T06:27:00.924Z"
   },
   {
    "duration": 9005,
    "start_time": "2023-04-27T06:27:05.614Z"
   },
   {
    "duration": 5,
    "start_time": "2023-04-27T06:27:56.866Z"
   },
   {
    "duration": 9550,
    "start_time": "2023-04-27T06:28:02.454Z"
   },
   {
    "duration": 5,
    "start_time": "2023-04-27T06:29:54.993Z"
   },
   {
    "duration": 8936,
    "start_time": "2023-04-27T06:29:59.453Z"
   },
   {
    "duration": 4,
    "start_time": "2023-04-27T06:30:51.113Z"
   },
   {
    "duration": 8970,
    "start_time": "2023-04-27T06:30:54.709Z"
   },
   {
    "duration": 8825,
    "start_time": "2023-04-27T06:32:27.289Z"
   },
   {
    "duration": 8903,
    "start_time": "2023-04-27T06:33:12.218Z"
   },
   {
    "duration": 725,
    "start_time": "2023-04-27T06:36:25.489Z"
   },
   {
    "duration": 2084,
    "start_time": "2023-04-27T06:36:33.308Z"
   },
   {
    "duration": 16,
    "start_time": "2023-04-27T06:56:09.623Z"
   },
   {
    "duration": 17,
    "start_time": "2023-04-27T06:58:06.793Z"
   },
   {
    "duration": 8,
    "start_time": "2023-04-27T07:00:39.515Z"
   },
   {
    "duration": 7,
    "start_time": "2023-04-27T07:02:06.321Z"
   },
   {
    "duration": 54,
    "start_time": "2023-04-27T07:03:40.750Z"
   },
   {
    "duration": 53,
    "start_time": "2023-04-27T07:04:11.478Z"
   },
   {
    "duration": 52,
    "start_time": "2023-04-27T07:05:17.094Z"
   },
   {
    "duration": 54,
    "start_time": "2023-04-27T07:05:36.800Z"
   },
   {
    "duration": 13,
    "start_time": "2023-04-27T07:43:24.706Z"
   },
   {
    "duration": 64,
    "start_time": "2023-04-27T07:43:54.603Z"
   },
   {
    "duration": 20,
    "start_time": "2023-04-27T07:44:02.928Z"
   },
   {
    "duration": 18,
    "start_time": "2023-04-27T07:44:40.208Z"
   },
   {
    "duration": 7,
    "start_time": "2023-04-27T07:45:24.568Z"
   },
   {
    "duration": 7,
    "start_time": "2023-04-27T07:45:42.846Z"
   },
   {
    "duration": 35,
    "start_time": "2023-04-27T07:47:26.480Z"
   },
   {
    "duration": 48,
    "start_time": "2023-04-27T07:48:35.849Z"
   },
   {
    "duration": 34,
    "start_time": "2023-04-27T07:51:14.600Z"
   },
   {
    "duration": 6,
    "start_time": "2023-04-27T07:53:00.384Z"
   },
   {
    "duration": 7,
    "start_time": "2023-04-27T07:57:59.541Z"
   },
   {
    "duration": 7,
    "start_time": "2023-04-27T07:58:07.767Z"
   },
   {
    "duration": 50,
    "start_time": "2023-04-27T08:02:16.396Z"
   },
   {
    "duration": 12,
    "start_time": "2023-04-27T08:10:15.510Z"
   },
   {
    "duration": 9,
    "start_time": "2023-04-27T08:10:57.102Z"
   },
   {
    "duration": 16,
    "start_time": "2023-04-27T08:11:14.172Z"
   },
   {
    "duration": 8,
    "start_time": "2023-04-27T08:11:37.850Z"
   },
   {
    "duration": 9,
    "start_time": "2023-04-27T08:12:25.482Z"
   },
   {
    "duration": 14,
    "start_time": "2023-04-27T08:13:05.589Z"
   },
   {
    "duration": 15,
    "start_time": "2023-04-27T08:13:34.373Z"
   },
   {
    "duration": 18,
    "start_time": "2023-04-27T08:13:40.905Z"
   },
   {
    "duration": 8,
    "start_time": "2023-04-27T08:27:39.097Z"
   },
   {
    "duration": 51,
    "start_time": "2023-04-27T08:29:03.584Z"
   },
   {
    "duration": 12,
    "start_time": "2023-04-27T08:29:15.935Z"
   },
   {
    "duration": 63,
    "start_time": "2023-04-27T08:40:10.207Z"
   },
   {
    "duration": 7290,
    "start_time": "2023-04-27T08:41:35.752Z"
   },
   {
    "duration": 9127,
    "start_time": "2023-04-27T08:43:01.594Z"
   },
   {
    "duration": 9197,
    "start_time": "2023-04-27T08:43:28.354Z"
   },
   {
    "duration": 9071,
    "start_time": "2023-04-27T08:43:55.561Z"
   },
   {
    "duration": 11,
    "start_time": "2023-04-27T09:04:10.107Z"
   },
   {
    "duration": 12,
    "start_time": "2023-04-27T09:04:30.496Z"
   },
   {
    "duration": 1216,
    "start_time": "2023-04-27T09:14:17.566Z"
   },
   {
    "duration": 159,
    "start_time": "2023-04-27T09:14:18.785Z"
   },
   {
    "duration": 13,
    "start_time": "2023-04-27T09:14:18.946Z"
   },
   {
    "duration": 56,
    "start_time": "2023-04-27T09:14:18.960Z"
   },
   {
    "duration": 20,
    "start_time": "2023-04-27T09:14:19.018Z"
   },
   {
    "duration": 19,
    "start_time": "2023-04-27T09:14:19.040Z"
   },
   {
    "duration": 32,
    "start_time": "2023-04-27T09:14:19.061Z"
   },
   {
    "duration": 62,
    "start_time": "2023-04-27T09:14:19.094Z"
   },
   {
    "duration": 71,
    "start_time": "2023-04-27T09:14:19.157Z"
   },
   {
    "duration": 125,
    "start_time": "2023-04-27T09:14:19.230Z"
   },
   {
    "duration": 2,
    "start_time": "2023-04-27T09:14:19.357Z"
   },
   {
    "duration": 26,
    "start_time": "2023-04-27T09:14:19.361Z"
   },
   {
    "duration": 118,
    "start_time": "2023-04-27T09:14:19.389Z"
   },
   {
    "duration": 22,
    "start_time": "2023-04-27T09:14:19.510Z"
   },
   {
    "duration": 51,
    "start_time": "2023-04-27T09:14:19.534Z"
   },
   {
    "duration": 5,
    "start_time": "2023-04-27T09:14:19.588Z"
   },
   {
    "duration": 25,
    "start_time": "2023-04-27T09:14:19.595Z"
   },
   {
    "duration": 10648,
    "start_time": "2023-04-27T09:14:19.621Z"
   },
   {
    "duration": 16,
    "start_time": "2023-04-27T09:14:30.271Z"
   },
   {
    "duration": 29,
    "start_time": "2023-04-27T09:14:30.289Z"
   },
   {
    "duration": 11,
    "start_time": "2023-04-27T09:14:30.320Z"
   },
   {
    "duration": 22,
    "start_time": "2023-04-27T09:14:30.333Z"
   },
   {
    "duration": 27,
    "start_time": "2023-04-27T09:14:30.357Z"
   },
   {
    "duration": 38,
    "start_time": "2023-04-27T09:24:00.916Z"
   },
   {
    "duration": 48,
    "start_time": "2023-04-27T09:32:34.139Z"
   },
   {
    "duration": 7,
    "start_time": "2023-04-27T09:45:54.610Z"
   },
   {
    "duration": 17,
    "start_time": "2023-04-27T09:47:36.833Z"
   },
   {
    "duration": 19,
    "start_time": "2023-04-27T09:48:00.859Z"
   },
   {
    "duration": 49,
    "start_time": "2023-04-27T09:48:29.346Z"
   },
   {
    "duration": 21,
    "start_time": "2023-04-27T09:48:42.068Z"
   },
   {
    "duration": 1209,
    "start_time": "2023-04-27T09:48:50.045Z"
   },
   {
    "duration": 162,
    "start_time": "2023-04-27T09:48:51.256Z"
   },
   {
    "duration": 15,
    "start_time": "2023-04-27T09:48:51.420Z"
   },
   {
    "duration": 58,
    "start_time": "2023-04-27T09:48:51.437Z"
   },
   {
    "duration": 21,
    "start_time": "2023-04-27T09:48:51.496Z"
   },
   {
    "duration": 30,
    "start_time": "2023-04-27T09:48:51.519Z"
   },
   {
    "duration": 37,
    "start_time": "2023-04-27T09:48:51.551Z"
   },
   {
    "duration": 81,
    "start_time": "2023-04-27T09:48:51.590Z"
   },
   {
    "duration": 56,
    "start_time": "2023-04-27T09:48:51.673Z"
   },
   {
    "duration": 121,
    "start_time": "2023-04-27T09:48:51.731Z"
   },
   {
    "duration": 2,
    "start_time": "2023-04-27T09:48:51.854Z"
   },
   {
    "duration": 31,
    "start_time": "2023-04-27T09:48:51.858Z"
   },
   {
    "duration": 117,
    "start_time": "2023-04-27T09:48:51.891Z"
   },
   {
    "duration": 21,
    "start_time": "2023-04-27T09:48:52.010Z"
   },
   {
    "duration": 52,
    "start_time": "2023-04-27T09:48:52.033Z"
   },
   {
    "duration": 5,
    "start_time": "2023-04-27T09:48:52.087Z"
   },
   {
    "duration": 24,
    "start_time": "2023-04-27T09:48:52.094Z"
   },
   {
    "duration": 9729,
    "start_time": "2023-04-27T09:48:52.120Z"
   },
   {
    "duration": 30,
    "start_time": "2023-04-27T09:49:01.851Z"
   },
   {
    "duration": 19,
    "start_time": "2023-04-27T09:49:01.883Z"
   },
   {
    "duration": 35,
    "start_time": "2023-04-27T09:49:01.904Z"
   },
   {
    "duration": 43,
    "start_time": "2023-04-27T09:49:01.941Z"
   },
   {
    "duration": 38,
    "start_time": "2023-04-27T09:49:01.986Z"
   },
   {
    "duration": 47,
    "start_time": "2023-04-27T09:51:33.633Z"
   },
   {
    "duration": 30,
    "start_time": "2023-04-27T09:52:42.951Z"
   },
   {
    "duration": 1184,
    "start_time": "2023-04-27T09:52:50.171Z"
   },
   {
    "duration": 159,
    "start_time": "2023-04-27T09:52:51.357Z"
   },
   {
    "duration": 13,
    "start_time": "2023-04-27T09:52:51.517Z"
   },
   {
    "duration": 63,
    "start_time": "2023-04-27T09:52:51.532Z"
   },
   {
    "duration": 22,
    "start_time": "2023-04-27T09:52:51.597Z"
   },
   {
    "duration": 20,
    "start_time": "2023-04-27T09:52:51.621Z"
   },
   {
    "duration": 43,
    "start_time": "2023-04-27T09:52:51.643Z"
   },
   {
    "duration": 63,
    "start_time": "2023-04-27T09:52:51.687Z"
   },
   {
    "duration": 74,
    "start_time": "2023-04-27T09:52:51.751Z"
   },
   {
    "duration": 127,
    "start_time": "2023-04-27T09:52:51.826Z"
   },
   {
    "duration": 2,
    "start_time": "2023-04-27T09:52:51.955Z"
   },
   {
    "duration": 22,
    "start_time": "2023-04-27T09:52:51.958Z"
   },
   {
    "duration": 113,
    "start_time": "2023-04-27T09:52:51.985Z"
   },
   {
    "duration": 20,
    "start_time": "2023-04-27T09:52:52.101Z"
   },
   {
    "duration": 36,
    "start_time": "2023-04-27T09:52:52.124Z"
   },
   {
    "duration": 24,
    "start_time": "2023-04-27T09:52:52.162Z"
   },
   {
    "duration": 23,
    "start_time": "2023-04-27T09:52:52.188Z"
   },
   {
    "duration": 10140,
    "start_time": "2023-04-27T09:52:52.213Z"
   },
   {
    "duration": 46,
    "start_time": "2023-04-27T09:53:02.356Z"
   },
   {
    "duration": 45,
    "start_time": "2023-04-27T09:53:02.404Z"
   },
   {
    "duration": 27,
    "start_time": "2023-04-27T09:53:02.451Z"
   },
   {
    "duration": 5,
    "start_time": "2023-04-27T09:53:02.480Z"
   },
   {
    "duration": 27,
    "start_time": "2023-04-27T09:53:02.487Z"
   },
   {
    "duration": 32,
    "start_time": "2023-04-27T09:54:37.614Z"
   },
   {
    "duration": 1227,
    "start_time": "2023-04-27T09:54:43.609Z"
   },
   {
    "duration": 170,
    "start_time": "2023-04-27T09:54:44.838Z"
   },
   {
    "duration": 14,
    "start_time": "2023-04-27T09:54:45.010Z"
   },
   {
    "duration": 65,
    "start_time": "2023-04-27T09:54:45.026Z"
   },
   {
    "duration": 21,
    "start_time": "2023-04-27T09:54:45.093Z"
   },
   {
    "duration": 22,
    "start_time": "2023-04-27T09:54:45.116Z"
   },
   {
    "duration": 16,
    "start_time": "2023-04-27T09:54:45.140Z"
   },
   {
    "duration": 87,
    "start_time": "2023-04-27T09:54:45.158Z"
   },
   {
    "duration": 65,
    "start_time": "2023-04-27T09:54:45.247Z"
   },
   {
    "duration": 121,
    "start_time": "2023-04-27T09:54:45.314Z"
   },
   {
    "duration": 3,
    "start_time": "2023-04-27T09:54:45.436Z"
   },
   {
    "duration": 22,
    "start_time": "2023-04-27T09:54:45.440Z"
   },
   {
    "duration": 115,
    "start_time": "2023-04-27T09:54:45.464Z"
   },
   {
    "duration": 21,
    "start_time": "2023-04-27T09:54:45.581Z"
   },
   {
    "duration": 36,
    "start_time": "2023-04-27T09:54:45.604Z"
   },
   {
    "duration": 5,
    "start_time": "2023-04-27T09:54:45.642Z"
   },
   {
    "duration": 47,
    "start_time": "2023-04-27T09:54:45.648Z"
   },
   {
    "duration": 9621,
    "start_time": "2023-04-27T09:54:45.697Z"
   },
   {
    "duration": 32,
    "start_time": "2023-04-27T09:54:55.320Z"
   },
   {
    "duration": 15,
    "start_time": "2023-04-27T09:54:55.354Z"
   },
   {
    "duration": 19,
    "start_time": "2023-04-27T09:54:55.371Z"
   },
   {
    "duration": 4,
    "start_time": "2023-04-27T09:54:55.392Z"
   },
   {
    "duration": 31,
    "start_time": "2023-04-27T09:54:55.398Z"
   },
   {
    "duration": 1193,
    "start_time": "2023-04-27T09:55:30.263Z"
   },
   {
    "duration": 169,
    "start_time": "2023-04-27T09:55:31.458Z"
   },
   {
    "duration": 15,
    "start_time": "2023-04-27T09:55:31.629Z"
   },
   {
    "duration": 165,
    "start_time": "2023-04-27T09:55:31.647Z"
   },
   {
    "duration": 51,
    "start_time": "2023-04-27T09:55:31.814Z"
   },
   {
    "duration": 47,
    "start_time": "2023-04-27T09:55:31.867Z"
   },
   {
    "duration": 15,
    "start_time": "2023-04-27T09:55:31.916Z"
   },
   {
    "duration": 94,
    "start_time": "2023-04-27T09:55:31.933Z"
   },
   {
    "duration": 63,
    "start_time": "2023-04-27T09:55:32.029Z"
   },
   {
    "duration": 121,
    "start_time": "2023-04-27T09:55:32.094Z"
   },
   {
    "duration": 3,
    "start_time": "2023-04-27T09:55:32.217Z"
   },
   {
    "duration": 30,
    "start_time": "2023-04-27T09:55:32.221Z"
   },
   {
    "duration": 112,
    "start_time": "2023-04-27T09:55:32.253Z"
   },
   {
    "duration": 26,
    "start_time": "2023-04-27T09:55:32.367Z"
   },
   {
    "duration": 39,
    "start_time": "2023-04-27T09:55:32.396Z"
   },
   {
    "duration": 6,
    "start_time": "2023-04-27T09:55:32.438Z"
   },
   {
    "duration": 52,
    "start_time": "2023-04-27T09:55:32.446Z"
   },
   {
    "duration": 8874,
    "start_time": "2023-04-27T09:55:32.499Z"
   },
   {
    "duration": 79,
    "start_time": "2023-04-27T09:55:41.375Z"
   },
   {
    "duration": 0,
    "start_time": "2023-04-27T09:55:41.456Z"
   },
   {
    "duration": 0,
    "start_time": "2023-04-27T09:55:41.457Z"
   },
   {
    "duration": 0,
    "start_time": "2023-04-27T09:55:41.459Z"
   },
   {
    "duration": 0,
    "start_time": "2023-04-27T09:55:41.460Z"
   },
   {
    "duration": 1183,
    "start_time": "2023-04-27T10:28:33.141Z"
   },
   {
    "duration": 172,
    "start_time": "2023-04-27T10:28:34.326Z"
   },
   {
    "duration": 13,
    "start_time": "2023-04-27T10:28:34.500Z"
   },
   {
    "duration": 53,
    "start_time": "2023-04-27T10:28:34.515Z"
   },
   {
    "duration": 30,
    "start_time": "2023-04-27T10:28:34.570Z"
   },
   {
    "duration": 31,
    "start_time": "2023-04-27T10:28:34.602Z"
   },
   {
    "duration": 15,
    "start_time": "2023-04-27T10:28:34.635Z"
   },
   {
    "duration": 76,
    "start_time": "2023-04-27T10:28:34.652Z"
   },
   {
    "duration": 66,
    "start_time": "2023-04-27T10:28:34.729Z"
   },
   {
    "duration": 124,
    "start_time": "2023-04-27T10:28:34.797Z"
   },
   {
    "duration": 3,
    "start_time": "2023-04-27T10:28:34.922Z"
   },
   {
    "duration": 20,
    "start_time": "2023-04-27T10:28:34.926Z"
   },
   {
    "duration": 123,
    "start_time": "2023-04-27T10:28:34.948Z"
   },
   {
    "duration": 21,
    "start_time": "2023-04-27T10:28:35.073Z"
   },
   {
    "duration": 51,
    "start_time": "2023-04-27T10:28:35.095Z"
   },
   {
    "duration": 6,
    "start_time": "2023-04-27T10:28:35.148Z"
   },
   {
    "duration": 47,
    "start_time": "2023-04-27T10:28:35.155Z"
   },
   {
    "duration": 8485,
    "start_time": "2023-04-27T10:28:35.204Z"
   },
   {
    "duration": 56,
    "start_time": "2023-04-27T10:28:43.690Z"
   },
   {
    "duration": 0,
    "start_time": "2023-04-27T10:28:43.748Z"
   },
   {
    "duration": 0,
    "start_time": "2023-04-27T10:28:43.749Z"
   },
   {
    "duration": 0,
    "start_time": "2023-04-27T10:28:43.750Z"
   },
   {
    "duration": 0,
    "start_time": "2023-04-27T10:28:43.752Z"
   },
   {
    "duration": 1163,
    "start_time": "2023-04-27T11:21:03.926Z"
   },
   {
    "duration": 163,
    "start_time": "2023-04-27T11:21:05.092Z"
   },
   {
    "duration": 13,
    "start_time": "2023-04-27T11:21:05.256Z"
   },
   {
    "duration": 60,
    "start_time": "2023-04-27T11:21:05.271Z"
   },
   {
    "duration": 21,
    "start_time": "2023-04-27T11:21:05.333Z"
   },
   {
    "duration": 39,
    "start_time": "2023-04-27T11:21:05.355Z"
   },
   {
    "duration": 15,
    "start_time": "2023-04-27T11:21:05.395Z"
   },
   {
    "duration": 77,
    "start_time": "2023-04-27T11:21:05.411Z"
   },
   {
    "duration": 56,
    "start_time": "2023-04-27T11:21:05.490Z"
   },
   {
    "duration": 130,
    "start_time": "2023-04-27T11:21:05.548Z"
   },
   {
    "duration": 5,
    "start_time": "2023-04-27T11:21:05.680Z"
   },
   {
    "duration": 20,
    "start_time": "2023-04-27T11:21:05.686Z"
   },
   {
    "duration": 116,
    "start_time": "2023-04-27T11:21:05.707Z"
   },
   {
    "duration": 21,
    "start_time": "2023-04-27T11:21:05.825Z"
   },
   {
    "duration": 49,
    "start_time": "2023-04-27T11:21:05.848Z"
   },
   {
    "duration": 5,
    "start_time": "2023-04-27T11:21:05.899Z"
   },
   {
    "duration": 21,
    "start_time": "2023-04-27T11:21:05.905Z"
   },
   {
    "duration": 9733,
    "start_time": "2023-04-27T11:21:05.928Z"
   },
   {
    "duration": 36,
    "start_time": "2023-04-27T11:21:15.663Z"
   },
   {
    "duration": 15,
    "start_time": "2023-04-27T11:21:15.701Z"
   },
   {
    "duration": 9,
    "start_time": "2023-04-27T11:21:15.718Z"
   },
   {
    "duration": 4,
    "start_time": "2023-04-27T11:21:15.729Z"
   },
   {
    "duration": 42,
    "start_time": "2023-04-27T11:21:15.734Z"
   },
   {
    "duration": 7,
    "start_time": "2023-04-27T11:23:34.165Z"
   },
   {
    "duration": 1198,
    "start_time": "2023-04-27T11:24:06.868Z"
   },
   {
    "duration": 164,
    "start_time": "2023-04-27T11:24:08.068Z"
   },
   {
    "duration": 19,
    "start_time": "2023-04-27T11:24:08.235Z"
   },
   {
    "duration": 71,
    "start_time": "2023-04-27T11:24:08.257Z"
   },
   {
    "duration": 22,
    "start_time": "2023-04-27T11:24:08.330Z"
   },
   {
    "duration": 33,
    "start_time": "2023-04-27T11:24:08.354Z"
   },
   {
    "duration": 17,
    "start_time": "2023-04-27T11:24:08.389Z"
   },
   {
    "duration": 85,
    "start_time": "2023-04-27T11:24:08.408Z"
   },
   {
    "duration": 58,
    "start_time": "2023-04-27T11:24:08.495Z"
   },
   {
    "duration": 124,
    "start_time": "2023-04-27T11:24:08.555Z"
   },
   {
    "duration": 3,
    "start_time": "2023-04-27T11:24:08.685Z"
   },
   {
    "duration": 26,
    "start_time": "2023-04-27T11:24:08.690Z"
   },
   {
    "duration": 115,
    "start_time": "2023-04-27T11:24:08.717Z"
   },
   {
    "duration": 21,
    "start_time": "2023-04-27T11:24:08.834Z"
   },
   {
    "duration": 50,
    "start_time": "2023-04-27T11:24:08.857Z"
   },
   {
    "duration": 5,
    "start_time": "2023-04-27T11:24:08.910Z"
   },
   {
    "duration": 23,
    "start_time": "2023-04-27T11:24:08.917Z"
   },
   {
    "duration": 8648,
    "start_time": "2023-04-27T11:24:08.941Z"
   },
   {
    "duration": 32,
    "start_time": "2023-04-27T11:24:17.591Z"
   },
   {
    "duration": 116,
    "start_time": "2023-04-27T11:24:17.625Z"
   },
   {
    "duration": 0,
    "start_time": "2023-04-27T11:24:17.742Z"
   },
   {
    "duration": 0,
    "start_time": "2023-04-27T11:24:17.744Z"
   },
   {
    "duration": 0,
    "start_time": "2023-04-27T11:24:17.745Z"
   },
   {
    "duration": 33,
    "start_time": "2023-04-27T11:29:06.040Z"
   },
   {
    "duration": 233,
    "start_time": "2023-04-27T11:30:19.486Z"
   },
   {
    "duration": 231,
    "start_time": "2023-04-27T11:31:29.528Z"
   },
   {
    "duration": 209,
    "start_time": "2023-04-27T11:34:15.727Z"
   },
   {
    "duration": 218,
    "start_time": "2023-04-27T11:34:55.327Z"
   },
   {
    "duration": 247,
    "start_time": "2023-04-27T11:35:18.041Z"
   },
   {
    "duration": 230,
    "start_time": "2023-04-27T11:35:48.530Z"
   },
   {
    "duration": 342,
    "start_time": "2023-04-27T11:35:54.376Z"
   },
   {
    "duration": 219,
    "start_time": "2023-04-27T11:36:16.384Z"
   },
   {
    "duration": 6092,
    "start_time": "2023-04-27T11:36:28.628Z"
   },
   {
    "duration": 1188,
    "start_time": "2023-04-27T11:37:20.071Z"
   },
   {
    "duration": 171,
    "start_time": "2023-04-27T11:37:21.261Z"
   },
   {
    "duration": 14,
    "start_time": "2023-04-27T11:37:21.434Z"
   },
   {
    "duration": 65,
    "start_time": "2023-04-27T11:37:21.451Z"
   },
   {
    "duration": 22,
    "start_time": "2023-04-27T11:37:21.518Z"
   },
   {
    "duration": 43,
    "start_time": "2023-04-27T11:37:21.543Z"
   },
   {
    "duration": 17,
    "start_time": "2023-04-27T11:37:21.588Z"
   },
   {
    "duration": 80,
    "start_time": "2023-04-27T11:37:21.607Z"
   },
   {
    "duration": 57,
    "start_time": "2023-04-27T11:37:21.689Z"
   },
   {
    "duration": 137,
    "start_time": "2023-04-27T11:37:21.749Z"
   },
   {
    "duration": 2,
    "start_time": "2023-04-27T11:37:21.888Z"
   },
   {
    "duration": 37,
    "start_time": "2023-04-27T11:37:21.892Z"
   },
   {
    "duration": 111,
    "start_time": "2023-04-27T11:37:21.931Z"
   },
   {
    "duration": 20,
    "start_time": "2023-04-27T11:37:22.043Z"
   },
   {
    "duration": 45,
    "start_time": "2023-04-27T11:37:22.065Z"
   },
   {
    "duration": 5,
    "start_time": "2023-04-27T11:37:22.112Z"
   },
   {
    "duration": 23,
    "start_time": "2023-04-27T11:37:22.118Z"
   },
   {
    "duration": 322,
    "start_time": "2023-04-27T11:37:22.143Z"
   },
   {
    "duration": 243,
    "start_time": "2023-04-27T11:37:22.467Z"
   },
   {
    "duration": 37,
    "start_time": "2023-04-27T11:37:22.712Z"
   },
   {
    "duration": 119,
    "start_time": "2023-04-27T11:37:22.751Z"
   },
   {
    "duration": 0,
    "start_time": "2023-04-27T11:37:22.871Z"
   },
   {
    "duration": 0,
    "start_time": "2023-04-27T11:37:22.872Z"
   },
   {
    "duration": 0,
    "start_time": "2023-04-27T11:37:22.873Z"
   },
   {
    "duration": 0,
    "start_time": "2023-04-27T11:37:22.874Z"
   },
   {
    "duration": 33,
    "start_time": "2023-04-27T11:40:49.288Z"
   },
   {
    "duration": 1202,
    "start_time": "2023-04-27T11:41:18.761Z"
   },
   {
    "duration": 166,
    "start_time": "2023-04-27T11:41:19.965Z"
   },
   {
    "duration": 14,
    "start_time": "2023-04-27T11:41:20.132Z"
   },
   {
    "duration": 62,
    "start_time": "2023-04-27T11:41:20.148Z"
   },
   {
    "duration": 22,
    "start_time": "2023-04-27T11:41:20.212Z"
   },
   {
    "duration": 21,
    "start_time": "2023-04-27T11:41:20.236Z"
   },
   {
    "duration": 36,
    "start_time": "2023-04-27T11:41:20.258Z"
   },
   {
    "duration": 72,
    "start_time": "2023-04-27T11:41:20.296Z"
   },
   {
    "duration": 80,
    "start_time": "2023-04-27T11:41:20.370Z"
   },
   {
    "duration": 149,
    "start_time": "2023-04-27T11:41:20.452Z"
   },
   {
    "duration": 3,
    "start_time": "2023-04-27T11:41:20.603Z"
   },
   {
    "duration": 22,
    "start_time": "2023-04-27T11:41:20.608Z"
   },
   {
    "duration": 137,
    "start_time": "2023-04-27T11:41:20.632Z"
   },
   {
    "duration": 22,
    "start_time": "2023-04-27T11:41:20.772Z"
   },
   {
    "duration": 59,
    "start_time": "2023-04-27T11:41:20.796Z"
   },
   {
    "duration": 6,
    "start_time": "2023-04-27T11:41:20.857Z"
   },
   {
    "duration": 22,
    "start_time": "2023-04-27T11:41:20.885Z"
   },
   {
    "duration": 317,
    "start_time": "2023-04-27T11:41:20.908Z"
   },
   {
    "duration": 236,
    "start_time": "2023-04-27T11:41:21.227Z"
   },
   {
    "duration": 42,
    "start_time": "2023-04-27T11:41:21.465Z"
   },
   {
    "duration": 110,
    "start_time": "2023-04-27T11:41:21.509Z"
   },
   {
    "duration": 0,
    "start_time": "2023-04-27T11:41:21.621Z"
   },
   {
    "duration": 0,
    "start_time": "2023-04-27T11:41:21.622Z"
   },
   {
    "duration": 0,
    "start_time": "2023-04-27T11:41:21.623Z"
   },
   {
    "duration": 0,
    "start_time": "2023-04-27T11:41:21.624Z"
   },
   {
    "duration": 6,
    "start_time": "2023-04-27T11:41:59.383Z"
   },
   {
    "duration": 32,
    "start_time": "2023-04-27T12:41:15.285Z"
   },
   {
    "duration": 1016,
    "start_time": "2023-04-27T12:43:45.312Z"
   },
   {
    "duration": 5388,
    "start_time": "2023-04-27T12:44:06.489Z"
   },
   {
    "duration": 14,
    "start_time": "2023-04-27T12:45:04.269Z"
   },
   {
    "duration": 34,
    "start_time": "2023-04-27T12:45:52.577Z"
   },
   {
    "duration": 662,
    "start_time": "2023-04-27T12:46:11.315Z"
   },
   {
    "duration": 29,
    "start_time": "2023-04-27T12:46:43.727Z"
   },
   {
    "duration": 230,
    "start_time": "2023-04-27T12:46:52.455Z"
   },
   {
    "duration": 23,
    "start_time": "2023-04-27T12:47:57.799Z"
   },
   {
    "duration": 49,
    "start_time": "2023-04-27T12:48:35.062Z"
   },
   {
    "duration": 31,
    "start_time": "2023-04-27T12:49:20.139Z"
   },
   {
    "duration": 43,
    "start_time": "2023-04-27T12:49:27.236Z"
   },
   {
    "duration": 187,
    "start_time": "2023-04-27T12:50:08.803Z"
   },
   {
    "duration": 23,
    "start_time": "2023-04-27T12:51:02.383Z"
   },
   {
    "duration": 184,
    "start_time": "2023-04-27T12:51:29.063Z"
   },
   {
    "duration": 285,
    "start_time": "2023-04-27T12:51:35.062Z"
   },
   {
    "duration": 212,
    "start_time": "2023-04-27T12:51:41.746Z"
   },
   {
    "duration": 213,
    "start_time": "2023-04-27T12:51:48.409Z"
   },
   {
    "duration": 205,
    "start_time": "2023-04-27T12:52:43.253Z"
   },
   {
    "duration": 203,
    "start_time": "2023-04-27T12:53:08.277Z"
   },
   {
    "duration": 227,
    "start_time": "2023-04-27T12:53:30.879Z"
   },
   {
    "duration": 5,
    "start_time": "2023-04-27T12:56:22.707Z"
   },
   {
    "duration": 218,
    "start_time": "2023-04-27T12:56:26.641Z"
   },
   {
    "duration": 63,
    "start_time": "2023-04-27T13:04:08.608Z"
   },
   {
    "duration": 42,
    "start_time": "2023-04-27T13:05:05.199Z"
   },
   {
    "duration": 31,
    "start_time": "2023-04-27T13:05:13.209Z"
   },
   {
    "duration": 13,
    "start_time": "2023-04-27T13:07:40.588Z"
   },
   {
    "duration": 60,
    "start_time": "2023-04-27T13:08:39.360Z"
   },
   {
    "duration": 46,
    "start_time": "2023-04-27T13:09:10.108Z"
   },
   {
    "duration": 61,
    "start_time": "2023-04-27T13:09:33.017Z"
   },
   {
    "duration": 63,
    "start_time": "2023-04-27T13:09:56.909Z"
   },
   {
    "duration": 59,
    "start_time": "2023-04-27T13:10:26.305Z"
   },
   {
    "duration": 30,
    "start_time": "2023-04-27T13:13:22.260Z"
   },
   {
    "duration": 18,
    "start_time": "2023-04-27T13:13:35.175Z"
   },
   {
    "duration": 28,
    "start_time": "2023-04-27T13:14:36.221Z"
   },
   {
    "duration": 29,
    "start_time": "2023-04-27T13:14:55.912Z"
   },
   {
    "duration": 16,
    "start_time": "2023-04-27T13:15:01.474Z"
   },
   {
    "duration": 31,
    "start_time": "2023-04-27T13:15:31.713Z"
   },
   {
    "duration": 30,
    "start_time": "2023-04-27T13:15:41.715Z"
   },
   {
    "duration": 16,
    "start_time": "2023-04-27T13:15:50.379Z"
   },
   {
    "duration": 1184,
    "start_time": "2023-04-27T13:16:33.627Z"
   },
   {
    "duration": 167,
    "start_time": "2023-04-27T13:16:34.813Z"
   },
   {
    "duration": 15,
    "start_time": "2023-04-27T13:16:34.981Z"
   },
   {
    "duration": 67,
    "start_time": "2023-04-27T13:16:34.998Z"
   },
   {
    "duration": 21,
    "start_time": "2023-04-27T13:16:35.068Z"
   },
   {
    "duration": 22,
    "start_time": "2023-04-27T13:16:35.091Z"
   },
   {
    "duration": 15,
    "start_time": "2023-04-27T13:16:35.114Z"
   },
   {
    "duration": 91,
    "start_time": "2023-04-27T13:16:35.131Z"
   },
   {
    "duration": 66,
    "start_time": "2023-04-27T13:16:35.224Z"
   },
   {
    "duration": 121,
    "start_time": "2023-04-27T13:16:35.292Z"
   },
   {
    "duration": 2,
    "start_time": "2023-04-27T13:16:35.415Z"
   },
   {
    "duration": 24,
    "start_time": "2023-04-27T13:16:35.419Z"
   },
   {
    "duration": 111,
    "start_time": "2023-04-27T13:16:35.445Z"
   },
   {
    "duration": 26,
    "start_time": "2023-04-27T13:16:35.559Z"
   },
   {
    "duration": 41,
    "start_time": "2023-04-27T13:16:35.587Z"
   },
   {
    "duration": 5,
    "start_time": "2023-04-27T13:16:35.630Z"
   },
   {
    "duration": 27,
    "start_time": "2023-04-27T13:16:35.637Z"
   },
   {
    "duration": 311,
    "start_time": "2023-04-27T13:16:35.666Z"
   },
   {
    "duration": 224,
    "start_time": "2023-04-27T13:16:35.979Z"
   },
   {
    "duration": 37,
    "start_time": "2023-04-27T13:16:36.205Z"
   },
   {
    "duration": 6,
    "start_time": "2023-04-27T13:16:36.244Z"
   },
   {
    "duration": 81,
    "start_time": "2023-04-27T13:16:36.251Z"
   },
   {
    "duration": 118,
    "start_time": "2023-04-27T13:16:36.334Z"
   },
   {
    "duration": 0,
    "start_time": "2023-04-27T13:16:36.453Z"
   },
   {
    "duration": 25,
    "start_time": "2023-04-27T13:18:18.274Z"
   },
   {
    "duration": 30,
    "start_time": "2023-04-27T13:23:13.860Z"
   },
   {
    "duration": 1197,
    "start_time": "2023-04-27T13:23:43.401Z"
   },
   {
    "duration": 165,
    "start_time": "2023-04-27T13:23:44.600Z"
   },
   {
    "duration": 19,
    "start_time": "2023-04-27T13:23:44.767Z"
   },
   {
    "duration": 50,
    "start_time": "2023-04-27T13:23:44.788Z"
   },
   {
    "duration": 25,
    "start_time": "2023-04-27T13:23:44.841Z"
   },
   {
    "duration": 35,
    "start_time": "2023-04-27T13:23:44.868Z"
   },
   {
    "duration": 15,
    "start_time": "2023-04-27T13:23:44.905Z"
   },
   {
    "duration": 88,
    "start_time": "2023-04-27T13:23:44.922Z"
   },
   {
    "duration": 56,
    "start_time": "2023-04-27T13:23:45.012Z"
   },
   {
    "duration": 133,
    "start_time": "2023-04-27T13:23:45.069Z"
   },
   {
    "duration": 2,
    "start_time": "2023-04-27T13:23:45.204Z"
   },
   {
    "duration": 24,
    "start_time": "2023-04-27T13:23:45.207Z"
   },
   {
    "duration": 124,
    "start_time": "2023-04-27T13:23:45.233Z"
   },
   {
    "duration": 31,
    "start_time": "2023-04-27T13:23:45.360Z"
   },
   {
    "duration": 38,
    "start_time": "2023-04-27T13:23:45.392Z"
   },
   {
    "duration": 6,
    "start_time": "2023-04-27T13:23:45.432Z"
   },
   {
    "duration": 47,
    "start_time": "2023-04-27T13:23:45.439Z"
   },
   {
    "duration": 318,
    "start_time": "2023-04-27T13:23:45.489Z"
   },
   {
    "duration": 226,
    "start_time": "2023-04-27T13:23:45.809Z"
   },
   {
    "duration": 48,
    "start_time": "2023-04-27T13:23:46.037Z"
   },
   {
    "duration": 6,
    "start_time": "2023-04-27T13:23:46.087Z"
   },
   {
    "duration": 172,
    "start_time": "2023-04-27T13:23:46.094Z"
   },
   {
    "duration": 0,
    "start_time": "2023-04-27T13:23:46.268Z"
   },
   {
    "duration": 0,
    "start_time": "2023-04-27T13:23:46.269Z"
   },
   {
    "duration": 31,
    "start_time": "2023-04-27T13:27:24.970Z"
   },
   {
    "duration": 39,
    "start_time": "2023-04-27T13:27:30.103Z"
   },
   {
    "duration": 30,
    "start_time": "2023-04-27T13:28:00.478Z"
   },
   {
    "duration": 46,
    "start_time": "2023-04-27T13:28:25.334Z"
   },
   {
    "duration": 32,
    "start_time": "2023-04-27T13:28:57.383Z"
   },
   {
    "duration": 33,
    "start_time": "2023-04-27T13:29:07.530Z"
   },
   {
    "duration": 36,
    "start_time": "2023-04-27T13:29:27.277Z"
   },
   {
    "duration": 31,
    "start_time": "2023-04-27T13:30:06.130Z"
   },
   {
    "duration": 175,
    "start_time": "2023-04-27T13:35:30.153Z"
   },
   {
    "duration": 33,
    "start_time": "2023-04-27T13:36:01.901Z"
   },
   {
    "duration": 61,
    "start_time": "2023-04-27T13:38:00.706Z"
   },
   {
    "duration": 55,
    "start_time": "2023-04-27T13:38:08.801Z"
   },
   {
    "duration": 183,
    "start_time": "2023-04-27T13:39:09.478Z"
   },
   {
    "duration": 226,
    "start_time": "2023-04-27T13:41:58.664Z"
   },
   {
    "duration": 211,
    "start_time": "2023-04-27T13:42:20.777Z"
   },
   {
    "duration": 206,
    "start_time": "2023-04-27T13:42:29.303Z"
   },
   {
    "duration": 4,
    "start_time": "2023-04-27T13:43:15.537Z"
   },
   {
    "duration": 225,
    "start_time": "2023-04-27T13:43:19.965Z"
   },
   {
    "duration": 310,
    "start_time": "2023-04-27T13:43:22.417Z"
   },
   {
    "duration": 172,
    "start_time": "2023-04-27T13:43:25.600Z"
   },
   {
    "duration": 230,
    "start_time": "2023-04-27T13:43:28.421Z"
   },
   {
    "duration": 373,
    "start_time": "2023-04-27T13:43:48.937Z"
   },
   {
    "duration": 430,
    "start_time": "2023-04-27T13:48:56.849Z"
   },
   {
    "duration": 352,
    "start_time": "2023-04-27T13:49:04.799Z"
   },
   {
    "duration": 355,
    "start_time": "2023-04-27T13:49:11.168Z"
   },
   {
    "duration": 49,
    "start_time": "2023-04-27T13:49:15.947Z"
   },
   {
    "duration": 468,
    "start_time": "2023-04-27T13:49:26.653Z"
   },
   {
    "duration": 380,
    "start_time": "2023-04-27T13:49:34.607Z"
   },
   {
    "duration": 353,
    "start_time": "2023-04-27T13:49:39.497Z"
   },
   {
    "duration": 389,
    "start_time": "2023-04-27T13:51:00.024Z"
   },
   {
    "duration": 375,
    "start_time": "2023-04-27T13:51:08.256Z"
   },
   {
    "duration": 485,
    "start_time": "2023-04-27T13:51:43.740Z"
   },
   {
    "duration": 489,
    "start_time": "2023-04-27T13:51:56.777Z"
   },
   {
    "duration": 378,
    "start_time": "2023-04-27T13:52:02.684Z"
   },
   {
    "duration": 351,
    "start_time": "2023-04-27T13:52:32.920Z"
   },
   {
    "duration": 204,
    "start_time": "2023-04-27T13:52:47.601Z"
   },
   {
    "duration": 247,
    "start_time": "2023-04-27T13:52:56.609Z"
   },
   {
    "duration": 218,
    "start_time": "2023-04-27T13:53:18.648Z"
   },
   {
    "duration": 219,
    "start_time": "2023-04-27T13:53:20.380Z"
   },
   {
    "duration": 16,
    "start_time": "2023-04-27T14:04:51.127Z"
   },
   {
    "duration": 449,
    "start_time": "2023-04-27T14:07:11.082Z"
   },
   {
    "duration": 365,
    "start_time": "2023-04-27T14:07:46.455Z"
   },
   {
    "duration": 371,
    "start_time": "2023-04-27T14:08:37.750Z"
   },
   {
    "duration": 358,
    "start_time": "2023-04-27T14:08:59.663Z"
   },
   {
    "duration": 69,
    "start_time": "2023-04-27T16:23:30.278Z"
   },
   {
    "duration": 35,
    "start_time": "2023-04-27T16:23:56.378Z"
   },
   {
    "duration": 65,
    "start_time": "2023-04-27T16:31:14.257Z"
   },
   {
    "duration": 59,
    "start_time": "2023-04-27T16:31:27.020Z"
   },
   {
    "duration": 65,
    "start_time": "2023-04-27T16:32:44.565Z"
   },
   {
    "duration": 61,
    "start_time": "2023-04-27T16:33:18.598Z"
   },
   {
    "duration": 58,
    "start_time": "2023-04-27T16:33:47.334Z"
   },
   {
    "duration": 59,
    "start_time": "2023-04-27T16:34:00.199Z"
   },
   {
    "duration": 30,
    "start_time": "2023-04-27T16:34:28.420Z"
   },
   {
    "duration": 36,
    "start_time": "2023-04-27T16:34:34.569Z"
   },
   {
    "duration": 956,
    "start_time": "2023-04-27T16:38:00.464Z"
   },
   {
    "duration": 825,
    "start_time": "2023-04-27T16:38:24.875Z"
   },
   {
    "duration": 870,
    "start_time": "2023-04-27T16:38:40.897Z"
   },
   {
    "duration": 62,
    "start_time": "2023-04-27T16:43:22.204Z"
   },
   {
    "duration": 16,
    "start_time": "2023-04-27T16:47:39.935Z"
   },
   {
    "duration": 1207,
    "start_time": "2023-04-27T16:48:37.207Z"
   },
   {
    "duration": 171,
    "start_time": "2023-04-27T16:48:38.416Z"
   },
   {
    "duration": 16,
    "start_time": "2023-04-27T16:48:38.589Z"
   },
   {
    "duration": 48,
    "start_time": "2023-04-27T16:48:38.606Z"
   },
   {
    "duration": 37,
    "start_time": "2023-04-27T16:48:38.657Z"
   },
   {
    "duration": 21,
    "start_time": "2023-04-27T16:48:38.696Z"
   },
   {
    "duration": 15,
    "start_time": "2023-04-27T16:48:38.719Z"
   },
   {
    "duration": 87,
    "start_time": "2023-04-27T16:48:38.736Z"
   },
   {
    "duration": 64,
    "start_time": "2023-04-27T16:48:38.825Z"
   },
   {
    "duration": 126,
    "start_time": "2023-04-27T16:48:38.891Z"
   },
   {
    "duration": 3,
    "start_time": "2023-04-27T16:48:39.018Z"
   },
   {
    "duration": 24,
    "start_time": "2023-04-27T16:48:39.023Z"
   },
   {
    "duration": 127,
    "start_time": "2023-04-27T16:48:39.049Z"
   },
   {
    "duration": 25,
    "start_time": "2023-04-27T16:48:39.180Z"
   },
   {
    "duration": 47,
    "start_time": "2023-04-27T16:48:39.207Z"
   },
   {
    "duration": 29,
    "start_time": "2023-04-27T16:48:39.257Z"
   },
   {
    "duration": 32,
    "start_time": "2023-04-27T16:48:39.288Z"
   },
   {
    "duration": 356,
    "start_time": "2023-04-27T16:48:39.323Z"
   },
   {
    "duration": 227,
    "start_time": "2023-04-27T16:48:39.685Z"
   },
   {
    "duration": 67,
    "start_time": "2023-04-27T16:48:39.914Z"
   },
   {
    "duration": 7,
    "start_time": "2023-04-27T16:48:39.984Z"
   },
   {
    "duration": 31,
    "start_time": "2023-04-27T16:48:39.993Z"
   },
   {
    "duration": 172,
    "start_time": "2023-04-27T16:48:40.025Z"
   },
   {
    "duration": 0,
    "start_time": "2023-04-27T16:48:40.198Z"
   },
   {
    "duration": 0,
    "start_time": "2023-04-27T16:48:40.200Z"
   },
   {
    "duration": 0,
    "start_time": "2023-04-27T16:48:40.201Z"
   },
   {
    "duration": 0,
    "start_time": "2023-04-27T16:48:40.203Z"
   },
   {
    "duration": 14,
    "start_time": "2023-04-27T16:49:15.814Z"
   },
   {
    "duration": 23,
    "start_time": "2023-04-27T16:49:26.178Z"
   },
   {
    "duration": 1235,
    "start_time": "2023-04-27T16:50:13.601Z"
   },
   {
    "duration": 161,
    "start_time": "2023-04-27T16:50:14.838Z"
   },
   {
    "duration": 14,
    "start_time": "2023-04-27T16:50:15.001Z"
   },
   {
    "duration": 66,
    "start_time": "2023-04-27T16:50:15.017Z"
   },
   {
    "duration": 22,
    "start_time": "2023-04-27T16:50:15.085Z"
   },
   {
    "duration": 24,
    "start_time": "2023-04-27T16:50:15.109Z"
   },
   {
    "duration": 24,
    "start_time": "2023-04-27T16:50:15.135Z"
   },
   {
    "duration": 84,
    "start_time": "2023-04-27T16:50:15.186Z"
   },
   {
    "duration": 63,
    "start_time": "2023-04-27T16:50:15.272Z"
   },
   {
    "duration": 124,
    "start_time": "2023-04-27T16:50:15.337Z"
   },
   {
    "duration": 2,
    "start_time": "2023-04-27T16:50:15.463Z"
   },
   {
    "duration": 24,
    "start_time": "2023-04-27T16:50:15.467Z"
   },
   {
    "duration": 115,
    "start_time": "2023-04-27T16:50:15.492Z"
   },
   {
    "duration": 20,
    "start_time": "2023-04-27T16:50:15.610Z"
   },
   {
    "duration": 53,
    "start_time": "2023-04-27T16:50:15.632Z"
   },
   {
    "duration": 5,
    "start_time": "2023-04-27T16:50:15.687Z"
   },
   {
    "duration": 24,
    "start_time": "2023-04-27T16:50:15.693Z"
   },
   {
    "duration": 312,
    "start_time": "2023-04-27T16:50:15.719Z"
   },
   {
    "duration": 222,
    "start_time": "2023-04-27T16:50:16.033Z"
   },
   {
    "duration": 45,
    "start_time": "2023-04-27T16:50:16.257Z"
   },
   {
    "duration": 5,
    "start_time": "2023-04-27T16:50:16.304Z"
   },
   {
    "duration": 32,
    "start_time": "2023-04-27T16:50:16.310Z"
   },
   {
    "duration": 124,
    "start_time": "2023-04-27T16:50:16.343Z"
   },
   {
    "duration": 0,
    "start_time": "2023-04-27T16:50:16.469Z"
   },
   {
    "duration": 0,
    "start_time": "2023-04-27T16:50:16.470Z"
   },
   {
    "duration": 0,
    "start_time": "2023-04-27T16:50:16.472Z"
   },
   {
    "duration": 17,
    "start_time": "2023-04-27T16:50:36.159Z"
   },
   {
    "duration": 35,
    "start_time": "2023-04-27T16:50:59.783Z"
   },
   {
    "duration": 16,
    "start_time": "2023-04-27T16:51:08.023Z"
   },
   {
    "duration": 1150,
    "start_time": "2023-04-27T16:51:51.986Z"
   },
   {
    "duration": 162,
    "start_time": "2023-04-27T16:51:53.138Z"
   },
   {
    "duration": 15,
    "start_time": "2023-04-27T16:51:53.301Z"
   },
   {
    "duration": 48,
    "start_time": "2023-04-27T16:51:53.318Z"
   },
   {
    "duration": 37,
    "start_time": "2023-04-27T16:51:53.368Z"
   },
   {
    "duration": 20,
    "start_time": "2023-04-27T16:51:53.406Z"
   },
   {
    "duration": 15,
    "start_time": "2023-04-27T16:51:53.428Z"
   },
   {
    "duration": 98,
    "start_time": "2023-04-27T16:51:53.446Z"
   },
   {
    "duration": 65,
    "start_time": "2023-04-27T16:51:53.546Z"
   },
   {
    "duration": 121,
    "start_time": "2023-04-27T16:51:53.614Z"
   },
   {
    "duration": 3,
    "start_time": "2023-04-27T16:51:53.736Z"
   },
   {
    "duration": 26,
    "start_time": "2023-04-27T16:51:53.740Z"
   },
   {
    "duration": 120,
    "start_time": "2023-04-27T16:51:53.767Z"
   },
   {
    "duration": 20,
    "start_time": "2023-04-27T16:51:53.889Z"
   },
   {
    "duration": 43,
    "start_time": "2023-04-27T16:51:53.911Z"
   },
   {
    "duration": 28,
    "start_time": "2023-04-27T16:51:53.957Z"
   },
   {
    "duration": 28,
    "start_time": "2023-04-27T16:51:53.988Z"
   },
   {
    "duration": 385,
    "start_time": "2023-04-27T16:51:54.018Z"
   },
   {
    "duration": 240,
    "start_time": "2023-04-27T16:51:54.405Z"
   },
   {
    "duration": 43,
    "start_time": "2023-04-27T16:51:54.646Z"
   },
   {
    "duration": 6,
    "start_time": "2023-04-27T16:51:54.691Z"
   },
   {
    "duration": 32,
    "start_time": "2023-04-27T16:51:54.698Z"
   },
   {
    "duration": 131,
    "start_time": "2023-04-27T16:51:54.732Z"
   },
   {
    "duration": 0,
    "start_time": "2023-04-27T16:51:54.864Z"
   },
   {
    "duration": 0,
    "start_time": "2023-04-27T16:51:54.865Z"
   },
   {
    "duration": 29,
    "start_time": "2023-04-27T16:53:17.566Z"
   },
   {
    "duration": 394,
    "start_time": "2023-04-27T16:53:19.610Z"
   },
   {
    "duration": 61,
    "start_time": "2023-04-27T16:53:33.517Z"
   },
   {
    "duration": 399,
    "start_time": "2023-04-27T16:53:36.786Z"
   },
   {
    "duration": 490,
    "start_time": "2023-04-27T16:54:54.294Z"
   },
   {
    "duration": 126,
    "start_time": "2023-04-27T16:59:34.705Z"
   },
   {
    "duration": 149,
    "start_time": "2023-04-27T17:00:51.298Z"
   },
   {
    "duration": 129,
    "start_time": "2023-04-27T17:02:12.513Z"
   },
   {
    "duration": 148,
    "start_time": "2023-04-27T17:02:18.181Z"
   },
   {
    "duration": 432,
    "start_time": "2023-04-27T17:02:41.438Z"
   },
   {
    "duration": 68,
    "start_time": "2023-04-27T17:06:09.573Z"
   },
   {
    "duration": 58,
    "start_time": "2023-04-27T17:06:13.084Z"
   },
   {
    "duration": 79,
    "start_time": "2023-04-27T17:10:32.790Z"
   },
   {
    "duration": 77,
    "start_time": "2023-04-27T17:11:30.300Z"
   },
   {
    "duration": 76,
    "start_time": "2023-04-27T17:12:38.332Z"
   },
   {
    "duration": 132,
    "start_time": "2023-04-27T17:13:06.925Z"
   },
   {
    "duration": 82,
    "start_time": "2023-04-27T17:13:36.788Z"
   },
   {
    "duration": 8,
    "start_time": "2023-04-27T17:14:20.885Z"
   },
   {
    "duration": 5,
    "start_time": "2023-04-27T17:14:46.389Z"
   },
   {
    "duration": 173,
    "start_time": "2023-04-27T17:14:50.883Z"
   },
   {
    "duration": 18,
    "start_time": "2023-04-27T17:28:36.048Z"
   },
   {
    "duration": 10,
    "start_time": "2023-04-27T17:28:44.602Z"
   },
   {
    "duration": 9,
    "start_time": "2023-04-27T17:28:48.731Z"
   },
   {
    "duration": 19,
    "start_time": "2023-04-27T17:49:48.626Z"
   },
   {
    "duration": 50,
    "start_time": "2023-04-27T17:49:56.723Z"
   },
   {
    "duration": 1409,
    "start_time": "2023-04-28T09:02:53.679Z"
   },
   {
    "duration": 1078,
    "start_time": "2023-04-28T09:02:55.091Z"
   },
   {
    "duration": 15,
    "start_time": "2023-04-28T09:02:56.171Z"
   },
   {
    "duration": 56,
    "start_time": "2023-04-28T09:02:56.187Z"
   },
   {
    "duration": 24,
    "start_time": "2023-04-28T09:02:56.245Z"
   },
   {
    "duration": 21,
    "start_time": "2023-04-28T09:02:56.273Z"
   },
   {
    "duration": 15,
    "start_time": "2023-04-28T09:02:56.295Z"
   },
   {
    "duration": 83,
    "start_time": "2023-04-28T09:02:56.312Z"
   },
   {
    "duration": 73,
    "start_time": "2023-04-28T09:02:56.397Z"
   },
   {
    "duration": 113,
    "start_time": "2023-04-28T09:02:56.472Z"
   },
   {
    "duration": 2,
    "start_time": "2023-04-28T09:02:56.587Z"
   },
   {
    "duration": 32,
    "start_time": "2023-04-28T09:02:56.591Z"
   },
   {
    "duration": 108,
    "start_time": "2023-04-28T09:02:56.624Z"
   },
   {
    "duration": 31,
    "start_time": "2023-04-28T09:02:56.735Z"
   },
   {
    "duration": 32,
    "start_time": "2023-04-28T09:02:56.770Z"
   },
   {
    "duration": 5,
    "start_time": "2023-04-28T09:02:56.804Z"
   },
   {
    "duration": 30,
    "start_time": "2023-04-28T09:02:56.811Z"
   },
   {
    "duration": 335,
    "start_time": "2023-04-28T09:02:56.843Z"
   },
   {
    "duration": 264,
    "start_time": "2023-04-28T09:02:57.180Z"
   },
   {
    "duration": 47,
    "start_time": "2023-04-28T09:02:57.446Z"
   },
   {
    "duration": 6,
    "start_time": "2023-04-28T09:02:57.495Z"
   },
   {
    "duration": 73,
    "start_time": "2023-04-28T09:02:57.502Z"
   },
   {
    "duration": 430,
    "start_time": "2023-04-28T09:02:57.577Z"
   },
   {
    "duration": 73,
    "start_time": "2023-04-28T09:02:58.009Z"
   },
   {
    "duration": 434,
    "start_time": "2023-04-28T09:02:58.084Z"
   },
   {
    "duration": 101,
    "start_time": "2023-04-28T09:02:58.519Z"
   },
   {
    "duration": 173,
    "start_time": "2023-04-28T09:02:58.622Z"
   },
   {
    "duration": 78,
    "start_time": "2023-04-28T09:02:58.796Z"
   },
   {
    "duration": 3,
    "start_time": "2023-04-28T09:02:58.877Z"
   },
   {
    "duration": 97,
    "start_time": "2023-04-28T09:05:18.806Z"
   },
   {
    "duration": 99,
    "start_time": "2023-04-28T09:06:07.609Z"
   },
   {
    "duration": 42,
    "start_time": "2023-04-28T09:08:01.984Z"
   },
   {
    "duration": 1257,
    "start_time": "2023-04-28T15:10:44.884Z"
   },
   {
    "duration": 1007,
    "start_time": "2023-04-28T15:10:46.144Z"
   },
   {
    "duration": 13,
    "start_time": "2023-04-28T15:10:47.153Z"
   },
   {
    "duration": 56,
    "start_time": "2023-04-28T15:10:47.168Z"
   },
   {
    "duration": 17,
    "start_time": "2023-04-28T15:10:47.226Z"
   },
   {
    "duration": 27,
    "start_time": "2023-04-28T15:10:47.244Z"
   },
   {
    "duration": 12,
    "start_time": "2023-04-28T15:10:47.272Z"
   },
   {
    "duration": 71,
    "start_time": "2023-04-28T15:10:47.286Z"
   },
   {
    "duration": 53,
    "start_time": "2023-04-28T15:10:47.358Z"
   },
   {
    "duration": 127,
    "start_time": "2023-04-28T15:10:47.414Z"
   },
   {
    "duration": 3,
    "start_time": "2023-04-28T15:10:47.542Z"
   },
   {
    "duration": 22,
    "start_time": "2023-04-28T15:10:47.547Z"
   },
   {
    "duration": 105,
    "start_time": "2023-04-28T15:10:47.570Z"
   },
   {
    "duration": 17,
    "start_time": "2023-04-28T15:10:47.677Z"
   },
   {
    "duration": 32,
    "start_time": "2023-04-28T15:10:47.695Z"
   },
   {
    "duration": 5,
    "start_time": "2023-04-28T15:10:47.728Z"
   },
   {
    "duration": 39,
    "start_time": "2023-04-28T15:10:47.734Z"
   },
   {
    "duration": 301,
    "start_time": "2023-04-28T15:10:47.774Z"
   },
   {
    "duration": 234,
    "start_time": "2023-04-28T15:10:48.077Z"
   },
   {
    "duration": 34,
    "start_time": "2023-04-28T15:10:48.312Z"
   },
   {
    "duration": 5,
    "start_time": "2023-04-28T15:10:48.356Z"
   },
   {
    "duration": 28,
    "start_time": "2023-04-28T15:10:48.363Z"
   },
   {
    "duration": 374,
    "start_time": "2023-04-28T15:10:48.392Z"
   },
   {
    "duration": 53,
    "start_time": "2023-04-28T15:10:48.768Z"
   },
   {
    "duration": 368,
    "start_time": "2023-04-28T15:10:48.823Z"
   },
   {
    "duration": 83,
    "start_time": "2023-04-28T15:10:49.193Z"
   },
   {
    "duration": 226,
    "start_time": "2023-04-28T15:10:49.278Z"
   },
   {
    "duration": 56,
    "start_time": "2023-04-28T15:10:49.507Z"
   },
   {
    "duration": 109,
    "start_time": "2023-04-28T15:10:49.565Z"
   },
   {
    "duration": 21,
    "start_time": "2023-04-28T15:10:49.675Z"
   },
   {
    "duration": 59,
    "start_time": "2023-04-28T15:26:00.101Z"
   },
   {
    "duration": 50,
    "start_time": "2023-04-28T15:26:04.631Z"
   },
   {
    "duration": 34,
    "start_time": "2023-04-28T15:26:22.876Z"
   },
   {
    "duration": 51,
    "start_time": "2023-04-28T15:39:06.554Z"
   },
   {
    "duration": 5,
    "start_time": "2023-04-28T15:39:23.237Z"
   },
   {
    "duration": 199,
    "start_time": "2023-04-28T15:39:39.471Z"
   },
   {
    "duration": 116,
    "start_time": "2023-04-28T15:40:12.231Z"
   },
   {
    "duration": 88,
    "start_time": "2023-04-28T15:41:09.706Z"
   },
   {
    "duration": 1220,
    "start_time": "2023-04-28T16:35:00.455Z"
   },
   {
    "duration": 171,
    "start_time": "2023-04-28T16:35:01.677Z"
   },
   {
    "duration": 19,
    "start_time": "2023-04-28T16:35:01.850Z"
   },
   {
    "duration": 73,
    "start_time": "2023-04-28T16:35:01.871Z"
   },
   {
    "duration": 22,
    "start_time": "2023-04-28T16:35:01.946Z"
   },
   {
    "duration": 50,
    "start_time": "2023-04-28T16:35:01.969Z"
   },
   {
    "duration": 39,
    "start_time": "2023-04-28T16:35:02.021Z"
   },
   {
    "duration": 105,
    "start_time": "2023-04-28T16:35:02.062Z"
   },
   {
    "duration": 67,
    "start_time": "2023-04-28T16:35:02.169Z"
   },
   {
    "duration": 138,
    "start_time": "2023-04-28T16:35:02.255Z"
   },
   {
    "duration": 2,
    "start_time": "2023-04-28T16:35:02.395Z"
   },
   {
    "duration": 51,
    "start_time": "2023-04-28T16:35:02.399Z"
   },
   {
    "duration": 149,
    "start_time": "2023-04-28T16:35:02.452Z"
   },
   {
    "duration": 21,
    "start_time": "2023-04-28T16:35:02.603Z"
   },
   {
    "duration": 56,
    "start_time": "2023-04-28T16:35:02.626Z"
   },
   {
    "duration": 5,
    "start_time": "2023-04-28T16:35:02.684Z"
   },
   {
    "duration": 54,
    "start_time": "2023-04-28T16:35:02.691Z"
   },
   {
    "duration": 308,
    "start_time": "2023-04-28T16:35:02.747Z"
   },
   {
    "duration": 248,
    "start_time": "2023-04-28T16:35:03.058Z"
   },
   {
    "duration": 56,
    "start_time": "2023-04-28T16:35:03.307Z"
   },
   {
    "duration": 7,
    "start_time": "2023-04-28T16:35:03.365Z"
   },
   {
    "duration": 52,
    "start_time": "2023-04-28T16:35:03.374Z"
   },
   {
    "duration": 421,
    "start_time": "2023-04-28T16:35:03.429Z"
   },
   {
    "duration": 67,
    "start_time": "2023-04-28T16:35:03.855Z"
   },
   {
    "duration": 460,
    "start_time": "2023-04-28T16:35:03.924Z"
   },
   {
    "duration": 97,
    "start_time": "2023-04-28T16:35:04.385Z"
   },
   {
    "duration": 146,
    "start_time": "2023-04-28T16:35:04.484Z"
   },
   {
    "duration": 60,
    "start_time": "2023-04-28T16:35:04.635Z"
   },
   {
    "duration": 196,
    "start_time": "2023-04-28T16:35:04.696Z"
   },
   {
    "duration": 3,
    "start_time": "2023-04-28T16:35:04.894Z"
   },
   {
    "duration": 72,
    "start_time": "2023-04-28T16:35:04.899Z"
   },
   {
    "duration": 123,
    "start_time": "2023-04-28T16:35:04.973Z"
   },
   {
    "duration": 69,
    "start_time": "2023-04-28T16:41:43.453Z"
   },
   {
    "duration": 53,
    "start_time": "2023-04-28T16:42:00.882Z"
   },
   {
    "duration": 89,
    "start_time": "2023-04-28T16:42:45.988Z"
   },
   {
    "duration": 57,
    "start_time": "2023-04-28T16:42:49.225Z"
   },
   {
    "duration": 18,
    "start_time": "2023-04-28T16:43:18.722Z"
   },
   {
    "duration": 18,
    "start_time": "2023-04-28T16:43:59.398Z"
   },
   {
    "duration": 116,
    "start_time": "2023-04-28T17:14:03.940Z"
   },
   {
    "duration": 10,
    "start_time": "2023-04-28T17:14:12.491Z"
   },
   {
    "duration": 120,
    "start_time": "2023-04-28T17:15:59.938Z"
   },
   {
    "duration": 118,
    "start_time": "2023-04-28T17:16:17.951Z"
   },
   {
    "duration": 97,
    "start_time": "2023-04-28T17:16:45.494Z"
   },
   {
    "duration": 103,
    "start_time": "2023-04-28T17:17:02.738Z"
   },
   {
    "duration": 1307,
    "start_time": "2023-04-29T08:25:48.608Z"
   },
   {
    "duration": 693,
    "start_time": "2023-04-29T08:25:49.917Z"
   },
   {
    "duration": 15,
    "start_time": "2023-04-29T08:25:50.612Z"
   },
   {
    "duration": 50,
    "start_time": "2023-04-29T08:25:50.629Z"
   },
   {
    "duration": 30,
    "start_time": "2023-04-29T08:25:50.680Z"
   },
   {
    "duration": 22,
    "start_time": "2023-04-29T08:25:50.711Z"
   },
   {
    "duration": 13,
    "start_time": "2023-04-29T08:25:50.734Z"
   },
   {
    "duration": 83,
    "start_time": "2023-04-29T08:25:50.749Z"
   },
   {
    "duration": 65,
    "start_time": "2023-04-29T08:25:50.834Z"
   },
   {
    "duration": 126,
    "start_time": "2023-04-29T08:25:50.901Z"
   },
   {
    "duration": 3,
    "start_time": "2023-04-29T08:25:51.029Z"
   },
   {
    "duration": 60,
    "start_time": "2023-04-29T08:25:51.033Z"
   },
   {
    "duration": 125,
    "start_time": "2023-04-29T08:25:51.096Z"
   },
   {
    "duration": 18,
    "start_time": "2023-04-29T08:25:51.223Z"
   },
   {
    "duration": 33,
    "start_time": "2023-04-29T08:25:51.243Z"
   },
   {
    "duration": 17,
    "start_time": "2023-04-29T08:25:51.278Z"
   },
   {
    "duration": 21,
    "start_time": "2023-04-29T08:25:51.297Z"
   },
   {
    "duration": 309,
    "start_time": "2023-04-29T08:25:51.319Z"
   },
   {
    "duration": 213,
    "start_time": "2023-04-29T08:25:51.630Z"
   },
   {
    "duration": 33,
    "start_time": "2023-04-29T08:25:51.845Z"
   },
   {
    "duration": 15,
    "start_time": "2023-04-29T08:25:51.880Z"
   },
   {
    "duration": 34,
    "start_time": "2023-04-29T08:25:51.897Z"
   },
   {
    "duration": 400,
    "start_time": "2023-04-29T08:25:51.933Z"
   },
   {
    "duration": 72,
    "start_time": "2023-04-29T08:25:52.335Z"
   },
   {
    "duration": 413,
    "start_time": "2023-04-29T08:25:52.408Z"
   },
   {
    "duration": 91,
    "start_time": "2023-04-29T08:25:52.823Z"
   },
   {
    "duration": 165,
    "start_time": "2023-04-29T08:25:52.915Z"
   },
   {
    "duration": 35,
    "start_time": "2023-04-29T08:25:53.083Z"
   },
   {
    "duration": 136,
    "start_time": "2023-04-29T08:25:53.119Z"
   },
   {
    "duration": 40,
    "start_time": "2023-04-29T08:25:53.257Z"
   },
   {
    "duration": 121,
    "start_time": "2023-04-29T08:25:53.299Z"
   },
   {
    "duration": 3,
    "start_time": "2023-04-29T08:26:44.673Z"
   },
   {
    "duration": 5,
    "start_time": "2023-04-29T11:53:47.919Z"
   },
   {
    "duration": 7,
    "start_time": "2023-04-29T11:58:43.122Z"
   },
   {
    "duration": 7,
    "start_time": "2023-04-29T11:59:02.719Z"
   },
   {
    "duration": 147,
    "start_time": "2023-04-29T11:59:43.838Z"
   },
   {
    "duration": 132,
    "start_time": "2023-04-29T12:00:14.859Z"
   },
   {
    "duration": 6,
    "start_time": "2023-04-29T12:00:20.514Z"
   },
   {
    "duration": 136,
    "start_time": "2023-04-29T12:00:21.471Z"
   },
   {
    "duration": 145,
    "start_time": "2023-04-29T12:00:53.716Z"
   },
   {
    "duration": 40,
    "start_time": "2023-04-29T12:01:44.320Z"
   },
   {
    "duration": 41,
    "start_time": "2023-04-29T12:01:45.850Z"
   },
   {
    "duration": 37,
    "start_time": "2023-04-29T12:01:46.858Z"
   },
   {
    "duration": 33,
    "start_time": "2023-04-29T12:01:47.720Z"
   },
   {
    "duration": 7,
    "start_time": "2023-04-29T12:03:27.038Z"
   },
   {
    "duration": 49,
    "start_time": "2023-04-29T12:03:29.108Z"
   },
   {
    "duration": 38,
    "start_time": "2023-04-29T12:03:30.209Z"
   },
   {
    "duration": 40,
    "start_time": "2023-04-29T12:03:31.111Z"
   },
   {
    "duration": 80,
    "start_time": "2023-04-29T12:36:29.399Z"
   },
   {
    "duration": 41,
    "start_time": "2023-04-29T12:37:15.407Z"
   },
   {
    "duration": 88,
    "start_time": "2023-04-29T12:37:58.007Z"
   },
   {
    "duration": 89,
    "start_time": "2023-04-29T12:38:06.840Z"
   },
   {
    "duration": 132,
    "start_time": "2023-04-29T12:38:14.575Z"
   },
   {
    "duration": 85,
    "start_time": "2023-04-29T12:38:20.138Z"
   },
   {
    "duration": 58,
    "start_time": "2023-04-29T12:38:57.299Z"
   },
   {
    "duration": 28,
    "start_time": "2023-04-29T12:39:25.866Z"
   },
   {
    "duration": 107,
    "start_time": "2023-04-29T12:40:10.971Z"
   },
   {
    "duration": 30,
    "start_time": "2023-04-29T12:40:48.519Z"
   },
   {
    "duration": 26,
    "start_time": "2023-04-29T12:40:55.497Z"
   },
   {
    "duration": 20,
    "start_time": "2023-04-29T12:41:03.326Z"
   },
   {
    "duration": 17,
    "start_time": "2023-04-29T12:41:09.000Z"
   },
   {
    "duration": 1132,
    "start_time": "2023-04-29T12:41:21.337Z"
   },
   {
    "duration": 151,
    "start_time": "2023-04-29T12:41:22.471Z"
   },
   {
    "duration": 14,
    "start_time": "2023-04-29T12:41:22.624Z"
   },
   {
    "duration": 59,
    "start_time": "2023-04-29T12:41:22.640Z"
   },
   {
    "duration": 20,
    "start_time": "2023-04-29T12:41:22.701Z"
   },
   {
    "duration": 21,
    "start_time": "2023-04-29T12:41:22.723Z"
   },
   {
    "duration": 15,
    "start_time": "2023-04-29T12:41:22.746Z"
   },
   {
    "duration": 62,
    "start_time": "2023-04-29T12:41:22.792Z"
   },
   {
    "duration": 74,
    "start_time": "2023-04-29T12:41:22.856Z"
   },
   {
    "duration": 124,
    "start_time": "2023-04-29T12:41:22.934Z"
   },
   {
    "duration": 4,
    "start_time": "2023-04-29T12:41:23.060Z"
   },
   {
    "duration": 34,
    "start_time": "2023-04-29T12:41:23.065Z"
   },
   {
    "duration": 110,
    "start_time": "2023-04-29T12:41:23.100Z"
   },
   {
    "duration": 20,
    "start_time": "2023-04-29T12:41:23.211Z"
   },
   {
    "duration": 36,
    "start_time": "2023-04-29T12:41:23.233Z"
   },
   {
    "duration": 5,
    "start_time": "2023-04-29T12:41:23.292Z"
   },
   {
    "duration": 21,
    "start_time": "2023-04-29T12:41:23.299Z"
   },
   {
    "duration": 326,
    "start_time": "2023-04-29T12:41:23.322Z"
   },
   {
    "duration": 243,
    "start_time": "2023-04-29T12:41:23.650Z"
   },
   {
    "duration": 39,
    "start_time": "2023-04-29T12:41:23.895Z"
   },
   {
    "duration": 6,
    "start_time": "2023-04-29T12:41:23.935Z"
   },
   {
    "duration": 88,
    "start_time": "2023-04-29T12:41:23.943Z"
   },
   {
    "duration": 121,
    "start_time": "2023-04-29T12:41:24.033Z"
   },
   {
    "duration": 0,
    "start_time": "2023-04-29T12:41:24.156Z"
   },
   {
    "duration": 0,
    "start_time": "2023-04-29T12:41:24.158Z"
   },
   {
    "duration": 0,
    "start_time": "2023-04-29T12:41:24.159Z"
   },
   {
    "duration": 0,
    "start_time": "2023-04-29T12:41:24.160Z"
   },
   {
    "duration": 0,
    "start_time": "2023-04-29T12:41:24.162Z"
   },
   {
    "duration": 0,
    "start_time": "2023-04-29T12:41:24.163Z"
   },
   {
    "duration": 0,
    "start_time": "2023-04-29T12:41:24.164Z"
   },
   {
    "duration": 0,
    "start_time": "2023-04-29T12:41:24.166Z"
   },
   {
    "duration": 0,
    "start_time": "2023-04-29T12:41:24.167Z"
   },
   {
    "duration": 0,
    "start_time": "2023-04-29T12:41:24.168Z"
   },
   {
    "duration": 0,
    "start_time": "2023-04-29T12:41:24.196Z"
   },
   {
    "duration": 0,
    "start_time": "2023-04-29T12:41:24.197Z"
   },
   {
    "duration": 0,
    "start_time": "2023-04-29T12:41:24.198Z"
   },
   {
    "duration": 0,
    "start_time": "2023-04-29T12:41:24.200Z"
   },
   {
    "duration": 0,
    "start_time": "2023-04-29T12:41:24.201Z"
   },
   {
    "duration": 0,
    "start_time": "2023-04-29T12:41:24.202Z"
   },
   {
    "duration": 0,
    "start_time": "2023-04-29T12:41:24.204Z"
   },
   {
    "duration": 0,
    "start_time": "2023-04-29T12:41:24.205Z"
   },
   {
    "duration": 0,
    "start_time": "2023-04-29T12:41:24.206Z"
   },
   {
    "duration": 0,
    "start_time": "2023-04-29T12:41:24.207Z"
   },
   {
    "duration": 0,
    "start_time": "2023-04-29T12:41:24.208Z"
   },
   {
    "duration": 16,
    "start_time": "2023-04-29T12:44:06.661Z"
   },
   {
    "duration": 16,
    "start_time": "2023-04-29T12:44:10.618Z"
   },
   {
    "duration": 29,
    "start_time": "2023-04-29T12:44:48.394Z"
   },
   {
    "duration": 29,
    "start_time": "2023-04-29T12:45:06.118Z"
   },
   {
    "duration": 374,
    "start_time": "2023-04-29T12:45:09.681Z"
   },
   {
    "duration": 1182,
    "start_time": "2023-04-29T12:45:26.530Z"
   },
   {
    "duration": 156,
    "start_time": "2023-04-29T12:45:27.716Z"
   },
   {
    "duration": 21,
    "start_time": "2023-04-29T12:45:27.875Z"
   },
   {
    "duration": 50,
    "start_time": "2023-04-29T12:45:27.899Z"
   },
   {
    "duration": 18,
    "start_time": "2023-04-29T12:45:27.951Z"
   },
   {
    "duration": 35,
    "start_time": "2023-04-29T12:45:27.970Z"
   },
   {
    "duration": 14,
    "start_time": "2023-04-29T12:45:28.006Z"
   },
   {
    "duration": 80,
    "start_time": "2023-04-29T12:45:28.021Z"
   },
   {
    "duration": 57,
    "start_time": "2023-04-29T12:45:28.103Z"
   },
   {
    "duration": 133,
    "start_time": "2023-04-29T12:45:28.162Z"
   },
   {
    "duration": 4,
    "start_time": "2023-04-29T12:45:28.297Z"
   },
   {
    "duration": 28,
    "start_time": "2023-04-29T12:45:28.303Z"
   },
   {
    "duration": 116,
    "start_time": "2023-04-29T12:45:28.333Z"
   },
   {
    "duration": 20,
    "start_time": "2023-04-29T12:45:28.451Z"
   },
   {
    "duration": 47,
    "start_time": "2023-04-29T12:45:28.473Z"
   },
   {
    "duration": 6,
    "start_time": "2023-04-29T12:45:28.522Z"
   },
   {
    "duration": 21,
    "start_time": "2023-04-29T12:45:28.530Z"
   },
   {
    "duration": 320,
    "start_time": "2023-04-29T12:45:28.553Z"
   },
   {
    "duration": 219,
    "start_time": "2023-04-29T12:45:28.874Z"
   },
   {
    "duration": 38,
    "start_time": "2023-04-29T12:45:29.095Z"
   },
   {
    "duration": 5,
    "start_time": "2023-04-29T12:45:29.135Z"
   },
   {
    "duration": 50,
    "start_time": "2023-04-29T12:45:29.142Z"
   },
   {
    "duration": 374,
    "start_time": "2023-04-29T12:45:29.195Z"
   },
   {
    "duration": 94,
    "start_time": "2023-04-29T12:45:29.571Z"
   },
   {
    "duration": 115,
    "start_time": "2023-04-29T12:45:29.667Z"
   },
   {
    "duration": 0,
    "start_time": "2023-04-29T12:45:29.784Z"
   },
   {
    "duration": 0,
    "start_time": "2023-04-29T12:45:29.791Z"
   },
   {
    "duration": 0,
    "start_time": "2023-04-29T12:45:29.793Z"
   },
   {
    "duration": 0,
    "start_time": "2023-04-29T12:45:29.794Z"
   },
   {
    "duration": 0,
    "start_time": "2023-04-29T12:45:29.796Z"
   },
   {
    "duration": 0,
    "start_time": "2023-04-29T12:45:29.797Z"
   },
   {
    "duration": 0,
    "start_time": "2023-04-29T12:45:29.799Z"
   },
   {
    "duration": 0,
    "start_time": "2023-04-29T12:45:29.800Z"
   },
   {
    "duration": 0,
    "start_time": "2023-04-29T12:45:29.802Z"
   },
   {
    "duration": 0,
    "start_time": "2023-04-29T12:45:29.803Z"
   },
   {
    "duration": 0,
    "start_time": "2023-04-29T12:45:29.805Z"
   },
   {
    "duration": 0,
    "start_time": "2023-04-29T12:45:29.806Z"
   },
   {
    "duration": 0,
    "start_time": "2023-04-29T12:45:29.808Z"
   },
   {
    "duration": 0,
    "start_time": "2023-04-29T12:45:29.809Z"
   },
   {
    "duration": 0,
    "start_time": "2023-04-29T12:45:29.811Z"
   },
   {
    "duration": 0,
    "start_time": "2023-04-29T12:45:29.812Z"
   },
   {
    "duration": 0,
    "start_time": "2023-04-29T12:45:29.813Z"
   },
   {
    "duration": 0,
    "start_time": "2023-04-29T12:45:29.815Z"
   },
   {
    "duration": 0,
    "start_time": "2023-04-29T12:45:29.816Z"
   },
   {
    "duration": 57,
    "start_time": "2023-04-29T12:45:49.275Z"
   },
   {
    "duration": 379,
    "start_time": "2023-04-29T12:45:52.193Z"
   },
   {
    "duration": 1190,
    "start_time": "2023-04-29T12:46:03.578Z"
   },
   {
    "duration": 152,
    "start_time": "2023-04-29T12:46:04.770Z"
   },
   {
    "duration": 13,
    "start_time": "2023-04-29T12:46:04.923Z"
   },
   {
    "duration": 58,
    "start_time": "2023-04-29T12:46:04.938Z"
   },
   {
    "duration": 19,
    "start_time": "2023-04-29T12:46:04.997Z"
   },
   {
    "duration": 19,
    "start_time": "2023-04-29T12:46:05.017Z"
   },
   {
    "duration": 13,
    "start_time": "2023-04-29T12:46:05.037Z"
   },
   {
    "duration": 89,
    "start_time": "2023-04-29T12:46:05.052Z"
   },
   {
    "duration": 63,
    "start_time": "2023-04-29T12:46:05.143Z"
   },
   {
    "duration": 118,
    "start_time": "2023-04-29T12:46:05.209Z"
   },
   {
    "duration": 2,
    "start_time": "2023-04-29T12:46:05.329Z"
   },
   {
    "duration": 20,
    "start_time": "2023-04-29T12:46:05.333Z"
   },
   {
    "duration": 119,
    "start_time": "2023-04-29T12:46:05.354Z"
   },
   {
    "duration": 23,
    "start_time": "2023-04-29T12:46:05.475Z"
   },
   {
    "duration": 34,
    "start_time": "2023-04-29T12:46:05.500Z"
   },
   {
    "duration": 5,
    "start_time": "2023-04-29T12:46:05.536Z"
   },
   {
    "duration": 27,
    "start_time": "2023-04-29T12:46:05.542Z"
   },
   {
    "duration": 286,
    "start_time": "2023-04-29T12:46:05.591Z"
   },
   {
    "duration": 217,
    "start_time": "2023-04-29T12:46:05.878Z"
   },
   {
    "duration": 35,
    "start_time": "2023-04-29T12:46:06.097Z"
   },
   {
    "duration": 5,
    "start_time": "2023-04-29T12:46:06.134Z"
   },
   {
    "duration": 29,
    "start_time": "2023-04-29T12:46:06.140Z"
   },
   {
    "duration": 406,
    "start_time": "2023-04-29T12:46:06.192Z"
   },
   {
    "duration": 62,
    "start_time": "2023-04-29T12:46:06.601Z"
   },
   {
    "duration": 395,
    "start_time": "2023-04-29T12:46:06.664Z"
   },
   {
    "duration": 123,
    "start_time": "2023-04-29T12:46:07.061Z"
   },
   {
    "duration": 112,
    "start_time": "2023-04-29T12:46:07.185Z"
   },
   {
    "duration": 1,
    "start_time": "2023-04-29T12:46:07.299Z"
   },
   {
    "duration": 0,
    "start_time": "2023-04-29T12:46:07.301Z"
   },
   {
    "duration": 0,
    "start_time": "2023-04-29T12:46:07.302Z"
   },
   {
    "duration": 0,
    "start_time": "2023-04-29T12:46:07.303Z"
   },
   {
    "duration": 0,
    "start_time": "2023-04-29T12:46:07.305Z"
   },
   {
    "duration": 0,
    "start_time": "2023-04-29T12:46:07.306Z"
   },
   {
    "duration": 0,
    "start_time": "2023-04-29T12:46:07.307Z"
   },
   {
    "duration": 0,
    "start_time": "2023-04-29T12:46:07.308Z"
   },
   {
    "duration": 0,
    "start_time": "2023-04-29T12:46:07.310Z"
   },
   {
    "duration": 0,
    "start_time": "2023-04-29T12:46:07.311Z"
   },
   {
    "duration": 0,
    "start_time": "2023-04-29T12:46:07.311Z"
   },
   {
    "duration": 0,
    "start_time": "2023-04-29T12:46:07.313Z"
   },
   {
    "duration": 0,
    "start_time": "2023-04-29T12:46:07.314Z"
   },
   {
    "duration": 0,
    "start_time": "2023-04-29T12:46:07.317Z"
   },
   {
    "duration": 0,
    "start_time": "2023-04-29T12:46:07.318Z"
   },
   {
    "duration": 0,
    "start_time": "2023-04-29T12:46:07.320Z"
   },
   {
    "duration": 0,
    "start_time": "2023-04-29T12:46:07.321Z"
   },
   {
    "duration": 85,
    "start_time": "2023-04-29T12:46:37.984Z"
   },
   {
    "duration": 142,
    "start_time": "2023-04-29T12:46:42.246Z"
   },
   {
    "duration": 33,
    "start_time": "2023-04-29T12:46:48.249Z"
   },
   {
    "duration": 86,
    "start_time": "2023-04-29T12:46:52.165Z"
   },
   {
    "duration": 22,
    "start_time": "2023-04-29T12:46:54.581Z"
   },
   {
    "duration": 46,
    "start_time": "2023-04-29T12:46:57.842Z"
   },
   {
    "duration": 41,
    "start_time": "2023-04-29T12:47:20.746Z"
   },
   {
    "duration": 7,
    "start_time": "2023-04-29T12:48:04.038Z"
   },
   {
    "duration": 42,
    "start_time": "2023-04-29T12:48:04.946Z"
   },
   {
    "duration": 37,
    "start_time": "2023-04-29T12:48:06.004Z"
   },
   {
    "duration": 40,
    "start_time": "2023-04-29T12:48:06.889Z"
   },
   {
    "duration": 47,
    "start_time": "2023-04-29T12:48:07.782Z"
   },
   {
    "duration": 44,
    "start_time": "2023-04-29T12:49:43.385Z"
   },
   {
    "duration": 39,
    "start_time": "2023-04-29T12:50:09.233Z"
   },
   {
    "duration": 42,
    "start_time": "2023-04-29T12:50:11.885Z"
   },
   {
    "duration": 43,
    "start_time": "2023-04-29T12:50:14.737Z"
   },
   {
    "duration": 43,
    "start_time": "2023-04-29T12:51:28.539Z"
   },
   {
    "duration": 42,
    "start_time": "2023-04-29T12:51:30.637Z"
   },
   {
    "duration": 42,
    "start_time": "2023-04-29T12:51:31.733Z"
   },
   {
    "duration": 39,
    "start_time": "2023-04-29T12:51:32.821Z"
   },
   {
    "duration": 88,
    "start_time": "2023-04-29T12:56:27.589Z"
   },
   {
    "duration": 71,
    "start_time": "2023-04-29T12:58:09.240Z"
   },
   {
    "duration": 51,
    "start_time": "2023-04-29T12:59:03.029Z"
   },
   {
    "duration": 53,
    "start_time": "2023-04-29T12:59:03.878Z"
   },
   {
    "duration": 47,
    "start_time": "2023-04-29T12:59:04.632Z"
   },
   {
    "duration": 1143,
    "start_time": "2023-04-29T13:14:30.412Z"
   },
   {
    "duration": 160,
    "start_time": "2023-04-29T13:14:31.557Z"
   },
   {
    "duration": 15,
    "start_time": "2023-04-29T13:14:31.719Z"
   },
   {
    "duration": 77,
    "start_time": "2023-04-29T13:14:31.736Z"
   },
   {
    "duration": 21,
    "start_time": "2023-04-29T13:14:31.815Z"
   },
   {
    "duration": 31,
    "start_time": "2023-04-29T13:14:31.838Z"
   },
   {
    "duration": 14,
    "start_time": "2023-04-29T13:14:31.871Z"
   },
   {
    "duration": 97,
    "start_time": "2023-04-29T13:14:31.887Z"
   },
   {
    "duration": 68,
    "start_time": "2023-04-29T13:14:31.986Z"
   },
   {
    "duration": 253,
    "start_time": "2023-04-29T13:14:32.056Z"
   },
   {
    "duration": 3,
    "start_time": "2023-04-29T13:14:32.311Z"
   },
   {
    "duration": 23,
    "start_time": "2023-04-29T13:14:32.316Z"
   },
   {
    "duration": 125,
    "start_time": "2023-04-29T13:14:32.341Z"
   },
   {
    "duration": 29,
    "start_time": "2023-04-29T13:14:32.469Z"
   },
   {
    "duration": 37,
    "start_time": "2023-04-29T13:14:32.500Z"
   },
   {
    "duration": 5,
    "start_time": "2023-04-29T13:14:32.539Z"
   },
   {
    "duration": 46,
    "start_time": "2023-04-29T13:14:32.546Z"
   },
   {
    "duration": 317,
    "start_time": "2023-04-29T13:14:32.594Z"
   },
   {
    "duration": 217,
    "start_time": "2023-04-29T13:14:32.913Z"
   },
   {
    "duration": 35,
    "start_time": "2023-04-29T13:14:33.132Z"
   },
   {
    "duration": 22,
    "start_time": "2023-04-29T13:14:33.169Z"
   },
   {
    "duration": 29,
    "start_time": "2023-04-29T13:14:33.193Z"
   },
   {
    "duration": 378,
    "start_time": "2023-04-29T13:14:33.224Z"
   },
   {
    "duration": 55,
    "start_time": "2023-04-29T13:14:33.604Z"
   },
   {
    "duration": 410,
    "start_time": "2023-04-29T13:14:33.661Z"
   },
   {
    "duration": 91,
    "start_time": "2023-04-29T13:14:34.073Z"
   },
   {
    "duration": 152,
    "start_time": "2023-04-29T13:14:34.165Z"
   },
   {
    "duration": 37,
    "start_time": "2023-04-29T13:14:34.318Z"
   },
   {
    "duration": 154,
    "start_time": "2023-04-29T13:14:34.356Z"
   },
   {
    "duration": 26,
    "start_time": "2023-04-29T13:14:34.512Z"
   },
   {
    "duration": 108,
    "start_time": "2023-04-29T13:14:34.540Z"
   },
   {
    "duration": 3,
    "start_time": "2023-04-29T13:14:34.649Z"
   },
   {
    "duration": 9,
    "start_time": "2023-04-29T13:14:34.653Z"
   },
   {
    "duration": 63,
    "start_time": "2023-04-29T13:14:34.663Z"
   },
   {
    "duration": 40,
    "start_time": "2023-04-29T13:14:34.729Z"
   },
   {
    "duration": 52,
    "start_time": "2023-04-29T13:14:34.771Z"
   },
   {
    "duration": 35,
    "start_time": "2023-04-29T13:14:34.825Z"
   },
   {
    "duration": 60,
    "start_time": "2023-04-29T13:14:34.862Z"
   },
   {
    "duration": 38,
    "start_time": "2023-04-29T13:14:34.924Z"
   },
   {
    "duration": 64,
    "start_time": "2023-04-29T13:14:34.963Z"
   },
   {
    "duration": 39,
    "start_time": "2023-04-29T13:14:35.031Z"
   },
   {
    "duration": 58,
    "start_time": "2023-04-29T13:14:35.073Z"
   },
   {
    "duration": 36,
    "start_time": "2023-04-29T13:14:35.133Z"
   },
   {
    "duration": 52,
    "start_time": "2023-04-29T13:14:35.170Z"
   },
   {
    "duration": 33,
    "start_time": "2023-04-29T13:14:35.225Z"
   },
   {
    "duration": 7,
    "start_time": "2023-04-29T13:14:35.260Z"
   },
   {
    "duration": 85,
    "start_time": "2023-04-29T13:14:35.268Z"
   },
   {
    "duration": 45,
    "start_time": "2023-04-29T13:14:35.355Z"
   },
   {
    "duration": 44,
    "start_time": "2023-04-29T13:14:35.402Z"
   },
   {
    "duration": 62,
    "start_time": "2023-04-29T13:14:35.448Z"
   },
   {
    "duration": 52,
    "start_time": "2023-04-29T14:04:58.221Z"
   },
   {
    "duration": 49,
    "start_time": "2023-04-29T14:08:16.625Z"
   },
   {
    "duration": 1423,
    "start_time": "2023-04-30T11:14:56.489Z"
   },
   {
    "duration": 661,
    "start_time": "2023-04-30T11:14:57.915Z"
   },
   {
    "duration": 14,
    "start_time": "2023-04-30T11:14:58.578Z"
   },
   {
    "duration": 56,
    "start_time": "2023-04-30T11:14:58.593Z"
   },
   {
    "duration": 33,
    "start_time": "2023-04-30T11:14:58.661Z"
   },
   {
    "duration": 22,
    "start_time": "2023-04-30T11:14:58.696Z"
   },
   {
    "duration": 35,
    "start_time": "2023-04-30T11:14:58.722Z"
   },
   {
    "duration": 96,
    "start_time": "2023-04-30T11:14:58.767Z"
   },
   {
    "duration": 83,
    "start_time": "2023-04-30T11:14:58.865Z"
   },
   {
    "duration": 133,
    "start_time": "2023-04-30T11:14:58.949Z"
   },
   {
    "duration": 5,
    "start_time": "2023-04-30T11:14:59.083Z"
   },
   {
    "duration": 26,
    "start_time": "2023-04-30T11:14:59.090Z"
   },
   {
    "duration": 142,
    "start_time": "2023-04-30T11:14:59.118Z"
   },
   {
    "duration": 37,
    "start_time": "2023-04-30T11:14:59.263Z"
   },
   {
    "duration": 64,
    "start_time": "2023-04-30T11:14:59.303Z"
   },
   {
    "duration": 11,
    "start_time": "2023-04-30T11:14:59.369Z"
   },
   {
    "duration": 74,
    "start_time": "2023-04-30T11:14:59.382Z"
   },
   {
    "duration": 405,
    "start_time": "2023-04-30T11:14:59.466Z"
   },
   {
    "duration": 244,
    "start_time": "2023-04-30T11:14:59.875Z"
   },
   {
    "duration": 50,
    "start_time": "2023-04-30T11:15:00.121Z"
   },
   {
    "duration": 117,
    "start_time": "2023-04-30T11:15:00.173Z"
   },
   {
    "duration": 151,
    "start_time": "2023-04-30T11:15:00.292Z"
   },
   {
    "duration": 1092,
    "start_time": "2023-04-30T11:15:00.446Z"
   },
   {
    "duration": 196,
    "start_time": "2023-04-30T11:15:01.540Z"
   },
   {
    "duration": 857,
    "start_time": "2023-04-30T11:15:01.739Z"
   },
   {
    "duration": 99,
    "start_time": "2023-04-30T11:15:02.598Z"
   },
   {
    "duration": 471,
    "start_time": "2023-04-30T11:15:02.698Z"
   },
   {
    "duration": 66,
    "start_time": "2023-04-30T11:15:03.171Z"
   },
   {
    "duration": 149,
    "start_time": "2023-04-30T11:15:03.240Z"
   },
   {
    "duration": 22,
    "start_time": "2023-04-30T11:15:03.390Z"
   },
   {
    "duration": 153,
    "start_time": "2023-04-30T11:15:03.413Z"
   },
   {
    "duration": 3,
    "start_time": "2023-04-30T11:15:03.573Z"
   },
   {
    "duration": 37,
    "start_time": "2023-04-30T11:15:03.578Z"
   },
   {
    "duration": 108,
    "start_time": "2023-04-30T11:15:03.616Z"
   },
   {
    "duration": 40,
    "start_time": "2023-04-30T11:15:03.725Z"
   },
   {
    "duration": 49,
    "start_time": "2023-04-30T11:15:03.771Z"
   },
   {
    "duration": 46,
    "start_time": "2023-04-30T11:15:03.821Z"
   },
   {
    "duration": 56,
    "start_time": "2023-04-30T11:15:03.868Z"
   },
   {
    "duration": 38,
    "start_time": "2023-04-30T11:15:03.926Z"
   },
   {
    "duration": 77,
    "start_time": "2023-04-30T11:15:03.967Z"
   },
   {
    "duration": 50,
    "start_time": "2023-04-30T11:15:04.054Z"
   },
   {
    "duration": 51,
    "start_time": "2023-04-30T11:15:04.106Z"
   },
   {
    "duration": 33,
    "start_time": "2023-04-30T11:15:04.166Z"
   },
   {
    "duration": 45,
    "start_time": "2023-04-30T11:15:04.200Z"
   },
   {
    "duration": 51,
    "start_time": "2023-04-30T11:15:04.254Z"
   },
   {
    "duration": 7,
    "start_time": "2023-04-30T11:15:04.307Z"
   },
   {
    "duration": 106,
    "start_time": "2023-04-30T11:15:04.315Z"
   },
   {
    "duration": 48,
    "start_time": "2023-04-30T11:15:04.423Z"
   },
   {
    "duration": 48,
    "start_time": "2023-04-30T11:15:04.473Z"
   },
   {
    "duration": 61,
    "start_time": "2023-04-30T11:15:04.534Z"
   },
   {
    "duration": 313,
    "start_time": "2023-04-30T11:15:28.672Z"
   },
   {
    "duration": 1158,
    "start_time": "2023-04-30T11:15:34.840Z"
   },
   {
    "duration": 197,
    "start_time": "2023-04-30T11:15:36.000Z"
   },
   {
    "duration": 13,
    "start_time": "2023-04-30T11:15:36.199Z"
   },
   {
    "duration": 71,
    "start_time": "2023-04-30T11:15:36.214Z"
   },
   {
    "duration": 21,
    "start_time": "2023-04-30T11:15:36.287Z"
   },
   {
    "duration": 35,
    "start_time": "2023-04-30T11:15:36.310Z"
   },
   {
    "duration": 36,
    "start_time": "2023-04-30T11:15:36.347Z"
   },
   {
    "duration": 71,
    "start_time": "2023-04-30T11:15:36.385Z"
   },
   {
    "duration": 70,
    "start_time": "2023-04-30T11:15:36.458Z"
   },
   {
    "duration": 140,
    "start_time": "2023-04-30T11:15:36.530Z"
   },
   {
    "duration": 4,
    "start_time": "2023-04-30T11:15:36.671Z"
   },
   {
    "duration": 43,
    "start_time": "2023-04-30T11:15:36.677Z"
   },
   {
    "duration": 153,
    "start_time": "2023-04-30T11:15:36.722Z"
   },
   {
    "duration": 31,
    "start_time": "2023-04-30T11:15:36.886Z"
   },
   {
    "duration": 47,
    "start_time": "2023-04-30T11:15:36.919Z"
   },
   {
    "duration": 15,
    "start_time": "2023-04-30T11:15:36.968Z"
   },
   {
    "duration": 24,
    "start_time": "2023-04-30T11:15:36.987Z"
   },
   {
    "duration": 347,
    "start_time": "2023-04-30T11:15:37.013Z"
   },
   {
    "duration": 247,
    "start_time": "2023-04-30T11:15:37.361Z"
   },
   {
    "duration": 61,
    "start_time": "2023-04-30T11:15:37.609Z"
   },
   {
    "duration": 7,
    "start_time": "2023-04-30T11:15:37.674Z"
   },
   {
    "duration": 31,
    "start_time": "2023-04-30T11:15:37.682Z"
   },
   {
    "duration": 400,
    "start_time": "2023-04-30T11:15:37.715Z"
   },
   {
    "duration": 79,
    "start_time": "2023-04-30T11:15:38.117Z"
   },
   {
    "duration": 423,
    "start_time": "2023-04-30T11:15:38.197Z"
   },
   {
    "duration": 105,
    "start_time": "2023-04-30T11:15:38.622Z"
   },
   {
    "duration": 178,
    "start_time": "2023-04-30T11:15:38.734Z"
   },
   {
    "duration": 53,
    "start_time": "2023-04-30T11:15:38.914Z"
   },
   {
    "duration": 197,
    "start_time": "2023-04-30T11:15:38.968Z"
   },
   {
    "duration": 25,
    "start_time": "2023-04-30T11:15:39.166Z"
   },
   {
    "duration": 110,
    "start_time": "2023-04-30T11:15:39.193Z"
   },
   {
    "duration": 2,
    "start_time": "2023-04-30T11:15:39.305Z"
   },
   {
    "duration": 13,
    "start_time": "2023-04-30T11:15:39.309Z"
   },
   {
    "duration": 55,
    "start_time": "2023-04-30T11:15:39.323Z"
   },
   {
    "duration": 40,
    "start_time": "2023-04-30T11:15:39.380Z"
   },
   {
    "duration": 50,
    "start_time": "2023-04-30T11:15:39.441Z"
   },
   {
    "duration": 36,
    "start_time": "2023-04-30T11:15:39.492Z"
   },
   {
    "duration": 53,
    "start_time": "2023-04-30T11:15:39.530Z"
   },
   {
    "duration": 34,
    "start_time": "2023-04-30T11:15:39.586Z"
   },
   {
    "duration": 57,
    "start_time": "2023-04-30T11:15:39.622Z"
   },
   {
    "duration": 35,
    "start_time": "2023-04-30T11:15:39.683Z"
   },
   {
    "duration": 77,
    "start_time": "2023-04-30T11:15:39.720Z"
   },
   {
    "duration": 47,
    "start_time": "2023-04-30T11:15:39.798Z"
   },
   {
    "duration": 45,
    "start_time": "2023-04-30T11:15:39.852Z"
   },
   {
    "duration": 52,
    "start_time": "2023-04-30T11:15:39.899Z"
   },
   {
    "duration": 11,
    "start_time": "2023-04-30T11:15:39.959Z"
   },
   {
    "duration": 100,
    "start_time": "2023-04-30T11:15:39.974Z"
   },
   {
    "duration": 41,
    "start_time": "2023-04-30T11:15:40.076Z"
   },
   {
    "duration": 61,
    "start_time": "2023-04-30T11:15:40.119Z"
   },
   {
    "duration": 62,
    "start_time": "2023-04-30T11:15:40.181Z"
   },
   {
    "duration": 311,
    "start_time": "2023-04-30T11:16:10.291Z"
   },
   {
    "duration": 267,
    "start_time": "2023-04-30T11:16:18.305Z"
   },
   {
    "duration": 235,
    "start_time": "2023-04-30T11:16:23.561Z"
   },
   {
    "duration": 1226,
    "start_time": "2023-04-30T11:16:33.123Z"
   },
   {
    "duration": 160,
    "start_time": "2023-04-30T11:16:34.352Z"
   },
   {
    "duration": 27,
    "start_time": "2023-04-30T11:16:34.514Z"
   },
   {
    "duration": 45,
    "start_time": "2023-04-30T11:16:34.543Z"
   },
   {
    "duration": 19,
    "start_time": "2023-04-30T11:16:34.590Z"
   },
   {
    "duration": 47,
    "start_time": "2023-04-30T11:16:34.611Z"
   },
   {
    "duration": 23,
    "start_time": "2023-04-30T11:16:34.661Z"
   },
   {
    "duration": 85,
    "start_time": "2023-04-30T11:16:34.686Z"
   },
   {
    "duration": 94,
    "start_time": "2023-04-30T11:16:34.774Z"
   },
   {
    "duration": 129,
    "start_time": "2023-04-30T11:16:34.871Z"
   },
   {
    "duration": 3,
    "start_time": "2023-04-30T11:16:35.002Z"
   },
   {
    "duration": 47,
    "start_time": "2023-04-30T11:16:35.006Z"
   },
   {
    "duration": 108,
    "start_time": "2023-04-30T11:16:35.055Z"
   },
   {
    "duration": 21,
    "start_time": "2023-04-30T11:16:35.166Z"
   },
   {
    "duration": 66,
    "start_time": "2023-04-30T11:16:35.188Z"
   },
   {
    "duration": 9,
    "start_time": "2023-04-30T11:16:35.256Z"
   },
   {
    "duration": 52,
    "start_time": "2023-04-30T11:16:35.267Z"
   },
   {
    "duration": 357,
    "start_time": "2023-04-30T11:16:35.321Z"
   },
   {
    "duration": 219,
    "start_time": "2023-04-30T11:16:35.679Z"
   },
   {
    "duration": 56,
    "start_time": "2023-04-30T11:16:35.900Z"
   },
   {
    "duration": 6,
    "start_time": "2023-04-30T11:16:35.958Z"
   },
   {
    "duration": 49,
    "start_time": "2023-04-30T11:16:35.966Z"
   },
   {
    "duration": 384,
    "start_time": "2023-04-30T11:16:36.017Z"
   },
   {
    "duration": 71,
    "start_time": "2023-04-30T11:16:36.403Z"
   },
   {
    "duration": 576,
    "start_time": "2023-04-30T11:16:36.476Z"
   },
   {
    "duration": 189,
    "start_time": "2023-04-30T11:16:37.054Z"
   },
   {
    "duration": 316,
    "start_time": "2023-04-30T11:16:37.251Z"
   },
   {
    "duration": 92,
    "start_time": "2023-04-30T11:16:37.569Z"
   },
   {
    "duration": 273,
    "start_time": "2023-04-30T11:16:37.663Z"
   },
   {
    "duration": 32,
    "start_time": "2023-04-30T11:16:37.943Z"
   },
   {
    "duration": 189,
    "start_time": "2023-04-30T11:16:37.977Z"
   },
   {
    "duration": 2,
    "start_time": "2023-04-30T11:16:38.167Z"
   },
   {
    "duration": 67,
    "start_time": "2023-04-30T11:16:38.171Z"
   },
   {
    "duration": 99,
    "start_time": "2023-04-30T11:16:38.240Z"
   },
   {
    "duration": 95,
    "start_time": "2023-04-30T11:16:38.346Z"
   },
   {
    "duration": 38,
    "start_time": "2023-04-30T11:16:38.442Z"
   },
   {
    "duration": 94,
    "start_time": "2023-04-30T11:16:38.482Z"
   },
   {
    "duration": 97,
    "start_time": "2023-04-30T11:16:38.578Z"
   },
   {
    "duration": 86,
    "start_time": "2023-04-30T11:16:38.677Z"
   },
   {
    "duration": 94,
    "start_time": "2023-04-30T11:16:38.765Z"
   },
   {
    "duration": 88,
    "start_time": "2023-04-30T11:16:38.862Z"
   },
   {
    "duration": 51,
    "start_time": "2023-04-30T11:16:38.952Z"
   },
   {
    "duration": 65,
    "start_time": "2023-04-30T11:16:39.005Z"
   },
   {
    "duration": 41,
    "start_time": "2023-04-30T11:16:39.072Z"
   },
   {
    "duration": 61,
    "start_time": "2023-04-30T11:16:39.115Z"
   },
   {
    "duration": 7,
    "start_time": "2023-04-30T11:16:39.178Z"
   },
   {
    "duration": 84,
    "start_time": "2023-04-30T11:16:39.187Z"
   },
   {
    "duration": 64,
    "start_time": "2023-04-30T11:16:39.273Z"
   },
   {
    "duration": 58,
    "start_time": "2023-04-30T11:16:39.338Z"
   },
   {
    "duration": 64,
    "start_time": "2023-04-30T11:16:39.398Z"
   },
   {
    "duration": 771,
    "start_time": "2023-04-30T11:26:22.014Z"
   },
   {
    "duration": 833,
    "start_time": "2023-04-30T11:26:41.037Z"
   },
   {
    "duration": 106,
    "start_time": "2023-04-30T11:41:57.505Z"
   },
   {
    "duration": 7,
    "start_time": "2023-04-30T11:42:27.542Z"
   },
   {
    "duration": 4,
    "start_time": "2023-04-30T11:43:20.395Z"
   },
   {
    "duration": 116,
    "start_time": "2023-04-30T12:38:56.835Z"
   },
   {
    "duration": 270,
    "start_time": "2023-04-30T12:39:17.711Z"
   },
   {
    "duration": 187,
    "start_time": "2023-04-30T12:39:33.942Z"
   },
   {
    "duration": 104,
    "start_time": "2023-04-30T12:42:19.554Z"
   },
   {
    "duration": 459,
    "start_time": "2023-04-30T12:42:28.115Z"
   },
   {
    "duration": 353,
    "start_time": "2023-04-30T12:42:39.550Z"
   },
   {
    "duration": 645,
    "start_time": "2023-04-30T12:44:31.009Z"
   },
   {
    "duration": 665,
    "start_time": "2023-04-30T12:46:21.311Z"
   },
   {
    "duration": 5,
    "start_time": "2023-04-30T12:58:34.921Z"
   },
   {
    "duration": 580,
    "start_time": "2023-04-30T13:01:35.712Z"
   },
   {
    "duration": 3,
    "start_time": "2023-04-30T13:09:58.078Z"
   },
   {
    "duration": 60,
    "start_time": "2023-04-30T13:47:16.973Z"
   },
   {
    "duration": 51,
    "start_time": "2023-04-30T13:47:27.180Z"
   },
   {
    "duration": 1187,
    "start_time": "2023-04-30T13:50:36.100Z"
   },
   {
    "duration": 229,
    "start_time": "2023-04-30T13:50:37.289Z"
   },
   {
    "duration": 12,
    "start_time": "2023-04-30T13:50:37.520Z"
   },
   {
    "duration": 51,
    "start_time": "2023-04-30T13:50:37.533Z"
   },
   {
    "duration": 19,
    "start_time": "2023-04-30T13:50:37.585Z"
   },
   {
    "duration": 32,
    "start_time": "2023-04-30T13:50:37.605Z"
   },
   {
    "duration": 19,
    "start_time": "2023-04-30T13:50:37.639Z"
   },
   {
    "duration": 58,
    "start_time": "2023-04-30T13:50:37.660Z"
   },
   {
    "duration": 74,
    "start_time": "2023-04-30T13:50:37.719Z"
   },
   {
    "duration": 130,
    "start_time": "2023-04-30T13:50:37.796Z"
   },
   {
    "duration": 3,
    "start_time": "2023-04-30T13:50:37.927Z"
   },
   {
    "duration": 41,
    "start_time": "2023-04-30T13:50:37.931Z"
   },
   {
    "duration": 750,
    "start_time": "2023-04-30T13:50:37.974Z"
   },
   {
    "duration": 118,
    "start_time": "2023-04-30T13:50:38.725Z"
   },
   {
    "duration": 18,
    "start_time": "2023-04-30T13:50:38.847Z"
   },
   {
    "duration": 33,
    "start_time": "2023-04-30T13:50:38.867Z"
   },
   {
    "duration": 4,
    "start_time": "2023-04-30T13:50:38.901Z"
   },
   {
    "duration": 53,
    "start_time": "2023-04-30T13:50:38.907Z"
   },
   {
    "duration": 291,
    "start_time": "2023-04-30T13:50:38.961Z"
   },
   {
    "duration": 217,
    "start_time": "2023-04-30T13:50:39.254Z"
   },
   {
    "duration": 33,
    "start_time": "2023-04-30T13:50:39.473Z"
   },
   {
    "duration": 6,
    "start_time": "2023-04-30T13:50:39.507Z"
   },
   {
    "duration": 55,
    "start_time": "2023-04-30T13:50:39.514Z"
   },
   {
    "duration": 374,
    "start_time": "2023-04-30T13:50:39.571Z"
   },
   {
    "duration": 57,
    "start_time": "2023-04-30T13:50:39.946Z"
   },
   {
    "duration": 371,
    "start_time": "2023-04-30T13:50:40.005Z"
   },
   {
    "duration": 93,
    "start_time": "2023-04-30T13:50:40.378Z"
   },
   {
    "duration": 177,
    "start_time": "2023-04-30T13:50:40.474Z"
   },
   {
    "duration": 97,
    "start_time": "2023-04-30T13:50:40.653Z"
   },
   {
    "duration": 118,
    "start_time": "2023-04-30T13:50:40.754Z"
   },
   {
    "duration": 22,
    "start_time": "2023-04-30T13:50:40.874Z"
   },
   {
    "duration": 93,
    "start_time": "2023-04-30T13:50:40.897Z"
   },
   {
    "duration": 2,
    "start_time": "2023-04-30T13:50:40.991Z"
   },
   {
    "duration": 9,
    "start_time": "2023-04-30T13:50:40.995Z"
   },
   {
    "duration": 67,
    "start_time": "2023-04-30T13:50:41.006Z"
   },
   {
    "duration": 34,
    "start_time": "2023-04-30T13:50:41.075Z"
   },
   {
    "duration": 48,
    "start_time": "2023-04-30T13:50:41.111Z"
   },
   {
    "duration": 34,
    "start_time": "2023-04-30T13:50:41.161Z"
   },
   {
    "duration": 57,
    "start_time": "2023-04-30T13:50:41.197Z"
   },
   {
    "duration": 45,
    "start_time": "2023-04-30T13:50:41.256Z"
   },
   {
    "duration": 60,
    "start_time": "2023-04-30T13:50:41.303Z"
   },
   {
    "duration": 41,
    "start_time": "2023-04-30T13:50:41.365Z"
   },
   {
    "duration": 67,
    "start_time": "2023-04-30T13:50:41.408Z"
   },
   {
    "duration": 37,
    "start_time": "2023-04-30T13:50:41.476Z"
   },
   {
    "duration": 47,
    "start_time": "2023-04-30T13:50:41.515Z"
   },
   {
    "duration": 34,
    "start_time": "2023-04-30T13:50:41.563Z"
   },
   {
    "duration": 6,
    "start_time": "2023-04-30T13:50:41.598Z"
   },
   {
    "duration": 80,
    "start_time": "2023-04-30T13:50:41.606Z"
   },
   {
    "duration": 64,
    "start_time": "2023-04-30T13:50:41.687Z"
   },
   {
    "duration": 58,
    "start_time": "2023-04-30T13:50:41.753Z"
   },
   {
    "duration": 56,
    "start_time": "2023-04-30T13:50:41.813Z"
   },
   {
    "duration": 3,
    "start_time": "2023-04-30T13:50:41.871Z"
   },
   {
    "duration": 1328,
    "start_time": "2023-05-01T05:40:33.155Z"
   },
   {
    "duration": 502,
    "start_time": "2023-05-01T05:40:34.485Z"
   },
   {
    "duration": 15,
    "start_time": "2023-05-01T05:40:34.988Z"
   },
   {
    "duration": 53,
    "start_time": "2023-05-01T05:40:35.005Z"
   },
   {
    "duration": 23,
    "start_time": "2023-05-01T05:40:35.060Z"
   },
   {
    "duration": 18,
    "start_time": "2023-05-01T05:40:35.085Z"
   },
   {
    "duration": 15,
    "start_time": "2023-05-01T05:40:35.104Z"
   },
   {
    "duration": 87,
    "start_time": "2023-05-01T05:40:35.120Z"
   },
   {
    "duration": 58,
    "start_time": "2023-05-01T05:40:35.210Z"
   },
   {
    "duration": 131,
    "start_time": "2023-05-01T05:40:35.270Z"
   },
   {
    "duration": 3,
    "start_time": "2023-05-01T05:40:35.402Z"
   },
   {
    "duration": 33,
    "start_time": "2023-05-01T05:40:35.407Z"
   },
   {
    "duration": 863,
    "start_time": "2023-05-01T05:40:35.442Z"
   },
   {
    "duration": 108,
    "start_time": "2023-05-01T05:40:36.307Z"
   },
   {
    "duration": 21,
    "start_time": "2023-05-01T05:40:36.416Z"
   },
   {
    "duration": 48,
    "start_time": "2023-05-01T05:40:36.439Z"
   },
   {
    "duration": 5,
    "start_time": "2023-05-01T05:40:36.489Z"
   },
   {
    "duration": 35,
    "start_time": "2023-05-01T05:40:36.496Z"
   },
   {
    "duration": 313,
    "start_time": "2023-05-01T05:40:36.533Z"
   },
   {
    "duration": 227,
    "start_time": "2023-05-01T05:40:36.848Z"
   },
   {
    "duration": 38,
    "start_time": "2023-05-01T05:40:37.076Z"
   },
   {
    "duration": 47,
    "start_time": "2023-05-01T05:40:37.115Z"
   },
   {
    "duration": 52,
    "start_time": "2023-05-01T05:40:37.164Z"
   },
   {
    "duration": 384,
    "start_time": "2023-05-01T05:40:37.218Z"
   },
   {
    "duration": 55,
    "start_time": "2023-05-01T05:40:37.604Z"
   },
   {
    "duration": 371,
    "start_time": "2023-05-01T05:40:37.660Z"
   },
   {
    "duration": 90,
    "start_time": "2023-05-01T05:40:38.033Z"
   },
   {
    "duration": 261,
    "start_time": "2023-05-01T05:40:38.126Z"
   },
   {
    "duration": 32,
    "start_time": "2023-05-01T05:40:38.389Z"
   },
   {
    "duration": 167,
    "start_time": "2023-05-01T05:40:38.423Z"
   },
   {
    "duration": 20,
    "start_time": "2023-05-01T05:40:38.592Z"
   },
   {
    "duration": 84,
    "start_time": "2023-05-01T05:40:38.614Z"
   },
   {
    "duration": 3,
    "start_time": "2023-05-01T05:40:38.700Z"
   },
   {
    "duration": 61,
    "start_time": "2023-05-01T05:40:38.704Z"
   },
   {
    "duration": 107,
    "start_time": "2023-05-01T05:40:38.767Z"
   },
   {
    "duration": 32,
    "start_time": "2023-05-01T05:40:38.876Z"
   },
   {
    "duration": 38,
    "start_time": "2023-05-01T05:40:38.910Z"
   },
   {
    "duration": 49,
    "start_time": "2023-05-01T05:40:38.949Z"
   },
   {
    "duration": 45,
    "start_time": "2023-05-01T05:40:38.999Z"
   },
   {
    "duration": 56,
    "start_time": "2023-05-01T05:40:39.045Z"
   },
   {
    "duration": 44,
    "start_time": "2023-05-01T05:40:39.103Z"
   },
   {
    "duration": 51,
    "start_time": "2023-05-01T05:40:39.149Z"
   },
   {
    "duration": 42,
    "start_time": "2023-05-01T05:40:39.202Z"
   },
   {
    "duration": 48,
    "start_time": "2023-05-01T05:40:39.246Z"
   },
   {
    "duration": 40,
    "start_time": "2023-05-01T05:40:39.296Z"
   },
   {
    "duration": 53,
    "start_time": "2023-05-01T05:40:39.337Z"
   },
   {
    "duration": 6,
    "start_time": "2023-05-01T05:40:39.393Z"
   },
   {
    "duration": 62,
    "start_time": "2023-05-01T05:40:39.400Z"
   },
   {
    "duration": 50,
    "start_time": "2023-05-01T05:40:39.464Z"
   },
   {
    "duration": 44,
    "start_time": "2023-05-01T05:40:39.516Z"
   },
   {
    "duration": 58,
    "start_time": "2023-05-01T05:40:39.561Z"
   },
   {
    "duration": 3,
    "start_time": "2023-05-01T05:40:39.620Z"
   },
   {
    "duration": 73,
    "start_time": "2023-05-01T09:40:53.065Z"
   },
   {
    "duration": 1500,
    "start_time": "2023-05-01T09:48:20.573Z"
   },
   {
    "duration": 548,
    "start_time": "2023-05-01T09:48:22.076Z"
   },
   {
    "duration": 16,
    "start_time": "2023-05-01T09:48:22.626Z"
   },
   {
    "duration": 75,
    "start_time": "2023-05-01T09:48:22.645Z"
   },
   {
    "duration": 32,
    "start_time": "2023-05-01T09:48:22.722Z"
   },
   {
    "duration": 31,
    "start_time": "2023-05-01T09:48:22.756Z"
   },
   {
    "duration": 23,
    "start_time": "2023-05-01T09:48:22.789Z"
   },
   {
    "duration": 98,
    "start_time": "2023-05-01T09:48:22.814Z"
   },
   {
    "duration": 82,
    "start_time": "2023-05-01T09:48:22.914Z"
   },
   {
    "duration": 173,
    "start_time": "2023-05-01T09:48:22.999Z"
   },
   {
    "duration": 4,
    "start_time": "2023-05-01T09:48:23.174Z"
   },
   {
    "duration": 60,
    "start_time": "2023-05-01T09:48:23.180Z"
   },
   {
    "duration": 900,
    "start_time": "2023-05-01T09:48:23.242Z"
   },
   {
    "duration": 124,
    "start_time": "2023-05-01T09:48:24.144Z"
   },
   {
    "duration": 32,
    "start_time": "2023-05-01T09:48:24.270Z"
   },
   {
    "duration": 65,
    "start_time": "2023-05-01T09:48:24.304Z"
   },
   {
    "duration": 3,
    "start_time": "2023-05-01T09:48:24.371Z"
   },
   {
    "duration": 17,
    "start_time": "2023-05-01T09:48:24.376Z"
   },
   {
    "duration": 47,
    "start_time": "2023-05-01T09:48:24.395Z"
   },
   {
    "duration": 331,
    "start_time": "2023-05-01T09:48:24.444Z"
   },
   {
    "duration": 308,
    "start_time": "2023-05-01T09:48:24.777Z"
   },
   {
    "duration": 52,
    "start_time": "2023-05-01T09:48:25.087Z"
   },
   {
    "duration": 6,
    "start_time": "2023-05-01T09:48:25.142Z"
   },
   {
    "duration": 59,
    "start_time": "2023-05-01T09:48:25.149Z"
   },
   {
    "duration": 379,
    "start_time": "2023-05-01T09:48:25.210Z"
   },
   {
    "duration": 71,
    "start_time": "2023-05-01T09:48:25.591Z"
   },
   {
    "duration": 520,
    "start_time": "2023-05-01T09:48:25.664Z"
   },
   {
    "duration": 129,
    "start_time": "2023-05-01T09:48:26.188Z"
   },
   {
    "duration": 221,
    "start_time": "2023-05-01T09:48:26.319Z"
   },
   {
    "duration": 106,
    "start_time": "2023-05-01T09:48:26.542Z"
   },
   {
    "duration": 240,
    "start_time": "2023-05-01T09:48:26.650Z"
   },
   {
    "duration": 47,
    "start_time": "2023-05-01T09:48:26.892Z"
   },
   {
    "duration": 141,
    "start_time": "2023-05-01T09:48:26.942Z"
   },
   {
    "duration": 3,
    "start_time": "2023-05-01T09:48:27.085Z"
   },
   {
    "duration": 62,
    "start_time": "2023-05-01T09:48:27.090Z"
   },
   {
    "duration": 109,
    "start_time": "2023-05-01T09:48:27.155Z"
   },
   {
    "duration": 57,
    "start_time": "2023-05-01T09:48:27.267Z"
   },
   {
    "duration": 50,
    "start_time": "2023-05-01T09:48:27.326Z"
   },
   {
    "duration": 54,
    "start_time": "2023-05-01T09:48:27.379Z"
   },
   {
    "duration": 62,
    "start_time": "2023-05-01T09:48:27.435Z"
   },
   {
    "duration": 65,
    "start_time": "2023-05-01T09:48:27.499Z"
   },
   {
    "duration": 52,
    "start_time": "2023-05-01T09:48:27.567Z"
   },
   {
    "duration": 53,
    "start_time": "2023-05-01T09:48:27.621Z"
   },
   {
    "duration": 74,
    "start_time": "2023-05-01T09:48:27.677Z"
   },
   {
    "duration": 54,
    "start_time": "2023-05-01T09:48:27.753Z"
   },
   {
    "duration": 67,
    "start_time": "2023-05-01T09:48:27.809Z"
   },
   {
    "duration": 55,
    "start_time": "2023-05-01T09:48:27.878Z"
   },
   {
    "duration": 9,
    "start_time": "2023-05-01T09:48:27.936Z"
   },
   {
    "duration": 99,
    "start_time": "2023-05-01T09:48:27.947Z"
   },
   {
    "duration": 72,
    "start_time": "2023-05-01T09:48:28.049Z"
   },
   {
    "duration": 66,
    "start_time": "2023-05-01T09:48:28.123Z"
   },
   {
    "duration": 71,
    "start_time": "2023-05-01T09:48:28.191Z"
   },
   {
    "duration": 15,
    "start_time": "2023-05-01T09:48:28.264Z"
   },
   {
    "duration": 90,
    "start_time": "2023-05-01T09:53:49.910Z"
   },
   {
    "duration": 68,
    "start_time": "2023-05-01T09:54:28.409Z"
   },
   {
    "duration": 191,
    "start_time": "2023-05-01T09:55:02.283Z"
   },
   {
    "duration": 128,
    "start_time": "2023-05-01T09:55:10.318Z"
   },
   {
    "duration": 27,
    "start_time": "2023-05-01T09:55:19.813Z"
   },
   {
    "duration": 45,
    "start_time": "2023-05-01T09:56:15.921Z"
   },
   {
    "duration": 71,
    "start_time": "2023-05-01T09:56:24.289Z"
   },
   {
    "duration": 44,
    "start_time": "2023-05-01T09:56:42.449Z"
   },
   {
    "duration": 47,
    "start_time": "2023-05-01T09:58:24.964Z"
   },
   {
    "duration": 16,
    "start_time": "2023-05-01T10:03:33.030Z"
   },
   {
    "duration": 78,
    "start_time": "2023-05-01T10:03:55.144Z"
   },
   {
    "duration": 55,
    "start_time": "2023-05-01T10:04:33.952Z"
   },
   {
    "duration": 1335,
    "start_time": "2023-05-01T10:07:21.718Z"
   },
   {
    "duration": 229,
    "start_time": "2023-05-01T10:07:23.061Z"
   },
   {
    "duration": 20,
    "start_time": "2023-05-01T10:07:23.292Z"
   },
   {
    "duration": 78,
    "start_time": "2023-05-01T10:07:23.315Z"
   },
   {
    "duration": 40,
    "start_time": "2023-05-01T10:07:23.395Z"
   },
   {
    "duration": 28,
    "start_time": "2023-05-01T10:07:23.437Z"
   },
   {
    "duration": 80,
    "start_time": "2023-05-01T10:07:23.467Z"
   },
   {
    "duration": 207,
    "start_time": "2023-05-01T10:07:23.549Z"
   },
   {
    "duration": 195,
    "start_time": "2023-05-01T10:07:23.758Z"
   },
   {
    "duration": 386,
    "start_time": "2023-05-01T10:07:23.955Z"
   },
   {
    "duration": 3,
    "start_time": "2023-05-01T10:07:24.344Z"
   },
   {
    "duration": 87,
    "start_time": "2023-05-01T10:07:24.349Z"
   },
   {
    "duration": 1630,
    "start_time": "2023-05-01T10:07:24.440Z"
   },
   {
    "duration": 130,
    "start_time": "2023-05-01T10:07:26.072Z"
   },
   {
    "duration": 44,
    "start_time": "2023-05-01T10:07:26.204Z"
   },
   {
    "duration": 61,
    "start_time": "2023-05-01T10:07:26.250Z"
   },
   {
    "duration": 106,
    "start_time": "2023-05-01T10:07:26.313Z"
   },
   {
    "duration": 13,
    "start_time": "2023-05-01T10:07:26.421Z"
   },
   {
    "duration": 48,
    "start_time": "2023-05-01T10:07:26.436Z"
   },
   {
    "duration": 484,
    "start_time": "2023-05-01T10:07:26.486Z"
   },
   {
    "duration": 260,
    "start_time": "2023-05-01T10:07:26.973Z"
   },
   {
    "duration": 47,
    "start_time": "2023-05-01T10:07:27.235Z"
   },
   {
    "duration": 6,
    "start_time": "2023-05-01T10:07:27.284Z"
   },
   {
    "duration": 71,
    "start_time": "2023-05-01T10:07:27.292Z"
   },
   {
    "duration": 420,
    "start_time": "2023-05-01T10:07:27.365Z"
   },
   {
    "duration": 96,
    "start_time": "2023-05-01T10:07:27.786Z"
   },
   {
    "duration": 427,
    "start_time": "2023-05-01T10:07:27.884Z"
   },
   {
    "duration": 104,
    "start_time": "2023-05-01T10:07:28.313Z"
   },
   {
    "duration": 219,
    "start_time": "2023-05-01T10:07:28.419Z"
   },
   {
    "duration": 101,
    "start_time": "2023-05-01T10:07:28.640Z"
   },
   {
    "duration": 216,
    "start_time": "2023-05-01T10:07:28.743Z"
   },
   {
    "duration": 30,
    "start_time": "2023-05-01T10:07:28.961Z"
   },
   {
    "duration": 100,
    "start_time": "2023-05-01T10:07:28.993Z"
   },
   {
    "duration": 2,
    "start_time": "2023-05-01T10:07:29.096Z"
   },
   {
    "duration": 17,
    "start_time": "2023-05-01T10:07:29.100Z"
   },
   {
    "duration": 55,
    "start_time": "2023-05-01T10:07:29.119Z"
   },
   {
    "duration": 58,
    "start_time": "2023-05-01T10:07:29.176Z"
   },
   {
    "duration": 42,
    "start_time": "2023-05-01T10:07:29.237Z"
   },
   {
    "duration": 57,
    "start_time": "2023-05-01T10:07:29.281Z"
   },
   {
    "duration": 48,
    "start_time": "2023-05-01T10:07:29.343Z"
   },
   {
    "duration": 68,
    "start_time": "2023-05-01T10:07:29.393Z"
   },
   {
    "duration": 46,
    "start_time": "2023-05-01T10:07:29.463Z"
   },
   {
    "duration": 67,
    "start_time": "2023-05-01T10:07:29.512Z"
   },
   {
    "duration": 60,
    "start_time": "2023-05-01T10:07:29.580Z"
   },
   {
    "duration": 56,
    "start_time": "2023-05-01T10:07:29.643Z"
   },
   {
    "duration": 74,
    "start_time": "2023-05-01T10:07:29.701Z"
   },
   {
    "duration": 56,
    "start_time": "2023-05-01T10:07:29.778Z"
   },
   {
    "duration": 10,
    "start_time": "2023-05-01T10:07:29.837Z"
   },
   {
    "duration": 104,
    "start_time": "2023-05-01T10:07:29.849Z"
   },
   {
    "duration": 50,
    "start_time": "2023-05-01T10:07:29.956Z"
   },
   {
    "duration": 83,
    "start_time": "2023-05-01T10:07:30.008Z"
   },
   {
    "duration": 61,
    "start_time": "2023-05-01T10:07:30.093Z"
   },
   {
    "duration": 4,
    "start_time": "2023-05-01T10:07:30.157Z"
   },
   {
    "duration": 1251,
    "start_time": "2023-05-01T10:07:44.067Z"
   },
   {
    "duration": 189,
    "start_time": "2023-05-01T10:07:45.321Z"
   },
   {
    "duration": 16,
    "start_time": "2023-05-01T10:07:45.512Z"
   },
   {
    "duration": 51,
    "start_time": "2023-05-01T10:07:45.533Z"
   },
   {
    "duration": 20,
    "start_time": "2023-05-01T10:07:45.587Z"
   },
   {
    "duration": 38,
    "start_time": "2023-05-01T10:07:45.608Z"
   },
   {
    "duration": 16,
    "start_time": "2023-05-01T10:07:45.648Z"
   },
   {
    "duration": 89,
    "start_time": "2023-05-01T10:07:45.665Z"
   },
   {
    "duration": 66,
    "start_time": "2023-05-01T10:07:45.755Z"
   },
   {
    "duration": 126,
    "start_time": "2023-05-01T10:07:45.833Z"
   },
   {
    "duration": 3,
    "start_time": "2023-05-01T10:07:45.962Z"
   },
   {
    "duration": 37,
    "start_time": "2023-05-01T10:07:45.967Z"
   },
   {
    "duration": 903,
    "start_time": "2023-05-01T10:07:46.006Z"
   },
   {
    "duration": 189,
    "start_time": "2023-05-01T10:07:46.913Z"
   },
   {
    "duration": 40,
    "start_time": "2023-05-01T10:07:47.105Z"
   },
   {
    "duration": 76,
    "start_time": "2023-05-01T10:07:47.148Z"
   },
   {
    "duration": 108,
    "start_time": "2023-05-01T10:07:47.227Z"
   },
   {
    "duration": 7,
    "start_time": "2023-05-01T10:07:47.337Z"
   },
   {
    "duration": 41,
    "start_time": "2023-05-01T10:07:47.346Z"
   },
   {
    "duration": 349,
    "start_time": "2023-05-01T10:07:47.389Z"
   },
   {
    "duration": 243,
    "start_time": "2023-05-01T10:07:47.741Z"
   },
   {
    "duration": 50,
    "start_time": "2023-05-01T10:07:47.986Z"
   },
   {
    "duration": 13,
    "start_time": "2023-05-01T10:07:48.039Z"
   },
   {
    "duration": 65,
    "start_time": "2023-05-01T10:07:48.054Z"
   },
   {
    "duration": 432,
    "start_time": "2023-05-01T10:07:48.121Z"
   },
   {
    "duration": 87,
    "start_time": "2023-05-01T10:07:48.556Z"
   },
   {
    "duration": 450,
    "start_time": "2023-05-01T10:07:48.645Z"
   },
   {
    "duration": 101,
    "start_time": "2023-05-01T10:07:49.097Z"
   },
   {
    "duration": 231,
    "start_time": "2023-05-01T10:07:49.200Z"
   },
   {
    "duration": 102,
    "start_time": "2023-05-01T10:07:49.433Z"
   },
   {
    "duration": 161,
    "start_time": "2023-05-01T10:07:49.537Z"
   },
   {
    "duration": 56,
    "start_time": "2023-05-01T10:07:49.700Z"
   },
   {
    "duration": 117,
    "start_time": "2023-05-01T10:07:49.758Z"
   },
   {
    "duration": 4,
    "start_time": "2023-05-01T10:07:49.877Z"
   },
   {
    "duration": 7,
    "start_time": "2023-05-01T10:07:49.883Z"
   },
   {
    "duration": 85,
    "start_time": "2023-05-01T10:07:49.892Z"
   },
   {
    "duration": 59,
    "start_time": "2023-05-01T10:07:49.980Z"
   },
   {
    "duration": 51,
    "start_time": "2023-05-01T10:07:50.041Z"
   },
   {
    "duration": 52,
    "start_time": "2023-05-01T10:07:50.094Z"
   },
   {
    "duration": 53,
    "start_time": "2023-05-01T10:07:50.148Z"
   },
   {
    "duration": 62,
    "start_time": "2023-05-01T10:07:50.205Z"
   },
   {
    "duration": 66,
    "start_time": "2023-05-01T10:07:50.269Z"
   },
   {
    "duration": 40,
    "start_time": "2023-05-01T10:07:50.337Z"
   },
   {
    "duration": 66,
    "start_time": "2023-05-01T10:07:50.378Z"
   },
   {
    "duration": 37,
    "start_time": "2023-05-01T10:07:50.446Z"
   },
   {
    "duration": 68,
    "start_time": "2023-05-01T10:07:50.485Z"
   },
   {
    "duration": 51,
    "start_time": "2023-05-01T10:07:50.555Z"
   },
   {
    "duration": 25,
    "start_time": "2023-05-01T10:07:50.608Z"
   },
   {
    "duration": 80,
    "start_time": "2023-05-01T10:07:50.636Z"
   },
   {
    "duration": 60,
    "start_time": "2023-05-01T10:07:50.734Z"
   },
   {
    "duration": 80,
    "start_time": "2023-05-01T10:07:50.796Z"
   },
   {
    "duration": 55,
    "start_time": "2023-05-01T10:07:50.878Z"
   },
   {
    "duration": 5,
    "start_time": "2023-05-01T10:07:50.936Z"
   },
   {
    "duration": 148,
    "start_time": "2023-05-01T10:08:37.716Z"
   },
   {
    "duration": 95,
    "start_time": "2023-05-01T10:08:48.752Z"
   },
   {
    "duration": 96,
    "start_time": "2023-05-01T10:08:57.937Z"
   },
   {
    "duration": 112,
    "start_time": "2023-05-01T10:09:25.298Z"
   },
   {
    "duration": 94,
    "start_time": "2023-05-01T10:09:33.120Z"
   },
   {
    "duration": 164,
    "start_time": "2023-05-01T10:09:42.608Z"
   },
   {
    "duration": 49,
    "start_time": "2023-05-01T10:10:11.114Z"
   },
   {
    "duration": 36,
    "start_time": "2023-05-01T10:10:14.705Z"
   },
   {
    "duration": 1427,
    "start_time": "2023-05-01T10:10:21.825Z"
   },
   {
    "duration": 189,
    "start_time": "2023-05-01T10:10:23.254Z"
   },
   {
    "duration": 20,
    "start_time": "2023-05-01T10:10:23.446Z"
   },
   {
    "duration": 80,
    "start_time": "2023-05-01T10:10:23.468Z"
   },
   {
    "duration": 23,
    "start_time": "2023-05-01T10:10:23.551Z"
   },
   {
    "duration": 22,
    "start_time": "2023-05-01T10:10:23.576Z"
   },
   {
    "duration": 43,
    "start_time": "2023-05-01T10:10:23.601Z"
   },
   {
    "duration": 88,
    "start_time": "2023-05-01T10:10:23.646Z"
   },
   {
    "duration": 65,
    "start_time": "2023-05-01T10:10:23.737Z"
   },
   {
    "duration": 148,
    "start_time": "2023-05-01T10:10:23.804Z"
   },
   {
    "duration": 4,
    "start_time": "2023-05-01T10:10:23.954Z"
   },
   {
    "duration": 58,
    "start_time": "2023-05-01T10:10:23.960Z"
   },
   {
    "duration": 1915,
    "start_time": "2023-05-01T10:10:24.020Z"
   },
   {
    "duration": 225,
    "start_time": "2023-05-01T10:10:25.939Z"
   },
   {
    "duration": 81,
    "start_time": "2023-05-01T10:10:26.167Z"
   },
   {
    "duration": 92,
    "start_time": "2023-05-01T10:10:26.250Z"
   },
   {
    "duration": 104,
    "start_time": "2023-05-01T10:10:26.344Z"
   },
   {
    "duration": 27,
    "start_time": "2023-05-01T10:10:26.450Z"
   },
   {
    "duration": 6,
    "start_time": "2023-05-01T10:10:26.479Z"
   },
   {
    "duration": 54,
    "start_time": "2023-05-01T10:10:26.487Z"
   },
   {
    "duration": 409,
    "start_time": "2023-05-01T10:10:26.543Z"
   },
   {
    "duration": 291,
    "start_time": "2023-05-01T10:10:26.954Z"
   },
   {
    "duration": 42,
    "start_time": "2023-05-01T10:10:27.248Z"
   },
   {
    "duration": 7,
    "start_time": "2023-05-01T10:10:27.291Z"
   },
   {
    "duration": 63,
    "start_time": "2023-05-01T10:10:27.299Z"
   },
   {
    "duration": 481,
    "start_time": "2023-05-01T10:10:27.364Z"
   },
   {
    "duration": 67,
    "start_time": "2023-05-01T10:10:27.847Z"
   },
   {
    "duration": 483,
    "start_time": "2023-05-01T10:10:27.915Z"
   },
   {
    "duration": 105,
    "start_time": "2023-05-01T10:10:28.400Z"
   },
   {
    "duration": 197,
    "start_time": "2023-05-01T10:10:28.508Z"
   },
   {
    "duration": 44,
    "start_time": "2023-05-01T10:10:28.707Z"
   },
   {
    "duration": 155,
    "start_time": "2023-05-01T10:10:28.754Z"
   },
   {
    "duration": 44,
    "start_time": "2023-05-01T10:10:28.910Z"
   },
   {
    "duration": 149,
    "start_time": "2023-05-01T10:10:28.956Z"
   },
   {
    "duration": 2,
    "start_time": "2023-05-01T10:10:29.108Z"
   },
   {
    "duration": 19,
    "start_time": "2023-05-01T10:10:29.113Z"
   },
   {
    "duration": 67,
    "start_time": "2023-05-01T10:10:29.134Z"
   },
   {
    "duration": 62,
    "start_time": "2023-05-01T10:10:29.203Z"
   },
   {
    "duration": 55,
    "start_time": "2023-05-01T10:10:29.267Z"
   },
   {
    "duration": 48,
    "start_time": "2023-05-01T10:10:29.334Z"
   },
   {
    "duration": 70,
    "start_time": "2023-05-01T10:10:29.386Z"
   },
   {
    "duration": 46,
    "start_time": "2023-05-01T10:10:29.458Z"
   },
   {
    "duration": 67,
    "start_time": "2023-05-01T10:10:29.506Z"
   },
   {
    "duration": 43,
    "start_time": "2023-05-01T10:10:29.575Z"
   },
   {
    "duration": 63,
    "start_time": "2023-05-01T10:10:29.633Z"
   },
   {
    "duration": 64,
    "start_time": "2023-05-01T10:10:29.698Z"
   },
   {
    "duration": 43,
    "start_time": "2023-05-01T10:10:29.763Z"
   },
   {
    "duration": 69,
    "start_time": "2023-05-01T10:10:29.808Z"
   },
   {
    "duration": 10,
    "start_time": "2023-05-01T10:10:29.881Z"
   },
   {
    "duration": 87,
    "start_time": "2023-05-01T10:10:29.893Z"
   },
   {
    "duration": 85,
    "start_time": "2023-05-01T10:10:29.982Z"
   },
   {
    "duration": 76,
    "start_time": "2023-05-01T10:10:30.069Z"
   },
   {
    "duration": 58,
    "start_time": "2023-05-01T10:10:30.148Z"
   },
   {
    "duration": 3,
    "start_time": "2023-05-01T10:10:30.208Z"
   },
   {
    "duration": 1113,
    "start_time": "2023-05-01T10:11:31.341Z"
   },
   {
    "duration": 162,
    "start_time": "2023-05-01T10:11:32.456Z"
   },
   {
    "duration": 14,
    "start_time": "2023-05-01T10:11:32.620Z"
   },
   {
    "duration": 53,
    "start_time": "2023-05-01T10:11:32.636Z"
   },
   {
    "duration": 19,
    "start_time": "2023-05-01T10:11:32.690Z"
   },
   {
    "duration": 38,
    "start_time": "2023-05-01T10:11:32.710Z"
   },
   {
    "duration": 15,
    "start_time": "2023-05-01T10:11:32.750Z"
   },
   {
    "duration": 70,
    "start_time": "2023-05-01T10:11:32.766Z"
   },
   {
    "duration": 54,
    "start_time": "2023-05-01T10:11:32.838Z"
   },
   {
    "duration": 124,
    "start_time": "2023-05-01T10:11:32.894Z"
   },
   {
    "duration": 3,
    "start_time": "2023-05-01T10:11:33.020Z"
   },
   {
    "duration": 17,
    "start_time": "2023-05-01T10:11:33.033Z"
   },
   {
    "duration": 1383,
    "start_time": "2023-05-01T10:11:33.051Z"
   },
   {
    "duration": 204,
    "start_time": "2023-05-01T10:11:34.436Z"
   },
   {
    "duration": 19,
    "start_time": "2023-05-01T10:11:34.641Z"
   },
   {
    "duration": 16,
    "start_time": "2023-05-01T10:11:34.661Z"
   },
   {
    "duration": 92,
    "start_time": "2023-05-01T10:11:34.678Z"
   },
   {
    "duration": 94,
    "start_time": "2023-05-01T10:11:34.771Z"
   },
   {
    "duration": 5,
    "start_time": "2023-05-01T10:11:34.867Z"
   },
   {
    "duration": 21,
    "start_time": "2023-05-01T10:11:34.874Z"
   },
   {
    "duration": 341,
    "start_time": "2023-05-01T10:11:34.896Z"
   },
   {
    "duration": 239,
    "start_time": "2023-05-01T10:11:35.239Z"
   },
   {
    "duration": 40,
    "start_time": "2023-05-01T10:11:35.480Z"
   },
   {
    "duration": 15,
    "start_time": "2023-05-01T10:11:35.522Z"
   },
   {
    "duration": 48,
    "start_time": "2023-05-01T10:11:35.538Z"
   },
   {
    "duration": 450,
    "start_time": "2023-05-01T10:11:35.588Z"
   },
   {
    "duration": 66,
    "start_time": "2023-05-01T10:11:36.040Z"
   },
   {
    "duration": 416,
    "start_time": "2023-05-01T10:11:36.110Z"
   },
   {
    "duration": 89,
    "start_time": "2023-05-01T10:11:36.528Z"
   },
   {
    "duration": 166,
    "start_time": "2023-05-01T10:11:36.619Z"
   },
   {
    "duration": 50,
    "start_time": "2023-05-01T10:11:36.787Z"
   },
   {
    "duration": 178,
    "start_time": "2023-05-01T10:11:36.838Z"
   },
   {
    "duration": 36,
    "start_time": "2023-05-01T10:11:37.018Z"
   },
   {
    "duration": 118,
    "start_time": "2023-05-01T10:11:37.056Z"
   },
   {
    "duration": 2,
    "start_time": "2023-05-01T10:11:37.176Z"
   },
   {
    "duration": 17,
    "start_time": "2023-05-01T10:11:37.180Z"
   },
   {
    "duration": 84,
    "start_time": "2023-05-01T10:11:37.199Z"
   },
   {
    "duration": 49,
    "start_time": "2023-05-01T10:11:37.285Z"
   },
   {
    "duration": 39,
    "start_time": "2023-05-01T10:11:37.336Z"
   },
   {
    "duration": 39,
    "start_time": "2023-05-01T10:11:37.377Z"
   },
   {
    "duration": 40,
    "start_time": "2023-05-01T10:11:37.434Z"
   },
   {
    "duration": 37,
    "start_time": "2023-05-01T10:11:37.476Z"
   },
   {
    "duration": 37,
    "start_time": "2023-05-01T10:11:37.532Z"
   },
   {
    "duration": 34,
    "start_time": "2023-05-01T10:11:37.571Z"
   },
   {
    "duration": 59,
    "start_time": "2023-05-01T10:11:37.607Z"
   },
   {
    "duration": 38,
    "start_time": "2023-05-01T10:11:37.667Z"
   },
   {
    "duration": 53,
    "start_time": "2023-05-01T10:11:37.707Z"
   },
   {
    "duration": 39,
    "start_time": "2023-05-01T10:11:37.762Z"
   },
   {
    "duration": 8,
    "start_time": "2023-05-01T10:11:37.803Z"
   },
   {
    "duration": 84,
    "start_time": "2023-05-01T10:11:37.813Z"
   },
   {
    "duration": 50,
    "start_time": "2023-05-01T10:11:37.899Z"
   },
   {
    "duration": 48,
    "start_time": "2023-05-01T10:11:37.951Z"
   },
   {
    "duration": 63,
    "start_time": "2023-05-01T10:11:38.001Z"
   },
   {
    "duration": 3,
    "start_time": "2023-05-01T10:11:38.066Z"
   },
   {
    "duration": 110,
    "start_time": "2023-05-01T10:14:26.409Z"
   },
   {
    "duration": 52,
    "start_time": "2023-05-01T10:15:05.801Z"
   },
   {
    "duration": 78,
    "start_time": "2023-05-01T10:27:38.046Z"
   },
   {
    "duration": 57,
    "start_time": "2023-05-01T10:27:51.928Z"
   },
   {
    "duration": 85,
    "start_time": "2023-05-01T10:28:02.316Z"
   },
   {
    "duration": 60,
    "start_time": "2023-05-01T10:29:09.786Z"
   },
   {
    "duration": 52,
    "start_time": "2023-05-01T10:29:19.111Z"
   },
   {
    "duration": 52,
    "start_time": "2023-05-01T10:29:33.414Z"
   },
   {
    "duration": 46,
    "start_time": "2023-05-01T10:29:40.925Z"
   },
   {
    "duration": 286,
    "start_time": "2023-05-01T10:29:47.233Z"
   },
   {
    "duration": 5,
    "start_time": "2023-05-01T10:29:51.853Z"
   },
   {
    "duration": 58,
    "start_time": "2023-05-01T10:29:53.916Z"
   },
   {
    "duration": 203,
    "start_time": "2023-05-01T10:42:37.220Z"
   },
   {
    "duration": 39,
    "start_time": "2023-05-01T10:42:41.134Z"
   },
   {
    "duration": 140,
    "start_time": "2023-05-01T10:43:03.962Z"
   },
   {
    "duration": 180,
    "start_time": "2023-05-01T10:45:22.626Z"
   },
   {
    "duration": 252,
    "start_time": "2023-05-01T10:46:36.007Z"
   },
   {
    "duration": 38,
    "start_time": "2023-05-01T10:46:43.807Z"
   },
   {
    "duration": 435,
    "start_time": "2023-05-01T11:01:36.203Z"
   },
   {
    "duration": 432,
    "start_time": "2023-05-01T11:01:46.739Z"
   },
   {
    "duration": 437,
    "start_time": "2023-05-01T11:03:43.310Z"
   },
   {
    "duration": 1194,
    "start_time": "2023-05-01T11:04:02.010Z"
   },
   {
    "duration": 174,
    "start_time": "2023-05-01T11:04:03.206Z"
   },
   {
    "duration": 13,
    "start_time": "2023-05-01T11:04:03.382Z"
   },
   {
    "duration": 61,
    "start_time": "2023-05-01T11:04:03.397Z"
   },
   {
    "duration": 35,
    "start_time": "2023-05-01T11:04:03.461Z"
   },
   {
    "duration": 24,
    "start_time": "2023-05-01T11:04:03.498Z"
   },
   {
    "duration": 22,
    "start_time": "2023-05-01T11:04:03.524Z"
   },
   {
    "duration": 70,
    "start_time": "2023-05-01T11:04:03.548Z"
   },
   {
    "duration": 66,
    "start_time": "2023-05-01T11:04:03.620Z"
   },
   {
    "duration": 127,
    "start_time": "2023-05-01T11:04:03.688Z"
   },
   {
    "duration": 3,
    "start_time": "2023-05-01T11:04:03.816Z"
   },
   {
    "duration": 27,
    "start_time": "2023-05-01T11:04:03.821Z"
   },
   {
    "duration": 777,
    "start_time": "2023-05-01T11:04:03.849Z"
   },
   {
    "duration": 108,
    "start_time": "2023-05-01T11:04:04.633Z"
   },
   {
    "duration": 20,
    "start_time": "2023-05-01T11:04:04.743Z"
   },
   {
    "duration": 38,
    "start_time": "2023-05-01T11:04:04.765Z"
   },
   {
    "duration": 63,
    "start_time": "2023-05-01T11:04:04.805Z"
   },
   {
    "duration": 518,
    "start_time": "2023-05-01T11:04:04.869Z"
   },
   {
    "duration": 20,
    "start_time": "2023-05-01T11:04:05.389Z"
   },
   {
    "duration": 22,
    "start_time": "2023-05-01T11:04:05.411Z"
   },
   {
    "duration": 25,
    "start_time": "2023-05-01T11:04:05.434Z"
   },
   {
    "duration": 332,
    "start_time": "2023-05-01T11:04:05.461Z"
   },
   {
    "duration": 226,
    "start_time": "2023-05-01T11:04:05.795Z"
   },
   {
    "duration": 43,
    "start_time": "2023-05-01T11:04:06.023Z"
   },
   {
    "duration": 6,
    "start_time": "2023-05-01T11:04:06.067Z"
   },
   {
    "duration": 34,
    "start_time": "2023-05-01T11:04:06.075Z"
   },
   {
    "duration": 401,
    "start_time": "2023-05-01T11:04:06.111Z"
   },
   {
    "duration": 73,
    "start_time": "2023-05-01T11:04:06.514Z"
   },
   {
    "duration": 404,
    "start_time": "2023-05-01T11:04:06.590Z"
   },
   {
    "duration": 110,
    "start_time": "2023-05-01T11:04:06.996Z"
   },
   {
    "duration": 198,
    "start_time": "2023-05-01T11:04:07.108Z"
   },
   {
    "duration": 41,
    "start_time": "2023-05-01T11:04:07.308Z"
   },
   {
    "duration": 156,
    "start_time": "2023-05-01T11:04:07.351Z"
   },
   {
    "duration": 44,
    "start_time": "2023-05-01T11:04:07.509Z"
   },
   {
    "duration": 174,
    "start_time": "2023-05-01T11:04:07.555Z"
   },
   {
    "duration": 2,
    "start_time": "2023-05-01T11:04:07.734Z"
   },
   {
    "duration": 32,
    "start_time": "2023-05-01T11:04:07.737Z"
   },
   {
    "duration": 67,
    "start_time": "2023-05-01T11:04:07.771Z"
   },
   {
    "duration": 39,
    "start_time": "2023-05-01T11:04:07.840Z"
   },
   {
    "duration": 35,
    "start_time": "2023-05-01T11:04:07.881Z"
   },
   {
    "duration": 35,
    "start_time": "2023-05-01T11:04:07.936Z"
   },
   {
    "duration": 65,
    "start_time": "2023-05-01T11:04:07.973Z"
   },
   {
    "duration": 41,
    "start_time": "2023-05-01T11:04:08.039Z"
   },
   {
    "duration": 36,
    "start_time": "2023-05-01T11:04:08.082Z"
   },
   {
    "duration": 38,
    "start_time": "2023-05-01T11:04:08.133Z"
   },
   {
    "duration": 59,
    "start_time": "2023-05-01T11:04:08.174Z"
   },
   {
    "duration": 43,
    "start_time": "2023-05-01T11:04:08.235Z"
   },
   {
    "duration": 56,
    "start_time": "2023-05-01T11:04:08.280Z"
   },
   {
    "duration": 34,
    "start_time": "2023-05-01T11:04:08.338Z"
   },
   {
    "duration": 6,
    "start_time": "2023-05-01T11:04:08.374Z"
   },
   {
    "duration": 75,
    "start_time": "2023-05-01T11:04:08.382Z"
   },
   {
    "duration": 49,
    "start_time": "2023-05-01T11:04:08.458Z"
   },
   {
    "duration": 57,
    "start_time": "2023-05-01T11:04:08.508Z"
   },
   {
    "duration": 42,
    "start_time": "2023-05-01T11:04:08.567Z"
   },
   {
    "duration": 3,
    "start_time": "2023-05-01T11:04:08.611Z"
   },
   {
    "duration": 118,
    "start_time": "2023-05-01T11:04:50.314Z"
   },
   {
    "duration": 49,
    "start_time": "2023-05-01T11:05:13.514Z"
   },
   {
    "duration": 1155,
    "start_time": "2023-05-01T11:05:22.920Z"
   },
   {
    "duration": 163,
    "start_time": "2023-05-01T11:05:24.078Z"
   },
   {
    "duration": 13,
    "start_time": "2023-05-01T11:05:24.242Z"
   },
   {
    "duration": 75,
    "start_time": "2023-05-01T11:05:24.257Z"
   },
   {
    "duration": 18,
    "start_time": "2023-05-01T11:05:24.334Z"
   },
   {
    "duration": 44,
    "start_time": "2023-05-01T11:05:24.354Z"
   },
   {
    "duration": 18,
    "start_time": "2023-05-01T11:05:24.400Z"
   },
   {
    "duration": 75,
    "start_time": "2023-05-01T11:05:24.419Z"
   },
   {
    "duration": 56,
    "start_time": "2023-05-01T11:05:24.496Z"
   },
   {
    "duration": 115,
    "start_time": "2023-05-01T11:05:24.554Z"
   },
   {
    "duration": 2,
    "start_time": "2023-05-01T11:05:24.671Z"
   },
   {
    "duration": 50,
    "start_time": "2023-05-01T11:05:24.675Z"
   },
   {
    "duration": 732,
    "start_time": "2023-05-01T11:05:24.727Z"
   },
   {
    "duration": 103,
    "start_time": "2023-05-01T11:05:25.463Z"
   },
   {
    "duration": 20,
    "start_time": "2023-05-01T11:05:25.568Z"
   },
   {
    "duration": 45,
    "start_time": "2023-05-01T11:05:25.589Z"
   },
   {
    "duration": 48,
    "start_time": "2023-05-01T11:05:25.636Z"
   },
   {
    "duration": 144,
    "start_time": "2023-05-01T11:05:25.685Z"
   },
   {
    "duration": 16,
    "start_time": "2023-05-01T11:05:25.833Z"
   },
   {
    "duration": 21,
    "start_time": "2023-05-01T11:05:25.851Z"
   },
   {
    "duration": 49,
    "start_time": "2023-05-01T11:05:25.873Z"
   },
   {
    "duration": 284,
    "start_time": "2023-05-01T11:05:25.924Z"
   },
   {
    "duration": 368,
    "start_time": "2023-05-01T11:05:26.210Z"
   },
   {
    "duration": 87,
    "start_time": "2023-05-01T11:05:26.579Z"
   },
   {
    "duration": 67,
    "start_time": "2023-05-01T11:05:26.667Z"
   },
   {
    "duration": 54,
    "start_time": "2023-05-01T11:05:26.736Z"
   },
   {
    "duration": 782,
    "start_time": "2023-05-01T11:05:26.792Z"
   },
   {
    "duration": 164,
    "start_time": "2023-05-01T11:05:27.576Z"
   },
   {
    "duration": 575,
    "start_time": "2023-05-01T11:05:27.742Z"
   },
   {
    "duration": 84,
    "start_time": "2023-05-01T11:05:28.318Z"
   },
   {
    "duration": 149,
    "start_time": "2023-05-01T11:05:28.404Z"
   },
   {
    "duration": 33,
    "start_time": "2023-05-01T11:05:28.554Z"
   },
   {
    "duration": 153,
    "start_time": "2023-05-01T11:05:28.588Z"
   },
   {
    "duration": 21,
    "start_time": "2023-05-01T11:05:28.743Z"
   },
   {
    "duration": 182,
    "start_time": "2023-05-01T11:05:28.766Z"
   },
   {
    "duration": 2,
    "start_time": "2023-05-01T11:05:28.950Z"
   },
   {
    "duration": 29,
    "start_time": "2023-05-01T11:05:28.954Z"
   },
   {
    "duration": 61,
    "start_time": "2023-05-01T11:05:28.985Z"
   },
   {
    "duration": 33,
    "start_time": "2023-05-01T11:05:29.047Z"
   },
   {
    "duration": 52,
    "start_time": "2023-05-01T11:05:29.081Z"
   },
   {
    "duration": 34,
    "start_time": "2023-05-01T11:05:29.137Z"
   },
   {
    "duration": 45,
    "start_time": "2023-05-01T11:05:29.172Z"
   },
   {
    "duration": 36,
    "start_time": "2023-05-01T11:05:29.233Z"
   },
   {
    "duration": 39,
    "start_time": "2023-05-01T11:05:29.271Z"
   },
   {
    "duration": 55,
    "start_time": "2023-05-01T11:05:29.311Z"
   },
   {
    "duration": 47,
    "start_time": "2023-05-01T11:05:29.369Z"
   },
   {
    "duration": 50,
    "start_time": "2023-05-01T11:05:29.418Z"
   },
   {
    "duration": 68,
    "start_time": "2023-05-01T11:05:29.470Z"
   },
   {
    "duration": 35,
    "start_time": "2023-05-01T11:05:29.540Z"
   },
   {
    "duration": 7,
    "start_time": "2023-05-01T11:05:29.577Z"
   },
   {
    "duration": 90,
    "start_time": "2023-05-01T11:05:29.586Z"
   },
   {
    "duration": 43,
    "start_time": "2023-05-01T11:05:29.678Z"
   },
   {
    "duration": 48,
    "start_time": "2023-05-01T11:05:29.733Z"
   },
   {
    "duration": 52,
    "start_time": "2023-05-01T11:05:29.783Z"
   },
   {
    "duration": 3,
    "start_time": "2023-05-01T11:05:29.836Z"
   },
   {
    "duration": 242,
    "start_time": "2023-05-01T11:24:55.053Z"
   },
   {
    "duration": 25,
    "start_time": "2023-05-01T11:25:25.010Z"
   },
   {
    "duration": 106,
    "start_time": "2023-05-01T11:26:06.116Z"
   },
   {
    "duration": 76,
    "start_time": "2023-05-01T11:28:02.798Z"
   },
   {
    "duration": 23,
    "start_time": "2023-05-01T11:30:11.999Z"
   },
   {
    "duration": 23,
    "start_time": "2023-05-01T11:30:20.796Z"
   },
   {
    "duration": 30,
    "start_time": "2023-05-01T11:30:24.999Z"
   },
   {
    "duration": 23,
    "start_time": "2023-05-01T11:30:35.908Z"
   },
   {
    "duration": 29,
    "start_time": "2023-05-01T11:30:44.012Z"
   },
   {
    "duration": 1200,
    "start_time": "2023-05-01T11:31:04.814Z"
   },
   {
    "duration": 182,
    "start_time": "2023-05-01T11:31:06.016Z"
   },
   {
    "duration": 13,
    "start_time": "2023-05-01T11:31:06.199Z"
   },
   {
    "duration": 55,
    "start_time": "2023-05-01T11:31:06.214Z"
   },
   {
    "duration": 20,
    "start_time": "2023-05-01T11:31:06.271Z"
   },
   {
    "duration": 20,
    "start_time": "2023-05-01T11:31:06.292Z"
   },
   {
    "duration": 45,
    "start_time": "2023-05-01T11:31:06.313Z"
   },
   {
    "duration": 64,
    "start_time": "2023-05-01T11:31:06.360Z"
   },
   {
    "duration": 80,
    "start_time": "2023-05-01T11:31:06.426Z"
   },
   {
    "duration": 170,
    "start_time": "2023-05-01T11:31:06.509Z"
   },
   {
    "duration": 4,
    "start_time": "2023-05-01T11:31:06.733Z"
   },
   {
    "duration": 50,
    "start_time": "2023-05-01T11:31:06.741Z"
   },
   {
    "duration": 1714,
    "start_time": "2023-05-01T11:31:06.837Z"
   },
   {
    "duration": 112,
    "start_time": "2023-05-01T11:31:08.552Z"
   },
   {
    "duration": 21,
    "start_time": "2023-05-01T11:31:08.665Z"
   },
   {
    "duration": 45,
    "start_time": "2023-05-01T11:31:08.688Z"
   },
   {
    "duration": 25,
    "start_time": "2023-05-01T11:31:08.745Z"
   },
   {
    "duration": 134,
    "start_time": "2023-05-01T11:31:08.772Z"
   },
   {
    "duration": 40,
    "start_time": "2023-05-01T11:31:08.908Z"
   },
   {
    "duration": 5,
    "start_time": "2023-05-01T11:31:08.950Z"
   },
   {
    "duration": 22,
    "start_time": "2023-05-01T11:31:08.957Z"
   },
   {
    "duration": 296,
    "start_time": "2023-05-01T11:31:08.980Z"
   },
   {
    "duration": 218,
    "start_time": "2023-05-01T11:31:09.277Z"
   },
   {
    "duration": 52,
    "start_time": "2023-05-01T11:31:09.497Z"
   },
   {
    "duration": 6,
    "start_time": "2023-05-01T11:31:09.550Z"
   },
   {
    "duration": 29,
    "start_time": "2023-05-01T11:31:09.557Z"
   },
   {
    "duration": 399,
    "start_time": "2023-05-01T11:31:09.588Z"
   },
   {
    "duration": 76,
    "start_time": "2023-05-01T11:31:09.990Z"
   },
   {
    "duration": 382,
    "start_time": "2023-05-01T11:31:10.067Z"
   },
   {
    "duration": 92,
    "start_time": "2023-05-01T11:31:10.453Z"
   },
   {
    "duration": 156,
    "start_time": "2023-05-01T11:31:10.549Z"
   },
   {
    "duration": 48,
    "start_time": "2023-05-01T11:31:10.707Z"
   },
   {
    "duration": 160,
    "start_time": "2023-05-01T11:31:10.756Z"
   },
   {
    "duration": 27,
    "start_time": "2023-05-01T11:31:10.934Z"
   },
   {
    "duration": 173,
    "start_time": "2023-05-01T11:31:10.963Z"
   },
   {
    "duration": 5,
    "start_time": "2023-05-01T11:31:11.137Z"
   },
   {
    "duration": 16,
    "start_time": "2023-05-01T11:31:11.143Z"
   },
   {
    "duration": 47,
    "start_time": "2023-05-01T11:31:11.160Z"
   },
   {
    "duration": 40,
    "start_time": "2023-05-01T11:31:11.208Z"
   },
   {
    "duration": 34,
    "start_time": "2023-05-01T11:31:11.250Z"
   },
   {
    "duration": 50,
    "start_time": "2023-05-01T11:31:11.286Z"
   },
   {
    "duration": 111,
    "start_time": "2023-05-01T11:31:11.338Z"
   },
   {
    "duration": 36,
    "start_time": "2023-05-01T11:31:11.450Z"
   },
   {
    "duration": 53,
    "start_time": "2023-05-01T11:31:11.487Z"
   },
   {
    "duration": 39,
    "start_time": "2023-05-01T11:31:11.541Z"
   },
   {
    "duration": 66,
    "start_time": "2023-05-01T11:31:11.583Z"
   },
   {
    "duration": 34,
    "start_time": "2023-05-01T11:31:11.651Z"
   },
   {
    "duration": 59,
    "start_time": "2023-05-01T11:31:11.687Z"
   },
   {
    "duration": 32,
    "start_time": "2023-05-01T11:31:11.748Z"
   },
   {
    "duration": 7,
    "start_time": "2023-05-01T11:31:11.782Z"
   },
   {
    "duration": 66,
    "start_time": "2023-05-01T11:31:11.791Z"
   },
   {
    "duration": 49,
    "start_time": "2023-05-01T11:31:11.859Z"
   },
   {
    "duration": 78,
    "start_time": "2023-05-01T11:31:11.910Z"
   },
   {
    "duration": 62,
    "start_time": "2023-05-01T11:31:11.990Z"
   },
   {
    "duration": 4,
    "start_time": "2023-05-01T11:31:12.054Z"
   },
   {
    "duration": 103,
    "start_time": "2023-05-01T11:34:23.796Z"
   },
   {
    "duration": 96,
    "start_time": "2023-05-01T11:34:43.220Z"
   },
   {
    "duration": 100,
    "start_time": "2023-05-01T11:34:49.212Z"
   },
   {
    "duration": 93,
    "start_time": "2023-05-01T11:35:21.232Z"
   },
   {
    "duration": 98,
    "start_time": "2023-05-01T11:35:29.074Z"
   },
   {
    "duration": 102,
    "start_time": "2023-05-01T11:46:16.592Z"
   },
   {
    "duration": 124,
    "start_time": "2023-05-01T11:47:54.862Z"
   },
   {
    "duration": 141,
    "start_time": "2023-05-01T11:48:00.633Z"
   },
   {
    "duration": 195,
    "start_time": "2023-05-01T11:48:38.649Z"
   },
   {
    "duration": 101,
    "start_time": "2023-05-01T11:48:58.989Z"
   },
   {
    "duration": 119,
    "start_time": "2023-05-01T11:49:53.305Z"
   },
   {
    "duration": 110,
    "start_time": "2023-05-01T11:50:04.199Z"
   },
   {
    "duration": 202,
    "start_time": "2023-05-01T11:50:10.284Z"
   },
   {
    "duration": 108,
    "start_time": "2023-05-01T11:50:36.764Z"
   },
   {
    "duration": 1056,
    "start_time": "2023-05-01T11:51:39.898Z"
   },
   {
    "duration": 159,
    "start_time": "2023-05-01T11:51:40.956Z"
   },
   {
    "duration": 12,
    "start_time": "2023-05-01T11:51:41.116Z"
   },
   {
    "duration": 45,
    "start_time": "2023-05-01T11:51:41.129Z"
   },
   {
    "duration": 18,
    "start_time": "2023-05-01T11:51:41.176Z"
   },
   {
    "duration": 18,
    "start_time": "2023-05-01T11:51:41.195Z"
   },
   {
    "duration": 39,
    "start_time": "2023-05-01T11:51:41.214Z"
   },
   {
    "duration": 54,
    "start_time": "2023-05-01T11:51:41.254Z"
   },
   {
    "duration": 65,
    "start_time": "2023-05-01T11:51:41.309Z"
   },
   {
    "duration": 117,
    "start_time": "2023-05-01T11:51:41.376Z"
   },
   {
    "duration": 17,
    "start_time": "2023-05-01T11:51:41.494Z"
   },
   {
    "duration": 36,
    "start_time": "2023-05-01T11:51:41.512Z"
   },
   {
    "duration": 711,
    "start_time": "2023-05-01T11:51:41.550Z"
   },
   {
    "duration": 106,
    "start_time": "2023-05-01T11:51:42.263Z"
   },
   {
    "duration": 19,
    "start_time": "2023-05-01T11:51:42.370Z"
   },
   {
    "duration": 54,
    "start_time": "2023-05-01T11:51:42.390Z"
   },
   {
    "duration": 32,
    "start_time": "2023-05-01T11:51:42.445Z"
   },
   {
    "duration": 290,
    "start_time": "2023-05-01T11:51:42.478Z"
   },
   {
    "duration": 68,
    "start_time": "2023-05-01T11:51:42.770Z"
   },
   {
    "duration": 5,
    "start_time": "2023-05-01T11:51:42.840Z"
   },
   {
    "duration": 41,
    "start_time": "2023-05-01T11:51:42.849Z"
   },
   {
    "duration": 579,
    "start_time": "2023-05-01T11:51:42.891Z"
   },
   {
    "duration": 481,
    "start_time": "2023-05-01T11:51:43.471Z"
   },
   {
    "duration": 86,
    "start_time": "2023-05-01T11:51:43.953Z"
   },
   {
    "duration": 8,
    "start_time": "2023-05-01T11:51:44.041Z"
   },
   {
    "duration": 93,
    "start_time": "2023-05-01T11:51:44.054Z"
   },
   {
    "duration": 419,
    "start_time": "2023-05-01T11:51:44.150Z"
   },
   {
    "duration": 79,
    "start_time": "2023-05-01T11:51:44.570Z"
   },
   {
    "duration": 347,
    "start_time": "2023-05-01T11:51:44.650Z"
   },
   {
    "duration": 92,
    "start_time": "2023-05-01T11:51:44.999Z"
   },
   {
    "duration": 157,
    "start_time": "2023-05-01T11:51:45.093Z"
   },
   {
    "duration": 36,
    "start_time": "2023-05-01T11:51:45.252Z"
   },
   {
    "duration": 177,
    "start_time": "2023-05-01T11:51:45.289Z"
   },
   {
    "duration": 21,
    "start_time": "2023-05-01T11:51:45.467Z"
   },
   {
    "duration": 172,
    "start_time": "2023-05-01T11:51:45.490Z"
   },
   {
    "duration": 3,
    "start_time": "2023-05-01T11:51:45.663Z"
   },
   {
    "duration": 13,
    "start_time": "2023-05-01T11:51:45.668Z"
   },
   {
    "duration": 48,
    "start_time": "2023-05-01T11:51:45.682Z"
   },
   {
    "duration": 46,
    "start_time": "2023-05-01T11:51:45.732Z"
   },
   {
    "duration": 67,
    "start_time": "2023-05-01T11:51:45.780Z"
   },
   {
    "duration": 41,
    "start_time": "2023-05-01T11:51:45.851Z"
   },
   {
    "duration": 58,
    "start_time": "2023-05-01T11:51:45.894Z"
   },
   {
    "duration": 44,
    "start_time": "2023-05-01T11:51:45.954Z"
   },
   {
    "duration": 68,
    "start_time": "2023-05-01T11:51:46.000Z"
   },
   {
    "duration": 38,
    "start_time": "2023-05-01T11:51:46.070Z"
   },
   {
    "duration": 64,
    "start_time": "2023-05-01T11:51:46.110Z"
   },
   {
    "duration": 39,
    "start_time": "2023-05-01T11:51:46.176Z"
   },
   {
    "duration": 58,
    "start_time": "2023-05-01T11:51:46.217Z"
   },
   {
    "duration": 36,
    "start_time": "2023-05-01T11:51:46.276Z"
   },
   {
    "duration": 34,
    "start_time": "2023-05-01T11:51:46.314Z"
   },
   {
    "duration": 57,
    "start_time": "2023-05-01T11:51:46.349Z"
   },
   {
    "duration": 63,
    "start_time": "2023-05-01T11:51:46.407Z"
   },
   {
    "duration": 54,
    "start_time": "2023-05-01T11:51:46.472Z"
   },
   {
    "duration": 51,
    "start_time": "2023-05-01T11:51:46.539Z"
   },
   {
    "duration": 3,
    "start_time": "2023-05-01T11:51:46.592Z"
   },
   {
    "duration": 18,
    "start_time": "2023-05-01T11:54:47.387Z"
   },
   {
    "duration": 1182,
    "start_time": "2023-05-01T11:54:57.293Z"
   },
   {
    "duration": 202,
    "start_time": "2023-05-01T11:54:58.478Z"
   },
   {
    "duration": 14,
    "start_time": "2023-05-01T11:54:58.682Z"
   },
   {
    "duration": 67,
    "start_time": "2023-05-01T11:54:58.699Z"
   },
   {
    "duration": 22,
    "start_time": "2023-05-01T11:54:58.768Z"
   },
   {
    "duration": 23,
    "start_time": "2023-05-01T11:54:58.792Z"
   },
   {
    "duration": 32,
    "start_time": "2023-05-01T11:54:58.832Z"
   },
   {
    "duration": 89,
    "start_time": "2023-05-01T11:54:58.866Z"
   },
   {
    "duration": 79,
    "start_time": "2023-05-01T11:54:58.957Z"
   },
   {
    "duration": 149,
    "start_time": "2023-05-01T11:54:59.040Z"
   },
   {
    "duration": 3,
    "start_time": "2023-05-01T11:54:59.191Z"
   },
   {
    "duration": 23,
    "start_time": "2023-05-01T11:54:59.195Z"
   },
   {
    "duration": 1013,
    "start_time": "2023-05-01T11:54:59.220Z"
   },
   {
    "duration": 135,
    "start_time": "2023-05-01T11:55:00.235Z"
   },
   {
    "duration": 23,
    "start_time": "2023-05-01T11:55:00.372Z"
   },
   {
    "duration": 61,
    "start_time": "2023-05-01T11:55:00.397Z"
   },
   {
    "duration": 27,
    "start_time": "2023-05-01T11:55:00.460Z"
   },
   {
    "duration": 197,
    "start_time": "2023-05-01T11:55:00.489Z"
   },
   {
    "duration": 23,
    "start_time": "2023-05-01T11:55:00.688Z"
   },
   {
    "duration": 37,
    "start_time": "2023-05-01T11:55:00.713Z"
   },
   {
    "duration": 75,
    "start_time": "2023-05-01T11:55:00.753Z"
   },
   {
    "duration": 354,
    "start_time": "2023-05-01T11:55:00.830Z"
   },
   {
    "duration": 258,
    "start_time": "2023-05-01T11:55:01.186Z"
   },
   {
    "duration": 39,
    "start_time": "2023-05-01T11:55:01.447Z"
   },
   {
    "duration": 29,
    "start_time": "2023-05-01T11:55:01.488Z"
   },
   {
    "duration": 77,
    "start_time": "2023-05-01T11:55:01.519Z"
   },
   {
    "duration": 877,
    "start_time": "2023-05-01T11:55:01.598Z"
   },
   {
    "duration": 178,
    "start_time": "2023-05-01T11:55:02.479Z"
   },
   {
    "duration": 984,
    "start_time": "2023-05-01T11:55:02.658Z"
   },
   {
    "duration": 207,
    "start_time": "2023-05-01T11:55:03.644Z"
   },
   {
    "duration": 225,
    "start_time": "2023-05-01T11:55:03.853Z"
   },
   {
    "duration": 55,
    "start_time": "2023-05-01T11:55:04.080Z"
   },
   {
    "duration": 171,
    "start_time": "2023-05-01T11:55:04.138Z"
   },
   {
    "duration": 45,
    "start_time": "2023-05-01T11:55:04.311Z"
   },
   {
    "duration": 202,
    "start_time": "2023-05-01T11:55:04.358Z"
   },
   {
    "duration": 3,
    "start_time": "2023-05-01T11:55:04.562Z"
   },
   {
    "duration": 8,
    "start_time": "2023-05-01T11:55:04.567Z"
   },
   {
    "duration": 72,
    "start_time": "2023-05-01T11:55:04.577Z"
   },
   {
    "duration": 39,
    "start_time": "2023-05-01T11:55:04.651Z"
   },
   {
    "duration": 61,
    "start_time": "2023-05-01T11:55:04.693Z"
   },
   {
    "duration": 37,
    "start_time": "2023-05-01T11:55:04.756Z"
   },
   {
    "duration": 72,
    "start_time": "2023-05-01T11:55:04.794Z"
   },
   {
    "duration": 39,
    "start_time": "2023-05-01T11:55:04.868Z"
   },
   {
    "duration": 69,
    "start_time": "2023-05-01T11:55:04.909Z"
   },
   {
    "duration": 39,
    "start_time": "2023-05-01T11:55:04.979Z"
   },
   {
    "duration": 67,
    "start_time": "2023-05-01T11:55:05.020Z"
   },
   {
    "duration": 51,
    "start_time": "2023-05-01T11:55:05.089Z"
   },
   {
    "duration": 48,
    "start_time": "2023-05-01T11:55:05.144Z"
   },
   {
    "duration": 62,
    "start_time": "2023-05-01T11:55:05.194Z"
   },
   {
    "duration": 7,
    "start_time": "2023-05-01T11:55:05.258Z"
   },
   {
    "duration": 78,
    "start_time": "2023-05-01T11:55:05.267Z"
   },
   {
    "duration": 48,
    "start_time": "2023-05-01T11:55:05.347Z"
   },
   {
    "duration": 83,
    "start_time": "2023-05-01T11:55:05.397Z"
   },
   {
    "duration": 56,
    "start_time": "2023-05-01T11:55:05.482Z"
   },
   {
    "duration": 5,
    "start_time": "2023-05-01T11:55:05.541Z"
   },
   {
    "duration": 42,
    "start_time": "2023-05-01T11:55:31.212Z"
   },
   {
    "duration": 1122,
    "start_time": "2023-05-01T11:58:13.935Z"
   },
   {
    "duration": 162,
    "start_time": "2023-05-01T11:58:15.058Z"
   },
   {
    "duration": 15,
    "start_time": "2023-05-01T11:58:15.222Z"
   },
   {
    "duration": 49,
    "start_time": "2023-05-01T11:58:15.239Z"
   },
   {
    "duration": 19,
    "start_time": "2023-05-01T11:58:15.289Z"
   },
   {
    "duration": 39,
    "start_time": "2023-05-01T11:58:15.310Z"
   },
   {
    "duration": 13,
    "start_time": "2023-05-01T11:58:15.351Z"
   },
   {
    "duration": 70,
    "start_time": "2023-05-01T11:58:15.365Z"
   },
   {
    "duration": 48,
    "start_time": "2023-05-01T11:58:15.437Z"
   },
   {
    "duration": 118,
    "start_time": "2023-05-01T11:58:15.487Z"
   },
   {
    "duration": 3,
    "start_time": "2023-05-01T11:58:15.606Z"
   },
   {
    "duration": 24,
    "start_time": "2023-05-01T11:58:15.610Z"
   },
   {
    "duration": 707,
    "start_time": "2023-05-01T11:58:15.635Z"
   },
   {
    "duration": 98,
    "start_time": "2023-05-01T11:58:16.343Z"
   },
   {
    "duration": 18,
    "start_time": "2023-05-01T11:58:16.442Z"
   },
   {
    "duration": 41,
    "start_time": "2023-05-01T11:58:16.462Z"
   },
   {
    "duration": 28,
    "start_time": "2023-05-01T11:58:16.505Z"
   },
   {
    "duration": 111,
    "start_time": "2023-05-01T11:58:16.535Z"
   },
   {
    "duration": 17,
    "start_time": "2023-05-01T11:58:16.647Z"
   },
   {
    "duration": 5,
    "start_time": "2023-05-01T11:58:16.665Z"
   },
   {
    "duration": 22,
    "start_time": "2023-05-01T11:58:16.672Z"
   },
   {
    "duration": 348,
    "start_time": "2023-05-01T11:58:16.695Z"
   },
   {
    "duration": 199,
    "start_time": "2023-05-01T11:58:17.044Z"
   },
   {
    "duration": 45,
    "start_time": "2023-05-01T11:58:17.244Z"
   },
   {
    "duration": 4,
    "start_time": "2023-05-01T11:58:17.291Z"
   },
   {
    "duration": 50,
    "start_time": "2023-05-01T11:58:17.297Z"
   },
   {
    "duration": 339,
    "start_time": "2023-05-01T11:58:17.348Z"
   },
   {
    "duration": 61,
    "start_time": "2023-05-01T11:58:17.690Z"
   },
   {
    "duration": 353,
    "start_time": "2023-05-01T11:58:17.753Z"
   },
   {
    "duration": 126,
    "start_time": "2023-05-01T11:58:18.108Z"
   },
   {
    "duration": 244,
    "start_time": "2023-05-01T11:58:18.236Z"
   },
   {
    "duration": 72,
    "start_time": "2023-05-01T11:58:18.482Z"
   },
   {
    "duration": 186,
    "start_time": "2023-05-01T11:58:18.555Z"
   },
   {
    "duration": 20,
    "start_time": "2023-05-01T11:58:18.742Z"
   },
   {
    "duration": 302,
    "start_time": "2023-05-01T11:58:18.763Z"
   },
   {
    "duration": 2,
    "start_time": "2023-05-01T11:58:19.066Z"
   },
   {
    "duration": 7,
    "start_time": "2023-05-01T11:58:19.070Z"
   },
   {
    "duration": 94,
    "start_time": "2023-05-01T11:58:19.079Z"
   },
   {
    "duration": 82,
    "start_time": "2023-05-01T11:58:19.175Z"
   },
   {
    "duration": 94,
    "start_time": "2023-05-01T11:58:19.259Z"
   },
   {
    "duration": 84,
    "start_time": "2023-05-01T11:58:19.354Z"
   },
   {
    "duration": 94,
    "start_time": "2023-05-01T11:58:19.439Z"
   },
   {
    "duration": 34,
    "start_time": "2023-05-01T11:58:19.535Z"
   },
   {
    "duration": 92,
    "start_time": "2023-05-01T11:58:19.570Z"
   },
   {
    "duration": 91,
    "start_time": "2023-05-01T11:58:19.664Z"
   },
   {
    "duration": 97,
    "start_time": "2023-05-01T11:58:19.757Z"
   },
   {
    "duration": 91,
    "start_time": "2023-05-01T11:58:19.856Z"
   },
   {
    "duration": 34,
    "start_time": "2023-05-01T11:58:19.949Z"
   },
   {
    "duration": 62,
    "start_time": "2023-05-01T11:58:19.985Z"
   },
   {
    "duration": 6,
    "start_time": "2023-05-01T11:58:20.049Z"
   },
   {
    "duration": 65,
    "start_time": "2023-05-01T11:58:20.057Z"
   },
   {
    "duration": 48,
    "start_time": "2023-05-01T11:58:20.124Z"
   },
   {
    "duration": 61,
    "start_time": "2023-05-01T11:58:20.173Z"
   },
   {
    "duration": 38,
    "start_time": "2023-05-01T11:58:20.236Z"
   },
   {
    "duration": 3,
    "start_time": "2023-05-01T11:58:20.275Z"
   },
   {
    "duration": 460,
    "start_time": "2023-05-01T12:00:52.793Z"
   },
   {
    "duration": 406,
    "start_time": "2023-05-01T12:01:01.058Z"
   },
   {
    "duration": 493,
    "start_time": "2023-05-01T12:01:06.952Z"
   },
   {
    "duration": 380,
    "start_time": "2023-05-01T12:01:10.840Z"
   },
   {
    "duration": 403,
    "start_time": "2023-05-01T12:01:17.637Z"
   },
   {
    "duration": 499,
    "start_time": "2023-05-01T12:01:21.461Z"
   },
   {
    "duration": 453,
    "start_time": "2023-05-01T12:01:26.704Z"
   },
   {
    "duration": 497,
    "start_time": "2023-05-01T12:01:30.633Z"
   },
   {
    "duration": 404,
    "start_time": "2023-05-01T12:02:42.593Z"
   },
   {
    "duration": 370,
    "start_time": "2023-05-01T12:02:49.012Z"
   },
   {
    "duration": 389,
    "start_time": "2023-05-01T12:02:53.839Z"
   },
   {
    "duration": 572,
    "start_time": "2023-05-01T12:04:03.464Z"
   },
   {
    "duration": 5225,
    "start_time": "2023-05-01T12:04:26.081Z"
   },
   {
    "duration": 4227,
    "start_time": "2023-05-01T12:04:44.432Z"
   },
   {
    "duration": 5676,
    "start_time": "2023-05-01T12:04:54.513Z"
   },
   {
    "duration": 380,
    "start_time": "2023-05-01T12:06:26.356Z"
   },
   {
    "duration": 525,
    "start_time": "2023-05-01T12:06:59.202Z"
   },
   {
    "duration": 452,
    "start_time": "2023-05-01T12:07:11.324Z"
   },
   {
    "duration": 1192,
    "start_time": "2023-05-01T12:26:30.153Z"
   },
   {
    "duration": 173,
    "start_time": "2023-05-01T12:26:31.348Z"
   },
   {
    "duration": 15,
    "start_time": "2023-05-01T12:26:31.523Z"
   },
   {
    "duration": 81,
    "start_time": "2023-05-01T12:26:31.539Z"
   },
   {
    "duration": 21,
    "start_time": "2023-05-01T12:26:31.622Z"
   },
   {
    "duration": 56,
    "start_time": "2023-05-01T12:26:31.645Z"
   },
   {
    "duration": 21,
    "start_time": "2023-05-01T12:26:31.703Z"
   },
   {
    "duration": 67,
    "start_time": "2023-05-01T12:26:31.726Z"
   },
   {
    "duration": 74,
    "start_time": "2023-05-01T12:26:31.795Z"
   },
   {
    "duration": 122,
    "start_time": "2023-05-01T12:26:31.871Z"
   },
   {
    "duration": 3,
    "start_time": "2023-05-01T12:26:31.995Z"
   },
   {
    "duration": 38,
    "start_time": "2023-05-01T12:26:31.999Z"
   },
   {
    "duration": 824,
    "start_time": "2023-05-01T12:26:32.038Z"
   },
   {
    "duration": 101,
    "start_time": "2023-05-01T12:26:32.865Z"
   },
   {
    "duration": 19,
    "start_time": "2023-05-01T12:26:32.968Z"
   },
   {
    "duration": 48,
    "start_time": "2023-05-01T12:26:32.989Z"
   },
   {
    "duration": 22,
    "start_time": "2023-05-01T12:26:33.038Z"
   },
   {
    "duration": 128,
    "start_time": "2023-05-01T12:26:33.061Z"
   },
   {
    "duration": 17,
    "start_time": "2023-05-01T12:26:33.191Z"
   },
   {
    "duration": 5,
    "start_time": "2023-05-01T12:26:33.209Z"
   },
   {
    "duration": 27,
    "start_time": "2023-05-01T12:26:33.234Z"
   },
   {
    "duration": 248,
    "start_time": "2023-05-01T12:26:33.263Z"
   },
   {
    "duration": 197,
    "start_time": "2023-05-01T12:26:33.513Z"
   },
   {
    "duration": 49,
    "start_time": "2023-05-01T12:26:33.712Z"
   },
   {
    "duration": 6,
    "start_time": "2023-05-01T12:26:33.762Z"
   },
   {
    "duration": 28,
    "start_time": "2023-05-01T12:26:33.769Z"
   },
   {
    "duration": 388,
    "start_time": "2023-05-01T12:26:33.798Z"
   },
   {
    "duration": 59,
    "start_time": "2023-05-01T12:26:34.187Z"
   },
   {
    "duration": 371,
    "start_time": "2023-05-01T12:26:34.248Z"
   },
   {
    "duration": 77,
    "start_time": "2023-05-01T12:26:34.620Z"
   },
   {
    "duration": 163,
    "start_time": "2023-05-01T12:26:34.699Z"
   },
   {
    "duration": 71,
    "start_time": "2023-05-01T12:26:34.863Z"
   },
   {
    "duration": 119,
    "start_time": "2023-05-01T12:26:34.936Z"
   },
   {
    "duration": 20,
    "start_time": "2023-05-01T12:26:35.057Z"
   },
   {
    "duration": 172,
    "start_time": "2023-05-01T12:26:35.079Z"
   },
   {
    "duration": 6,
    "start_time": "2023-05-01T12:26:35.253Z"
   },
   {
    "duration": 46,
    "start_time": "2023-05-01T12:26:35.260Z"
   },
   {
    "duration": 62,
    "start_time": "2023-05-01T12:26:35.308Z"
   },
   {
    "duration": 33,
    "start_time": "2023-05-01T12:26:35.371Z"
   },
   {
    "duration": 51,
    "start_time": "2023-05-01T12:26:35.405Z"
   },
   {
    "duration": 42,
    "start_time": "2023-05-01T12:26:35.460Z"
   },
   {
    "duration": 50,
    "start_time": "2023-05-01T12:26:35.504Z"
   },
   {
    "duration": 33,
    "start_time": "2023-05-01T12:26:35.556Z"
   },
   {
    "duration": 58,
    "start_time": "2023-05-01T12:26:35.591Z"
   },
   {
    "duration": 40,
    "start_time": "2023-05-01T12:26:35.651Z"
   },
   {
    "duration": 55,
    "start_time": "2023-05-01T12:26:35.693Z"
   },
   {
    "duration": 33,
    "start_time": "2023-05-01T12:26:35.749Z"
   },
   {
    "duration": 33,
    "start_time": "2023-05-01T12:26:35.784Z"
   },
   {
    "duration": 6,
    "start_time": "2023-05-01T12:26:35.834Z"
   },
   {
    "duration": 61,
    "start_time": "2023-05-01T12:26:35.841Z"
   },
   {
    "duration": 60,
    "start_time": "2023-05-01T12:26:35.903Z"
   },
   {
    "duration": 45,
    "start_time": "2023-05-01T12:26:35.965Z"
   },
   {
    "duration": 60,
    "start_time": "2023-05-01T12:26:36.012Z"
   },
   {
    "duration": 4,
    "start_time": "2023-05-01T12:26:36.074Z"
   },
   {
    "duration": 1313,
    "start_time": "2023-05-02T06:20:46.431Z"
   },
   {
    "duration": 175,
    "start_time": "2023-05-02T06:20:47.748Z"
   },
   {
    "duration": 16,
    "start_time": "2023-05-02T06:20:47.924Z"
   },
   {
    "duration": 77,
    "start_time": "2023-05-02T06:20:47.942Z"
   },
   {
    "duration": 23,
    "start_time": "2023-05-02T06:20:48.020Z"
   },
   {
    "duration": 25,
    "start_time": "2023-05-02T06:20:48.045Z"
   },
   {
    "duration": 22,
    "start_time": "2023-05-02T06:20:48.095Z"
   },
   {
    "duration": 76,
    "start_time": "2023-05-02T06:20:48.119Z"
   },
   {
    "duration": 65,
    "start_time": "2023-05-02T06:20:48.197Z"
   },
   {
    "duration": 139,
    "start_time": "2023-05-02T06:20:48.266Z"
   },
   {
    "duration": 3,
    "start_time": "2023-05-02T06:20:48.407Z"
   },
   {
    "duration": 31,
    "start_time": "2023-05-02T06:20:48.412Z"
   },
   {
    "duration": 925,
    "start_time": "2023-05-02T06:20:48.457Z"
   },
   {
    "duration": 134,
    "start_time": "2023-05-02T06:20:49.384Z"
   },
   {
    "duration": 19,
    "start_time": "2023-05-02T06:20:49.523Z"
   },
   {
    "duration": 30,
    "start_time": "2023-05-02T06:20:49.544Z"
   },
   {
    "duration": 34,
    "start_time": "2023-05-02T06:20:49.591Z"
   },
   {
    "duration": 144,
    "start_time": "2023-05-02T06:20:49.627Z"
   },
   {
    "duration": 29,
    "start_time": "2023-05-02T06:20:49.773Z"
   },
   {
    "duration": 7,
    "start_time": "2023-05-02T06:20:49.805Z"
   },
   {
    "duration": 29,
    "start_time": "2023-05-02T06:20:49.814Z"
   },
   {
    "duration": 343,
    "start_time": "2023-05-02T06:20:49.846Z"
   },
   {
    "duration": 275,
    "start_time": "2023-05-02T06:20:50.191Z"
   },
   {
    "duration": 66,
    "start_time": "2023-05-02T06:20:50.468Z"
   },
   {
    "duration": 6,
    "start_time": "2023-05-02T06:20:50.535Z"
   },
   {
    "duration": 56,
    "start_time": "2023-05-02T06:20:50.543Z"
   },
   {
    "duration": 443,
    "start_time": "2023-05-02T06:20:50.602Z"
   },
   {
    "duration": 76,
    "start_time": "2023-05-02T06:20:51.049Z"
   },
   {
    "duration": 452,
    "start_time": "2023-05-02T06:20:51.127Z"
   },
   {
    "duration": 95,
    "start_time": "2023-05-02T06:20:51.581Z"
   },
   {
    "duration": 279,
    "start_time": "2023-05-02T06:20:51.678Z"
   },
   {
    "duration": 60,
    "start_time": "2023-05-02T06:20:51.959Z"
   },
   {
    "duration": 143,
    "start_time": "2023-05-02T06:20:52.022Z"
   },
   {
    "duration": 39,
    "start_time": "2023-05-02T06:20:52.167Z"
   },
   {
    "duration": 183,
    "start_time": "2023-05-02T06:20:52.207Z"
   },
   {
    "duration": 9,
    "start_time": "2023-05-02T06:20:52.392Z"
   },
   {
    "duration": 49,
    "start_time": "2023-05-02T06:20:52.403Z"
   },
   {
    "duration": 56,
    "start_time": "2023-05-02T06:20:52.454Z"
   },
   {
    "duration": 33,
    "start_time": "2023-05-02T06:20:52.512Z"
   },
   {
    "duration": 58,
    "start_time": "2023-05-02T06:20:52.547Z"
   },
   {
    "duration": 43,
    "start_time": "2023-05-02T06:20:52.606Z"
   },
   {
    "duration": 57,
    "start_time": "2023-05-02T06:20:52.650Z"
   },
   {
    "duration": 34,
    "start_time": "2023-05-02T06:20:52.708Z"
   },
   {
    "duration": 64,
    "start_time": "2023-05-02T06:20:52.744Z"
   },
   {
    "duration": 41,
    "start_time": "2023-05-02T06:20:52.810Z"
   },
   {
    "duration": 57,
    "start_time": "2023-05-02T06:20:52.854Z"
   },
   {
    "duration": 36,
    "start_time": "2023-05-02T06:20:52.913Z"
   },
   {
    "duration": 70,
    "start_time": "2023-05-02T06:20:52.951Z"
   },
   {
    "duration": 9,
    "start_time": "2023-05-02T06:20:53.022Z"
   },
   {
    "duration": 85,
    "start_time": "2023-05-02T06:20:53.033Z"
   },
   {
    "duration": 48,
    "start_time": "2023-05-02T06:20:53.121Z"
   },
   {
    "duration": 66,
    "start_time": "2023-05-02T06:20:53.170Z"
   },
   {
    "duration": 70,
    "start_time": "2023-05-02T06:20:53.238Z"
   },
   {
    "duration": 6,
    "start_time": "2023-05-02T06:20:53.311Z"
   },
   {
    "duration": 424,
    "start_time": "2023-05-02T06:22:24.804Z"
   },
   {
    "duration": 452,
    "start_time": "2023-05-02T06:22:31.110Z"
   },
   {
    "duration": 43,
    "start_time": "2023-05-02T07:09:08.840Z"
   },
   {
    "duration": 1243,
    "start_time": "2023-05-02T07:09:13.215Z"
   },
   {
    "duration": 1016,
    "start_time": "2023-05-02T07:09:14.460Z"
   },
   {
    "duration": 13,
    "start_time": "2023-05-02T07:09:15.477Z"
   },
   {
    "duration": 44,
    "start_time": "2023-05-02T07:09:15.491Z"
   },
   {
    "duration": 16,
    "start_time": "2023-05-02T07:09:15.537Z"
   },
   {
    "duration": 16,
    "start_time": "2023-05-02T07:09:15.554Z"
   },
   {
    "duration": 24,
    "start_time": "2023-05-02T07:09:15.571Z"
   },
   {
    "duration": 53,
    "start_time": "2023-05-02T07:09:15.596Z"
   },
   {
    "duration": 63,
    "start_time": "2023-05-02T07:09:15.651Z"
   },
   {
    "duration": 102,
    "start_time": "2023-05-02T07:09:15.717Z"
   },
   {
    "duration": 2,
    "start_time": "2023-05-02T07:09:15.820Z"
   },
   {
    "duration": 18,
    "start_time": "2023-05-02T07:09:15.823Z"
   },
   {
    "duration": 731,
    "start_time": "2023-05-02T07:09:15.842Z"
   },
   {
    "duration": 97,
    "start_time": "2023-05-02T07:09:16.574Z"
   },
   {
    "duration": 22,
    "start_time": "2023-05-02T07:09:16.672Z"
   },
   {
    "duration": 28,
    "start_time": "2023-05-02T07:09:16.696Z"
   },
   {
    "duration": 20,
    "start_time": "2023-05-02T07:09:16.726Z"
   },
   {
    "duration": 129,
    "start_time": "2023-05-02T07:09:16.748Z"
   },
   {
    "duration": 24,
    "start_time": "2023-05-02T07:09:16.878Z"
   },
   {
    "duration": 5,
    "start_time": "2023-05-02T07:09:16.904Z"
   },
   {
    "duration": 19,
    "start_time": "2023-05-02T07:09:16.910Z"
   },
   {
    "duration": 268,
    "start_time": "2023-05-02T07:09:16.930Z"
   },
   {
    "duration": 198,
    "start_time": "2023-05-02T07:09:17.199Z"
   },
   {
    "duration": 41,
    "start_time": "2023-05-02T07:09:17.398Z"
   },
   {
    "duration": 5,
    "start_time": "2023-05-02T07:09:17.441Z"
   },
   {
    "duration": 48,
    "start_time": "2023-05-02T07:09:17.447Z"
   },
   {
    "duration": 622,
    "start_time": "2023-05-02T07:09:17.497Z"
   },
   {
    "duration": 106,
    "start_time": "2023-05-02T07:09:18.122Z"
   },
   {
    "duration": 706,
    "start_time": "2023-05-02T07:09:18.230Z"
   },
   {
    "duration": 175,
    "start_time": "2023-05-02T07:09:18.937Z"
   },
   {
    "duration": 194,
    "start_time": "2023-05-02T07:09:19.114Z"
   },
   {
    "duration": 42,
    "start_time": "2023-05-02T07:09:19.309Z"
   },
   {
    "duration": 123,
    "start_time": "2023-05-02T07:09:19.395Z"
   },
   {
    "duration": 19,
    "start_time": "2023-05-02T07:09:19.520Z"
   },
   {
    "duration": 156,
    "start_time": "2023-05-02T07:09:19.541Z"
   },
   {
    "duration": 6,
    "start_time": "2023-05-02T07:09:19.698Z"
   },
   {
    "duration": 59,
    "start_time": "2023-05-02T07:09:19.705Z"
   },
   {
    "duration": 42,
    "start_time": "2023-05-02T07:09:19.766Z"
   },
   {
    "duration": 36,
    "start_time": "2023-05-02T07:09:19.810Z"
   },
   {
    "duration": 56,
    "start_time": "2023-05-02T07:09:19.848Z"
   },
   {
    "duration": 61,
    "start_time": "2023-05-02T07:09:19.906Z"
   },
   {
    "duration": 35,
    "start_time": "2023-05-02T07:09:19.968Z"
   },
   {
    "duration": 33,
    "start_time": "2023-05-02T07:09:20.004Z"
   },
   {
    "duration": 38,
    "start_time": "2023-05-02T07:09:20.038Z"
   },
   {
    "duration": 48,
    "start_time": "2023-05-02T07:09:20.078Z"
   },
   {
    "duration": 32,
    "start_time": "2023-05-02T07:09:20.128Z"
   },
   {
    "duration": 46,
    "start_time": "2023-05-02T07:09:20.161Z"
   },
   {
    "duration": 33,
    "start_time": "2023-05-02T07:09:20.208Z"
   },
   {
    "duration": 10,
    "start_time": "2023-05-02T07:09:20.243Z"
   },
   {
    "duration": 72,
    "start_time": "2023-05-02T07:09:20.254Z"
   },
   {
    "duration": 41,
    "start_time": "2023-05-02T07:09:20.328Z"
   },
   {
    "duration": 51,
    "start_time": "2023-05-02T07:09:20.370Z"
   },
   {
    "duration": 41,
    "start_time": "2023-05-02T07:09:20.423Z"
   },
   {
    "duration": 3,
    "start_time": "2023-05-02T07:09:20.466Z"
   },
   {
    "duration": 326,
    "start_time": "2023-05-02T07:09:26.239Z"
   },
   {
    "duration": 333,
    "start_time": "2023-05-02T07:09:29.641Z"
   },
   {
    "duration": 363,
    "start_time": "2023-05-02T07:09:33.584Z"
   },
   {
    "duration": 339,
    "start_time": "2023-05-02T07:09:40.949Z"
   },
   {
    "duration": 335,
    "start_time": "2023-05-02T07:09:44.513Z"
   },
   {
    "duration": 435,
    "start_time": "2023-05-02T07:10:16.648Z"
   },
   {
    "duration": 362,
    "start_time": "2023-05-02T07:10:22.319Z"
   },
   {
    "duration": 335,
    "start_time": "2023-05-02T07:10:27.676Z"
   },
   {
    "duration": 385,
    "start_time": "2023-05-02T07:10:31.347Z"
   },
   {
    "duration": 345,
    "start_time": "2023-05-02T07:10:34.884Z"
   },
   {
    "duration": 342,
    "start_time": "2023-05-02T07:10:46.821Z"
   },
   {
    "duration": 7,
    "start_time": "2023-06-23T10:37:16.234Z"
   },
   {
    "duration": 1184,
    "start_time": "2023-06-25T09:28:10.922Z"
   },
   {
    "duration": 493,
    "start_time": "2023-06-25T09:28:12.108Z"
   },
   {
    "duration": 14,
    "start_time": "2023-06-25T09:28:12.602Z"
   },
   {
    "duration": 54,
    "start_time": "2023-06-25T09:28:12.617Z"
   },
   {
    "duration": 18,
    "start_time": "2023-06-25T09:28:12.674Z"
   },
   {
    "duration": 29,
    "start_time": "2023-06-25T09:28:12.694Z"
   },
   {
    "duration": 15,
    "start_time": "2023-06-25T09:28:12.724Z"
   },
   {
    "duration": 62,
    "start_time": "2023-06-25T09:28:12.751Z"
   },
   {
    "duration": 69,
    "start_time": "2023-06-25T09:28:12.815Z"
   },
   {
    "duration": 125,
    "start_time": "2023-06-25T09:28:12.886Z"
   },
   {
    "duration": 3,
    "start_time": "2023-06-25T09:28:13.013Z"
   },
   {
    "duration": 40,
    "start_time": "2023-06-25T09:28:13.017Z"
   },
   {
    "duration": 856,
    "start_time": "2023-06-25T09:28:13.059Z"
   },
   {
    "duration": 119,
    "start_time": "2023-06-25T09:28:13.919Z"
   },
   {
    "duration": 22,
    "start_time": "2023-06-25T09:28:14.040Z"
   },
   {
    "duration": 37,
    "start_time": "2023-06-25T09:28:14.064Z"
   },
   {
    "duration": 22,
    "start_time": "2023-06-25T09:28:14.103Z"
   },
   {
    "duration": 147,
    "start_time": "2023-06-25T09:28:14.127Z"
   },
   {
    "duration": 112,
    "start_time": "2023-06-25T09:28:14.275Z"
   },
   {
    "duration": 0,
    "start_time": "2023-06-25T09:28:14.390Z"
   },
   {
    "duration": 0,
    "start_time": "2023-06-25T09:28:14.391Z"
   },
   {
    "duration": 0,
    "start_time": "2023-06-25T09:28:14.391Z"
   },
   {
    "duration": 0,
    "start_time": "2023-06-25T09:28:14.392Z"
   },
   {
    "duration": 0,
    "start_time": "2023-06-25T09:28:14.393Z"
   },
   {
    "duration": 0,
    "start_time": "2023-06-25T09:28:14.394Z"
   },
   {
    "duration": 0,
    "start_time": "2023-06-25T09:28:14.395Z"
   },
   {
    "duration": 0,
    "start_time": "2023-06-25T09:28:14.396Z"
   },
   {
    "duration": 0,
    "start_time": "2023-06-25T09:28:14.397Z"
   },
   {
    "duration": 0,
    "start_time": "2023-06-25T09:28:14.398Z"
   },
   {
    "duration": 0,
    "start_time": "2023-06-25T09:28:14.399Z"
   },
   {
    "duration": 0,
    "start_time": "2023-06-25T09:28:14.401Z"
   },
   {
    "duration": 0,
    "start_time": "2023-06-25T09:28:14.402Z"
   },
   {
    "duration": 0,
    "start_time": "2023-06-25T09:28:14.403Z"
   },
   {
    "duration": 0,
    "start_time": "2023-06-25T09:28:14.404Z"
   },
   {
    "duration": 0,
    "start_time": "2023-06-25T09:28:14.405Z"
   },
   {
    "duration": 0,
    "start_time": "2023-06-25T09:28:14.406Z"
   },
   {
    "duration": 0,
    "start_time": "2023-06-25T09:28:14.407Z"
   },
   {
    "duration": 0,
    "start_time": "2023-06-25T09:28:14.408Z"
   },
   {
    "duration": 0,
    "start_time": "2023-06-25T09:28:14.409Z"
   },
   {
    "duration": 0,
    "start_time": "2023-06-25T09:28:14.410Z"
   },
   {
    "duration": 0,
    "start_time": "2023-06-25T09:28:14.411Z"
   },
   {
    "duration": 0,
    "start_time": "2023-06-25T09:28:14.411Z"
   },
   {
    "duration": 0,
    "start_time": "2023-06-25T09:28:14.452Z"
   },
   {
    "duration": 0,
    "start_time": "2023-06-25T09:28:14.454Z"
   },
   {
    "duration": 0,
    "start_time": "2023-06-25T09:28:14.455Z"
   },
   {
    "duration": 0,
    "start_time": "2023-06-25T09:28:14.456Z"
   },
   {
    "duration": 0,
    "start_time": "2023-06-25T09:28:14.457Z"
   },
   {
    "duration": 0,
    "start_time": "2023-06-25T09:28:14.458Z"
   },
   {
    "duration": 0,
    "start_time": "2023-06-25T09:28:14.459Z"
   },
   {
    "duration": 0,
    "start_time": "2023-06-25T09:28:14.460Z"
   },
   {
    "duration": 0,
    "start_time": "2023-06-25T09:28:14.461Z"
   },
   {
    "duration": 0,
    "start_time": "2023-06-25T09:28:14.462Z"
   },
   {
    "duration": 0,
    "start_time": "2023-06-25T09:28:14.463Z"
   },
   {
    "duration": 0,
    "start_time": "2023-06-25T09:28:14.464Z"
   },
   {
    "duration": 0,
    "start_time": "2023-06-25T09:28:14.465Z"
   },
   {
    "duration": 1274,
    "start_time": "2023-06-25T09:32:44.058Z"
   },
   {
    "duration": 173,
    "start_time": "2023-06-25T09:32:45.335Z"
   },
   {
    "duration": 21,
    "start_time": "2023-06-25T09:32:45.510Z"
   },
   {
    "duration": 71,
    "start_time": "2023-06-25T09:32:45.533Z"
   },
   {
    "duration": 20,
    "start_time": "2023-06-25T09:32:45.605Z"
   },
   {
    "duration": 44,
    "start_time": "2023-06-25T09:32:45.626Z"
   },
   {
    "duration": 16,
    "start_time": "2023-06-25T09:32:45.672Z"
   },
   {
    "duration": 84,
    "start_time": "2023-06-25T09:32:45.690Z"
   },
   {
    "duration": 60,
    "start_time": "2023-06-25T09:32:45.776Z"
   },
   {
    "duration": 141,
    "start_time": "2023-06-25T09:32:45.838Z"
   },
   {
    "duration": 3,
    "start_time": "2023-06-25T09:32:45.981Z"
   },
   {
    "duration": 107,
    "start_time": "2023-06-25T09:32:45.985Z"
   },
   {
    "duration": 828,
    "start_time": "2023-06-25T09:32:46.094Z"
   },
   {
    "duration": 114,
    "start_time": "2023-06-25T09:32:46.925Z"
   },
   {
    "duration": 23,
    "start_time": "2023-06-25T09:32:47.041Z"
   },
   {
    "duration": 32,
    "start_time": "2023-06-25T09:32:47.066Z"
   },
   {
    "duration": 23,
    "start_time": "2023-06-25T09:32:47.100Z"
   },
   {
    "duration": 159,
    "start_time": "2023-06-25T09:32:47.125Z"
   },
   {
    "duration": 17,
    "start_time": "2023-06-25T09:32:47.286Z"
   },
   {
    "duration": 6,
    "start_time": "2023-06-25T09:32:47.304Z"
   },
   {
    "duration": 44,
    "start_time": "2023-06-25T09:32:47.311Z"
   },
   {
    "duration": 306,
    "start_time": "2023-06-25T09:32:47.357Z"
   },
   {
    "duration": 231,
    "start_time": "2023-06-25T09:32:47.664Z"
   },
   {
    "duration": 56,
    "start_time": "2023-06-25T09:32:47.896Z"
   },
   {
    "duration": 6,
    "start_time": "2023-06-25T09:32:47.953Z"
   },
   {
    "duration": 40,
    "start_time": "2023-06-25T09:32:47.960Z"
   },
   {
    "duration": 505,
    "start_time": "2023-06-25T09:32:48.002Z"
   },
   {
    "duration": 78,
    "start_time": "2023-06-25T09:32:48.509Z"
   },
   {
    "duration": 408,
    "start_time": "2023-06-25T09:32:48.588Z"
   },
   {
    "duration": 96,
    "start_time": "2023-06-25T09:32:48.998Z"
   },
   {
    "duration": 167,
    "start_time": "2023-06-25T09:32:49.096Z"
   },
   {
    "duration": 38,
    "start_time": "2023-06-25T09:32:49.266Z"
   },
   {
    "duration": 188,
    "start_time": "2023-06-25T09:32:49.306Z"
   },
   {
    "duration": 24,
    "start_time": "2023-06-25T09:32:49.495Z"
   },
   {
    "duration": 206,
    "start_time": "2023-06-25T09:32:49.520Z"
   },
   {
    "duration": 8,
    "start_time": "2023-06-25T09:32:49.728Z"
   },
   {
    "duration": 63,
    "start_time": "2023-06-25T09:32:49.737Z"
   },
   {
    "duration": 53,
    "start_time": "2023-06-25T09:32:49.802Z"
   },
   {
    "duration": 41,
    "start_time": "2023-06-25T09:32:49.857Z"
   },
   {
    "duration": 63,
    "start_time": "2023-06-25T09:32:49.900Z"
   },
   {
    "duration": 47,
    "start_time": "2023-06-25T09:32:49.967Z"
   },
   {
    "duration": 65,
    "start_time": "2023-06-25T09:32:50.016Z"
   },
   {
    "duration": 46,
    "start_time": "2023-06-25T09:32:50.083Z"
   },
   {
    "duration": 61,
    "start_time": "2023-06-25T09:32:50.131Z"
   },
   {
    "duration": 68,
    "start_time": "2023-06-25T09:32:50.194Z"
   },
   {
    "duration": 46,
    "start_time": "2023-06-25T09:32:50.264Z"
   },
   {
    "duration": 59,
    "start_time": "2023-06-25T09:32:50.312Z"
   },
   {
    "duration": 45,
    "start_time": "2023-06-25T09:32:50.373Z"
   },
   {
    "duration": 9,
    "start_time": "2023-06-25T09:32:50.420Z"
   },
   {
    "duration": 87,
    "start_time": "2023-06-25T09:32:50.453Z"
   },
   {
    "duration": 59,
    "start_time": "2023-06-25T09:32:50.542Z"
   },
   {
    "duration": 60,
    "start_time": "2023-06-25T09:32:50.603Z"
   },
   {
    "duration": 53,
    "start_time": "2023-06-25T09:32:50.665Z"
   },
   {
    "duration": 4,
    "start_time": "2023-06-25T09:32:50.720Z"
   },
   {
    "duration": 1314,
    "start_time": "2023-07-06T08:43:31.155Z"
   },
   {
    "duration": 753,
    "start_time": "2023-07-06T08:43:32.471Z"
   },
   {
    "duration": 15,
    "start_time": "2023-07-06T08:43:33.226Z"
   },
   {
    "duration": 54,
    "start_time": "2023-07-06T08:43:33.242Z"
   },
   {
    "duration": 33,
    "start_time": "2023-07-06T08:43:33.299Z"
   },
   {
    "duration": 40,
    "start_time": "2023-07-06T08:43:33.334Z"
   },
   {
    "duration": 29,
    "start_time": "2023-07-06T08:43:33.377Z"
   },
   {
    "duration": 88,
    "start_time": "2023-07-06T08:43:33.408Z"
   },
   {
    "duration": 72,
    "start_time": "2023-07-06T08:43:33.498Z"
   },
   {
    "duration": 131,
    "start_time": "2023-07-06T08:43:33.572Z"
   },
   {
    "duration": 3,
    "start_time": "2023-07-06T08:43:33.705Z"
   },
   {
    "duration": 22,
    "start_time": "2023-07-06T08:43:33.709Z"
   },
   {
    "duration": 888,
    "start_time": "2023-07-06T08:43:33.732Z"
   },
   {
    "duration": 122,
    "start_time": "2023-07-06T08:43:34.623Z"
   },
   {
    "duration": 28,
    "start_time": "2023-07-06T08:43:34.747Z"
   },
   {
    "duration": 36,
    "start_time": "2023-07-06T08:43:34.777Z"
   },
   {
    "duration": 49,
    "start_time": "2023-07-06T08:43:34.815Z"
   },
   {
    "duration": 168,
    "start_time": "2023-07-06T08:43:34.866Z"
   },
   {
    "duration": 33,
    "start_time": "2023-07-06T08:43:35.035Z"
   },
   {
    "duration": 6,
    "start_time": "2023-07-06T08:43:35.070Z"
   },
   {
    "duration": 23,
    "start_time": "2023-07-06T08:43:35.078Z"
   },
   {
    "duration": 351,
    "start_time": "2023-07-06T08:43:35.103Z"
   },
   {
    "duration": 244,
    "start_time": "2023-07-06T08:43:35.456Z"
   },
   {
    "duration": 64,
    "start_time": "2023-07-06T08:43:35.703Z"
   },
   {
    "duration": 7,
    "start_time": "2023-07-06T08:43:35.769Z"
   },
   {
    "duration": 33,
    "start_time": "2023-07-06T08:43:35.778Z"
   },
   {
    "duration": 477,
    "start_time": "2023-07-06T08:43:35.813Z"
   },
   {
    "duration": 78,
    "start_time": "2023-07-06T08:43:36.292Z"
   },
   {
    "duration": 518,
    "start_time": "2023-07-06T08:43:36.372Z"
   },
   {
    "duration": 102,
    "start_time": "2023-07-06T08:43:36.892Z"
   },
   {
    "duration": 207,
    "start_time": "2023-07-06T08:43:36.996Z"
   },
   {
    "duration": 51,
    "start_time": "2023-07-06T08:43:37.205Z"
   },
   {
    "duration": 197,
    "start_time": "2023-07-06T08:43:37.259Z"
   },
   {
    "duration": 32,
    "start_time": "2023-07-06T08:43:37.458Z"
   },
   {
    "duration": 245,
    "start_time": "2023-07-06T08:43:37.492Z"
   },
   {
    "duration": 15,
    "start_time": "2023-07-06T08:43:37.740Z"
   },
   {
    "duration": 51,
    "start_time": "2023-07-06T08:43:37.757Z"
   },
   {
    "duration": 59,
    "start_time": "2023-07-06T08:43:37.810Z"
   },
   {
    "duration": 50,
    "start_time": "2023-07-06T08:43:37.871Z"
   },
   {
    "duration": 74,
    "start_time": "2023-07-06T08:43:37.923Z"
   },
   {
    "duration": 59,
    "start_time": "2023-07-06T08:43:38.002Z"
   },
   {
    "duration": 43,
    "start_time": "2023-07-06T08:43:38.063Z"
   },
   {
    "duration": 61,
    "start_time": "2023-07-06T08:43:38.108Z"
   },
   {
    "duration": 42,
    "start_time": "2023-07-06T08:43:38.171Z"
   },
   {
    "duration": 67,
    "start_time": "2023-07-06T08:43:38.215Z"
   },
   {
    "duration": 46,
    "start_time": "2023-07-06T08:43:38.284Z"
   },
   {
    "duration": 59,
    "start_time": "2023-07-06T08:43:38.332Z"
   },
   {
    "duration": 62,
    "start_time": "2023-07-06T08:43:38.393Z"
   },
   {
    "duration": 10,
    "start_time": "2023-07-06T08:43:38.458Z"
   },
   {
    "duration": 63,
    "start_time": "2023-07-06T08:43:38.469Z"
   },
   {
    "duration": 69,
    "start_time": "2023-07-06T08:43:38.534Z"
   },
   {
    "duration": 64,
    "start_time": "2023-07-06T08:43:38.605Z"
   },
   {
    "duration": 51,
    "start_time": "2023-07-06T08:43:38.671Z"
   },
   {
    "duration": 4,
    "start_time": "2023-07-06T08:43:38.724Z"
   },
   {
    "duration": 1304,
    "start_time": "2023-07-06T08:45:31.453Z"
   },
   {
    "duration": 2507,
    "start_time": "2023-07-06T08:45:32.759Z"
   },
   {
    "duration": 186,
    "start_time": "2023-07-06T08:45:35.269Z"
   },
   {
    "duration": 22,
    "start_time": "2023-07-06T08:45:35.457Z"
   },
   {
    "duration": 85,
    "start_time": "2023-07-06T08:45:35.481Z"
   },
   {
    "duration": 31,
    "start_time": "2023-07-06T08:45:35.568Z"
   },
   {
    "duration": 20,
    "start_time": "2023-07-06T08:45:35.601Z"
   },
   {
    "duration": 42,
    "start_time": "2023-07-06T08:45:35.623Z"
   },
   {
    "duration": 67,
    "start_time": "2023-07-06T08:45:35.667Z"
   },
   {
    "duration": 62,
    "start_time": "2023-07-06T08:45:35.756Z"
   },
   {
    "duration": 148,
    "start_time": "2023-07-06T08:45:35.820Z"
   },
   {
    "duration": 4,
    "start_time": "2023-07-06T08:45:35.969Z"
   },
   {
    "duration": 40,
    "start_time": "2023-07-06T08:45:35.975Z"
   },
   {
    "duration": 970,
    "start_time": "2023-07-06T08:45:36.017Z"
   },
   {
    "duration": 124,
    "start_time": "2023-07-06T08:45:36.989Z"
   },
   {
    "duration": 30,
    "start_time": "2023-07-06T08:45:37.115Z"
   },
   {
    "duration": 37,
    "start_time": "2023-07-06T08:45:37.155Z"
   },
   {
    "duration": 26,
    "start_time": "2023-07-06T08:45:37.193Z"
   },
   {
    "duration": 265,
    "start_time": "2023-07-06T08:45:37.222Z"
   },
   {
    "duration": 27,
    "start_time": "2023-07-06T08:45:37.488Z"
   },
   {
    "duration": 7,
    "start_time": "2023-07-06T08:45:37.517Z"
   },
   {
    "duration": 29,
    "start_time": "2023-07-06T08:45:37.554Z"
   },
   {
    "duration": 341,
    "start_time": "2023-07-06T08:45:37.585Z"
   },
   {
    "duration": 246,
    "start_time": "2023-07-06T08:45:37.928Z"
   },
   {
    "duration": 52,
    "start_time": "2023-07-06T08:45:38.176Z"
   },
   {
    "duration": 7,
    "start_time": "2023-07-06T08:45:38.230Z"
   },
   {
    "duration": 47,
    "start_time": "2023-07-06T08:45:38.238Z"
   },
   {
    "duration": 465,
    "start_time": "2023-07-06T08:45:38.289Z"
   },
   {
    "duration": 63,
    "start_time": "2023-07-06T08:45:38.756Z"
   },
   {
    "duration": 467,
    "start_time": "2023-07-06T08:45:38.820Z"
   },
   {
    "duration": 106,
    "start_time": "2023-07-06T08:45:39.289Z"
   },
   {
    "duration": 936,
    "start_time": "2023-07-06T08:45:39.398Z"
   },
   {
    "duration": 45,
    "start_time": "2023-07-06T08:45:40.354Z"
   },
   {
    "duration": 130,
    "start_time": "2023-07-06T08:45:40.401Z"
   },
   {
    "duration": 150,
    "start_time": "2023-07-06T08:45:40.533Z"
   },
   {
    "duration": 204,
    "start_time": "2023-07-06T08:45:40.685Z"
   },
   {
    "duration": 7,
    "start_time": "2023-07-06T08:45:40.891Z"
   },
   {
    "duration": 62,
    "start_time": "2023-07-06T08:45:40.899Z"
   },
   {
    "duration": 38,
    "start_time": "2023-07-06T08:45:40.963Z"
   },
   {
    "duration": 58,
    "start_time": "2023-07-06T08:45:41.003Z"
   },
   {
    "duration": 42,
    "start_time": "2023-07-06T08:45:41.063Z"
   },
   {
    "duration": 65,
    "start_time": "2023-07-06T08:45:41.106Z"
   },
   {
    "duration": 44,
    "start_time": "2023-07-06T08:45:41.173Z"
   },
   {
    "duration": 72,
    "start_time": "2023-07-06T08:45:41.219Z"
   },
   {
    "duration": 62,
    "start_time": "2023-07-06T08:45:41.292Z"
   },
   {
    "duration": 49,
    "start_time": "2023-07-06T08:45:41.357Z"
   },
   {
    "duration": 63,
    "start_time": "2023-07-06T08:45:41.408Z"
   },
   {
    "duration": 38,
    "start_time": "2023-07-06T08:45:41.473Z"
   },
   {
    "duration": 61,
    "start_time": "2023-07-06T08:45:41.513Z"
   },
   {
    "duration": 7,
    "start_time": "2023-07-06T08:45:41.576Z"
   },
   {
    "duration": 73,
    "start_time": "2023-07-06T08:45:41.585Z"
   },
   {
    "duration": 48,
    "start_time": "2023-07-06T08:45:41.660Z"
   },
   {
    "duration": 71,
    "start_time": "2023-07-06T08:45:41.710Z"
   },
   {
    "duration": 51,
    "start_time": "2023-07-06T08:45:41.783Z"
   },
   {
    "duration": 19,
    "start_time": "2023-07-06T08:45:41.836Z"
   }
  ],
  "kernelspec": {
   "display_name": "Python 3 (ipykernel)",
   "language": "python",
   "name": "python3"
  },
  "language_info": {
   "codemirror_mode": {
    "name": "ipython",
    "version": 3
   },
   "file_extension": ".py",
   "mimetype": "text/x-python",
   "name": "python",
   "nbconvert_exporter": "python",
   "pygments_lexer": "ipython3",
   "version": "3.9.5"
  },
  "toc": {
   "base_numbering": 1,
   "nav_menu": {},
   "number_sections": true,
   "sideBar": true,
   "skip_h1_title": true,
   "title_cell": "Навигация",
   "title_sidebar": "Contents",
   "toc_cell": true,
   "toc_position": {
    "height": "calc(100% - 180px)",
    "left": "10px",
    "top": "150px",
    "width": "333.828px"
   },
   "toc_section_display": true,
   "toc_window_display": true
  }
 },
 "nbformat": 4,
 "nbformat_minor": 2
}
