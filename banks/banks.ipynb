{
 "cells": [
  {
   "cell_type": "markdown",
   "id": "8cd26e78",
   "metadata": {
    "deletable": false,
    "editable": false,
    "id": "c81daeeb"
   },
   "source": [
    "# Исследование надежности заемщиков\n"
   ]
  },
  {
   "cell_type": "markdown",
   "id": "3947a68b",
   "metadata": {
    "toc": true
   },
   "source": [
    "<h1>Навигация<span class=\"tocSkip\"></span></h1>\n",
    "<div class=\"toc\"><ul class=\"toc-item\"><li><span><a href=\"#Откройте-таблицу-и-изучите-общую-информацию-о-данных\" data-toc-modified-id=\"Откройте-таблицу-и-изучите-общую-информацию-о-данных-1\"><span class=\"toc-item-num\">1&nbsp;&nbsp;</span>Откройте таблицу и изучите общую информацию о данных</a></span></li><li><span><a href=\"#Предобработка-данных\" data-toc-modified-id=\"Предобработка-данных-2\"><span class=\"toc-item-num\">2&nbsp;&nbsp;</span>Предобработка данных</a></span><ul class=\"toc-item\"><li><span><a href=\"#Удаление-пропусков\" data-toc-modified-id=\"Удаление-пропусков-2.1\"><span class=\"toc-item-num\">2.1&nbsp;&nbsp;</span>Удаление пропусков</a></span></li><li><span><a href=\"#Обработка-аномальных-значений\" data-toc-modified-id=\"Обработка-аномальных-значений-2.2\"><span class=\"toc-item-num\">2.2&nbsp;&nbsp;</span>Обработка аномальных значений</a></span></li><li><span><a href=\"#Удаление-пропусков-(продолжение)\" data-toc-modified-id=\"Удаление-пропусков-(продолжение)-2.3\"><span class=\"toc-item-num\">2.3&nbsp;&nbsp;</span>Удаление пропусков (продолжение)</a></span></li><li><span><a href=\"#Изменение-типов-данных\" data-toc-modified-id=\"Изменение-типов-данных-2.4\"><span class=\"toc-item-num\">2.4&nbsp;&nbsp;</span>Изменение типов данных</a></span></li><li><span><a href=\"#Обработка-дубликатов\" data-toc-modified-id=\"Обработка-дубликатов-2.5\"><span class=\"toc-item-num\">2.5&nbsp;&nbsp;</span>Обработка дубликатов</a></span></li><li><span><a href=\"#Категоризация-данных\" data-toc-modified-id=\"Категоризация-данных-2.6\"><span class=\"toc-item-num\">2.6&nbsp;&nbsp;</span>Категоризация данных</a></span></li><li><span><a href=\"#Шаг-3.-Исследуйте-данные-и-ответьте-на-вопросы\" data-toc-modified-id=\"Шаг-3.-Исследуйте-данные-и-ответьте-на-вопросы-2.7\"><span class=\"toc-item-num\">2.7&nbsp;&nbsp;</span>Шаг 3. Исследуйте данные и ответьте на вопросы</a></span><ul class=\"toc-item\"><li><span><a href=\"#3.1-Есть-ли-зависимость-между-количеством-детей-и-возвратом-кредита-в-срок?\" data-toc-modified-id=\"3.1-Есть-ли-зависимость-между-количеством-детей-и-возвратом-кредита-в-срок?-2.7.1\"><span class=\"toc-item-num\">2.7.1&nbsp;&nbsp;</span>3.1 Есть ли зависимость между количеством детей и возвратом кредита в срок?</a></span></li><li><span><a href=\"#3.2-Есть-ли-зависимость-между-семейным-положением-и-возвратом-кредита-в-срок?\" data-toc-modified-id=\"3.2-Есть-ли-зависимость-между-семейным-положением-и-возвратом-кредита-в-срок?-2.7.2\"><span class=\"toc-item-num\">2.7.2&nbsp;&nbsp;</span>3.2 Есть ли зависимость между семейным положением и возвратом кредита в срок?</a></span></li><li><span><a href=\"#3.3-Есть-ли-зависимость-между-уровнем-дохода-и-возвратом-кредита-в-срок?\" data-toc-modified-id=\"3.3-Есть-ли-зависимость-между-уровнем-дохода-и-возвратом-кредита-в-срок?-2.7.3\"><span class=\"toc-item-num\">2.7.3&nbsp;&nbsp;</span>3.3 Есть ли зависимость между уровнем дохода и возвратом кредита в срок?</a></span></li><li><span><a href=\"#3.4-Как-разные-цели-кредита-влияют-на-его-возврат-в-срок?\" data-toc-modified-id=\"3.4-Как-разные-цели-кредита-влияют-на-его-возврат-в-срок?-2.7.4\"><span class=\"toc-item-num\">2.7.4&nbsp;&nbsp;</span>3.4 Как разные цели кредита влияют на его возврат в срок?</a></span></li><li><span><a href=\"#3.5-Приведите-возможные-причины-появления-пропусков-в-исходных-данных.\" data-toc-modified-id=\"3.5-Приведите-возможные-причины-появления-пропусков-в-исходных-данных.-2.7.5\"><span class=\"toc-item-num\">2.7.5&nbsp;&nbsp;</span>3.5 Приведите возможные причины появления пропусков в исходных данных.</a></span></li><li><span><a href=\"#3.6-Объясните,-почему-заполнить-пропуски-медианным-значением-—-лучшее-решение-для-количественных-переменных.\" data-toc-modified-id=\"3.6-Объясните,-почему-заполнить-пропуски-медианным-значением-—-лучшее-решение-для-количественных-переменных.-2.7.6\"><span class=\"toc-item-num\">2.7.6&nbsp;&nbsp;</span>3.6 Объясните, почему заполнить пропуски медианным значением — лучшее решение для количественных переменных.</a></span></li></ul></li><li><span><a href=\"#Шаг-4:-общий-вывод.\" data-toc-modified-id=\"Шаг-4:-общий-вывод.-2.8\"><span class=\"toc-item-num\">2.8&nbsp;&nbsp;</span>Шаг 4: общий вывод.</a></span></li></ul></li></ul></div>"
   ]
  },
  {
   "cell_type": "markdown",
   "id": "08bce08b",
   "metadata": {},
   "source": [
    "# Описание проекта\n",
    "\n",
    "Заказчик — кредитный отдел банка. Нужно разобраться, влияет ли семейное положение и количество детей клиента на факт погашения кредита в срок. Входные данные от банка — статистика о платёжеспособности клиентов.\n",
    "Результаты исследования будут учтены при построении модели кредитного скоринга — специальной системы, которая оценивает способность потенциального заёмщика вернуть кредит банку.\n",
    "\n",
    "**Задача исследователя** - на основе статистики о платёжеспособности клиентов исследовать влияет ли семейное положение и количество детей клиента на факт возврата кредита в срок\n",
    "\n",
    "\n",
    "# Описание данных\n",
    "- `children` — количество детей в семье\n",
    "- `days_employed` — общий трудовой стаж в днях\n",
    "- `dob_years` — возраст клиента в годах\n",
    "- `education` — уровень образования клиента\n",
    "- `education_id` — идентификатор уровня образования\n",
    "- `family_status` — семейное положение\n",
    "- `family_status_id` — идентификатор семейного положения\n",
    "- `gender` — пол клиента\n",
    "- `income_type` — тип занятости\n",
    "- `debt` — имел ли задолженность по возврату кредитов\n",
    "- `total_income` — ежемесячный доход\n",
    "- `purpose` — цель получения кредита\n",
    "\n",
    "# Ход исследования\n",
    "1. Выполним предобработку данных\n",
    "- проверим пропуски / аномалии / дубли\n",
    "- проверим тип данных\n",
    "\n",
    "2. EDA\n",
    "\n",
    "Ответим на вопросы:\n",
    "- Есть зависимость между количеством детей и возвратом кредита в срок?\n",
    "- Есть ли зависимость между семейным положением и возвратом кредита в срок?\n",
    "- Есть ли зависимость между уровнем дохода и возвратом кредита в срок?\n",
    "- Как разные цели кредита влияют на его возврат в срок?"
   ]
  },
  {
   "cell_type": "markdown",
   "id": "0f2ae70c",
   "metadata": {
    "deletable": false,
    "editable": false,
    "id": "827c20bf"
   },
   "source": [
    "Во второй части проекта вы выполните шаги 3 и 4. Их вручную проверит ревьюер.\n",
    "Чтобы вам не пришлось писать код заново для шагов 1 и 2, мы добавили авторские решения в ячейки с кодом. \n",
    "\n"
   ]
  },
  {
   "cell_type": "markdown",
   "id": "cb6f3001",
   "metadata": {
    "deletable": false,
    "editable": false,
    "id": "744d7639"
   },
   "source": [
    "## Откройте таблицу и изучите общую информацию о данных"
   ]
  },
  {
   "cell_type": "markdown",
   "id": "81b56218",
   "metadata": {
    "deletable": false,
    "editable": false,
    "id": "e7a14c31"
   },
   "source": [
    "**Задание 1. Импортируйте библиотеку pandas. Считайте данные из csv-файла в датафрейм и сохраните в переменную `data`. Путь к файлу:**\n",
    "\n",
    "`/datasets/data.csv`"
   ]
  },
  {
   "cell_type": "code",
   "execution_count": 1,
   "id": "5fff5e91",
   "metadata": {
    "deletable": false,
    "id": "7bcf75c9"
   },
   "outputs": [],
   "source": [
    "import pandas as pd\n",
    "\n",
    "try:\n",
    "    data = pd.read_csv('/datasets/data.csv')\n",
    "except:\n",
    "    data = pd.read_csv('https://code.s3.yandex.net/datasets/data.csv')"
   ]
  },
  {
   "cell_type": "markdown",
   "id": "bea8896b",
   "metadata": {
    "deletable": false,
    "editable": false,
    "id": "b8038fe3"
   },
   "source": [
    "**Задание 2. Выведите первые 20 строчек датафрейма `data` на экран.**"
   ]
  },
  {
   "cell_type": "code",
   "execution_count": 2,
   "id": "6b9c6c4d",
   "metadata": {
    "deletable": false,
    "id": "2a7cab99",
    "outputId": "1a8f3ef2-d323-4ec2-ddf7-89670b5944c4"
   },
   "outputs": [
    {
     "data": {
      "text/html": [
       "<div>\n",
       "<style scoped>\n",
       "    .dataframe tbody tr th:only-of-type {\n",
       "        vertical-align: middle;\n",
       "    }\n",
       "\n",
       "    .dataframe tbody tr th {\n",
       "        vertical-align: top;\n",
       "    }\n",
       "\n",
       "    .dataframe thead th {\n",
       "        text-align: right;\n",
       "    }\n",
       "</style>\n",
       "<table border=\"1\" class=\"dataframe\">\n",
       "  <thead>\n",
       "    <tr style=\"text-align: right;\">\n",
       "      <th></th>\n",
       "      <th>children</th>\n",
       "      <th>days_employed</th>\n",
       "      <th>dob_years</th>\n",
       "      <th>education</th>\n",
       "      <th>education_id</th>\n",
       "      <th>family_status</th>\n",
       "      <th>family_status_id</th>\n",
       "      <th>gender</th>\n",
       "      <th>income_type</th>\n",
       "      <th>debt</th>\n",
       "      <th>total_income</th>\n",
       "      <th>purpose</th>\n",
       "    </tr>\n",
       "  </thead>\n",
       "  <tbody>\n",
       "    <tr>\n",
       "      <th>0</th>\n",
       "      <td>1</td>\n",
       "      <td>-8437.673028</td>\n",
       "      <td>42</td>\n",
       "      <td>высшее</td>\n",
       "      <td>0</td>\n",
       "      <td>женат / замужем</td>\n",
       "      <td>0</td>\n",
       "      <td>F</td>\n",
       "      <td>сотрудник</td>\n",
       "      <td>0</td>\n",
       "      <td>253875.639453</td>\n",
       "      <td>покупка жилья</td>\n",
       "    </tr>\n",
       "    <tr>\n",
       "      <th>1</th>\n",
       "      <td>1</td>\n",
       "      <td>-4024.803754</td>\n",
       "      <td>36</td>\n",
       "      <td>среднее</td>\n",
       "      <td>1</td>\n",
       "      <td>женат / замужем</td>\n",
       "      <td>0</td>\n",
       "      <td>F</td>\n",
       "      <td>сотрудник</td>\n",
       "      <td>0</td>\n",
       "      <td>112080.014102</td>\n",
       "      <td>приобретение автомобиля</td>\n",
       "    </tr>\n",
       "    <tr>\n",
       "      <th>2</th>\n",
       "      <td>0</td>\n",
       "      <td>-5623.422610</td>\n",
       "      <td>33</td>\n",
       "      <td>Среднее</td>\n",
       "      <td>1</td>\n",
       "      <td>женат / замужем</td>\n",
       "      <td>0</td>\n",
       "      <td>M</td>\n",
       "      <td>сотрудник</td>\n",
       "      <td>0</td>\n",
       "      <td>145885.952297</td>\n",
       "      <td>покупка жилья</td>\n",
       "    </tr>\n",
       "    <tr>\n",
       "      <th>3</th>\n",
       "      <td>3</td>\n",
       "      <td>-4124.747207</td>\n",
       "      <td>32</td>\n",
       "      <td>среднее</td>\n",
       "      <td>1</td>\n",
       "      <td>женат / замужем</td>\n",
       "      <td>0</td>\n",
       "      <td>M</td>\n",
       "      <td>сотрудник</td>\n",
       "      <td>0</td>\n",
       "      <td>267628.550329</td>\n",
       "      <td>дополнительное образование</td>\n",
       "    </tr>\n",
       "    <tr>\n",
       "      <th>4</th>\n",
       "      <td>0</td>\n",
       "      <td>340266.072047</td>\n",
       "      <td>53</td>\n",
       "      <td>среднее</td>\n",
       "      <td>1</td>\n",
       "      <td>гражданский брак</td>\n",
       "      <td>1</td>\n",
       "      <td>F</td>\n",
       "      <td>пенсионер</td>\n",
       "      <td>0</td>\n",
       "      <td>158616.077870</td>\n",
       "      <td>сыграть свадьбу</td>\n",
       "    </tr>\n",
       "    <tr>\n",
       "      <th>5</th>\n",
       "      <td>0</td>\n",
       "      <td>-926.185831</td>\n",
       "      <td>27</td>\n",
       "      <td>высшее</td>\n",
       "      <td>0</td>\n",
       "      <td>гражданский брак</td>\n",
       "      <td>1</td>\n",
       "      <td>M</td>\n",
       "      <td>компаньон</td>\n",
       "      <td>0</td>\n",
       "      <td>255763.565419</td>\n",
       "      <td>покупка жилья</td>\n",
       "    </tr>\n",
       "    <tr>\n",
       "      <th>6</th>\n",
       "      <td>0</td>\n",
       "      <td>-2879.202052</td>\n",
       "      <td>43</td>\n",
       "      <td>высшее</td>\n",
       "      <td>0</td>\n",
       "      <td>женат / замужем</td>\n",
       "      <td>0</td>\n",
       "      <td>F</td>\n",
       "      <td>компаньон</td>\n",
       "      <td>0</td>\n",
       "      <td>240525.971920</td>\n",
       "      <td>операции с жильем</td>\n",
       "    </tr>\n",
       "    <tr>\n",
       "      <th>7</th>\n",
       "      <td>0</td>\n",
       "      <td>-152.779569</td>\n",
       "      <td>50</td>\n",
       "      <td>СРЕДНЕЕ</td>\n",
       "      <td>1</td>\n",
       "      <td>женат / замужем</td>\n",
       "      <td>0</td>\n",
       "      <td>M</td>\n",
       "      <td>сотрудник</td>\n",
       "      <td>0</td>\n",
       "      <td>135823.934197</td>\n",
       "      <td>образование</td>\n",
       "    </tr>\n",
       "    <tr>\n",
       "      <th>8</th>\n",
       "      <td>2</td>\n",
       "      <td>-6929.865299</td>\n",
       "      <td>35</td>\n",
       "      <td>ВЫСШЕЕ</td>\n",
       "      <td>0</td>\n",
       "      <td>гражданский брак</td>\n",
       "      <td>1</td>\n",
       "      <td>F</td>\n",
       "      <td>сотрудник</td>\n",
       "      <td>0</td>\n",
       "      <td>95856.832424</td>\n",
       "      <td>на проведение свадьбы</td>\n",
       "    </tr>\n",
       "    <tr>\n",
       "      <th>9</th>\n",
       "      <td>0</td>\n",
       "      <td>-2188.756445</td>\n",
       "      <td>41</td>\n",
       "      <td>среднее</td>\n",
       "      <td>1</td>\n",
       "      <td>женат / замужем</td>\n",
       "      <td>0</td>\n",
       "      <td>M</td>\n",
       "      <td>сотрудник</td>\n",
       "      <td>0</td>\n",
       "      <td>144425.938277</td>\n",
       "      <td>покупка жилья для семьи</td>\n",
       "    </tr>\n",
       "    <tr>\n",
       "      <th>10</th>\n",
       "      <td>2</td>\n",
       "      <td>-4171.483647</td>\n",
       "      <td>36</td>\n",
       "      <td>высшее</td>\n",
       "      <td>0</td>\n",
       "      <td>женат / замужем</td>\n",
       "      <td>0</td>\n",
       "      <td>M</td>\n",
       "      <td>компаньон</td>\n",
       "      <td>0</td>\n",
       "      <td>113943.491460</td>\n",
       "      <td>покупка недвижимости</td>\n",
       "    </tr>\n",
       "    <tr>\n",
       "      <th>11</th>\n",
       "      <td>0</td>\n",
       "      <td>-792.701887</td>\n",
       "      <td>40</td>\n",
       "      <td>среднее</td>\n",
       "      <td>1</td>\n",
       "      <td>женат / замужем</td>\n",
       "      <td>0</td>\n",
       "      <td>F</td>\n",
       "      <td>сотрудник</td>\n",
       "      <td>0</td>\n",
       "      <td>77069.234271</td>\n",
       "      <td>покупка коммерческой недвижимости</td>\n",
       "    </tr>\n",
       "    <tr>\n",
       "      <th>12</th>\n",
       "      <td>0</td>\n",
       "      <td>NaN</td>\n",
       "      <td>65</td>\n",
       "      <td>среднее</td>\n",
       "      <td>1</td>\n",
       "      <td>гражданский брак</td>\n",
       "      <td>1</td>\n",
       "      <td>M</td>\n",
       "      <td>пенсионер</td>\n",
       "      <td>0</td>\n",
       "      <td>NaN</td>\n",
       "      <td>сыграть свадьбу</td>\n",
       "    </tr>\n",
       "    <tr>\n",
       "      <th>13</th>\n",
       "      <td>0</td>\n",
       "      <td>-1846.641941</td>\n",
       "      <td>54</td>\n",
       "      <td>неоконченное высшее</td>\n",
       "      <td>2</td>\n",
       "      <td>женат / замужем</td>\n",
       "      <td>0</td>\n",
       "      <td>F</td>\n",
       "      <td>сотрудник</td>\n",
       "      <td>0</td>\n",
       "      <td>130458.228857</td>\n",
       "      <td>приобретение автомобиля</td>\n",
       "    </tr>\n",
       "    <tr>\n",
       "      <th>14</th>\n",
       "      <td>0</td>\n",
       "      <td>-1844.956182</td>\n",
       "      <td>56</td>\n",
       "      <td>высшее</td>\n",
       "      <td>0</td>\n",
       "      <td>гражданский брак</td>\n",
       "      <td>1</td>\n",
       "      <td>F</td>\n",
       "      <td>компаньон</td>\n",
       "      <td>1</td>\n",
       "      <td>165127.911772</td>\n",
       "      <td>покупка жилой недвижимости</td>\n",
       "    </tr>\n",
       "    <tr>\n",
       "      <th>15</th>\n",
       "      <td>1</td>\n",
       "      <td>-972.364419</td>\n",
       "      <td>26</td>\n",
       "      <td>среднее</td>\n",
       "      <td>1</td>\n",
       "      <td>женат / замужем</td>\n",
       "      <td>0</td>\n",
       "      <td>F</td>\n",
       "      <td>сотрудник</td>\n",
       "      <td>0</td>\n",
       "      <td>116820.904450</td>\n",
       "      <td>строительство собственной недвижимости</td>\n",
       "    </tr>\n",
       "    <tr>\n",
       "      <th>16</th>\n",
       "      <td>0</td>\n",
       "      <td>-1719.934226</td>\n",
       "      <td>35</td>\n",
       "      <td>среднее</td>\n",
       "      <td>1</td>\n",
       "      <td>женат / замужем</td>\n",
       "      <td>0</td>\n",
       "      <td>F</td>\n",
       "      <td>сотрудник</td>\n",
       "      <td>0</td>\n",
       "      <td>289202.704229</td>\n",
       "      <td>недвижимость</td>\n",
       "    </tr>\n",
       "    <tr>\n",
       "      <th>17</th>\n",
       "      <td>0</td>\n",
       "      <td>-2369.999720</td>\n",
       "      <td>33</td>\n",
       "      <td>высшее</td>\n",
       "      <td>0</td>\n",
       "      <td>гражданский брак</td>\n",
       "      <td>1</td>\n",
       "      <td>M</td>\n",
       "      <td>сотрудник</td>\n",
       "      <td>0</td>\n",
       "      <td>90410.586745</td>\n",
       "      <td>строительство недвижимости</td>\n",
       "    </tr>\n",
       "    <tr>\n",
       "      <th>18</th>\n",
       "      <td>0</td>\n",
       "      <td>400281.136913</td>\n",
       "      <td>53</td>\n",
       "      <td>среднее</td>\n",
       "      <td>1</td>\n",
       "      <td>вдовец / вдова</td>\n",
       "      <td>2</td>\n",
       "      <td>F</td>\n",
       "      <td>пенсионер</td>\n",
       "      <td>0</td>\n",
       "      <td>56823.777243</td>\n",
       "      <td>на покупку подержанного автомобиля</td>\n",
       "    </tr>\n",
       "    <tr>\n",
       "      <th>19</th>\n",
       "      <td>0</td>\n",
       "      <td>-10038.818549</td>\n",
       "      <td>48</td>\n",
       "      <td>СРЕДНЕЕ</td>\n",
       "      <td>1</td>\n",
       "      <td>в разводе</td>\n",
       "      <td>3</td>\n",
       "      <td>F</td>\n",
       "      <td>сотрудник</td>\n",
       "      <td>0</td>\n",
       "      <td>242831.107982</td>\n",
       "      <td>на покупку своего автомобиля</td>\n",
       "    </tr>\n",
       "  </tbody>\n",
       "</table>\n",
       "</div>"
      ],
      "text/plain": [
       "    children  days_employed  dob_years            education  education_id  \\\n",
       "0          1   -8437.673028         42               высшее             0   \n",
       "1          1   -4024.803754         36              среднее             1   \n",
       "2          0   -5623.422610         33              Среднее             1   \n",
       "3          3   -4124.747207         32              среднее             1   \n",
       "4          0  340266.072047         53              среднее             1   \n",
       "5          0    -926.185831         27               высшее             0   \n",
       "6          0   -2879.202052         43               высшее             0   \n",
       "7          0    -152.779569         50              СРЕДНЕЕ             1   \n",
       "8          2   -6929.865299         35               ВЫСШЕЕ             0   \n",
       "9          0   -2188.756445         41              среднее             1   \n",
       "10         2   -4171.483647         36               высшее             0   \n",
       "11         0    -792.701887         40              среднее             1   \n",
       "12         0            NaN         65              среднее             1   \n",
       "13         0   -1846.641941         54  неоконченное высшее             2   \n",
       "14         0   -1844.956182         56               высшее             0   \n",
       "15         1    -972.364419         26              среднее             1   \n",
       "16         0   -1719.934226         35              среднее             1   \n",
       "17         0   -2369.999720         33               высшее             0   \n",
       "18         0  400281.136913         53              среднее             1   \n",
       "19         0  -10038.818549         48              СРЕДНЕЕ             1   \n",
       "\n",
       "       family_status  family_status_id gender income_type  debt  \\\n",
       "0    женат / замужем                 0      F   сотрудник     0   \n",
       "1    женат / замужем                 0      F   сотрудник     0   \n",
       "2    женат / замужем                 0      M   сотрудник     0   \n",
       "3    женат / замужем                 0      M   сотрудник     0   \n",
       "4   гражданский брак                 1      F   пенсионер     0   \n",
       "5   гражданский брак                 1      M   компаньон     0   \n",
       "6    женат / замужем                 0      F   компаньон     0   \n",
       "7    женат / замужем                 0      M   сотрудник     0   \n",
       "8   гражданский брак                 1      F   сотрудник     0   \n",
       "9    женат / замужем                 0      M   сотрудник     0   \n",
       "10   женат / замужем                 0      M   компаньон     0   \n",
       "11   женат / замужем                 0      F   сотрудник     0   \n",
       "12  гражданский брак                 1      M   пенсионер     0   \n",
       "13   женат / замужем                 0      F   сотрудник     0   \n",
       "14  гражданский брак                 1      F   компаньон     1   \n",
       "15   женат / замужем                 0      F   сотрудник     0   \n",
       "16   женат / замужем                 0      F   сотрудник     0   \n",
       "17  гражданский брак                 1      M   сотрудник     0   \n",
       "18    вдовец / вдова                 2      F   пенсионер     0   \n",
       "19         в разводе                 3      F   сотрудник     0   \n",
       "\n",
       "     total_income                                 purpose  \n",
       "0   253875.639453                           покупка жилья  \n",
       "1   112080.014102                 приобретение автомобиля  \n",
       "2   145885.952297                           покупка жилья  \n",
       "3   267628.550329              дополнительное образование  \n",
       "4   158616.077870                         сыграть свадьбу  \n",
       "5   255763.565419                           покупка жилья  \n",
       "6   240525.971920                       операции с жильем  \n",
       "7   135823.934197                             образование  \n",
       "8    95856.832424                   на проведение свадьбы  \n",
       "9   144425.938277                 покупка жилья для семьи  \n",
       "10  113943.491460                    покупка недвижимости  \n",
       "11   77069.234271       покупка коммерческой недвижимости  \n",
       "12            NaN                         сыграть свадьбу  \n",
       "13  130458.228857                 приобретение автомобиля  \n",
       "14  165127.911772              покупка жилой недвижимости  \n",
       "15  116820.904450  строительство собственной недвижимости  \n",
       "16  289202.704229                            недвижимость  \n",
       "17   90410.586745              строительство недвижимости  \n",
       "18   56823.777243      на покупку подержанного автомобиля  \n",
       "19  242831.107982            на покупку своего автомобиля  "
      ]
     },
     "execution_count": 2,
     "metadata": {},
     "output_type": "execute_result"
    }
   ],
   "source": [
    "data.head(20)"
   ]
  },
  {
   "cell_type": "markdown",
   "id": "bc4172b9",
   "metadata": {
    "deletable": false,
    "editable": false,
    "id": "1c12e233"
   },
   "source": [
    "**Задание 3. Выведите основную информацию о датафрейме с помощью метода `info()`.**"
   ]
  },
  {
   "cell_type": "code",
   "execution_count": 3,
   "id": "6ee32b82",
   "metadata": {
    "deletable": false,
    "id": "2b757bca",
    "outputId": "15376089-8dad-46c9-b520-c05248d43158"
   },
   "outputs": [
    {
     "name": "stdout",
     "output_type": "stream",
     "text": [
      "<class 'pandas.core.frame.DataFrame'>\n",
      "RangeIndex: 21525 entries, 0 to 21524\n",
      "Data columns (total 12 columns):\n",
      " #   Column            Non-Null Count  Dtype  \n",
      "---  ------            --------------  -----  \n",
      " 0   children          21525 non-null  int64  \n",
      " 1   days_employed     19351 non-null  float64\n",
      " 2   dob_years         21525 non-null  int64  \n",
      " 3   education         21525 non-null  object \n",
      " 4   education_id      21525 non-null  int64  \n",
      " 5   family_status     21525 non-null  object \n",
      " 6   family_status_id  21525 non-null  int64  \n",
      " 7   gender            21525 non-null  object \n",
      " 8   income_type       21525 non-null  object \n",
      " 9   debt              21525 non-null  int64  \n",
      " 10  total_income      19351 non-null  float64\n",
      " 11  purpose           21525 non-null  object \n",
      "dtypes: float64(2), int64(5), object(5)\n",
      "memory usage: 2.0+ MB\n"
     ]
    }
   ],
   "source": [
    "data.info()"
   ]
  },
  {
   "cell_type": "markdown",
   "id": "e9c03ea5",
   "metadata": {
    "deletable": false,
    "editable": false,
    "id": "333ec665"
   },
   "source": [
    "## Предобработка данных"
   ]
  },
  {
   "cell_type": "markdown",
   "id": "12b7d827",
   "metadata": {
    "deletable": false,
    "editable": false,
    "id": "02d92d53"
   },
   "source": [
    "### Удаление пропусков"
   ]
  },
  {
   "cell_type": "markdown",
   "id": "d7073160",
   "metadata": {
    "deletable": false,
    "editable": false,
    "id": "cd84967c"
   },
   "source": [
    "**Задание 4. Выведите количество пропущенных значений для каждого столбца. Используйте комбинацию двух методов.**"
   ]
  },
  {
   "cell_type": "code",
   "execution_count": 4,
   "id": "be6c9655",
   "metadata": {
    "deletable": false,
    "id": "7f9b2309",
    "outputId": "81f4d817-781c-465c-ed15-91ce4446810d"
   },
   "outputs": [
    {
     "data": {
      "text/plain": [
       "children               0\n",
       "days_employed       2174\n",
       "dob_years              0\n",
       "education              0\n",
       "education_id           0\n",
       "family_status          0\n",
       "family_status_id       0\n",
       "gender                 0\n",
       "income_type            0\n",
       "debt                   0\n",
       "total_income        2174\n",
       "purpose                0\n",
       "dtype: int64"
      ]
     },
     "execution_count": 4,
     "metadata": {},
     "output_type": "execute_result"
    }
   ],
   "source": [
    "data.isna().sum()"
   ]
  },
  {
   "cell_type": "markdown",
   "id": "d4272c38",
   "metadata": {
    "deletable": false,
    "editable": false,
    "id": "db86e27b"
   },
   "source": [
    "**Задание 5. В двух столбцах есть пропущенные значения. Один из них — `days_employed`. Пропуски в этом столбце вы обработаете на следующем этапе. Другой столбец с пропущенными значениями — `total_income` — хранит данные о доходах. На сумму дохода сильнее всего влияет тип занятости, поэтому заполнить пропуски в этом столбце нужно медианным значением по каждому типу из столбца `income_type`. Например, у человека с типом занятости `сотрудник` пропуск в столбце `total_income` должен быть заполнен медианным доходом среди всех записей с тем же типом.**"
   ]
  },
  {
   "cell_type": "code",
   "execution_count": 5,
   "id": "6909c9ed",
   "metadata": {
    "deletable": false,
    "id": "42006a93"
   },
   "outputs": [],
   "source": [
    "for t in data['income_type'].unique():\n",
    "    data.loc[(data['income_type'] == t) & (data['total_income'].isna()), 'total_income'] = \\\n",
    "    data.loc[(data['income_type'] == t), 'total_income'].median()"
   ]
  },
  {
   "cell_type": "markdown",
   "id": "64f49117",
   "metadata": {
    "deletable": false,
    "editable": false,
    "id": "89da5ece"
   },
   "source": [
    "### Обработка аномальных значений"
   ]
  },
  {
   "cell_type": "markdown",
   "id": "b568bb9e",
   "metadata": {
    "deletable": false,
    "editable": false,
    "id": "57964554"
   },
   "source": [
    "**Задание 6. В данных могут встречаться артефакты (аномалии) — значения, которые не отражают действительность и появились по какой-то ошибке. таким артефактом будет отрицательное количество дней трудового стажа в столбце `days_employed`. Для реальных данных это нормально. Обработайте значения в этом столбце: замените все отрицательные значения положительными с помощью метода `abs()`.**"
   ]
  },
  {
   "cell_type": "code",
   "execution_count": 6,
   "id": "15507067",
   "metadata": {
    "deletable": false,
    "id": "f6f055bf"
   },
   "outputs": [],
   "source": [
    "data['days_employed'] = data['days_employed'].abs()"
   ]
  },
  {
   "cell_type": "markdown",
   "id": "c5013081",
   "metadata": {
    "deletable": false,
    "editable": false,
    "id": "6107dd2f"
   },
   "source": [
    "**Задание 7. Для каждого типа занятости выведите медианное значение трудового стажа `days_employed` в днях.**"
   ]
  },
  {
   "cell_type": "code",
   "execution_count": 7,
   "id": "ef4d99ed",
   "metadata": {
    "deletable": false,
    "id": "85a5faf6",
    "outputId": "801ef80e-522b-4668-f34e-565af7432bcf"
   },
   "outputs": [
    {
     "data": {
      "text/plain": [
       "income_type\n",
       "безработный        366413.652744\n",
       "в декрете            3296.759962\n",
       "госслужащий          2689.368353\n",
       "компаньон            1547.382223\n",
       "пенсионер          365213.306266\n",
       "предприниматель       520.848083\n",
       "сотрудник            1574.202821\n",
       "студент               578.751554\n",
       "Name: days_employed, dtype: float64"
      ]
     },
     "execution_count": 7,
     "metadata": {},
     "output_type": "execute_result"
    }
   ],
   "source": [
    "data.groupby('income_type')['days_employed'].agg('median')"
   ]
  },
  {
   "cell_type": "markdown",
   "id": "b11b05d3",
   "metadata": {
    "deletable": false,
    "editable": false,
    "id": "38d1a030"
   },
   "source": [
    "У двух типов (безработные и пенсионеры) получатся аномально большие значения. Исправить такие значения сложно, поэтому оставьте их как есть. Тем более этот столбец не понадобится вам для исследования."
   ]
  },
  {
   "cell_type": "markdown",
   "id": "f7c51f66",
   "metadata": {
    "deletable": false,
    "editable": false,
    "id": "d8a9f147"
   },
   "source": [
    "**Задание 8. Выведите перечень уникальных значений столбца `children`.**"
   ]
  },
  {
   "cell_type": "code",
   "execution_count": 8,
   "id": "113b4331",
   "metadata": {
    "deletable": false,
    "id": "ef5056eb",
    "outputId": "6975b15c-7f95-4697-d16d-a0c79b657b03"
   },
   "outputs": [
    {
     "data": {
      "text/plain": [
       "array([ 1,  0,  3,  2, -1,  4, 20,  5])"
      ]
     },
     "execution_count": 8,
     "metadata": {},
     "output_type": "execute_result"
    }
   ],
   "source": [
    "data['children'].unique()"
   ]
  },
  {
   "cell_type": "markdown",
   "id": "52957bbd",
   "metadata": {
    "deletable": false,
    "editable": false,
    "id": "40b9ebf2"
   },
   "source": [
    "**Задание 9. В столбце `children` есть два аномальных значения. Удалите строки, в которых встречаются такие аномальные значения из датафрейма `data`.**"
   ]
  },
  {
   "cell_type": "code",
   "execution_count": 9,
   "id": "3d5900bc",
   "metadata": {
    "deletable": false,
    "id": "3ff9801d"
   },
   "outputs": [],
   "source": [
    "data = data[(data['children'] != -1) & (data['children'] != 20)]"
   ]
  },
  {
   "cell_type": "markdown",
   "id": "510e8463",
   "metadata": {
    "deletable": false,
    "editable": false,
    "id": "bbc4d0ce"
   },
   "source": [
    "**Задание 10. Ещё раз выведите перечень уникальных значений столбца `children`, чтобы убедиться, что артефакты удалены.**"
   ]
  },
  {
   "cell_type": "code",
   "execution_count": 10,
   "id": "0b14dc3c",
   "metadata": {
    "deletable": false,
    "id": "ad4fa8b7",
    "outputId": "b2097101-d49d-44d9-901b-32a65c9463d1"
   },
   "outputs": [
    {
     "data": {
      "text/plain": [
       "array([1, 0, 3, 2, 4, 5])"
      ]
     },
     "execution_count": 10,
     "metadata": {},
     "output_type": "execute_result"
    }
   ],
   "source": [
    "data['children'].unique()"
   ]
  },
  {
   "cell_type": "markdown",
   "id": "f5226ba9",
   "metadata": {
    "deletable": false,
    "editable": false,
    "id": "75440b63"
   },
   "source": [
    "### Удаление пропусков (продолжение)"
   ]
  },
  {
   "cell_type": "markdown",
   "id": "b06a4c0b",
   "metadata": {
    "deletable": false,
    "editable": false,
    "id": "f4ea573f"
   },
   "source": [
    "**Задание 11. Заполните пропуски в столбце `days_employed` медианными значениями по каждого типа занятости `income_type`.**"
   ]
  },
  {
   "cell_type": "code",
   "execution_count": 11,
   "id": "030f48da",
   "metadata": {
    "deletable": false,
    "id": "af6b1a7e"
   },
   "outputs": [],
   "source": [
    "for t in data['income_type'].unique():\n",
    "    data.loc[(data['income_type'] == t) & (data['days_employed'].isna()), 'days_employed'] = \\\n",
    "    data.loc[(data['income_type'] == t), 'days_employed'].median()"
   ]
  },
  {
   "cell_type": "markdown",
   "id": "ca898757",
   "metadata": {
    "deletable": false,
    "editable": false,
    "id": "2753f40d"
   },
   "source": [
    "**Задание 12. Убедитесь, что все пропуски заполнены. Проверьте себя и ещё раз выведите количество пропущенных значений для каждого столбца с помощью двух методов.**"
   ]
  },
  {
   "cell_type": "code",
   "execution_count": 12,
   "id": "7ba93a4e",
   "metadata": {
    "deletable": false,
    "id": "55f78bc2",
    "outputId": "8da1e4e1-358e-4e87-98c9-f261bce0a7b2"
   },
   "outputs": [
    {
     "data": {
      "text/plain": [
       "children            0\n",
       "days_employed       0\n",
       "dob_years           0\n",
       "education           0\n",
       "education_id        0\n",
       "family_status       0\n",
       "family_status_id    0\n",
       "gender              0\n",
       "income_type         0\n",
       "debt                0\n",
       "total_income        0\n",
       "purpose             0\n",
       "dtype: int64"
      ]
     },
     "execution_count": 12,
     "metadata": {},
     "output_type": "execute_result"
    }
   ],
   "source": [
    "data.isna().sum()"
   ]
  },
  {
   "cell_type": "markdown",
   "id": "3fd5382f",
   "metadata": {
    "deletable": false,
    "editable": false,
    "id": "ddc81e43"
   },
   "source": [
    "### Изменение типов данных"
   ]
  },
  {
   "cell_type": "markdown",
   "id": "c7eff83c",
   "metadata": {
    "deletable": false,
    "editable": false,
    "id": "42d19d24"
   },
   "source": [
    "**Задание 13. Замените вещественный тип данных в столбце `total_income` на целочисленный с помощью метода `astype()`.**"
   ]
  },
  {
   "cell_type": "code",
   "execution_count": 13,
   "id": "bb61252c",
   "metadata": {
    "deletable": false,
    "id": "920b65ad"
   },
   "outputs": [],
   "source": [
    "data['total_income'] = data['total_income'].astype(int)"
   ]
  },
  {
   "cell_type": "markdown",
   "id": "47d0430c",
   "metadata": {
    "deletable": false,
    "editable": false,
    "id": "80c420ba"
   },
   "source": [
    "### Обработка дубликатов"
   ]
  },
  {
   "cell_type": "markdown",
   "id": "bd270f8f",
   "metadata": {
    "deletable": false,
    "editable": false
   },
   "source": [
    "**Задание 14. Обработайте неявные дубликаты в столбце `education`. В этом столбце есть одни и те же значения, но записанные по-разному: с использованием заглавных и строчных букв. Приведите их к нижнему регистру.**"
   ]
  },
  {
   "cell_type": "code",
   "execution_count": 14,
   "id": "3c9771a4",
   "metadata": {
    "deletable": false
   },
   "outputs": [],
   "source": [
    "data['education'] = data['education'].str.lower()"
   ]
  },
  {
   "cell_type": "markdown",
   "id": "e0d78569",
   "metadata": {
    "deletable": false,
    "editable": false,
    "id": "dc587695"
   },
   "source": [
    "**Задание 15. Выведите на экран количество строк-дубликатов в данных. Если такие строки присутствуют, удалите их.**"
   ]
  },
  {
   "cell_type": "code",
   "execution_count": 15,
   "id": "0ab1b154",
   "metadata": {
    "deletable": false,
    "id": "3ee445e4",
    "outputId": "9684deba-1934-42d1-99e1-cda61740f822"
   },
   "outputs": [
    {
     "data": {
      "text/plain": [
       "71"
      ]
     },
     "execution_count": 15,
     "metadata": {},
     "output_type": "execute_result"
    }
   ],
   "source": [
    "data.duplicated().sum()"
   ]
  },
  {
   "cell_type": "code",
   "execution_count": 16,
   "id": "61034dcd",
   "metadata": {
    "deletable": false,
    "id": "8575fe05"
   },
   "outputs": [],
   "source": [
    "data = data.drop_duplicates()"
   ]
  },
  {
   "cell_type": "markdown",
   "id": "25391d95",
   "metadata": {
    "deletable": false,
    "editable": false,
    "id": "9904cf55"
   },
   "source": [
    "### Категоризация данных"
   ]
  },
  {
   "cell_type": "markdown",
   "id": "ac2c8e03",
   "metadata": {
    "deletable": false,
    "editable": false,
    "id": "72fcc8a2"
   },
   "source": [
    "**Задание 16. На основании диапазонов, указанных ниже, создайте в датафрейме `data` столбец `total_income_category` с категориями:**\n",
    "\n",
    "- 0–30000 — `'E'`;\n",
    "- 30001–50000 — `'D'`;\n",
    "- 50001–200000 — `'C'`;\n",
    "- 200001–1000000 — `'B'`;\n",
    "- 1000001 и выше — `'A'`.\n",
    "\n",
    "\n",
    "**Например, кредитополучателю с доходом 25000 нужно назначить категорию `'E'`, а клиенту, получающему 235000, — `'B'`. Используйте собственную функцию с именем `categorize_income()` и метод `apply()`.**"
   ]
  },
  {
   "cell_type": "code",
   "execution_count": 17,
   "id": "6c62d206",
   "metadata": {
    "deletable": false,
    "id": "e1771346"
   },
   "outputs": [],
   "source": [
    "def categorize_income(income):\n",
    "    try:\n",
    "        if 0 <= income <= 30000:\n",
    "            return 'E'\n",
    "        elif 30001 <= income <= 50000:\n",
    "            return 'D'\n",
    "        elif 50001 <= income <= 200000:\n",
    "            return 'C'\n",
    "        elif 200001 <= income <= 1000000:\n",
    "            return 'B'\n",
    "        elif income >= 1000001:\n",
    "            return 'A'\n",
    "    except:\n",
    "        pass"
   ]
  },
  {
   "cell_type": "code",
   "execution_count": 18,
   "id": "320c0a5e",
   "metadata": {
    "deletable": false,
    "id": "d5f3586d"
   },
   "outputs": [],
   "source": [
    "data['total_income_category'] = data['total_income'].apply(categorize_income)"
   ]
  },
  {
   "cell_type": "markdown",
   "id": "def22224",
   "metadata": {
    "deletable": false,
    "editable": false,
    "id": "dde49b5c"
   },
   "source": [
    "**Задание 17. Выведите на экран перечень уникальных целей взятия кредита из столбца `purpose`.**"
   ]
  },
  {
   "cell_type": "code",
   "execution_count": 19,
   "id": "f32267d5",
   "metadata": {
    "deletable": false,
    "id": "f67ce9b3",
    "outputId": "673c12d9-7d7e-4ae0-9812-c622c89dd244"
   },
   "outputs": [
    {
     "data": {
      "text/plain": [
       "array(['покупка жилья', 'приобретение автомобиля',\n",
       "       'дополнительное образование', 'сыграть свадьбу',\n",
       "       'операции с жильем', 'образование', 'на проведение свадьбы',\n",
       "       'покупка жилья для семьи', 'покупка недвижимости',\n",
       "       'покупка коммерческой недвижимости', 'покупка жилой недвижимости',\n",
       "       'строительство собственной недвижимости', 'недвижимость',\n",
       "       'строительство недвижимости', 'на покупку подержанного автомобиля',\n",
       "       'на покупку своего автомобиля',\n",
       "       'операции с коммерческой недвижимостью',\n",
       "       'строительство жилой недвижимости', 'жилье',\n",
       "       'операции со своей недвижимостью', 'автомобили',\n",
       "       'заняться образованием', 'сделка с подержанным автомобилем',\n",
       "       'получение образования', 'автомобиль', 'свадьба',\n",
       "       'получение дополнительного образования', 'покупка своего жилья',\n",
       "       'операции с недвижимостью', 'получение высшего образования',\n",
       "       'свой автомобиль', 'сделка с автомобилем',\n",
       "       'профильное образование', 'высшее образование',\n",
       "       'покупка жилья для сдачи', 'на покупку автомобиля', 'ремонт жилью',\n",
       "       'заняться высшим образованием'], dtype=object)"
      ]
     },
     "execution_count": 19,
     "metadata": {},
     "output_type": "execute_result"
    }
   ],
   "source": [
    "data['purpose'].unique()"
   ]
  },
  {
   "cell_type": "markdown",
   "id": "b3901de6",
   "metadata": {
    "deletable": false,
    "editable": false,
    "id": "85d0aef0"
   },
   "source": [
    "**Задание 18. Создайте функцию, которая на основании данных из столбца `purpose` сформирует новый столбец `purpose_category`, в который войдут следующие категории:**\n",
    "\n",
    "- `'операции с автомобилем'`,\n",
    "- `'операции с недвижимостью'`,\n",
    "- `'проведение свадьбы'`,\n",
    "- `'получение образования'`.\n",
    "\n",
    "**Например, если в столбце `purpose` находится подстрока `'на покупку автомобиля'`, то в столбце `purpose_category` должна появиться строка `'операции с автомобилем'`.**\n",
    "\n",
    "**Используйте собственную функцию с именем `categorize_purpose()` и метод `apply()`. Изучите данные в столбце `purpose` и определите, какие подстроки помогут вам правильно определить категорию.**"
   ]
  },
  {
   "cell_type": "code",
   "execution_count": 20,
   "id": "54fdb881",
   "metadata": {
    "deletable": false,
    "id": "e149fab4"
   },
   "outputs": [],
   "source": [
    "def categorize_purpose(row):\n",
    "    try:\n",
    "        if 'автом' in row:\n",
    "            return 'операции с автомобилем'\n",
    "        elif 'жил' in row or 'недвиж' in row:\n",
    "            return 'операции с недвижимостью'\n",
    "        elif 'свад' in row:\n",
    "            return 'проведение свадьбы'\n",
    "        elif 'образов' in row:\n",
    "            return 'получение образования'\n",
    "    except:\n",
    "        return 'нет категории'"
   ]
  },
  {
   "cell_type": "code",
   "execution_count": 21,
   "id": "8d370479",
   "metadata": {
    "deletable": false,
    "id": "bf36e69b"
   },
   "outputs": [],
   "source": [
    "data['purpose_category'] = data['purpose'].apply(categorize_purpose)"
   ]
  },
  {
   "cell_type": "markdown",
   "id": "3ae65435",
   "metadata": {
    "deletable": false,
    "editable": false,
    "id": "09b242bf"
   },
   "source": [
    "### Шаг 3. Исследуйте данные и ответьте на вопросы"
   ]
  },
  {
   "cell_type": "markdown",
   "id": "053910a1",
   "metadata": {
    "deletable": false,
    "editable": false,
    "id": "c5d66278"
   },
   "source": [
    "#### 3.1 Есть ли зависимость между количеством детей и возвратом кредита в срок?"
   ]
  },
  {
   "cell_type": "code",
   "execution_count": 22,
   "id": "c9746e7c",
   "metadata": {
    "deletable": false,
    "id": "2cacfc4a"
   },
   "outputs": [
    {
     "data": {
      "text/html": [
       "<div>\n",
       "<style scoped>\n",
       "    .dataframe tbody tr th:only-of-type {\n",
       "        vertical-align: middle;\n",
       "    }\n",
       "\n",
       "    .dataframe tbody tr th {\n",
       "        vertical-align: top;\n",
       "    }\n",
       "\n",
       "    .dataframe thead th {\n",
       "        text-align: right;\n",
       "    }\n",
       "</style>\n",
       "<table border=\"1\" class=\"dataframe\">\n",
       "  <thead>\n",
       "    <tr style=\"text-align: right;\">\n",
       "      <th></th>\n",
       "      <th>count</th>\n",
       "      <th>sum</th>\n",
       "      <th>ratio</th>\n",
       "    </tr>\n",
       "    <tr>\n",
       "      <th>children</th>\n",
       "      <th></th>\n",
       "      <th></th>\n",
       "      <th></th>\n",
       "    </tr>\n",
       "  </thead>\n",
       "  <tbody>\n",
       "    <tr>\n",
       "      <th>4</th>\n",
       "      <td>41</td>\n",
       "      <td>4</td>\n",
       "      <td>0.097561</td>\n",
       "    </tr>\n",
       "    <tr>\n",
       "      <th>2</th>\n",
       "      <td>2052</td>\n",
       "      <td>194</td>\n",
       "      <td>0.094542</td>\n",
       "    </tr>\n",
       "    <tr>\n",
       "      <th>1</th>\n",
       "      <td>4808</td>\n",
       "      <td>444</td>\n",
       "      <td>0.092346</td>\n",
       "    </tr>\n",
       "    <tr>\n",
       "      <th>3</th>\n",
       "      <td>330</td>\n",
       "      <td>27</td>\n",
       "      <td>0.081818</td>\n",
       "    </tr>\n",
       "    <tr>\n",
       "      <th>0</th>\n",
       "      <td>14091</td>\n",
       "      <td>1063</td>\n",
       "      <td>0.075438</td>\n",
       "    </tr>\n",
       "    <tr>\n",
       "      <th>5</th>\n",
       "      <td>9</td>\n",
       "      <td>0</td>\n",
       "      <td>0.000000</td>\n",
       "    </tr>\n",
       "  </tbody>\n",
       "</table>\n",
       "</div>"
      ],
      "text/plain": [
       "          count   sum     ratio\n",
       "children                       \n",
       "4            41     4  0.097561\n",
       "2          2052   194  0.094542\n",
       "1          4808   444  0.092346\n",
       "3           330    27  0.081818\n",
       "0         14091  1063  0.075438\n",
       "5             9     0  0.000000"
      ]
     },
     "execution_count": 22,
     "metadata": {},
     "output_type": "execute_result"
    }
   ],
   "source": [
    "# 1 - Построим сводную таблицу\n",
    "data_pivot = data.pivot_table(index=['children'], values='debt', aggfunc = {'count','sum'})\n",
    "\n",
    "# 2 - Найдем отношение 'sum'/'count' и выведем в отдельном столбце 'ratio'\n",
    "data_pivot['ratio'] = data_pivot['sum'] / data_pivot['count']\n",
    "\n",
    "# 3 - Отсортируем рейтинг в порядке убывания\n",
    "data_pivot = data_pivot.sort_values(by = 'ratio', ascending = False)\n",
    "\n",
    "data_pivot\n"
   ]
  },
  {
   "cell_type": "code",
   "execution_count": 23,
   "id": "9db94619",
   "metadata": {},
   "outputs": [
    {
     "data": {
      "text/html": [
       "<div>\n",
       "<style scoped>\n",
       "    .dataframe tbody tr th:only-of-type {\n",
       "        vertical-align: middle;\n",
       "    }\n",
       "\n",
       "    .dataframe tbody tr th {\n",
       "        vertical-align: top;\n",
       "    }\n",
       "\n",
       "    .dataframe thead tr th {\n",
       "        text-align: left;\n",
       "    }\n",
       "\n",
       "    .dataframe thead tr:last-of-type th {\n",
       "        text-align: right;\n",
       "    }\n",
       "</style>\n",
       "<table border=\"1\" class=\"dataframe\">\n",
       "  <thead>\n",
       "    <tr>\n",
       "      <th></th>\n",
       "      <th>count</th>\n",
       "      <th>sum</th>\n",
       "      <th>mean</th>\n",
       "    </tr>\n",
       "    <tr>\n",
       "      <th></th>\n",
       "      <th>debt</th>\n",
       "      <th>debt</th>\n",
       "      <th>debt</th>\n",
       "    </tr>\n",
       "    <tr>\n",
       "      <th>children</th>\n",
       "      <th></th>\n",
       "      <th></th>\n",
       "      <th></th>\n",
       "    </tr>\n",
       "  </thead>\n",
       "  <tbody>\n",
       "    <tr>\n",
       "      <th>4</th>\n",
       "      <td>41</td>\n",
       "      <td>4</td>\n",
       "      <td>0.097561</td>\n",
       "    </tr>\n",
       "    <tr>\n",
       "      <th>2</th>\n",
       "      <td>2052</td>\n",
       "      <td>194</td>\n",
       "      <td>0.094542</td>\n",
       "    </tr>\n",
       "    <tr>\n",
       "      <th>1</th>\n",
       "      <td>4808</td>\n",
       "      <td>444</td>\n",
       "      <td>0.092346</td>\n",
       "    </tr>\n",
       "    <tr>\n",
       "      <th>3</th>\n",
       "      <td>330</td>\n",
       "      <td>27</td>\n",
       "      <td>0.081818</td>\n",
       "    </tr>\n",
       "    <tr>\n",
       "      <th>0</th>\n",
       "      <td>14091</td>\n",
       "      <td>1063</td>\n",
       "      <td>0.075438</td>\n",
       "    </tr>\n",
       "    <tr>\n",
       "      <th>5</th>\n",
       "      <td>9</td>\n",
       "      <td>0</td>\n",
       "      <td>0.000000</td>\n",
       "    </tr>\n",
       "  </tbody>\n",
       "</table>\n",
       "</div>"
      ],
      "text/plain": [
       "          count   sum      mean\n",
       "           debt  debt      debt\n",
       "children                       \n",
       "4            41     4  0.097561\n",
       "2          2052   194  0.094542\n",
       "1          4808   444  0.092346\n",
       "3           330    27  0.081818\n",
       "0         14091  1063  0.075438\n",
       "5             9     0  0.000000"
      ]
     },
     "execution_count": 23,
     "metadata": {},
     "output_type": "execute_result"
    }
   ],
   "source": [
    "# Код ревьюера\n",
    "data.pivot_table(index = 'children', values = 'debt', aggfunc = ['count', 'sum', 'mean'])\\\n",
    "    .sort_values(by = ('mean', 'debt'), ascending = False)"
   ]
  },
  {
   "cell_type": "markdown",
   "id": "cdd3f456",
   "metadata": {
    "deletable": false,
    "id": "3a6b99ec"
   },
   "source": [
    "**Вывод:** зависимость между количеством детей и возвратом кредита в срок - прослеживается, но не ярко выраженная, а сами выборки несбалансированы. Наиболее четкую картину можно увидеть, если сравнить самые большие, сопоставимые по размеру категории заемщиков, с 0, 1 и 2 детьми. Здесь с увеличением кол-ва детей очевидно растет и вероятность просрочки. \n",
    "\n",
    "Возможная причина таких результатов - дополнительная финансовая нагрузка на семьи с детьми"
   ]
  },
  {
   "cell_type": "markdown",
   "id": "49cd92ac",
   "metadata": {
    "deletable": false,
    "editable": false,
    "id": "97be82ca"
   },
   "source": [
    "#### 3.2 Есть ли зависимость между семейным положением и возвратом кредита в срок?"
   ]
  },
  {
   "cell_type": "code",
   "execution_count": 24,
   "id": "d72138a9",
   "metadata": {
    "deletable": false,
    "id": "dc3f7ee8"
   },
   "outputs": [
    {
     "data": {
      "text/html": [
       "<div>\n",
       "<style scoped>\n",
       "    .dataframe tbody tr th:only-of-type {\n",
       "        vertical-align: middle;\n",
       "    }\n",
       "\n",
       "    .dataframe tbody tr th {\n",
       "        vertical-align: top;\n",
       "    }\n",
       "\n",
       "    .dataframe thead th {\n",
       "        text-align: right;\n",
       "    }\n",
       "</style>\n",
       "<table border=\"1\" class=\"dataframe\">\n",
       "  <thead>\n",
       "    <tr style=\"text-align: right;\">\n",
       "      <th></th>\n",
       "      <th>count</th>\n",
       "      <th>sum</th>\n",
       "      <th>ratio</th>\n",
       "    </tr>\n",
       "    <tr>\n",
       "      <th>family_status</th>\n",
       "      <th></th>\n",
       "      <th></th>\n",
       "      <th></th>\n",
       "    </tr>\n",
       "  </thead>\n",
       "  <tbody>\n",
       "    <tr>\n",
       "      <th>Не женат / не замужем</th>\n",
       "      <td>2796</td>\n",
       "      <td>273</td>\n",
       "      <td>0.097639</td>\n",
       "    </tr>\n",
       "    <tr>\n",
       "      <th>гражданский брак</th>\n",
       "      <td>4134</td>\n",
       "      <td>385</td>\n",
       "      <td>0.093130</td>\n",
       "    </tr>\n",
       "    <tr>\n",
       "      <th>женат / замужем</th>\n",
       "      <td>12261</td>\n",
       "      <td>927</td>\n",
       "      <td>0.075606</td>\n",
       "    </tr>\n",
       "    <tr>\n",
       "      <th>в разводе</th>\n",
       "      <td>1189</td>\n",
       "      <td>84</td>\n",
       "      <td>0.070648</td>\n",
       "    </tr>\n",
       "    <tr>\n",
       "      <th>вдовец / вдова</th>\n",
       "      <td>951</td>\n",
       "      <td>63</td>\n",
       "      <td>0.066246</td>\n",
       "    </tr>\n",
       "  </tbody>\n",
       "</table>\n",
       "</div>"
      ],
      "text/plain": [
       "                       count  sum     ratio\n",
       "family_status                              \n",
       "Не женат / не замужем   2796  273  0.097639\n",
       "гражданский брак        4134  385  0.093130\n",
       "женат / замужем        12261  927  0.075606\n",
       "в разводе               1189   84  0.070648\n",
       "вдовец / вдова           951   63  0.066246"
      ]
     },
     "execution_count": 24,
     "metadata": {},
     "output_type": "execute_result"
    }
   ],
   "source": [
    "# 1 - Построим сводную таблицу\n",
    "data_pivot = data.pivot_table(index=['family_status'], values='debt', aggfunc = {'count','sum'})\n",
    "\n",
    "# 2 - Найдем отношение 'sum'/'count' и выведем в отдельном столбце 'ratio'\n",
    "data_pivot['ratio'] = data_pivot['sum'] / data_pivot['count']\n",
    "\n",
    "# 3 - Отсортируем рейтинг в порядке убывания\n",
    "data_pivot = data_pivot.sort_values(by = 'ratio', ascending = False)\n",
    "\n",
    "data_pivot"
   ]
  },
  {
   "cell_type": "markdown",
   "id": "1a7bca7b",
   "metadata": {
    "deletable": false,
    "id": "1cef7837"
   },
   "source": [
    "**Вывод:** зависимость между семейным положением и возвратом кредита в срок - есть. Состоящие или состоявшие в браке заемщики реже допускают просрочки. \n",
    "Вероятные причины просрочек среди безбрачных - юный возраст, нестабильный уровень дохода, безответственность"
   ]
  },
  {
   "cell_type": "markdown",
   "id": "5c8e4e5b",
   "metadata": {
    "deletable": false,
    "editable": false,
    "id": "1e8b2fca"
   },
   "source": [
    "#### 3.3 Есть ли зависимость между уровнем дохода и возвратом кредита в срок?"
   ]
  },
  {
   "cell_type": "code",
   "execution_count": 25,
   "id": "4edb183d",
   "metadata": {
    "deletable": false,
    "id": "cd7e3720"
   },
   "outputs": [
    {
     "data": {
      "text/html": [
       "<div>\n",
       "<style scoped>\n",
       "    .dataframe tbody tr th:only-of-type {\n",
       "        vertical-align: middle;\n",
       "    }\n",
       "\n",
       "    .dataframe tbody tr th {\n",
       "        vertical-align: top;\n",
       "    }\n",
       "\n",
       "    .dataframe thead th {\n",
       "        text-align: right;\n",
       "    }\n",
       "</style>\n",
       "<table border=\"1\" class=\"dataframe\">\n",
       "  <thead>\n",
       "    <tr style=\"text-align: right;\">\n",
       "      <th></th>\n",
       "      <th>count</th>\n",
       "      <th>sum</th>\n",
       "      <th>ratio</th>\n",
       "    </tr>\n",
       "    <tr>\n",
       "      <th>total_income_category</th>\n",
       "      <th></th>\n",
       "      <th></th>\n",
       "      <th></th>\n",
       "    </tr>\n",
       "  </thead>\n",
       "  <tbody>\n",
       "    <tr>\n",
       "      <th>E</th>\n",
       "      <td>22</td>\n",
       "      <td>2</td>\n",
       "      <td>0.090909</td>\n",
       "    </tr>\n",
       "    <tr>\n",
       "      <th>C</th>\n",
       "      <td>15921</td>\n",
       "      <td>1353</td>\n",
       "      <td>0.084982</td>\n",
       "    </tr>\n",
       "    <tr>\n",
       "      <th>A</th>\n",
       "      <td>25</td>\n",
       "      <td>2</td>\n",
       "      <td>0.080000</td>\n",
       "    </tr>\n",
       "    <tr>\n",
       "      <th>B</th>\n",
       "      <td>5014</td>\n",
       "      <td>354</td>\n",
       "      <td>0.070602</td>\n",
       "    </tr>\n",
       "    <tr>\n",
       "      <th>D</th>\n",
       "      <td>349</td>\n",
       "      <td>21</td>\n",
       "      <td>0.060172</td>\n",
       "    </tr>\n",
       "  </tbody>\n",
       "</table>\n",
       "</div>"
      ],
      "text/plain": [
       "                       count   sum     ratio\n",
       "total_income_category                       \n",
       "E                         22     2  0.090909\n",
       "C                      15921  1353  0.084982\n",
       "A                         25     2  0.080000\n",
       "B                       5014   354  0.070602\n",
       "D                        349    21  0.060172"
      ]
     },
     "execution_count": 25,
     "metadata": {},
     "output_type": "execute_result"
    }
   ],
   "source": [
    "# 1 - Построим сводную таблицу\n",
    "data_pivot = data.pivot_table(index=['total_income_category'], values='debt', aggfunc = {'count','sum'})\n",
    "\n",
    "# 2 - Найдем отношение 'sum'/'count' и выведем в отдельном столбце 'ratio'\n",
    "data_pivot['ratio'] = data_pivot['sum'] / data_pivot['count']\n",
    "\n",
    "# 3 - Отсортируем рейтинг в порядке убывания\n",
    "data_pivot = data_pivot.sort_values(by = 'ratio', ascending = False)\n",
    "\n",
    "data_pivot"
   ]
  },
  {
   "cell_type": "markdown",
   "id": "b976fafe",
   "metadata": {
    "deletable": false,
    "id": "e8593def"
   },
   "source": [
    "**Вывод:** зависимость между уровнем дохода и возвратом кредита в срок - очевидна. Здесь так же  стоит сравнивать только две самые многочисленные категории заемщиков - C и B. Клиенты с небольшим доходом чаще допускают просрочки, с высоким - реже"
   ]
  },
  {
   "cell_type": "markdown",
   "id": "73436fcd",
   "metadata": {
    "deletable": false,
    "editable": false,
    "id": "99ecbd1f"
   },
   "source": [
    "#### 3.4 Как разные цели кредита влияют на его возврат в срок?"
   ]
  },
  {
   "cell_type": "code",
   "execution_count": 26,
   "id": "1508aeff",
   "metadata": {
    "deletable": false,
    "id": "2b687290"
   },
   "outputs": [
    {
     "data": {
      "text/html": [
       "<div>\n",
       "<style scoped>\n",
       "    .dataframe tbody tr th:only-of-type {\n",
       "        vertical-align: middle;\n",
       "    }\n",
       "\n",
       "    .dataframe tbody tr th {\n",
       "        vertical-align: top;\n",
       "    }\n",
       "\n",
       "    .dataframe thead th {\n",
       "        text-align: right;\n",
       "    }\n",
       "</style>\n",
       "<table border=\"1\" class=\"dataframe\">\n",
       "  <thead>\n",
       "    <tr style=\"text-align: right;\">\n",
       "      <th></th>\n",
       "      <th>count</th>\n",
       "      <th>sum</th>\n",
       "      <th>ratio</th>\n",
       "    </tr>\n",
       "    <tr>\n",
       "      <th>purpose_category</th>\n",
       "      <th></th>\n",
       "      <th></th>\n",
       "      <th></th>\n",
       "    </tr>\n",
       "  </thead>\n",
       "  <tbody>\n",
       "    <tr>\n",
       "      <th>операции с автомобилем</th>\n",
       "      <td>4279</td>\n",
       "      <td>400</td>\n",
       "      <td>0.093480</td>\n",
       "    </tr>\n",
       "    <tr>\n",
       "      <th>получение образования</th>\n",
       "      <td>3988</td>\n",
       "      <td>369</td>\n",
       "      <td>0.092528</td>\n",
       "    </tr>\n",
       "    <tr>\n",
       "      <th>проведение свадьбы</th>\n",
       "      <td>2313</td>\n",
       "      <td>183</td>\n",
       "      <td>0.079118</td>\n",
       "    </tr>\n",
       "    <tr>\n",
       "      <th>операции с недвижимостью</th>\n",
       "      <td>10751</td>\n",
       "      <td>780</td>\n",
       "      <td>0.072551</td>\n",
       "    </tr>\n",
       "  </tbody>\n",
       "</table>\n",
       "</div>"
      ],
      "text/plain": [
       "                          count  sum     ratio\n",
       "purpose_category                              \n",
       "операции с автомобилем     4279  400  0.093480\n",
       "получение образования      3988  369  0.092528\n",
       "проведение свадьбы         2313  183  0.079118\n",
       "операции с недвижимостью  10751  780  0.072551"
      ]
     },
     "execution_count": 26,
     "metadata": {},
     "output_type": "execute_result"
    }
   ],
   "source": [
    "# 1 - Построим сводную таблицу\n",
    "data_pivot = data.pivot_table(index=['purpose_category'], values='debt', aggfunc = {'count','sum'})\n",
    "\n",
    "# 2 - Найдем отношение 'sum'/'count' и выведем в отдельном столбце 'ratio'\n",
    "data_pivot['ratio'] = data_pivot['sum'] / data_pivot['count']\n",
    "\n",
    "# 3 - Отсортируем рейтинг в порядке убывания\n",
    "data_pivot = data_pivot.sort_values(by = 'ratio', ascending = False)\n",
    "\n",
    "data_pivot"
   ]
  },
  {
   "cell_type": "markdown",
   "id": "8c45d3bb",
   "metadata": {
    "deletable": false,
    "id": "b4bb2ce6"
   },
   "source": [
    "**Вывод:** просрочка зависит от цели кредита. Так - самыми надежными заёмщиками оказались клиенты, берущие кредит под операции с недвиимостью. И самыми ненадежными - заёмщики под операции с автомобилем"
   ]
  },
  {
   "cell_type": "markdown",
   "id": "119249d4",
   "metadata": {
    "deletable": false,
    "editable": false,
    "id": "09c3ac4c"
   },
   "source": [
    "#### 3.5 Приведите возможные причины появления пропусков в исходных данных."
   ]
  },
  {
   "cell_type": "markdown",
   "id": "0b4e3e29",
   "metadata": {
    "deletable": false,
    "id": "9da2ceda"
   },
   "source": [
    "**Ответ:** в исследовании нам встречались пропуски в days_employed и total_income\n",
    "\n",
    "Возможные причины:\n",
    "- неверные методики сбора информации\n",
    "- человеческий фактор (забыл/не захотел указывать)\n",
    "- сокрытие информации"
   ]
  },
  {
   "cell_type": "markdown",
   "id": "c828b4d6",
   "metadata": {
    "deletable": false,
    "editable": false,
    "id": "7b0487d6"
   },
   "source": [
    "#### 3.6 Объясните, почему заполнить пропуски медианным значением — лучшее решение для количественных переменных."
   ]
  },
  {
   "cell_type": "markdown",
   "id": "d17c0674",
   "metadata": {
    "deletable": false,
    "id": "7ecf2b8e"
   },
   "source": [
    "**Ответ:** в этом случае используется вся информация о пропущенных значениях и репрезентативность выборки не страдает. \n",
    "\n",
    "Применение медианы здесь более надежно, чем среднее, поскольку оно смягчает влияние разброса значений (очень большие или очень маленькие значения в наборе данных). Таким образом, работа модели не будет искусственно ухудшаться из-за неправильной трактовки пропусков"
   ]
  },
  {
   "cell_type": "code",
   "execution_count": 27,
   "id": "50ce1fea",
   "metadata": {},
   "outputs": [
    {
     "data": {
      "image/png": "[encoded data removed]",
      "text/plain": [
       "<Figure size 1080x360 with 1 Axes>"
      ]
     },
     "metadata": {
      "needs_background": "light"
     },
     "output_type": "display_data"
    }
   ],
   "source": [
    "# Код ревьюера\n",
    "import matplotlib.pyplot as plt\n",
    "\n",
    "plt.figure(figsize = (15,5))\n",
    "\n",
    "ax = data['days_employed'].hist(bins = 40)\n",
    "\n",
    "ax.axvline(x = data['days_employed'].mean(), color = 'r', linestyle = 'dashed', label = 'mean')\n",
    "ax.axvline(x = data['days_employed'].median(), color = 'y', linestyle = 'dashed', label = 'median')\n",
    "plt.legend()\n",
    "plt.title('Гистограмма по столбцу days_employed с медианой и средним')\n",
    "plt.show()"
   ]
  },
  {
   "cell_type": "markdown",
   "id": "501f5598",
   "metadata": {
    "deletable": false,
    "editable": false,
    "id": "6db5255a"
   },
   "source": [
    "### Шаг 4: общий вывод."
   ]
  },
  {
   "cell_type": "markdown",
   "id": "a96e58bb",
   "metadata": {
    "deletable": false,
    "id": "bad65432"
   },
   "source": [
    "В данной работе исследована надёжность заёмщиков.\n",
    "\n",
    "# Входные данные: \n",
    "Статистика о платёжеспособности клиентов (21525 строк, 12 столбцов)\n",
    "\n",
    "Описание данных:\n",
    "- children — количество детей в семье\n",
    "- days_employed — общий трудовой стаж в днях\n",
    "- dob_years — возраст клиента в годах\n",
    "- education — уровень образования клиента\n",
    "- education_id — идентификатор уровня образования\n",
    "- family_status — семейное положение\n",
    "- family_status_id — идентификатор семейного положения\n",
    "- gender — пол клиента\n",
    "- income_type — тип занятости\n",
    "- debt — имел ли задолженность по возврату кредитов\n",
    "- total_income — ежемесячный доход\n",
    "- purpose — цель получения кредита\n",
    "\n",
    "# На этапе предобработки:\n",
    "\n",
    "- заполнены пропуски \n",
    "- исправлены значения-артефакты (аномалии со слишком большим и отрицательным значением)\n",
    "- обработаны дубликаты\n",
    "- категоризированы значения по доходу и целям кредитования\n",
    "\n",
    "# Вопросы исследования:\n",
    "\n",
    "**1. Есть ли зависимость между количеством детей и возвратом кредита в срок?**\n",
    "\n",
    "|children|count|sum|ratio|\n",
    "|------|------|------|------|\n",
    "|4     |41|4 |0,097561|\n",
    "|2  |2052 |194 |0,094542  |\n",
    "|1  |4808 |444 |0,092346  |\n",
    "|3  |330 |27 |0,081818  |\n",
    "|0  |14091 |1063 |0,075438  |\n",
    "|5  |9 |0 |0,000000  |\n",
    "\n",
    "**Вывод:** зависимость между количеством детей и возвратом кредита в срок - прослеживается, но не ярко выраженная, а сами выборки несбалансированы. Наиболее четкую картину можно увидеть, если сравнить самые большие, сопоставимые по размеру категории заемщиков, с 0, 1 и 2 детьми. Здесь с увеличением кол-ва детей очевидно растет и вероятность просрочки.\n",
    "\n",
    "Возможная причина таких результатов - дополнительная финансовая нагрузка на семьи с детьми\n",
    "\n",
    "**2. Есть ли зависимость между семейным положением и возвратом кредита в срок?**\n",
    "\n",
    "|family_status|count|sum|ratio|\t\n",
    "|------|------|------|------|\n",
    "|Не женат / не замужем|2796|273|0.097639|\n",
    "|гражданский брак|4134|385|0.093130|\n",
    "|женат / замужем|12261|927|0.075606|\n",
    "|в разводе|\t1189|84|0.070648|\n",
    "|вдовец / вдова\t|951|63\t|0.066246|\n",
    "\n",
    "**Вывод:** зависимость между семейным положением и возвратом кредита в срок - есть. Состоящие или состоявшие в браке заемщики реже допускают просрочки. Вероятные причины просрочек среди безбрачных - юный возраст, нестабильный уровень дохода, безответственность\n",
    "\n",
    "**3. Есть ли зависимость между уровнем дохода и возвратом кредита в срок?**\n",
    "\n",
    "|total_income_category|\t count\t|sum\t|ratio\t|\n",
    "|------|------|------|------|\n",
    "|E (0–30000)\t|22|\t2|\t0.090909|\n",
    "|C (50001–200000)\t|15921|\t1353|\t0.084982|\n",
    "|A (1000001 и выше)\t|25|\t2|\t0.080000|\n",
    "|B (200001–1000000)\t|5014|\t354|\t0.070602|\n",
    "|D (30001–50000)\t|349|\t21|\t0.060172|\n",
    "\n",
    "**Вывод:** зависимость между уровнем дохода и возвратом кредита в срок - очевидна. Здесь так же стоит сравнивать только две самые многочисленные категории заемщиков - C и B. Клиенты с небольшим доходом чаще допускают просрочки, с высоким - реже\n",
    "\n",
    "**4. Как разные цели кредита влияют на его возврат в срок?**\n",
    "\n",
    "|purpose_category|\tcount\t|sum|\tratio\t|\t\n",
    "|------|------|------|------|\n",
    "|операции с автомобилем|\t4279|\t400|\t0.093480|\n",
    "|получение образования\t|3988\t|369\t|0.092528|\n",
    "|проведение свадьбы\t|2313\t|183|\t0.079118|\n",
    "|операции с недвижимостью|\t10751|\t780\t|0.072551|\n",
    "\n",
    "**Вывод:** просрочка зависит от цели кредита. Так - самыми надежными заёмщиками оказались клиенты, берущие кредит под операции с недвиимостью. И самыми ненадежными - заёмщики под операции с автомобилем\n",
    "\n",
    "# Общий вывод:\n",
    "\n",
    "В исследовании можно увидеть определенные закономерности. Например, клиент с 4-мя детьми, который не состоит в браке, имеет невысокий доход и берет займ под покупку автомобиля - с большей вероятностью просрочит выплату. Комбинации факторов могут быть любые, но спрогнозировать вероятность просрочки, опираясь на эти данные будет проще."
   ]
  }
 ],
 "metadata": {
  "ExecuteTimeLog": [
   {
    "duration": 703,
    "start_time": "2023-01-08T21:20:22.363Z"
   },
   {
    "duration": 22,
    "start_time": "2023-01-08T21:20:23.068Z"
   },
   {
    "duration": 17,
    "start_time": "2023-01-08T21:20:23.091Z"
   },
   {
    "duration": 14,
    "start_time": "2023-01-08T21:20:23.110Z"
   },
   {
    "duration": 40,
    "start_time": "2023-01-08T21:20:23.126Z"
   },
   {
    "duration": 9,
    "start_time": "2023-01-08T21:20:23.168Z"
   },
   {
    "duration": 11,
    "start_time": "2023-01-08T21:20:23.179Z"
   },
   {
    "duration": 10,
    "start_time": "2023-01-08T21:20:23.191Z"
   },
   {
    "duration": 8,
    "start_time": "2023-01-08T21:20:23.202Z"
   },
   {
    "duration": 4,
    "start_time": "2023-01-08T21:20:23.213Z"
   },
   {
    "duration": 36,
    "start_time": "2023-01-08T21:20:23.219Z"
   },
   {
    "duration": 10,
    "start_time": "2023-01-08T21:20:23.277Z"
   },
   {
    "duration": 4,
    "start_time": "2023-01-08T21:20:23.288Z"
   },
   {
    "duration": 24,
    "start_time": "2023-01-08T21:20:23.294Z"
   },
   {
    "duration": 20,
    "start_time": "2023-01-08T21:20:23.320Z"
   },
   {
    "duration": 16,
    "start_time": "2023-01-08T21:20:23.342Z"
   },
   {
    "duration": 16,
    "start_time": "2023-01-08T21:20:23.360Z"
   },
   {
    "duration": 14,
    "start_time": "2023-01-08T21:20:23.378Z"
   },
   {
    "duration": 9,
    "start_time": "2023-01-08T21:20:23.394Z"
   },
   {
    "duration": 5,
    "start_time": "2023-01-08T21:20:23.404Z"
   },
   {
    "duration": 14,
    "start_time": "2023-01-08T21:20:23.410Z"
   },
   {
    "duration": 14,
    "start_time": "2023-01-08T21:22:32.315Z"
   },
   {
    "duration": 66,
    "start_time": "2023-01-08T21:22:45.913Z"
   },
   {
    "duration": 16,
    "start_time": "2023-01-08T21:22:53.439Z"
   },
   {
    "duration": 7,
    "start_time": "2023-01-08T21:23:34.548Z"
   },
   {
    "duration": 6,
    "start_time": "2023-01-08T21:23:42.034Z"
   },
   {
    "duration": 15,
    "start_time": "2023-01-08T21:27:40.683Z"
   },
   {
    "duration": 13,
    "start_time": "2023-01-08T21:28:10.267Z"
   },
   {
    "duration": 8,
    "start_time": "2023-01-08T21:36:06.489Z"
   },
   {
    "duration": 12,
    "start_time": "2023-01-08T21:37:31.419Z"
   },
   {
    "duration": 10,
    "start_time": "2023-01-08T21:42:08.890Z"
   },
   {
    "duration": 9,
    "start_time": "2023-01-08T21:42:13.543Z"
   },
   {
    "duration": 11,
    "start_time": "2023-01-08T21:43:46.286Z"
   },
   {
    "duration": 15,
    "start_time": "2023-01-08T21:47:28.766Z"
   },
   {
    "duration": 16,
    "start_time": "2023-01-08T21:52:05.713Z"
   },
   {
    "duration": 22,
    "start_time": "2023-01-08T21:56:20.657Z"
   },
   {
    "duration": 15,
    "start_time": "2023-01-08T21:56:32.781Z"
   },
   {
    "duration": 5,
    "start_time": "2023-01-08T22:50:21.998Z"
   },
   {
    "duration": 15,
    "start_time": "2023-01-08T22:52:35.103Z"
   },
   {
    "duration": 18,
    "start_time": "2023-01-08T22:53:58.137Z"
   },
   {
    "duration": 17,
    "start_time": "2023-01-08T22:54:19.573Z"
   },
   {
    "duration": 17,
    "start_time": "2023-01-08T23:00:50.851Z"
   },
   {
    "duration": 23,
    "start_time": "2023-01-08T23:05:33.109Z"
   },
   {
    "duration": 16,
    "start_time": "2023-01-08T23:05:49.625Z"
   },
   {
    "duration": 23,
    "start_time": "2023-01-08T23:06:06.094Z"
   },
   {
    "duration": 19,
    "start_time": "2023-01-08T23:07:25.100Z"
   },
   {
    "duration": 21,
    "start_time": "2023-01-08T23:07:35.583Z"
   },
   {
    "duration": 18,
    "start_time": "2023-01-08T23:08:21.589Z"
   },
   {
    "duration": 53,
    "start_time": "2023-01-08T23:19:31.919Z"
   },
   {
    "duration": 54,
    "start_time": "2023-01-08T23:19:58.622Z"
   },
   {
    "duration": 54,
    "start_time": "2023-01-08T23:21:02.994Z"
   },
   {
    "duration": 694,
    "start_time": "2023-01-09T09:44:24.809Z"
   },
   {
    "duration": 65,
    "start_time": "2023-01-09T09:44:30.956Z"
   },
   {
    "duration": 22,
    "start_time": "2023-01-09T09:44:31.023Z"
   },
   {
    "duration": 37,
    "start_time": "2023-01-09T09:44:31.046Z"
   },
   {
    "duration": 32,
    "start_time": "2023-01-09T09:44:31.085Z"
   },
   {
    "duration": 46,
    "start_time": "2023-01-09T09:44:31.119Z"
   },
   {
    "duration": 3,
    "start_time": "2023-01-09T09:44:31.166Z"
   },
   {
    "duration": 46,
    "start_time": "2023-01-09T09:44:31.171Z"
   },
   {
    "duration": 28,
    "start_time": "2023-01-09T09:44:31.218Z"
   },
   {
    "duration": 39,
    "start_time": "2023-01-09T09:44:31.248Z"
   },
   {
    "duration": 33,
    "start_time": "2023-01-09T09:44:31.290Z"
   },
   {
    "duration": 61,
    "start_time": "2023-01-09T09:44:31.324Z"
   },
   {
    "duration": 9,
    "start_time": "2023-01-09T09:44:31.387Z"
   },
   {
    "duration": 44,
    "start_time": "2023-01-09T09:44:31.398Z"
   },
   {
    "duration": 40,
    "start_time": "2023-01-09T09:44:31.443Z"
   },
   {
    "duration": 59,
    "start_time": "2023-01-09T09:44:31.485Z"
   },
   {
    "duration": 35,
    "start_time": "2023-01-09T09:44:31.545Z"
   },
   {
    "duration": 30,
    "start_time": "2023-01-09T09:44:31.582Z"
   },
   {
    "duration": 30,
    "start_time": "2023-01-09T09:44:31.614Z"
   },
   {
    "duration": 44,
    "start_time": "2023-01-09T09:44:31.645Z"
   },
   {
    "duration": 41,
    "start_time": "2023-01-09T09:44:31.690Z"
   },
   {
    "duration": 44,
    "start_time": "2023-01-09T09:44:31.733Z"
   },
   {
    "duration": 48,
    "start_time": "2023-01-09T09:44:31.779Z"
   },
   {
    "duration": 68,
    "start_time": "2023-01-09T09:44:31.829Z"
   },
   {
    "duration": 0,
    "start_time": "2023-01-09T09:44:31.899Z"
   },
   {
    "duration": 0,
    "start_time": "2023-01-09T09:44:31.900Z"
   },
   {
    "duration": 131,
    "start_time": "2023-01-09T09:44:48.107Z"
   },
   {
    "duration": 72,
    "start_time": "2023-01-09T09:45:09.115Z"
   },
   {
    "duration": 91,
    "start_time": "2023-01-09T09:48:18.146Z"
   },
   {
    "duration": 77,
    "start_time": "2023-01-09T09:48:28.813Z"
   },
   {
    "duration": 97,
    "start_time": "2023-01-09T09:54:36.440Z"
   },
   {
    "duration": 25,
    "start_time": "2023-01-09T10:46:14.407Z"
   },
   {
    "duration": 77,
    "start_time": "2023-01-09T11:25:54.163Z"
   },
   {
    "duration": 21,
    "start_time": "2023-01-09T11:26:54.846Z"
   },
   {
    "duration": 65,
    "start_time": "2023-01-10T15:26:15.275Z"
   },
   {
    "duration": 697,
    "start_time": "2023-01-10T15:27:00.050Z"
   },
   {
    "duration": 75,
    "start_time": "2023-01-10T15:27:07.281Z"
   },
   {
    "duration": 25,
    "start_time": "2023-01-10T15:27:07.358Z"
   },
   {
    "duration": 17,
    "start_time": "2023-01-10T15:27:07.386Z"
   },
   {
    "duration": 16,
    "start_time": "2023-01-10T15:27:07.406Z"
   },
   {
    "duration": 68,
    "start_time": "2023-01-10T15:27:07.424Z"
   },
   {
    "duration": 3,
    "start_time": "2023-01-10T15:27:07.494Z"
   },
   {
    "duration": 10,
    "start_time": "2023-01-10T15:27:07.499Z"
   },
   {
    "duration": 6,
    "start_time": "2023-01-10T15:27:07.512Z"
   },
   {
    "duration": 32,
    "start_time": "2023-01-10T15:27:07.520Z"
   },
   {
    "duration": 6,
    "start_time": "2023-01-10T15:27:07.556Z"
   },
   {
    "duration": 45,
    "start_time": "2023-01-10T15:27:07.563Z"
   },
   {
    "duration": 9,
    "start_time": "2023-01-10T15:27:07.610Z"
   },
   {
    "duration": 5,
    "start_time": "2023-01-10T15:27:07.620Z"
   },
   {
    "duration": 14,
    "start_time": "2023-01-10T15:27:07.626Z"
   },
   {
    "duration": 35,
    "start_time": "2023-01-10T15:27:07.642Z"
   },
   {
    "duration": 17,
    "start_time": "2023-01-10T15:27:07.679Z"
   },
   {
    "duration": 3,
    "start_time": "2023-01-10T15:27:07.697Z"
   },
   {
    "duration": 22,
    "start_time": "2023-01-10T15:27:07.702Z"
   },
   {
    "duration": 12,
    "start_time": "2023-01-10T15:27:07.725Z"
   },
   {
    "duration": 5,
    "start_time": "2023-01-10T15:27:07.738Z"
   },
   {
    "duration": 32,
    "start_time": "2023-01-10T15:27:07.745Z"
   },
   {
    "duration": 33,
    "start_time": "2023-01-10T15:27:07.779Z"
   },
   {
    "duration": 31,
    "start_time": "2023-01-10T15:27:07.814Z"
   },
   {
    "duration": 43,
    "start_time": "2023-01-10T15:27:07.846Z"
   },
   {
    "duration": 20,
    "start_time": "2023-01-10T15:27:07.891Z"
   },
   {
    "duration": 479,
    "start_time": "2023-01-10T20:44:37.732Z"
   },
   {
    "duration": 21,
    "start_time": "2023-01-10T20:44:38.213Z"
   },
   {
    "duration": 32,
    "start_time": "2023-01-10T20:44:38.236Z"
   },
   {
    "duration": 32,
    "start_time": "2023-01-10T20:44:38.270Z"
   },
   {
    "duration": 55,
    "start_time": "2023-01-10T20:44:38.304Z"
   },
   {
    "duration": 28,
    "start_time": "2023-01-10T20:44:38.360Z"
   },
   {
    "duration": 23,
    "start_time": "2023-01-10T20:44:38.389Z"
   },
   {
    "duration": 14,
    "start_time": "2023-01-10T20:44:38.414Z"
   },
   {
    "duration": 14,
    "start_time": "2023-01-10T20:44:38.430Z"
   },
   {
    "duration": 9,
    "start_time": "2023-01-10T20:44:38.448Z"
   },
   {
    "duration": 38,
    "start_time": "2023-01-10T20:44:38.459Z"
   },
   {
    "duration": 8,
    "start_time": "2023-01-10T20:44:38.499Z"
   },
   {
    "duration": 17,
    "start_time": "2023-01-10T20:44:38.509Z"
   },
   {
    "duration": 27,
    "start_time": "2023-01-10T20:44:38.528Z"
   },
   {
    "duration": 35,
    "start_time": "2023-01-10T20:44:38.556Z"
   },
   {
    "duration": 25,
    "start_time": "2023-01-10T20:44:38.592Z"
   },
   {
    "duration": 10,
    "start_time": "2023-01-10T20:44:38.618Z"
   },
   {
    "duration": 28,
    "start_time": "2023-01-10T20:44:38.629Z"
   },
   {
    "duration": 30,
    "start_time": "2023-01-10T20:44:38.659Z"
   },
   {
    "duration": 21,
    "start_time": "2023-01-10T20:44:38.690Z"
   },
   {
    "duration": 23,
    "start_time": "2023-01-10T20:44:38.712Z"
   },
   {
    "duration": 48,
    "start_time": "2023-01-10T20:44:38.737Z"
   },
   {
    "duration": 17,
    "start_time": "2023-01-10T20:44:38.786Z"
   },
   {
    "duration": 21,
    "start_time": "2023-01-10T20:44:38.805Z"
   },
   {
    "duration": 27,
    "start_time": "2023-01-10T20:44:38.827Z"
   },
   {
    "duration": 39,
    "start_time": "2023-01-10T20:49:35.984Z"
   },
   {
    "duration": 498,
    "start_time": "2023-01-11T20:48:02.382Z"
   },
   {
    "duration": 23,
    "start_time": "2023-01-11T20:48:02.882Z"
   },
   {
    "duration": 27,
    "start_time": "2023-01-11T20:48:02.906Z"
   },
   {
    "duration": 37,
    "start_time": "2023-01-11T20:48:02.935Z"
   },
   {
    "duration": 49,
    "start_time": "2023-01-11T20:48:02.974Z"
   },
   {
    "duration": 4,
    "start_time": "2023-01-11T20:48:03.025Z"
   },
   {
    "duration": 33,
    "start_time": "2023-01-11T20:48:03.031Z"
   },
   {
    "duration": 10,
    "start_time": "2023-01-11T20:48:03.065Z"
   },
   {
    "duration": 42,
    "start_time": "2023-01-11T20:48:03.076Z"
   },
   {
    "duration": 9,
    "start_time": "2023-01-11T20:48:03.119Z"
   },
   {
    "duration": 62,
    "start_time": "2023-01-11T20:48:03.129Z"
   },
   {
    "duration": 9,
    "start_time": "2023-01-11T20:48:03.193Z"
   },
   {
    "duration": 22,
    "start_time": "2023-01-11T20:48:03.204Z"
   },
   {
    "duration": 21,
    "start_time": "2023-01-11T20:48:03.229Z"
   },
   {
    "duration": 46,
    "start_time": "2023-01-11T20:48:03.252Z"
   },
   {
    "duration": 18,
    "start_time": "2023-01-11T20:48:03.300Z"
   },
   {
    "duration": 22,
    "start_time": "2023-01-11T20:48:03.320Z"
   },
   {
    "duration": 30,
    "start_time": "2023-01-11T20:48:03.344Z"
   },
   {
    "duration": 14,
    "start_time": "2023-01-11T20:48:03.376Z"
   },
   {
    "duration": 22,
    "start_time": "2023-01-11T20:48:03.392Z"
   },
   {
    "duration": 16,
    "start_time": "2023-01-11T20:48:03.416Z"
   },
   {
    "duration": 54,
    "start_time": "2023-01-11T20:48:03.434Z"
   },
   {
    "duration": 50,
    "start_time": "2023-01-11T20:48:03.489Z"
   },
   {
    "duration": 23,
    "start_time": "2023-01-11T20:48:03.541Z"
   },
   {
    "duration": 28,
    "start_time": "2023-01-11T20:48:03.565Z"
   },
   {
    "duration": 27,
    "start_time": "2023-01-11T20:48:03.594Z"
   },
   {
    "duration": 53,
    "start_time": "2023-01-11T20:49:28.970Z"
   },
   {
    "duration": 852,
    "start_time": "2023-01-11T20:50:20.649Z"
   },
   {
    "duration": 48,
    "start_time": "2023-01-28T13:47:55.780Z"
   },
   {
    "duration": 783,
    "start_time": "2023-01-28T13:48:07.620Z"
   },
   {
    "duration": 24,
    "start_time": "2023-01-28T13:48:10.712Z"
   },
   {
    "duration": 16,
    "start_time": "2023-01-28T13:48:13.490Z"
   },
   {
    "duration": 13,
    "start_time": "2023-01-28T13:48:15.782Z"
   },
   {
    "duration": 38,
    "start_time": "2023-01-28T13:48:18.337Z"
   },
   {
    "duration": 4,
    "start_time": "2023-01-28T13:48:28.592Z"
   },
   {
    "duration": 10,
    "start_time": "2023-01-28T13:48:30.344Z"
   },
   {
    "duration": 586,
    "start_time": "2023-07-06T12:21:54.707Z"
   },
   {
    "duration": 27,
    "start_time": "2023-07-06T12:21:55.296Z"
   },
   {
    "duration": 17,
    "start_time": "2023-07-06T12:21:55.325Z"
   },
   {
    "duration": 31,
    "start_time": "2023-07-06T12:21:55.343Z"
   },
   {
    "duration": 37,
    "start_time": "2023-07-06T12:21:55.377Z"
   },
   {
    "duration": 4,
    "start_time": "2023-07-06T12:21:55.416Z"
   },
   {
    "duration": 16,
    "start_time": "2023-07-06T12:21:55.421Z"
   },
   {
    "duration": 6,
    "start_time": "2023-07-06T12:21:55.456Z"
   },
   {
    "duration": 14,
    "start_time": "2023-07-06T12:21:55.464Z"
   },
   {
    "duration": 4,
    "start_time": "2023-07-06T12:21:55.480Z"
   },
   {
    "duration": 46,
    "start_time": "2023-07-06T12:21:55.490Z"
   },
   {
    "duration": 27,
    "start_time": "2023-07-06T12:21:55.538Z"
   },
   {
    "duration": 5,
    "start_time": "2023-07-06T12:21:55.568Z"
   },
   {
    "duration": 21,
    "start_time": "2023-07-06T12:21:55.578Z"
   },
   {
    "duration": 29,
    "start_time": "2023-07-06T12:21:55.601Z"
   },
   {
    "duration": 50,
    "start_time": "2023-07-06T12:21:55.632Z"
   },
   {
    "duration": 4,
    "start_time": "2023-07-06T12:21:55.683Z"
   },
   {
    "duration": 18,
    "start_time": "2023-07-06T12:21:55.690Z"
   },
   {
    "duration": 10,
    "start_time": "2023-07-06T12:21:55.711Z"
   },
   {
    "duration": 5,
    "start_time": "2023-07-06T12:21:55.723Z"
   },
   {
    "duration": 16,
    "start_time": "2023-07-06T12:21:55.756Z"
   },
   {
    "duration": 32,
    "start_time": "2023-07-06T12:21:55.774Z"
   },
   {
    "duration": 62,
    "start_time": "2023-07-06T12:21:55.808Z"
   },
   {
    "duration": 31,
    "start_time": "2023-07-06T12:21:55.871Z"
   },
   {
    "duration": 23,
    "start_time": "2023-07-06T12:21:55.905Z"
   },
   {
    "duration": 53,
    "start_time": "2023-07-06T12:21:55.929Z"
   },
   {
    "duration": 812,
    "start_time": "2023-07-06T12:21:55.985Z"
   }
  ],
  "colab": {
   "name": "dpp_template_part2.ipynb",
   "provenance": []
  },
  "kernelspec": {
   "display_name": "Python 3 (ipykernel)",
   "language": "python",
   "name": "python3"
  },
  "language_info": {
   "codemirror_mode": {
    "name": "ipython",
    "version": 3
   },
   "file_extension": ".py",
   "mimetype": "text/x-python",
   "name": "python",
   "nbconvert_exporter": "python",
   "pygments_lexer": "ipython3",
   "version": "3.9.5"
  },
  "toc": {
   "base_numbering": 1,
   "nav_menu": {},
   "number_sections": true,
   "sideBar": true,
   "skip_h1_title": true,
   "title_cell": "Навигация",
   "title_sidebar": "Contents",
   "toc_cell": true,
   "toc_position": {},
   "toc_section_display": true,
   "toc_window_display": true
  }
 },
 "nbformat": 4,
 "nbformat_minor": 5
}
