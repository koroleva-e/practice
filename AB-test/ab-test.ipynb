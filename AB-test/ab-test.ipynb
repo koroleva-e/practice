{
 "cells": [
  {
   "cell_type": "markdown",
   "metadata": {},
   "source": [
    "# Описание проекта"
   ]
  },
  {
   "cell_type": "markdown",
   "metadata": {
    "toc": true
   },
   "source": [
    "<h1>Навигация<span class=\"tocSkip\"></span></h1>\n",
    "<div class=\"toc\"><ul class=\"toc-item\"><li><span><a href=\"#Обзор-и-предобработка-данных\" data-toc-modified-id=\"Обзор-и-предобработка-данных-1\"><span class=\"toc-item-num\">1&nbsp;&nbsp;</span>Обзор и предобработка данных</a></span><ul class=\"toc-item\"><li><span><a href=\"#Импортируем-нужные-библиотеки\" data-toc-modified-id=\"Импортируем-нужные-библиотеки-1.1\"><span class=\"toc-item-num\">1.1&nbsp;&nbsp;</span>Импортируем нужные библиотеки</a></span></li><li><span><a href=\"#Загрузим-данные-из-CSV-файлов-в-переменные\" data-toc-modified-id=\"Загрузим-данные-из-CSV-файлов-в-переменные-1.2\"><span class=\"toc-item-num\">1.2&nbsp;&nbsp;</span>Загрузим данные из CSV-файлов в переменные</a></span></li><li><span><a href=\"#Посмотрим-на-содержимое-датасетов\" data-toc-modified-id=\"Посмотрим-на-содержимое-датасетов-1.3\"><span class=\"toc-item-num\">1.3&nbsp;&nbsp;</span>Посмотрим на содержимое датасетов</a></span></li><li><span><a href=\"#Выполним-предобработку\" data-toc-modified-id=\"Выполним-предобработку-1.4\"><span class=\"toc-item-num\">1.4&nbsp;&nbsp;</span>Выполним предобработку</a></span></li><li><span><a href=\"#Изучим-уникальные-значения-в-столбцах-и-устраним-дубликаты\" data-toc-modified-id=\"Изучим-уникальные-значения-в-столбцах-и-устраним-дубликаты-1.5\"><span class=\"toc-item-num\">1.5&nbsp;&nbsp;</span>Изучим уникальные значения в столбцах и устраним дубликаты</a></span></li><li><span><a href=\"#Для-численных-данных-посмотрим-на-их-статистические-показатели-и-проверим-на-наличие-ошибок-или-аномалий\" data-toc-modified-id=\"Для-численных-данных-посмотрим-на-их-статистические-показатели-и-проверим-на-наличие-ошибок-или-аномалий-1.6\"><span class=\"toc-item-num\">1.6&nbsp;&nbsp;</span>Для численных данных посмотрим на их статистические показатели и проверим на наличие ошибок или аномалий</a></span></li><li><span><a href=\"#Общий-вывод-после-изучения-данных\" data-toc-modified-id=\"Общий-вывод-после-изучения-данных-1.7\"><span class=\"toc-item-num\">1.7&nbsp;&nbsp;</span>Общий вывод после изучения данных</a></span></li></ul></li><li><span><a href=\"#Приоритизация-гипотез\" data-toc-modified-id=\"Приоритизация-гипотез-2\"><span class=\"toc-item-num\">2&nbsp;&nbsp;</span>Приоритизация гипотез</a></span><ul class=\"toc-item\"><li><span><a href=\"#Применим-фреймворк-ICE-для-приоритизации-гипотез\" data-toc-modified-id=\"Применим-фреймворк-ICE-для-приоритизации-гипотез-2.1\"><span class=\"toc-item-num\">2.1&nbsp;&nbsp;</span>Применим фреймворк ICE для приоритизации гипотез</a></span></li><li><span><a href=\"#Применим-фреймворк-RICE-для-приоритизации-гипотез\" data-toc-modified-id=\"Применим-фреймворк-RICE-для-приоритизации-гипотез-2.2\"><span class=\"toc-item-num\">2.2&nbsp;&nbsp;</span>Применим фреймворк RICE для приоритизации гипотез</a></span></li></ul></li><li><span><a href=\"#Анализ-A/B-теста\" data-toc-modified-id=\"Анализ-A/B-теста-3\"><span class=\"toc-item-num\">3&nbsp;&nbsp;</span>Анализ A/B-теста</a></span><ul class=\"toc-item\"><li><span><a href=\"#Соберем-соответствующий-агрегированный-датафрейм\" data-toc-modified-id=\"Соберем-соответствующий-агрегированный-датафрейм-3.1\"><span class=\"toc-item-num\">3.1&nbsp;&nbsp;</span>Соберем соответствующий агрегированный датафрейм</a></span></li><li><span><a href=\"#Построим-график-кумулятивной-выручки-по-группам\" data-toc-modified-id=\"Построим-график-кумулятивной-выручки-по-группам-3.2\"><span class=\"toc-item-num\">3.2&nbsp;&nbsp;</span>Построим график кумулятивной выручки по группам</a></span></li><li><span><a href=\"#Построим-график-кумулятивного-среднего-чека-по-группам\" data-toc-modified-id=\"Построим-график-кумулятивного-среднего-чека-по-группам-3.3\"><span class=\"toc-item-num\">3.3&nbsp;&nbsp;</span>Построим график кумулятивного среднего чека по группам</a></span></li><li><span><a href=\"#Построим-график-относительного-изменения-кумулятивного-среднего-чека-группы-B-к-A\" data-toc-modified-id=\"Построим-график-относительного-изменения-кумулятивного-среднего-чека-группы-B-к-A-3.4\"><span class=\"toc-item-num\">3.4&nbsp;&nbsp;</span>Построим график относительного изменения кумулятивного среднего чека группы B к A</a></span></li><li><span><a href=\"#Построим-график-кумулятивного-среднего-количества-заказов-на-посетителя-по-группам\" data-toc-modified-id=\"Построим-график-кумулятивного-среднего-количества-заказов-на-посетителя-по-группам-3.5\"><span class=\"toc-item-num\">3.5&nbsp;&nbsp;</span>Построим график кумулятивного среднего количества заказов на посетителя по группам</a></span></li><li><span><a href=\"#Построим-график-относительного-изменения-кумулятивного-среднего-количества-заказов-на-посетителя-группы-B-к-A\" data-toc-modified-id=\"Построим-график-относительного-изменения-кумулятивного-среднего-количества-заказов-на-посетителя-группы-B-к-A-3.6\"><span class=\"toc-item-num\">3.6&nbsp;&nbsp;</span>Построим график относительного изменения кумулятивного среднего количества заказов на посетителя группы B к A</a></span></li><li><span><a href=\"#Построим-гистограмму-и-точечный-график-количества-заказов-по-пользователям\" data-toc-modified-id=\"Построим-гистограмму-и-точечный-график-количества-заказов-по-пользователям-3.7\"><span class=\"toc-item-num\">3.7&nbsp;&nbsp;</span>Построим гистограмму и точечный график количества заказов по пользователям</a></span></li><li><span><a href=\"#Посчитаем-95-й-и-99-й-перцентили-количества-заказов-на-пользователя.-Выберем-границу-для-определения-аномальных-пользователей\" data-toc-modified-id=\"Посчитаем-95-й-и-99-й-перцентили-количества-заказов-на-пользователя.-Выберем-границу-для-определения-аномальных-пользователей-3.8\"><span class=\"toc-item-num\">3.8&nbsp;&nbsp;</span>Посчитаем 95-й и 99-й перцентили количества заказов на пользователя. Выберем границу для определения аномальных пользователей</a></span></li><li><span><a href=\"#Построим-гистограмму-и-точечный-график-стоимостей-заказов\" data-toc-modified-id=\"Построим-гистограмму-и-точечный-график-стоимостей-заказов-3.9\"><span class=\"toc-item-num\">3.9&nbsp;&nbsp;</span>Построим гистограмму и точечный график стоимостей заказов</a></span></li><li><span><a href=\"#Посчитаем-95-й-и-99-й-перцентили-стоимости-заказов.-Выберем-границу-для-определения-аномальных-заказов\" data-toc-modified-id=\"Посчитаем-95-й-и-99-й-перцентили-стоимости-заказов.-Выберем-границу-для-определения-аномальных-заказов-3.10\"><span class=\"toc-item-num\">3.10&nbsp;&nbsp;</span>Посчитаем 95-й и 99-й перцентили стоимости заказов. Выберем границу для определения аномальных заказов</a></span></li><li><span><a href=\"#Посчитаем-статистическую-значимость-различий-в-среднем-количестве-заказов-на-посетителя-между-группами-по-«сырым»-данным\" data-toc-modified-id=\"Посчитаем-статистическую-значимость-различий-в-среднем-количестве-заказов-на-посетителя-между-группами-по-«сырым»-данным-3.11\"><span class=\"toc-item-num\">3.11&nbsp;&nbsp;</span>Посчитаем статистическую значимость различий в среднем количестве заказов на посетителя между группами по «сырым» данным</a></span></li><li><span><a href=\"#Посчитаем-статистическую-значимость-различий-в-среднем-чеке-заказа-между-группами-по-«сырым»-данным\" data-toc-modified-id=\"Посчитаем-статистическую-значимость-различий-в-среднем-чеке-заказа-между-группами-по-«сырым»-данным-3.12\"><span class=\"toc-item-num\">3.12&nbsp;&nbsp;</span>Посчитаем статистическую значимость различий в среднем чеке заказа между группами по «сырым» данным</a></span></li><li><span><a href=\"#Посчитаем-статистическую-значимость-различий-в-среднем-количестве-заказов-на-посетителя-между-группами-по-«очищенным»-данным\" data-toc-modified-id=\"Посчитаем-статистическую-значимость-различий-в-среднем-количестве-заказов-на-посетителя-между-группами-по-«очищенным»-данным-3.13\"><span class=\"toc-item-num\">3.13&nbsp;&nbsp;</span>Посчитаем статистическую значимость различий в среднем количестве заказов на посетителя между группами по «очищенным» данным</a></span></li><li><span><a href=\"#Посчитаем-статистическую-значимость-различий-в-среднем-чеке-заказа-между-группами-по-«очищенным»-данным\" data-toc-modified-id=\"Посчитаем-статистическую-значимость-различий-в-среднем-чеке-заказа-между-группами-по-«очищенным»-данным-3.14\"><span class=\"toc-item-num\">3.14&nbsp;&nbsp;</span>Посчитаем статистическую значимость различий в среднем чеке заказа между группами по «очищенным» данным</a></span></li><li><span><a href=\"#Примем-решение-по-результатам-теста-и-объясним-его\" data-toc-modified-id=\"Примем-решение-по-результатам-теста-и-объясним-его-3.15\"><span class=\"toc-item-num\">3.15&nbsp;&nbsp;</span>Примем решение по результатам теста и объясним его</a></span></li></ul></li><li><span><a href=\"#Общие-выводы\" data-toc-modified-id=\"Общие-выводы-4\"><span class=\"toc-item-num\">4&nbsp;&nbsp;</span>Общие выводы</a></span></li></ul></div>"
   ]
  },
  {
   "cell_type": "markdown",
   "metadata": {},
   "source": [
    "Вы — аналитик крупного интернет-магазина. Вместе с отделом маркетинга вы подготовили список гипотез для увеличения выручки.\n",
    "Приоритизируем гипотезы, запустим A/B-тест и проанализируем результаты. "
   ]
  },
  {
   "cell_type": "markdown",
   "metadata": {},
   "source": [
    "# Ход исследования"
   ]
  },
  {
   "cell_type": "markdown",
   "metadata": {},
   "source": [
    "**ЧАСТЬ 1. Обзор и предобработка данных**"
   ]
  },
  {
   "cell_type": "markdown",
   "metadata": {},
   "source": [
    "**ЧАСТЬ 2. Приоритизация гипотез.**\n",
    "\n",
    "В файле `/datasets/hypothesis.csv` 9 гипотез по увеличению выручки интернет-магазина с указанными параметрами `Reach`, `Impact`, `Confidence`, `Effort`.\n",
    "\n",
    "**Задача**\n",
    "\n",
    "- Применим фреймворк `ICE` для приоритизации гипотез. Отсортируем их по убыванию приоритета.\n",
    "- Применим фреймворк `RICE` для приоритизации гипотез. Отсортируем их по убыванию приоритета.\n",
    "- Укажем, как изменилась приоритизация гипотез при применении `RICE` вместо `ICE`. Объясним, почему так произошло.\n",
    "\n",
    "\n",
    "**ЧАСТЬ 3. Анализ A/B-теста**\n",
    "\n",
    "Мы провели A/B-тест и получили результаты, которые описаны в файлах `/datasets/orders.csv` и `/datasets/visitors.csv`.\n",
    "\n",
    "**Задача**\n",
    "\n",
    "Проанализируем A/B-тест:\n",
    "1. Построим график кумулятивной выручки по группам. Сделаем выводы и предположения.\n",
    "2. Построим график кумулятивного среднего чека по группам. Сделаем выводы и предположения.\n",
    "3. Построим график относительного изменения кумулятивного среднего чека группы B к группе A. Сделаем выводы и предположения.\n",
    "4. Построим график кумулятивного среднего количества заказов на посетителя по группам. Сделаем выводы и предположения.\n",
    "5. Построим график относительного изменения кумулятивного среднего количества заказов на посетителя группы B к группе A. Сделаем выводы и предположения.\n",
    "6. Построим точечный график количества заказов по пользователям. Сделаем выводы и предположения.\n",
    "7. Посчитаем 95-й и 99-й перцентили количества заказов на пользователя. Выберем границу для определения аномальных пользователей.\n",
    "8. Построим точечный график стоимостей заказов. Сделаем выводы и предположения.\n",
    "9. Посчитаем 95-й и 99-й перцентили стоимости заказов. Выберем границу для определения аномальных заказов.\n",
    "10. Посчитаем статистическую значимость различий в среднем количестве заказов на посетителя между группами по «сырым» данным. Сделаем выводы и предположения.\n",
    "11. Посчитаем статистическую значимость различий в среднем чеке заказа между группами по «сырым» данным. Сделаем выводы и предположения.\n",
    "12. Посчитаем статистическую значимость различий в среднем количестве заказов на посетителя между группами по «очищенным» данным. Сделаем выводы и предположения.\n",
    "13. Посчитаем статистическую значимость различий в среднем чеке заказа между группами по «очищенным» данным. Сделаем выводы и предположения.\n",
    "14. Примем решение по результатам теста и объясним его. Варианты решений:\n",
    "- Остановить тест, зафиксировать победу одной из групп.\n",
    "- Остановить тест, зафиксировать отсутствие различий между группами.\n",
    "- Продолжить тест.\n",
    "\n",
    "**ЧАСТЬ 4. Выводы**"
   ]
  },
  {
   "cell_type": "markdown",
   "metadata": {},
   "source": [
    "# Описание данных"
   ]
  },
  {
   "cell_type": "markdown",
   "metadata": {},
   "source": [
    "**Данные для второй части**\n",
    "\n",
    "Файл `/datasets/hypothesis.csv`\n",
    "- `Hypothesis` — краткое описание гипотезы;\n",
    "- `Reach` — охват пользователей по 10-балльной шкале;\n",
    "- `Impact` — влияние на пользователей по 10-балльной шкале;\n",
    "- `Confidence` — уверенность в гипотезе по 10-балльной шкале;\n",
    "- `Efforts` — затраты ресурсов на проверку гипотезы по 10-балльной шкале. Чем больше значение Efforts, тем дороже проверка гипотезы.\n",
    "\n",
    "**Данные для третьей части**\n",
    "\n",
    "Файл `/datasets/orders.csv`\n",
    "- `transactionId` — идентификатор заказа;\n",
    "- `visitorId` — идентификатор пользователя, совершившего заказ;\n",
    "- `date` — дата, когда был совершён заказ;\n",
    "- `revenue` — выручка заказа;\n",
    "- `group` — группа A/B-теста, в которую попал заказ.\n",
    "\n",
    "Файл `/datasets/visitors.csv`\n",
    "- `date` — дата;\n",
    "- `group` — группа A/B-теста;\n",
    "- `visitors` — количество пользователей в указанную дату в указанной группе A/B-теста"
   ]
  },
  {
   "cell_type": "markdown",
   "metadata": {},
   "source": [
    "## Обзор и предобработка данных"
   ]
  },
  {
   "cell_type": "markdown",
   "metadata": {},
   "source": [
    "### Импортируем нужные библиотеки"
   ]
  },
  {
   "cell_type": "code",
   "execution_count": 1,
   "metadata": {},
   "outputs": [],
   "source": [
    "import pandas as pd\n",
    "import datetime as dt\n",
    "import numpy as np\n",
    "import scipy.stats as stats\n",
    "import matplotlib.pyplot as plt\n",
    "from pandas.plotting import register_matplotlib_converters\n",
    "import warnings\n",
    "# конвертеры, которые позволяют использовать типы pandas в matplotlib  \n",
    "register_matplotlib_converters()"
   ]
  },
  {
   "cell_type": "markdown",
   "metadata": {},
   "source": [
    "### Загрузим данные из CSV-файлов в переменные"
   ]
  },
  {
   "cell_type": "code",
   "execution_count": 2,
   "metadata": {},
   "outputs": [],
   "source": [
    "try:    \n",
    "    hypothesis = pd.read_csv('/datasets/hypothesis.csv')\n",
    "    orders = pd.read_csv('/datasets/orders.csv')\n",
    "    visitors = pd.read_csv('/datasets/visitors.csv')\n",
    "except: \n",
    "    hypothesis = pd.read_csv('https://code.s3.yandex.net/datasets/hypothesis.csv')\n",
    "    orders = pd.read_csv('https://code.s3.yandex.net/datasets/orders.csv')\n",
    "    visitors = pd.read_csv('https://code.s3.yandex.net/datasets/visitors.csv')"
   ]
  },
  {
   "cell_type": "markdown",
   "metadata": {},
   "source": [
    "### Посмотрим на содержимое датасетов"
   ]
  },
  {
   "cell_type": "code",
   "execution_count": 3,
   "metadata": {},
   "outputs": [
    {
     "data": {
      "text/html": [
       "<div>\n",
       "<style scoped>\n",
       "    .dataframe tbody tr th:only-of-type {\n",
       "        vertical-align: middle;\n",
       "    }\n",
       "\n",
       "    .dataframe tbody tr th {\n",
       "        vertical-align: top;\n",
       "    }\n",
       "\n",
       "    .dataframe thead th {\n",
       "        text-align: right;\n",
       "    }\n",
       "</style>\n",
       "<table border=\"1\" class=\"dataframe\">\n",
       "  <thead>\n",
       "    <tr style=\"text-align: right;\">\n",
       "      <th></th>\n",
       "      <th>Hypothesis</th>\n",
       "      <th>Reach</th>\n",
       "      <th>Impact</th>\n",
       "      <th>Confidence</th>\n",
       "      <th>Efforts</th>\n",
       "    </tr>\n",
       "  </thead>\n",
       "  <tbody>\n",
       "    <tr>\n",
       "      <th>0</th>\n",
       "      <td>Добавить два новых канала привлечения трафика,...</td>\n",
       "      <td>3</td>\n",
       "      <td>10</td>\n",
       "      <td>8</td>\n",
       "      <td>6</td>\n",
       "    </tr>\n",
       "    <tr>\n",
       "      <th>1</th>\n",
       "      <td>Запустить собственную службу доставки, что сок...</td>\n",
       "      <td>2</td>\n",
       "      <td>5</td>\n",
       "      <td>4</td>\n",
       "      <td>10</td>\n",
       "    </tr>\n",
       "    <tr>\n",
       "      <th>2</th>\n",
       "      <td>Добавить блоки рекомендаций товаров на сайт ин...</td>\n",
       "      <td>8</td>\n",
       "      <td>3</td>\n",
       "      <td>7</td>\n",
       "      <td>3</td>\n",
       "    </tr>\n",
       "    <tr>\n",
       "      <th>3</th>\n",
       "      <td>Изменить структура категорий, что увеличит кон...</td>\n",
       "      <td>8</td>\n",
       "      <td>3</td>\n",
       "      <td>3</td>\n",
       "      <td>8</td>\n",
       "    </tr>\n",
       "    <tr>\n",
       "      <th>4</th>\n",
       "      <td>Изменить цвет фона главной страницы, чтобы уве...</td>\n",
       "      <td>3</td>\n",
       "      <td>1</td>\n",
       "      <td>1</td>\n",
       "      <td>1</td>\n",
       "    </tr>\n",
       "    <tr>\n",
       "      <th>5</th>\n",
       "      <td>Добавить страницу отзывов клиентов о магазине,...</td>\n",
       "      <td>3</td>\n",
       "      <td>2</td>\n",
       "      <td>2</td>\n",
       "      <td>3</td>\n",
       "    </tr>\n",
       "    <tr>\n",
       "      <th>6</th>\n",
       "      <td>Показать на главной странице баннеры с актуаль...</td>\n",
       "      <td>5</td>\n",
       "      <td>3</td>\n",
       "      <td>8</td>\n",
       "      <td>3</td>\n",
       "    </tr>\n",
       "    <tr>\n",
       "      <th>7</th>\n",
       "      <td>Добавить форму подписки на все основные страни...</td>\n",
       "      <td>10</td>\n",
       "      <td>7</td>\n",
       "      <td>8</td>\n",
       "      <td>5</td>\n",
       "    </tr>\n",
       "    <tr>\n",
       "      <th>8</th>\n",
       "      <td>Запустить акцию, дающую скидку на товар в день...</td>\n",
       "      <td>1</td>\n",
       "      <td>9</td>\n",
       "      <td>9</td>\n",
       "      <td>5</td>\n",
       "    </tr>\n",
       "  </tbody>\n",
       "</table>\n",
       "</div>"
      ],
      "text/plain": [
       "                                          Hypothesis  Reach  Impact  \\\n",
       "0  Добавить два новых канала привлечения трафика,...      3      10   \n",
       "1  Запустить собственную службу доставки, что сок...      2       5   \n",
       "2  Добавить блоки рекомендаций товаров на сайт ин...      8       3   \n",
       "3  Изменить структура категорий, что увеличит кон...      8       3   \n",
       "4  Изменить цвет фона главной страницы, чтобы уве...      3       1   \n",
       "5  Добавить страницу отзывов клиентов о магазине,...      3       2   \n",
       "6  Показать на главной странице баннеры с актуаль...      5       3   \n",
       "7  Добавить форму подписки на все основные страни...     10       7   \n",
       "8  Запустить акцию, дающую скидку на товар в день...      1       9   \n",
       "\n",
       "   Confidence  Efforts  \n",
       "0           8        6  \n",
       "1           4       10  \n",
       "2           7        3  \n",
       "3           3        8  \n",
       "4           1        1  \n",
       "5           2        3  \n",
       "6           8        3  \n",
       "7           8        5  \n",
       "8           9        5  "
      ]
     },
     "execution_count": 3,
     "metadata": {},
     "output_type": "execute_result"
    }
   ],
   "source": [
    "hypothesis"
   ]
  },
  {
   "cell_type": "code",
   "execution_count": 4,
   "metadata": {},
   "outputs": [
    {
     "data": {
      "text/html": [
       "<div>\n",
       "<style scoped>\n",
       "    .dataframe tbody tr th:only-of-type {\n",
       "        vertical-align: middle;\n",
       "    }\n",
       "\n",
       "    .dataframe tbody tr th {\n",
       "        vertical-align: top;\n",
       "    }\n",
       "\n",
       "    .dataframe thead th {\n",
       "        text-align: right;\n",
       "    }\n",
       "</style>\n",
       "<table border=\"1\" class=\"dataframe\">\n",
       "  <thead>\n",
       "    <tr style=\"text-align: right;\">\n",
       "      <th></th>\n",
       "      <th>transactionId</th>\n",
       "      <th>visitorId</th>\n",
       "      <th>date</th>\n",
       "      <th>revenue</th>\n",
       "      <th>group</th>\n",
       "    </tr>\n",
       "  </thead>\n",
       "  <tbody>\n",
       "    <tr>\n",
       "      <th>0</th>\n",
       "      <td>3667963787</td>\n",
       "      <td>3312258926</td>\n",
       "      <td>2019-08-15</td>\n",
       "      <td>1650</td>\n",
       "      <td>B</td>\n",
       "    </tr>\n",
       "    <tr>\n",
       "      <th>1</th>\n",
       "      <td>2804400009</td>\n",
       "      <td>3642806036</td>\n",
       "      <td>2019-08-15</td>\n",
       "      <td>730</td>\n",
       "      <td>B</td>\n",
       "    </tr>\n",
       "    <tr>\n",
       "      <th>2</th>\n",
       "      <td>2961555356</td>\n",
       "      <td>4069496402</td>\n",
       "      <td>2019-08-15</td>\n",
       "      <td>400</td>\n",
       "      <td>A</td>\n",
       "    </tr>\n",
       "    <tr>\n",
       "      <th>3</th>\n",
       "      <td>3797467345</td>\n",
       "      <td>1196621759</td>\n",
       "      <td>2019-08-15</td>\n",
       "      <td>9759</td>\n",
       "      <td>B</td>\n",
       "    </tr>\n",
       "    <tr>\n",
       "      <th>4</th>\n",
       "      <td>2282983706</td>\n",
       "      <td>2322279887</td>\n",
       "      <td>2019-08-15</td>\n",
       "      <td>2308</td>\n",
       "      <td>B</td>\n",
       "    </tr>\n",
       "    <tr>\n",
       "      <th>...</th>\n",
       "      <td>...</td>\n",
       "      <td>...</td>\n",
       "      <td>...</td>\n",
       "      <td>...</td>\n",
       "      <td>...</td>\n",
       "    </tr>\n",
       "    <tr>\n",
       "      <th>1192</th>\n",
       "      <td>2662137336</td>\n",
       "      <td>3733762160</td>\n",
       "      <td>2019-08-14</td>\n",
       "      <td>6490</td>\n",
       "      <td>B</td>\n",
       "    </tr>\n",
       "    <tr>\n",
       "      <th>1193</th>\n",
       "      <td>2203539145</td>\n",
       "      <td>370388673</td>\n",
       "      <td>2019-08-14</td>\n",
       "      <td>3190</td>\n",
       "      <td>A</td>\n",
       "    </tr>\n",
       "    <tr>\n",
       "      <th>1194</th>\n",
       "      <td>1807773912</td>\n",
       "      <td>573423106</td>\n",
       "      <td>2019-08-14</td>\n",
       "      <td>10550</td>\n",
       "      <td>A</td>\n",
       "    </tr>\n",
       "    <tr>\n",
       "      <th>1195</th>\n",
       "      <td>1947021204</td>\n",
       "      <td>1614305549</td>\n",
       "      <td>2019-08-14</td>\n",
       "      <td>100</td>\n",
       "      <td>A</td>\n",
       "    </tr>\n",
       "    <tr>\n",
       "      <th>1196</th>\n",
       "      <td>3936777065</td>\n",
       "      <td>2108080724</td>\n",
       "      <td>2019-08-15</td>\n",
       "      <td>202740</td>\n",
       "      <td>B</td>\n",
       "    </tr>\n",
       "  </tbody>\n",
       "</table>\n",
       "<p>1197 rows × 5 columns</p>\n",
       "</div>"
      ],
      "text/plain": [
       "      transactionId   visitorId        date  revenue group\n",
       "0        3667963787  3312258926  2019-08-15     1650     B\n",
       "1        2804400009  3642806036  2019-08-15      730     B\n",
       "2        2961555356  4069496402  2019-08-15      400     A\n",
       "3        3797467345  1196621759  2019-08-15     9759     B\n",
       "4        2282983706  2322279887  2019-08-15     2308     B\n",
       "...             ...         ...         ...      ...   ...\n",
       "1192     2662137336  3733762160  2019-08-14     6490     B\n",
       "1193     2203539145   370388673  2019-08-14     3190     A\n",
       "1194     1807773912   573423106  2019-08-14    10550     A\n",
       "1195     1947021204  1614305549  2019-08-14      100     A\n",
       "1196     3936777065  2108080724  2019-08-15   202740     B\n",
       "\n",
       "[1197 rows x 5 columns]"
      ]
     },
     "execution_count": 4,
     "metadata": {},
     "output_type": "execute_result"
    }
   ],
   "source": [
    "orders"
   ]
  },
  {
   "cell_type": "code",
   "execution_count": 5,
   "metadata": {},
   "outputs": [
    {
     "data": {
      "text/html": [
       "<div>\n",
       "<style scoped>\n",
       "    .dataframe tbody tr th:only-of-type {\n",
       "        vertical-align: middle;\n",
       "    }\n",
       "\n",
       "    .dataframe tbody tr th {\n",
       "        vertical-align: top;\n",
       "    }\n",
       "\n",
       "    .dataframe thead th {\n",
       "        text-align: right;\n",
       "    }\n",
       "</style>\n",
       "<table border=\"1\" class=\"dataframe\">\n",
       "  <thead>\n",
       "    <tr style=\"text-align: right;\">\n",
       "      <th></th>\n",
       "      <th>date</th>\n",
       "      <th>group</th>\n",
       "      <th>visitors</th>\n",
       "    </tr>\n",
       "  </thead>\n",
       "  <tbody>\n",
       "    <tr>\n",
       "      <th>0</th>\n",
       "      <td>2019-08-01</td>\n",
       "      <td>A</td>\n",
       "      <td>719</td>\n",
       "    </tr>\n",
       "    <tr>\n",
       "      <th>1</th>\n",
       "      <td>2019-08-02</td>\n",
       "      <td>A</td>\n",
       "      <td>619</td>\n",
       "    </tr>\n",
       "    <tr>\n",
       "      <th>2</th>\n",
       "      <td>2019-08-03</td>\n",
       "      <td>A</td>\n",
       "      <td>507</td>\n",
       "    </tr>\n",
       "    <tr>\n",
       "      <th>3</th>\n",
       "      <td>2019-08-04</td>\n",
       "      <td>A</td>\n",
       "      <td>717</td>\n",
       "    </tr>\n",
       "    <tr>\n",
       "      <th>4</th>\n",
       "      <td>2019-08-05</td>\n",
       "      <td>A</td>\n",
       "      <td>756</td>\n",
       "    </tr>\n",
       "    <tr>\n",
       "      <th>...</th>\n",
       "      <td>...</td>\n",
       "      <td>...</td>\n",
       "      <td>...</td>\n",
       "    </tr>\n",
       "    <tr>\n",
       "      <th>57</th>\n",
       "      <td>2019-08-27</td>\n",
       "      <td>B</td>\n",
       "      <td>720</td>\n",
       "    </tr>\n",
       "    <tr>\n",
       "      <th>58</th>\n",
       "      <td>2019-08-28</td>\n",
       "      <td>B</td>\n",
       "      <td>654</td>\n",
       "    </tr>\n",
       "    <tr>\n",
       "      <th>59</th>\n",
       "      <td>2019-08-29</td>\n",
       "      <td>B</td>\n",
       "      <td>531</td>\n",
       "    </tr>\n",
       "    <tr>\n",
       "      <th>60</th>\n",
       "      <td>2019-08-30</td>\n",
       "      <td>B</td>\n",
       "      <td>490</td>\n",
       "    </tr>\n",
       "    <tr>\n",
       "      <th>61</th>\n",
       "      <td>2019-08-31</td>\n",
       "      <td>B</td>\n",
       "      <td>718</td>\n",
       "    </tr>\n",
       "  </tbody>\n",
       "</table>\n",
       "<p>62 rows × 3 columns</p>\n",
       "</div>"
      ],
      "text/plain": [
       "          date group  visitors\n",
       "0   2019-08-01     A       719\n",
       "1   2019-08-02     A       619\n",
       "2   2019-08-03     A       507\n",
       "3   2019-08-04     A       717\n",
       "4   2019-08-05     A       756\n",
       "..         ...   ...       ...\n",
       "57  2019-08-27     B       720\n",
       "58  2019-08-28     B       654\n",
       "59  2019-08-29     B       531\n",
       "60  2019-08-30     B       490\n",
       "61  2019-08-31     B       718\n",
       "\n",
       "[62 rows x 3 columns]"
      ]
     },
     "execution_count": 5,
     "metadata": {},
     "output_type": "execute_result"
    }
   ],
   "source": [
    "visitors"
   ]
  },
  {
   "cell_type": "code",
   "execution_count": 6,
   "metadata": {},
   "outputs": [
    {
     "name": "stdout",
     "output_type": "stream",
     "text": [
      "<class 'pandas.core.frame.DataFrame'>\n",
      "RangeIndex: 9 entries, 0 to 8\n",
      "Data columns (total 5 columns):\n",
      " #   Column      Non-Null Count  Dtype \n",
      "---  ------      --------------  ----- \n",
      " 0   Hypothesis  9 non-null      object\n",
      " 1   Reach       9 non-null      int64 \n",
      " 2   Impact      9 non-null      int64 \n",
      " 3   Confidence  9 non-null      int64 \n",
      " 4   Efforts     9 non-null      int64 \n",
      "dtypes: int64(4), object(1)\n",
      "memory usage: 488.0+ bytes\n"
     ]
    }
   ],
   "source": [
    "# Выведем основную информацию о датафрейме hypothesis\n",
    "hypothesis.info()"
   ]
  },
  {
   "cell_type": "markdown",
   "metadata": {},
   "source": [
    "👀 \n",
    "- пропусков нет\n",
    "- типы данных - ок\n",
    "- названия столбцов - лучше привести к нижнему регистру"
   ]
  },
  {
   "cell_type": "code",
   "execution_count": 7,
   "metadata": {},
   "outputs": [
    {
     "name": "stdout",
     "output_type": "stream",
     "text": [
      "<class 'pandas.core.frame.DataFrame'>\n",
      "RangeIndex: 1197 entries, 0 to 1196\n",
      "Data columns (total 5 columns):\n",
      " #   Column         Non-Null Count  Dtype \n",
      "---  ------         --------------  ----- \n",
      " 0   transactionId  1197 non-null   int64 \n",
      " 1   visitorId      1197 non-null   int64 \n",
      " 2   date           1197 non-null   object\n",
      " 3   revenue        1197 non-null   int64 \n",
      " 4   group          1197 non-null   object\n",
      "dtypes: int64(3), object(2)\n",
      "memory usage: 46.9+ KB\n"
     ]
    }
   ],
   "source": [
    "# Выведем основную информацию о датафрейме orders\n",
    "orders.info()"
   ]
  },
  {
   "cell_type": "markdown",
   "metadata": {},
   "source": [
    "👀\n",
    "- видимых пропусков нет\n",
    "- изменим тип данных в столбце `date` 'object' → 'datetime'\n",
    "- названия столбцов - приведем в \"змеиный_регистр\""
   ]
  },
  {
   "cell_type": "code",
   "execution_count": 8,
   "metadata": {},
   "outputs": [
    {
     "name": "stdout",
     "output_type": "stream",
     "text": [
      "<class 'pandas.core.frame.DataFrame'>\n",
      "RangeIndex: 62 entries, 0 to 61\n",
      "Data columns (total 3 columns):\n",
      " #   Column    Non-Null Count  Dtype \n",
      "---  ------    --------------  ----- \n",
      " 0   date      62 non-null     object\n",
      " 1   group     62 non-null     object\n",
      " 2   visitors  62 non-null     int64 \n",
      "dtypes: int64(1), object(2)\n",
      "memory usage: 1.6+ KB\n"
     ]
    }
   ],
   "source": [
    "# Выведем основную информацию о датафрейме visitors\n",
    "visitors.info()"
   ]
  },
  {
   "cell_type": "markdown",
   "metadata": {},
   "source": [
    "👀\n",
    "- видимых пропусков нет\n",
    "- изменим тип данных в столбце date 'object' → 'datetime'\n",
    "- названия столбцов - ок"
   ]
  },
  {
   "cell_type": "markdown",
   "metadata": {},
   "source": [
    "### Выполним предобработку"
   ]
  },
  {
   "cell_type": "code",
   "execution_count": 9,
   "metadata": {},
   "outputs": [],
   "source": [
    "# Приведем в \"змеиный_регистр\" названия столбцов в `orders`\n",
    "orders.columns = orders.columns.str.replace('Id', '_id')"
   ]
  },
  {
   "cell_type": "code",
   "execution_count": 10,
   "metadata": {},
   "outputs": [],
   "source": [
    "# Приведем к нижнему регистру названия столбцов в `hypothesis`\n",
    "hypothesis.columns = hypothesis.columns.str.lower() "
   ]
  },
  {
   "cell_type": "code",
   "execution_count": 11,
   "metadata": {},
   "outputs": [],
   "source": [
    "# Изменим тип данных для столбцов с датами\n",
    "\n",
    "orders['date'] = pd.to_datetime(orders['date'])\n",
    "visitors['date'] = pd.to_datetime(visitors['date'])"
   ]
  },
  {
   "cell_type": "code",
   "execution_count": 12,
   "metadata": {},
   "outputs": [
    {
     "name": "stdout",
     "output_type": "stream",
     "text": [
      "<class 'pandas.core.frame.DataFrame'>\n",
      "RangeIndex: 9 entries, 0 to 8\n",
      "Data columns (total 5 columns):\n",
      " #   Column      Non-Null Count  Dtype \n",
      "---  ------      --------------  ----- \n",
      " 0   hypothesis  9 non-null      object\n",
      " 1   reach       9 non-null      int64 \n",
      " 2   impact      9 non-null      int64 \n",
      " 3   confidence  9 non-null      int64 \n",
      " 4   efforts     9 non-null      int64 \n",
      "dtypes: int64(4), object(1)\n",
      "memory usage: 488.0+ bytes\n"
     ]
    }
   ],
   "source": [
    "# Проверим изменения\n",
    "hypothesis.info()"
   ]
  },
  {
   "cell_type": "code",
   "execution_count": 13,
   "metadata": {},
   "outputs": [
    {
     "name": "stdout",
     "output_type": "stream",
     "text": [
      "<class 'pandas.core.frame.DataFrame'>\n",
      "RangeIndex: 1197 entries, 0 to 1196\n",
      "Data columns (total 5 columns):\n",
      " #   Column          Non-Null Count  Dtype         \n",
      "---  ------          --------------  -----         \n",
      " 0   transaction_id  1197 non-null   int64         \n",
      " 1   visitor_id      1197 non-null   int64         \n",
      " 2   date            1197 non-null   datetime64[ns]\n",
      " 3   revenue         1197 non-null   int64         \n",
      " 4   group           1197 non-null   object        \n",
      "dtypes: datetime64[ns](1), int64(3), object(1)\n",
      "memory usage: 46.9+ KB\n"
     ]
    }
   ],
   "source": [
    "orders.info()"
   ]
  },
  {
   "cell_type": "code",
   "execution_count": 14,
   "metadata": {},
   "outputs": [
    {
     "name": "stdout",
     "output_type": "stream",
     "text": [
      "<class 'pandas.core.frame.DataFrame'>\n",
      "RangeIndex: 62 entries, 0 to 61\n",
      "Data columns (total 3 columns):\n",
      " #   Column    Non-Null Count  Dtype         \n",
      "---  ------    --------------  -----         \n",
      " 0   date      62 non-null     datetime64[ns]\n",
      " 1   group     62 non-null     object        \n",
      " 2   visitors  62 non-null     int64         \n",
      "dtypes: datetime64[ns](1), int64(1), object(1)\n",
      "memory usage: 1.6+ KB\n"
     ]
    }
   ],
   "source": [
    "visitors.info()"
   ]
  },
  {
   "cell_type": "markdown",
   "metadata": {},
   "source": [
    "### Изучим уникальные значения в столбцах и устраним дубликаты"
   ]
  },
  {
   "cell_type": "code",
   "execution_count": 15,
   "metadata": {},
   "outputs": [
    {
     "name": "stdout",
     "output_type": "stream",
     "text": [
      "0\n",
      "0\n",
      "0\n"
     ]
    }
   ],
   "source": [
    "# Проверим на явные дубликаты\n",
    "\n",
    "print(hypothesis.duplicated().sum())\n",
    "print(orders.duplicated().sum())\n",
    "print(visitors.duplicated().sum())"
   ]
  },
  {
   "cell_type": "markdown",
   "metadata": {},
   "source": [
    "### Для численных данных посмотрим на их статистические показатели и проверим на наличие ошибок или аномалий"
   ]
  },
  {
   "cell_type": "code",
   "execution_count": 16,
   "metadata": {},
   "outputs": [
    {
     "name": "stdout",
     "output_type": "stream",
     "text": [
      "                                               hypothesis      reach  \\\n",
      "count                                                   9   9.000000   \n",
      "unique                                                  9        NaN   \n",
      "top     Запустить собственную службу доставки, что сок...        NaN   \n",
      "freq                                                    1        NaN   \n",
      "mean                                                  NaN   4.777778   \n",
      "std                                                   NaN   3.153481   \n",
      "min                                                   NaN   1.000000   \n",
      "25%                                                   NaN   3.000000   \n",
      "50%                                                   NaN   3.000000   \n",
      "75%                                                   NaN   8.000000   \n",
      "max                                                   NaN  10.000000   \n",
      "\n",
      "           impact  confidence    efforts  \n",
      "count    9.000000    9.000000   9.000000  \n",
      "unique        NaN         NaN        NaN  \n",
      "top           NaN         NaN        NaN  \n",
      "freq          NaN         NaN        NaN  \n",
      "mean     4.777778    5.555556   4.888889  \n",
      "std      3.192874    3.045944   2.803767  \n",
      "min      1.000000    1.000000   1.000000  \n",
      "25%      3.000000    3.000000   3.000000  \n",
      "50%      3.000000    7.000000   5.000000  \n",
      "75%      7.000000    8.000000   6.000000  \n",
      "max     10.000000    9.000000  10.000000  \n",
      "        transaction_id    visitor_id                           date  \\\n",
      "count     1.197000e+03  1.197000e+03                           1197   \n",
      "unique             NaN           NaN                            NaN   \n",
      "top                NaN           NaN                            NaN   \n",
      "freq               NaN           NaN                            NaN   \n",
      "mean      2.155621e+09  2.165960e+09  2019-08-15 13:06:46.015037696   \n",
      "min       1.062393e+06  5.114589e+06            2019-08-01 00:00:00   \n",
      "25%       1.166776e+09  1.111826e+09            2019-08-08 00:00:00   \n",
      "50%       2.145194e+09  2.217985e+09            2019-08-15 00:00:00   \n",
      "75%       3.237740e+09  3.177606e+09            2019-08-23 00:00:00   \n",
      "max       4.293856e+09  4.283872e+09            2019-08-31 00:00:00   \n",
      "std       1.229085e+09  1.236014e+09                            NaN   \n",
      "\n",
      "             revenue group  \n",
      "count   1.197000e+03  1197  \n",
      "unique           NaN     2  \n",
      "top              NaN     B  \n",
      "freq             NaN   640  \n",
      "mean    8.348006e+03   NaN  \n",
      "min     5.000000e+01   NaN  \n",
      "25%     1.220000e+03   NaN  \n",
      "50%     2.978000e+03   NaN  \n",
      "75%     8.290000e+03   NaN  \n",
      "max     1.294500e+06   NaN  \n",
      "std     3.919113e+04   NaN  \n",
      "                       date group    visitors\n",
      "count                    62    62   62.000000\n",
      "unique                  NaN     2         NaN\n",
      "top                     NaN     B         NaN\n",
      "freq                    NaN    31         NaN\n",
      "mean    2019-08-16 00:00:00   NaN  607.290323\n",
      "min     2019-08-01 00:00:00   NaN  361.000000\n",
      "25%     2019-08-08 06:00:00   NaN  534.000000\n",
      "50%     2019-08-16 00:00:00   NaN  624.500000\n",
      "75%     2019-08-23 18:00:00   NaN  710.500000\n",
      "max     2019-08-31 00:00:00   NaN  770.000000\n",
      "std                     NaN   NaN  114.400560\n"
     ]
    }
   ],
   "source": [
    "# Посмотрим описательную статистику каждого столбца\n",
    "\n",
    "print(hypothesis.describe(include='all') )\n",
    "print(orders.describe(include='all', datetime_is_numeric=True) )\n",
    "print(visitors.describe(include='all', datetime_is_numeric=True) )"
   ]
  },
  {
   "cell_type": "markdown",
   "metadata": {},
   "source": [
    "👀 Ошибок / видимых аномалий не обнаружено"
   ]
  },
  {
   "cell_type": "code",
   "execution_count": 17,
   "metadata": {},
   "outputs": [
    {
     "name": "stdout",
     "output_type": "stream",
     "text": [
      "hypothesis    0\n",
      "reach         0\n",
      "impact        0\n",
      "confidence    0\n",
      "efforts       0\n",
      "dtype: int64\n",
      "transaction_id    0\n",
      "visitor_id        0\n",
      "date              0\n",
      "revenue           0\n",
      "group             0\n",
      "dtype: int64\n",
      "date        0\n",
      "group       0\n",
      "visitors    0\n",
      "dtype: int64\n"
     ]
    }
   ],
   "source": [
    "# Найдем и изучим пропущенные значения в столбцах\n",
    "\n",
    "print(hypothesis.isna().sum() )\n",
    "print(orders.isna().sum() )\n",
    "print(visitors.isna().sum() )"
   ]
  },
  {
   "cell_type": "markdown",
   "metadata": {},
   "source": [
    "👀 Пропусков нет"
   ]
  },
  {
   "cell_type": "code",
   "execution_count": 18,
   "metadata": {},
   "outputs": [
    {
     "data": {
      "text/plain": [
       "array(['B', 'A'], dtype=object)"
      ]
     },
     "metadata": {},
     "output_type": "display_data"
    },
    {
     "data": {
      "text/plain": [
       "array(['A', 'B'], dtype=object)"
      ]
     },
     "metadata": {},
     "output_type": "display_data"
    }
   ],
   "source": [
    "# Сколько у нас групп в АВ-тесте\n",
    "display(orders['group'].unique())\n",
    "display(visitors['group'].unique())"
   ]
  },
  {
   "cell_type": "markdown",
   "metadata": {},
   "source": [
    "👀 В обоих таблицах две группы - А и B"
   ]
  },
  {
   "cell_type": "code",
   "execution_count": 19,
   "metadata": {},
   "outputs": [
    {
     "data": {
      "text/plain": [
       "group\n",
       "A    557\n",
       "B    640\n",
       "Name: visitor_id, dtype: int64"
      ]
     },
     "execution_count": 19,
     "metadata": {},
     "output_type": "execute_result"
    }
   ],
   "source": [
    "# Сколько пользователей в каждой группе - по таблице с заказами\n",
    "orders.groupby('group')['visitor_id'].count()"
   ]
  },
  {
   "cell_type": "markdown",
   "metadata": {},
   "source": [
    "👀 557 юзеров в А и 640 в В"
   ]
  },
  {
   "cell_type": "code",
   "execution_count": 20,
   "metadata": {},
   "outputs": [
    {
     "data": {
      "text/plain": [
       "Timestamp('2019-08-01 00:00:00')"
      ]
     },
     "metadata": {},
     "output_type": "display_data"
    },
    {
     "data": {
      "text/plain": [
       "Timestamp('2019-08-31 00:00:00')"
      ]
     },
     "metadata": {},
     "output_type": "display_data"
    }
   ],
   "source": [
    "# Найдем минимальную и максимальную дату исследования\n",
    "display(visitors['date'].min())\n",
    "display(visitors['date'].max())"
   ]
  },
  {
   "cell_type": "markdown",
   "metadata": {},
   "source": [
    "👀 У нас данные с 01-08-2019 по 31-08-2019. Тест проводился ровно месяц"
   ]
  },
  {
   "cell_type": "code",
   "execution_count": 21,
   "metadata": {},
   "outputs": [
    {
     "data": {
      "text/plain": [
       "89"
      ]
     },
     "execution_count": 21,
     "metadata": {},
     "output_type": "execute_result"
    }
   ],
   "source": [
    "# Проверим, не попадают ли какие-либо пользователи в обе группы, например, вследствие ошибки при настройке или проведении теста\n",
    "orders[orders['group'] == 'A']['visitor_id'].isin(orders[orders['group'] == 'B']['visitor_id']).sum()"
   ]
  },
  {
   "cell_type": "markdown",
   "metadata": {},
   "source": [
    "Данные о заказах 89 пользователей из группы А находятся также и в группе B. Придется избавиться от этих строк, чтобы результаты эксперимента меньше искажались"
   ]
  },
  {
   "cell_type": "code",
   "execution_count": 22,
   "metadata": {},
   "outputs": [],
   "source": [
    "duplicated_users = pd.Series(list(set(orders[orders['group'] == 'A']['visitor_id'])\\\n",
    "                             .intersection(set(orders[orders['group'] == 'B']['visitor_id']))))"
   ]
  },
  {
   "cell_type": "code",
   "execution_count": 23,
   "metadata": {},
   "outputs": [
    {
     "data": {
      "text/plain": [
       "B    548\n",
       "A    468\n",
       "Name: group, dtype: int64"
      ]
     },
     "metadata": {},
     "output_type": "display_data"
    }
   ],
   "source": [
    "orders = orders.loc[~orders['visitor_id'].isin(list(duplicated_users))]\n",
    "\n",
    "display(orders['group'].value_counts())"
   ]
  },
  {
   "cell_type": "markdown",
   "metadata": {},
   "source": [
    "В идеале, нужно удалить их и из таблицы `visitors`, но так как у нас нет информации в этой таблице, какие пользователи из каких групп, то сделать это не получится"
   ]
  },
  {
   "cell_type": "markdown",
   "metadata": {},
   "source": [
    "### Общий вывод после изучения данных"
   ]
  },
  {
   "cell_type": "markdown",
   "metadata": {},
   "source": [
    "- импортированы библиотеки\n",
    "- загружены данные из CSV-файлов в переменные\n",
    "- посмотрели на содержимое датасетов\n",
    "- явные / неявные пропуски в данных отсутствуют, заполнение не требуется\n",
    "- ошибки / аномалии не обнаружены\n",
    "- изменили тип данных для столбцов с датами\n",
    "- названия столбцов привели в \"змеиный_регистр\""
   ]
  },
  {
   "cell_type": "markdown",
   "metadata": {},
   "source": [
    "## Приоритизация гипотез"
   ]
  },
  {
   "cell_type": "markdown",
   "metadata": {},
   "source": [
    "Методики помогают продуктовым командам унифицировать подход к определению того, какие инициативы необходимо добавить в дорожную карту продукта. Полученную оценку можно использовать для ранжирования инициатив, чтобы определить, в каком порядке можем воплощать эти идеи."
   ]
  },
  {
   "cell_type": "markdown",
   "metadata": {},
   "source": [
    "### Применим фреймворк ICE для приоритизации гипотез"
   ]
  },
  {
   "cell_type": "markdown",
   "metadata": {},
   "source": [
    "$$ICE = \\frac{Impact * Confidence}{Efforts}$$"
   ]
  },
  {
   "cell_type": "code",
   "execution_count": 24,
   "metadata": {},
   "outputs": [
    {
     "data": {
      "text/html": [
       "<style  type=\"text/css\" >\n",
       "#T_78dc9_row0_col1{\n",
       "            background-color:  #023858;\n",
       "            color:  #f1f1f1;\n",
       "        }#T_78dc9_row1_col1{\n",
       "            background-color:  #05659f;\n",
       "            color:  #f1f1f1;\n",
       "        }#T_78dc9_row2_col1{\n",
       "            background-color:  #2484ba;\n",
       "            color:  #000000;\n",
       "        }#T_78dc9_row3_col1{\n",
       "            background-color:  #84b0d3;\n",
       "            color:  #000000;\n",
       "        }#T_78dc9_row4_col1{\n",
       "            background-color:  #9ebad9;\n",
       "            color:  #000000;\n",
       "        }#T_78dc9_row5_col1{\n",
       "            background-color:  #f5eff6;\n",
       "            color:  #000000;\n",
       "        }#T_78dc9_row6_col1{\n",
       "            background-color:  #fcf4fa;\n",
       "            color:  #000000;\n",
       "        }#T_78dc9_row7_col1{\n",
       "            background-color:  #fef6fa;\n",
       "            color:  #000000;\n",
       "        }#T_78dc9_row8_col1{\n",
       "            background-color:  #fff7fb;\n",
       "            color:  #000000;\n",
       "        }</style><table id=\"T_78dc9_\" ><thead>    <tr>        <th class=\"blank level0\" ></th>        <th class=\"col_heading level0 col0\" >hypothesis</th>        <th class=\"col_heading level0 col1\" >ICE</th>    </tr></thead><tbody>\n",
       "                <tr>\n",
       "                        <th id=\"T_78dc9_level0_row0\" class=\"row_heading level0 row0\" >8</th>\n",
       "                        <td id=\"T_78dc9_row0_col0\" class=\"data row0 col0\" >Запустить акцию, дающую скидку на товар в день рождения</td>\n",
       "                        <td id=\"T_78dc9_row0_col1\" class=\"data row0 col1\" >16.200000</td>\n",
       "            </tr>\n",
       "            <tr>\n",
       "                        <th id=\"T_78dc9_level0_row1\" class=\"row_heading level0 row1\" >0</th>\n",
       "                        <td id=\"T_78dc9_row1_col0\" class=\"data row1 col0\" >Добавить два новых канала привлечения трафика, что позволит привлекать на 30% больше пользователей</td>\n",
       "                        <td id=\"T_78dc9_row1_col1\" class=\"data row1 col1\" >13.333333</td>\n",
       "            </tr>\n",
       "            <tr>\n",
       "                        <th id=\"T_78dc9_level0_row2\" class=\"row_heading level0 row2\" >7</th>\n",
       "                        <td id=\"T_78dc9_row2_col0\" class=\"data row2 col0\" >Добавить форму подписки на все основные страницы, чтобы собрать базу клиентов для email-рассылок</td>\n",
       "                        <td id=\"T_78dc9_row2_col1\" class=\"data row2 col1\" >11.200000</td>\n",
       "            </tr>\n",
       "            <tr>\n",
       "                        <th id=\"T_78dc9_level0_row3\" class=\"row_heading level0 row3\" >6</th>\n",
       "                        <td id=\"T_78dc9_row3_col0\" class=\"data row3 col0\" >Показать на главной странице баннеры с актуальными акциями и распродажами, чтобы увеличить конверсию</td>\n",
       "                        <td id=\"T_78dc9_row3_col1\" class=\"data row3 col1\" >8.000000</td>\n",
       "            </tr>\n",
       "            <tr>\n",
       "                        <th id=\"T_78dc9_level0_row4\" class=\"row_heading level0 row4\" >2</th>\n",
       "                        <td id=\"T_78dc9_row4_col0\" class=\"data row4 col0\" >Добавить блоки рекомендаций товаров на сайт интернет магазина, чтобы повысить конверсию и средний чек заказа</td>\n",
       "                        <td id=\"T_78dc9_row4_col1\" class=\"data row4 col1\" >7.000000</td>\n",
       "            </tr>\n",
       "            <tr>\n",
       "                        <th id=\"T_78dc9_level0_row5\" class=\"row_heading level0 row5\" >1</th>\n",
       "                        <td id=\"T_78dc9_row5_col0\" class=\"data row5 col0\" >Запустить собственную службу доставки, что сократит срок доставки заказов</td>\n",
       "                        <td id=\"T_78dc9_row5_col1\" class=\"data row5 col1\" >2.000000</td>\n",
       "            </tr>\n",
       "            <tr>\n",
       "                        <th id=\"T_78dc9_level0_row6\" class=\"row_heading level0 row6\" >5</th>\n",
       "                        <td id=\"T_78dc9_row6_col0\" class=\"data row6 col0\" >Добавить страницу отзывов клиентов о магазине, что позволит увеличить количество заказов</td>\n",
       "                        <td id=\"T_78dc9_row6_col1\" class=\"data row6 col1\" >1.333333</td>\n",
       "            </tr>\n",
       "            <tr>\n",
       "                        <th id=\"T_78dc9_level0_row7\" class=\"row_heading level0 row7\" >3</th>\n",
       "                        <td id=\"T_78dc9_row7_col0\" class=\"data row7 col0\" >Изменить структура категорий, что увеличит конверсию, т.к. пользователи быстрее найдут нужный товар</td>\n",
       "                        <td id=\"T_78dc9_row7_col1\" class=\"data row7 col1\" >1.125000</td>\n",
       "            </tr>\n",
       "            <tr>\n",
       "                        <th id=\"T_78dc9_level0_row8\" class=\"row_heading level0 row8\" >4</th>\n",
       "                        <td id=\"T_78dc9_row8_col0\" class=\"data row8 col0\" >Изменить цвет фона главной страницы, чтобы увеличить вовлеченность пользователей</td>\n",
       "                        <td id=\"T_78dc9_row8_col1\" class=\"data row8 col1\" >1.000000</td>\n",
       "            </tr>\n",
       "    </tbody></table>"
      ],
      "text/plain": [
       "<pandas.io.formats.style.Styler at 0x7fca788f8a60>"
      ]
     },
     "execution_count": 24,
     "metadata": {},
     "output_type": "execute_result"
    }
   ],
   "source": [
    "hypothesis['ICE'] = (hypothesis['impact'] * hypothesis['confidence']) / hypothesis['efforts']\n",
    "# Отсортируем по убыванию приоритета и добавим цвет\n",
    "hypothesis[['hypothesis','ICE']].sort_values(by='ICE', ascending=False).style.background_gradient(axis=0)"
   ]
  },
  {
   "cell_type": "markdown",
   "metadata": {},
   "source": [
    "👀 По результатам  ICE (по убыванию)\n",
    "\n",
    "▲ <font color='green'>Гипотезы с бо́льшим приоритетом</font>:\n",
    "- 8 - Запустить акцию, дающую скидку на товар в день рождения\n",
    "- 0 - Добавить два новых канала привлечения трафика, что позволит привлекать на 30% больше пользователей\n",
    "- 7 - Добавить форму подписки на все основные страницы, чтобы собрать базу клиентов для email-рассылок\n",
    "\n",
    "▼ <font color='red'>Гипотезы с меньшим приоритетом</font>:\n",
    "- 5 - Добавить страницу отзывов клиентов о магазине, что позволит увеличить количество заказов\n",
    "- 3 - Изменить структура категорий, что увеличит конверсию, т.к. пользователи быстрее найдут нужный товар\n",
    "- 4 - Изменить цвет фона главной страницы, чтобы увеличить вовлеченность пользователей"
   ]
  },
  {
   "cell_type": "markdown",
   "metadata": {},
   "source": [
    "### Применим фреймворк RICE для приоритизации гипотез"
   ]
  },
  {
   "cell_type": "markdown",
   "metadata": {},
   "source": [
    "$$RICE = \\frac{Rearch * Impact * Confidence}{Efforts}$$"
   ]
  },
  {
   "cell_type": "code",
   "execution_count": 25,
   "metadata": {},
   "outputs": [
    {
     "data": {
      "text/html": [
       "<style  type=\"text/css\" >\n",
       "#T_63800_row0_col1{\n",
       "            background-color:  #023858;\n",
       "            color:  #f1f1f1;\n",
       "        }#T_63800_row1_col1{\n",
       "            background-color:  #79abd0;\n",
       "            color:  #000000;\n",
       "        }#T_63800_row2_col1,#T_63800_row3_col1{\n",
       "            background-color:  #b3c3de;\n",
       "            color:  #000000;\n",
       "        }#T_63800_row4_col1{\n",
       "            background-color:  #ede7f2;\n",
       "            color:  #000000;\n",
       "        }#T_63800_row5_col1{\n",
       "            background-color:  #f7f0f7;\n",
       "            color:  #000000;\n",
       "        }#T_63800_row6_col1,#T_63800_row7_col1{\n",
       "            background-color:  #fef6fa;\n",
       "            color:  #000000;\n",
       "        }#T_63800_row8_col1{\n",
       "            background-color:  #fff7fb;\n",
       "            color:  #000000;\n",
       "        }</style><table id=\"T_63800_\" ><thead>    <tr>        <th class=\"blank level0\" ></th>        <th class=\"col_heading level0 col0\" >hypothesis</th>        <th class=\"col_heading level0 col1\" >RICE</th>    </tr></thead><tbody>\n",
       "                <tr>\n",
       "                        <th id=\"T_63800_level0_row0\" class=\"row_heading level0 row0\" >7</th>\n",
       "                        <td id=\"T_63800_row0_col0\" class=\"data row0 col0\" >Добавить форму подписки на все основные страницы, чтобы собрать базу клиентов для email-рассылок</td>\n",
       "                        <td id=\"T_63800_row0_col1\" class=\"data row0 col1\" >112.000000</td>\n",
       "            </tr>\n",
       "            <tr>\n",
       "                        <th id=\"T_63800_level0_row1\" class=\"row_heading level0 row1\" >2</th>\n",
       "                        <td id=\"T_63800_row1_col0\" class=\"data row1 col0\" >Добавить блоки рекомендаций товаров на сайт интернет магазина, чтобы повысить конверсию и средний чек заказа</td>\n",
       "                        <td id=\"T_63800_row1_col1\" class=\"data row1 col1\" >56.000000</td>\n",
       "            </tr>\n",
       "            <tr>\n",
       "                        <th id=\"T_63800_level0_row2\" class=\"row_heading level0 row2\" >0</th>\n",
       "                        <td id=\"T_63800_row2_col0\" class=\"data row2 col0\" >Добавить два новых канала привлечения трафика, что позволит привлекать на 30% больше пользователей</td>\n",
       "                        <td id=\"T_63800_row2_col1\" class=\"data row2 col1\" >40.000000</td>\n",
       "            </tr>\n",
       "            <tr>\n",
       "                        <th id=\"T_63800_level0_row3\" class=\"row_heading level0 row3\" >6</th>\n",
       "                        <td id=\"T_63800_row3_col0\" class=\"data row3 col0\" >Показать на главной странице баннеры с актуальными акциями и распродажами, чтобы увеличить конверсию</td>\n",
       "                        <td id=\"T_63800_row3_col1\" class=\"data row3 col1\" >40.000000</td>\n",
       "            </tr>\n",
       "            <tr>\n",
       "                        <th id=\"T_63800_level0_row4\" class=\"row_heading level0 row4\" >8</th>\n",
       "                        <td id=\"T_63800_row4_col0\" class=\"data row4 col0\" >Запустить акцию, дающую скидку на товар в день рождения</td>\n",
       "                        <td id=\"T_63800_row4_col1\" class=\"data row4 col1\" >16.200000</td>\n",
       "            </tr>\n",
       "            <tr>\n",
       "                        <th id=\"T_63800_level0_row5\" class=\"row_heading level0 row5\" >3</th>\n",
       "                        <td id=\"T_63800_row5_col0\" class=\"data row5 col0\" >Изменить структура категорий, что увеличит конверсию, т.к. пользователи быстрее найдут нужный товар</td>\n",
       "                        <td id=\"T_63800_row5_col1\" class=\"data row5 col1\" >9.000000</td>\n",
       "            </tr>\n",
       "            <tr>\n",
       "                        <th id=\"T_63800_level0_row6\" class=\"row_heading level0 row6\" >1</th>\n",
       "                        <td id=\"T_63800_row6_col0\" class=\"data row6 col0\" >Запустить собственную службу доставки, что сократит срок доставки заказов</td>\n",
       "                        <td id=\"T_63800_row6_col1\" class=\"data row6 col1\" >4.000000</td>\n",
       "            </tr>\n",
       "            <tr>\n",
       "                        <th id=\"T_63800_level0_row7\" class=\"row_heading level0 row7\" >5</th>\n",
       "                        <td id=\"T_63800_row7_col0\" class=\"data row7 col0\" >Добавить страницу отзывов клиентов о магазине, что позволит увеличить количество заказов</td>\n",
       "                        <td id=\"T_63800_row7_col1\" class=\"data row7 col1\" >4.000000</td>\n",
       "            </tr>\n",
       "            <tr>\n",
       "                        <th id=\"T_63800_level0_row8\" class=\"row_heading level0 row8\" >4</th>\n",
       "                        <td id=\"T_63800_row8_col0\" class=\"data row8 col0\" >Изменить цвет фона главной страницы, чтобы увеличить вовлеченность пользователей</td>\n",
       "                        <td id=\"T_63800_row8_col1\" class=\"data row8 col1\" >3.000000</td>\n",
       "            </tr>\n",
       "    </tbody></table>"
      ],
      "text/plain": [
       "<pandas.io.formats.style.Styler at 0x7fca788d8580>"
      ]
     },
     "execution_count": 25,
     "metadata": {},
     "output_type": "execute_result"
    }
   ],
   "source": [
    "hypothesis['RICE'] = hypothesis['reach'] * hypothesis['impact'] * hypothesis['confidence'] / hypothesis['efforts']\n",
    "\n",
    "# Отсортируем по убыванию приоритета и добавим цвет\n",
    "hypothesis[['hypothesis','RICE']].sort_values(by='RICE', ascending=False).style.background_gradient(axis=0) "
   ]
  },
  {
   "cell_type": "markdown",
   "metadata": {},
   "source": [
    "👀 По результатам RICE (по убыванию)\n",
    "\n",
    "▲ <font color='green'>Гипотезы с бо́льшим приоритетом</font>:\n",
    "- 7 - Добавить форму подписки на все основные страницы, чтобы собрать базу клиентов для email-рассылок\n",
    "- 2 - Добавить блоки рекомендаций товаров на сайт интернет магазина, чтобы повысить конверсию и средний чек заказа\n",
    "- 0 - Добавить два новых канала привлечения трафика, что позволит привлекать на 30% больше пользователей\n",
    "\n",
    "▼ <font color='red'>Гипотезы с меньшим приоритетом</font>:\n",
    "- 1 - Запустить собственную службу доставки, что сократит срок доставки заказов\n",
    "- 5 - Добавить страницу отзывов клиентов о магазине, что позволит увеличить количество заказов\n",
    "- 4 - Изменить цвет фона главной страницы, чтобы увеличить вовлеченность пользователей"
   ]
  },
  {
   "cell_type": "code",
   "execution_count": 26,
   "metadata": {},
   "outputs": [
    {
     "data": {
      "text/html": [
       "<style  type=\"text/css\" >\n",
       "#T_4ae8f_row0_col1,#T_4ae8f_row4_col2{\n",
       "            background-color:  #023858;\n",
       "            color:  #f1f1f1;\n",
       "        }#T_4ae8f_row0_col2{\n",
       "            background-color:  #2484ba;\n",
       "            color:  #000000;\n",
       "        }#T_4ae8f_row1_col1{\n",
       "            background-color:  #79abd0;\n",
       "            color:  #000000;\n",
       "        }#T_4ae8f_row1_col2{\n",
       "            background-color:  #9ebad9;\n",
       "            color:  #000000;\n",
       "        }#T_4ae8f_row2_col1,#T_4ae8f_row3_col1{\n",
       "            background-color:  #b3c3de;\n",
       "            color:  #000000;\n",
       "        }#T_4ae8f_row2_col2{\n",
       "            background-color:  #05659f;\n",
       "            color:  #f1f1f1;\n",
       "        }#T_4ae8f_row3_col2{\n",
       "            background-color:  #84b0d3;\n",
       "            color:  #000000;\n",
       "        }#T_4ae8f_row4_col1{\n",
       "            background-color:  #ede7f2;\n",
       "            color:  #000000;\n",
       "        }#T_4ae8f_row5_col1{\n",
       "            background-color:  #f7f0f7;\n",
       "            color:  #000000;\n",
       "        }#T_4ae8f_row5_col2,#T_4ae8f_row6_col1,#T_4ae8f_row7_col1{\n",
       "            background-color:  #fef6fa;\n",
       "            color:  #000000;\n",
       "        }#T_4ae8f_row6_col2{\n",
       "            background-color:  #f5eff6;\n",
       "            color:  #000000;\n",
       "        }#T_4ae8f_row7_col2{\n",
       "            background-color:  #fcf4fa;\n",
       "            color:  #000000;\n",
       "        }#T_4ae8f_row8_col1,#T_4ae8f_row8_col2{\n",
       "            background-color:  #fff7fb;\n",
       "            color:  #000000;\n",
       "        }</style><table id=\"T_4ae8f_\" ><thead>    <tr>        <th class=\"blank level0\" ></th>        <th class=\"col_heading level0 col0\" >hypothesis</th>        <th class=\"col_heading level0 col1\" >RICE</th>        <th class=\"col_heading level0 col2\" >ICE</th>    </tr></thead><tbody>\n",
       "                <tr>\n",
       "                        <th id=\"T_4ae8f_level0_row0\" class=\"row_heading level0 row0\" >7</th>\n",
       "                        <td id=\"T_4ae8f_row0_col0\" class=\"data row0 col0\" >Добавить форму подписки на все основные страницы, чтобы собрать базу клиентов для email-рассылок</td>\n",
       "                        <td id=\"T_4ae8f_row0_col1\" class=\"data row0 col1\" >112.000000</td>\n",
       "                        <td id=\"T_4ae8f_row0_col2\" class=\"data row0 col2\" >11.200000</td>\n",
       "            </tr>\n",
       "            <tr>\n",
       "                        <th id=\"T_4ae8f_level0_row1\" class=\"row_heading level0 row1\" >2</th>\n",
       "                        <td id=\"T_4ae8f_row1_col0\" class=\"data row1 col0\" >Добавить блоки рекомендаций товаров на сайт интернет магазина, чтобы повысить конверсию и средний чек заказа</td>\n",
       "                        <td id=\"T_4ae8f_row1_col1\" class=\"data row1 col1\" >56.000000</td>\n",
       "                        <td id=\"T_4ae8f_row1_col2\" class=\"data row1 col2\" >7.000000</td>\n",
       "            </tr>\n",
       "            <tr>\n",
       "                        <th id=\"T_4ae8f_level0_row2\" class=\"row_heading level0 row2\" >0</th>\n",
       "                        <td id=\"T_4ae8f_row2_col0\" class=\"data row2 col0\" >Добавить два новых канала привлечения трафика, что позволит привлекать на 30% больше пользователей</td>\n",
       "                        <td id=\"T_4ae8f_row2_col1\" class=\"data row2 col1\" >40.000000</td>\n",
       "                        <td id=\"T_4ae8f_row2_col2\" class=\"data row2 col2\" >13.333333</td>\n",
       "            </tr>\n",
       "            <tr>\n",
       "                        <th id=\"T_4ae8f_level0_row3\" class=\"row_heading level0 row3\" >6</th>\n",
       "                        <td id=\"T_4ae8f_row3_col0\" class=\"data row3 col0\" >Показать на главной странице баннеры с актуальными акциями и распродажами, чтобы увеличить конверсию</td>\n",
       "                        <td id=\"T_4ae8f_row3_col1\" class=\"data row3 col1\" >40.000000</td>\n",
       "                        <td id=\"T_4ae8f_row3_col2\" class=\"data row3 col2\" >8.000000</td>\n",
       "            </tr>\n",
       "            <tr>\n",
       "                        <th id=\"T_4ae8f_level0_row4\" class=\"row_heading level0 row4\" >8</th>\n",
       "                        <td id=\"T_4ae8f_row4_col0\" class=\"data row4 col0\" >Запустить акцию, дающую скидку на товар в день рождения</td>\n",
       "                        <td id=\"T_4ae8f_row4_col1\" class=\"data row4 col1\" >16.200000</td>\n",
       "                        <td id=\"T_4ae8f_row4_col2\" class=\"data row4 col2\" >16.200000</td>\n",
       "            </tr>\n",
       "            <tr>\n",
       "                        <th id=\"T_4ae8f_level0_row5\" class=\"row_heading level0 row5\" >3</th>\n",
       "                        <td id=\"T_4ae8f_row5_col0\" class=\"data row5 col0\" >Изменить структура категорий, что увеличит конверсию, т.к. пользователи быстрее найдут нужный товар</td>\n",
       "                        <td id=\"T_4ae8f_row5_col1\" class=\"data row5 col1\" >9.000000</td>\n",
       "                        <td id=\"T_4ae8f_row5_col2\" class=\"data row5 col2\" >1.125000</td>\n",
       "            </tr>\n",
       "            <tr>\n",
       "                        <th id=\"T_4ae8f_level0_row6\" class=\"row_heading level0 row6\" >1</th>\n",
       "                        <td id=\"T_4ae8f_row6_col0\" class=\"data row6 col0\" >Запустить собственную службу доставки, что сократит срок доставки заказов</td>\n",
       "                        <td id=\"T_4ae8f_row6_col1\" class=\"data row6 col1\" >4.000000</td>\n",
       "                        <td id=\"T_4ae8f_row6_col2\" class=\"data row6 col2\" >2.000000</td>\n",
       "            </tr>\n",
       "            <tr>\n",
       "                        <th id=\"T_4ae8f_level0_row7\" class=\"row_heading level0 row7\" >5</th>\n",
       "                        <td id=\"T_4ae8f_row7_col0\" class=\"data row7 col0\" >Добавить страницу отзывов клиентов о магазине, что позволит увеличить количество заказов</td>\n",
       "                        <td id=\"T_4ae8f_row7_col1\" class=\"data row7 col1\" >4.000000</td>\n",
       "                        <td id=\"T_4ae8f_row7_col2\" class=\"data row7 col2\" >1.333333</td>\n",
       "            </tr>\n",
       "            <tr>\n",
       "                        <th id=\"T_4ae8f_level0_row8\" class=\"row_heading level0 row8\" >4</th>\n",
       "                        <td id=\"T_4ae8f_row8_col0\" class=\"data row8 col0\" >Изменить цвет фона главной страницы, чтобы увеличить вовлеченность пользователей</td>\n",
       "                        <td id=\"T_4ae8f_row8_col1\" class=\"data row8 col1\" >3.000000</td>\n",
       "                        <td id=\"T_4ae8f_row8_col2\" class=\"data row8 col2\" >1.000000</td>\n",
       "            </tr>\n",
       "    </tbody></table>"
      ],
      "text/plain": [
       "<pandas.io.formats.style.Styler at 0x7fca78716730>"
      ]
     },
     "execution_count": 26,
     "metadata": {},
     "output_type": "execute_result"
    }
   ],
   "source": [
    "# Для удобства интерпретации, объединим результаты ICE и RICE в одну таблицу\n",
    "hypothesis[['hypothesis', 'RICE', 'ICE']].sort_values(by='RICE', ascending=False).style.background_gradient(axis=0) "
   ]
  },
  {
   "cell_type": "markdown",
   "metadata": {},
   "source": [
    "На первом месте в RICE оказалась седьмая гипотеза. Это произошло из-за учета в RICE показателя по охвату пользователей 'reach' = 10. На второе место встала вторая гипотеза, где 'reach' = 8 (в ICE была в середине). Гипотезы 7, 0 и 2 повторяются в обоих методах, значит их точно можно отнести к наиболее важным, а 5 и 4 - к наименее важным.\n",
    "\n",
    "Следовательно, если дальнейшие исследования должны учесть охват пользователей интернет-магазина, то лучше ранжировать гипотезы по RICE"
   ]
  },
  {
   "cell_type": "markdown",
   "metadata": {},
   "source": [
    "## Анализ A/B-теста"
   ]
  },
  {
   "cell_type": "markdown",
   "metadata": {},
   "source": [
    "### Соберем соответствующий агрегированный датафрейм"
   ]
  },
  {
   "cell_type": "code",
   "execution_count": 27,
   "metadata": {},
   "outputs": [
    {
     "data": {
      "text/html": [
       "<div>\n",
       "<style scoped>\n",
       "    .dataframe tbody tr th:only-of-type {\n",
       "        vertical-align: middle;\n",
       "    }\n",
       "\n",
       "    .dataframe tbody tr th {\n",
       "        vertical-align: top;\n",
       "    }\n",
       "\n",
       "    .dataframe thead th {\n",
       "        text-align: right;\n",
       "    }\n",
       "</style>\n",
       "<table border=\"1\" class=\"dataframe\">\n",
       "  <thead>\n",
       "    <tr style=\"text-align: right;\">\n",
       "      <th></th>\n",
       "      <th>date</th>\n",
       "      <th>group</th>\n",
       "    </tr>\n",
       "  </thead>\n",
       "  <tbody>\n",
       "    <tr>\n",
       "      <th>0</th>\n",
       "      <td>2019-08-15</td>\n",
       "      <td>B</td>\n",
       "    </tr>\n",
       "    <tr>\n",
       "      <th>7</th>\n",
       "      <td>2019-08-15</td>\n",
       "      <td>A</td>\n",
       "    </tr>\n",
       "    <tr>\n",
       "      <th>45</th>\n",
       "      <td>2019-08-16</td>\n",
       "      <td>A</td>\n",
       "    </tr>\n",
       "    <tr>\n",
       "      <th>47</th>\n",
       "      <td>2019-08-16</td>\n",
       "      <td>B</td>\n",
       "    </tr>\n",
       "    <tr>\n",
       "      <th>55</th>\n",
       "      <td>2019-08-01</td>\n",
       "      <td>A</td>\n",
       "    </tr>\n",
       "  </tbody>\n",
       "</table>\n",
       "</div>"
      ],
      "text/plain": [
       "         date group\n",
       "0  2019-08-15     B\n",
       "7  2019-08-15     A\n",
       "45 2019-08-16     A\n",
       "47 2019-08-16     B\n",
       "55 2019-08-01     A"
      ]
     },
     "execution_count": 27,
     "metadata": {},
     "output_type": "execute_result"
    }
   ],
   "source": [
    "# Создадим датафрейм `dates_groups` с уникальными парами значений 'date' и 'group', таблицы orders. \n",
    "# Избавимся от дубликатов методом drop_duplicates()\n",
    "\n",
    "orders[['date','group']].drop_duplicates()\n",
    "dates_groups = orders[['date','group']].drop_duplicates() \n",
    "dates_groups.head()"
   ]
  },
  {
   "cell_type": "markdown",
   "metadata": {},
   "source": [
    "Объявим переменную `orders_aggregated`, содержащую:\n",
    "- `date` - дату;\n",
    "- `group` - группу A/B-теста;\n",
    "- `transaction_id` - число уникальных заказов в группе теста по указанную дату включительно;\n",
    "- `visitor_id` - число уникальных пользователей, совершивших хотя бы 1 заказ в группе теста по указанную дату включительно;\n",
    "- `revenue` - суммарную выручку заказов в группе теста по указанную дату включительно"
   ]
  },
  {
   "cell_type": "code",
   "execution_count": 28,
   "metadata": {},
   "outputs": [
    {
     "data": {
      "text/html": [
       "<div>\n",
       "<style scoped>\n",
       "    .dataframe tbody tr th:only-of-type {\n",
       "        vertical-align: middle;\n",
       "    }\n",
       "\n",
       "    .dataframe tbody tr th {\n",
       "        vertical-align: top;\n",
       "    }\n",
       "\n",
       "    .dataframe thead th {\n",
       "        text-align: right;\n",
       "    }\n",
       "</style>\n",
       "<table border=\"1\" class=\"dataframe\">\n",
       "  <thead>\n",
       "    <tr style=\"text-align: right;\">\n",
       "      <th></th>\n",
       "      <th>date</th>\n",
       "      <th>group</th>\n",
       "      <th>transaction_id</th>\n",
       "      <th>visitor_id</th>\n",
       "      <th>revenue</th>\n",
       "    </tr>\n",
       "  </thead>\n",
       "  <tbody>\n",
       "    <tr>\n",
       "      <th>55</th>\n",
       "      <td>2019-08-01</td>\n",
       "      <td>A</td>\n",
       "      <td>23</td>\n",
       "      <td>19</td>\n",
       "      <td>142779</td>\n",
       "    </tr>\n",
       "    <tr>\n",
       "      <th>66</th>\n",
       "      <td>2019-08-01</td>\n",
       "      <td>B</td>\n",
       "      <td>17</td>\n",
       "      <td>17</td>\n",
       "      <td>59758</td>\n",
       "    </tr>\n",
       "    <tr>\n",
       "      <th>175</th>\n",
       "      <td>2019-08-02</td>\n",
       "      <td>A</td>\n",
       "      <td>42</td>\n",
       "      <td>36</td>\n",
       "      <td>234381</td>\n",
       "    </tr>\n",
       "    <tr>\n",
       "      <th>173</th>\n",
       "      <td>2019-08-02</td>\n",
       "      <td>B</td>\n",
       "      <td>40</td>\n",
       "      <td>39</td>\n",
       "      <td>221801</td>\n",
       "    </tr>\n",
       "    <tr>\n",
       "      <th>291</th>\n",
       "      <td>2019-08-03</td>\n",
       "      <td>A</td>\n",
       "      <td>66</td>\n",
       "      <td>60</td>\n",
       "      <td>346854</td>\n",
       "    </tr>\n",
       "  </tbody>\n",
       "</table>\n",
       "</div>"
      ],
      "text/plain": [
       "          date group  transaction_id  visitor_id  revenue\n",
       "55  2019-08-01     A              23          19   142779\n",
       "66  2019-08-01     B              17          17    59758\n",
       "175 2019-08-02     A              42          36   234381\n",
       "173 2019-08-02     B              40          39   221801\n",
       "291 2019-08-03     A              66          60   346854"
      ]
     },
     "execution_count": 28,
     "metadata": {},
     "output_type": "execute_result"
    }
   ],
   "source": [
    "orders_aggregated = (dates_groups\n",
    "    .apply(lambda x: orders[np.logical_and(orders['date'] <= x['date'], orders['group'] == x['group'])]\\\n",
    "    .agg({'date' : 'max', 'group' : 'max', 'transaction_id' : 'nunique', 'visitor_id' : 'nunique', 'revenue' : 'sum'}), axis=1)\\\n",
    "    .sort_values(by=['date','group'])\n",
    ")\n",
    "orders_aggregated.head()"
   ]
  },
  {
   "cell_type": "markdown",
   "metadata": {},
   "source": [
    "Объявим переменную `visitors_aggregated`, содержащую:\n",
    "- `date` - дату;\n",
    "- `group` - группу A/B-теста;\n",
    "- `visitors` - количество уникальных посетителей в группе теста по указанную дату включительно."
   ]
  },
  {
   "cell_type": "code",
   "execution_count": 29,
   "metadata": {},
   "outputs": [
    {
     "data": {
      "text/html": [
       "<div>\n",
       "<style scoped>\n",
       "    .dataframe tbody tr th:only-of-type {\n",
       "        vertical-align: middle;\n",
       "    }\n",
       "\n",
       "    .dataframe tbody tr th {\n",
       "        vertical-align: top;\n",
       "    }\n",
       "\n",
       "    .dataframe thead th {\n",
       "        text-align: right;\n",
       "    }\n",
       "</style>\n",
       "<table border=\"1\" class=\"dataframe\">\n",
       "  <thead>\n",
       "    <tr style=\"text-align: right;\">\n",
       "      <th></th>\n",
       "      <th>date</th>\n",
       "      <th>group</th>\n",
       "      <th>visitors</th>\n",
       "    </tr>\n",
       "  </thead>\n",
       "  <tbody>\n",
       "    <tr>\n",
       "      <th>55</th>\n",
       "      <td>2019-08-01</td>\n",
       "      <td>A</td>\n",
       "      <td>719</td>\n",
       "    </tr>\n",
       "    <tr>\n",
       "      <th>66</th>\n",
       "      <td>2019-08-01</td>\n",
       "      <td>B</td>\n",
       "      <td>713</td>\n",
       "    </tr>\n",
       "    <tr>\n",
       "      <th>175</th>\n",
       "      <td>2019-08-02</td>\n",
       "      <td>A</td>\n",
       "      <td>1338</td>\n",
       "    </tr>\n",
       "    <tr>\n",
       "      <th>173</th>\n",
       "      <td>2019-08-02</td>\n",
       "      <td>B</td>\n",
       "      <td>1294</td>\n",
       "    </tr>\n",
       "    <tr>\n",
       "      <th>291</th>\n",
       "      <td>2019-08-03</td>\n",
       "      <td>A</td>\n",
       "      <td>1845</td>\n",
       "    </tr>\n",
       "  </tbody>\n",
       "</table>\n",
       "</div>"
      ],
      "text/plain": [
       "          date group  visitors\n",
       "55  2019-08-01     A       719\n",
       "66  2019-08-01     B       713\n",
       "175 2019-08-02     A      1338\n",
       "173 2019-08-02     B      1294\n",
       "291 2019-08-03     A      1845"
      ]
     },
     "execution_count": 29,
     "metadata": {},
     "output_type": "execute_result"
    }
   ],
   "source": [
    "visitors_aggregated = (dates_groups\n",
    "    .apply(lambda x: visitors[np.logical_and(visitors['date'] <= x['date'], visitors['group'] == x['group'])]\\\n",
    "    .agg({'date' : 'max', 'group' : 'max', 'visitors' : 'sum'}), axis=1)\\\n",
    "    .sort_values(by=['date','group'])\n",
    ")\n",
    "visitors_aggregated.head()"
   ]
  },
  {
   "cell_type": "code",
   "execution_count": 30,
   "metadata": {},
   "outputs": [
    {
     "data": {
      "text/html": [
       "<div>\n",
       "<style scoped>\n",
       "    .dataframe tbody tr th:only-of-type {\n",
       "        vertical-align: middle;\n",
       "    }\n",
       "\n",
       "    .dataframe tbody tr th {\n",
       "        vertical-align: top;\n",
       "    }\n",
       "\n",
       "    .dataframe thead th {\n",
       "        text-align: right;\n",
       "    }\n",
       "</style>\n",
       "<table border=\"1\" class=\"dataframe\">\n",
       "  <thead>\n",
       "    <tr style=\"text-align: right;\">\n",
       "      <th></th>\n",
       "      <th>date</th>\n",
       "      <th>group</th>\n",
       "      <th>orders</th>\n",
       "      <th>buyers</th>\n",
       "      <th>revenue</th>\n",
       "      <th>visitors</th>\n",
       "    </tr>\n",
       "  </thead>\n",
       "  <tbody>\n",
       "    <tr>\n",
       "      <th>0</th>\n",
       "      <td>2019-08-01</td>\n",
       "      <td>A</td>\n",
       "      <td>23</td>\n",
       "      <td>19</td>\n",
       "      <td>142779</td>\n",
       "      <td>719</td>\n",
       "    </tr>\n",
       "    <tr>\n",
       "      <th>1</th>\n",
       "      <td>2019-08-01</td>\n",
       "      <td>B</td>\n",
       "      <td>17</td>\n",
       "      <td>17</td>\n",
       "      <td>59758</td>\n",
       "      <td>713</td>\n",
       "    </tr>\n",
       "    <tr>\n",
       "      <th>2</th>\n",
       "      <td>2019-08-02</td>\n",
       "      <td>A</td>\n",
       "      <td>42</td>\n",
       "      <td>36</td>\n",
       "      <td>234381</td>\n",
       "      <td>1338</td>\n",
       "    </tr>\n",
       "    <tr>\n",
       "      <th>3</th>\n",
       "      <td>2019-08-02</td>\n",
       "      <td>B</td>\n",
       "      <td>40</td>\n",
       "      <td>39</td>\n",
       "      <td>221801</td>\n",
       "      <td>1294</td>\n",
       "    </tr>\n",
       "    <tr>\n",
       "      <th>4</th>\n",
       "      <td>2019-08-03</td>\n",
       "      <td>A</td>\n",
       "      <td>66</td>\n",
       "      <td>60</td>\n",
       "      <td>346854</td>\n",
       "      <td>1845</td>\n",
       "    </tr>\n",
       "  </tbody>\n",
       "</table>\n",
       "</div>"
      ],
      "text/plain": [
       "        date group  orders  buyers  revenue  visitors\n",
       "0 2019-08-01     A      23      19   142779       719\n",
       "1 2019-08-01     B      17      17    59758       713\n",
       "2 2019-08-02     A      42      36   234381      1338\n",
       "3 2019-08-02     B      40      39   221801      1294\n",
       "4 2019-08-03     A      66      60   346854      1845"
      ]
     },
     "execution_count": 30,
     "metadata": {},
     "output_type": "execute_result"
    }
   ],
   "source": [
    "# Определим переменную cumulative_data, объединив orders_aggregated и visitors_aggregated по 'date', 'group' методом merge()\n",
    "cumulative_data = orders_aggregated.merge(visitors_aggregated, left_on=['date', 'group'], right_on=['date', 'group'])\n",
    "\n",
    "# Присвоим столбцам cumulative_data названия ['date', 'group', 'orders', 'buyers', 'revenue', 'visitors']\n",
    "cumulative_data.columns = ['date', 'group', 'orders', 'buyers', 'revenue', 'visitors']\n",
    "cumulative_data.head()"
   ]
  },
  {
   "cell_type": "markdown",
   "metadata": {},
   "source": [
    "### Построим график кумулятивной выручки по группам"
   ]
  },
  {
   "cell_type": "code",
   "execution_count": 31,
   "metadata": {},
   "outputs": [],
   "source": [
    "# Объявим переменные cumulative_revenue_a и cumulative_revenue_b\n",
    "# В них сохраним данные о датах, выручке и числе заказов в группах\n",
    "\n",
    "cumulative_revenue_a = cumulative_data[cumulative_data['group']=='A'][['date','revenue', 'orders']]\n",
    "cumulative_revenue_b = cumulative_data[cumulative_data['group']=='B'][['date','revenue', 'orders']]"
   ]
  },
  {
   "cell_type": "code",
   "execution_count": 32,
   "metadata": {},
   "outputs": [
    {
     "data": {
      "image/png": "[encoded data removed]",
      "text/plain": [
       "<Figure size 432x288 with 1 Axes>"
      ]
     },
     "metadata": {
      "needs_background": "light"
     },
     "output_type": "display_data"
    }
   ],
   "source": [
    "# Строим график выручки группы А\n",
    "plt.plot(cumulative_revenue_a['date'], cumulative_revenue_a['revenue'], label='A')\n",
    "\n",
    "# Строим график выручки группы B\n",
    "plt.plot(cumulative_revenue_b['date'], cumulative_revenue_b['revenue'], label='B')\n",
    "plt.title('Динамика кумулятивной выручки по группам А и В')\n",
    "plt.ylabel('Выручка, млн.')\n",
    "plt.xticks(rotation=30)\n",
    "plt.legend()\n",
    "plt.show()"
   ]
  },
  {
   "cell_type": "markdown",
   "metadata": {},
   "source": [
    "👀 Сегмент В показывает лучший показатель почти на всем отрезке наблюдений и продолжает с отрывом лидировать.\n",
    "\n",
    "Судя по резкому скачку выручки 18 августа в группе В, в результат могли попасть аномально большие значения. Это может сигнализировать о всплесках числа заказов, либо о появлении очень дорогих заказов в выборке. Такие выбросы стоит проверить далее и удалить."
   ]
  },
  {
   "cell_type": "markdown",
   "metadata": {},
   "source": [
    "### Построим график кумулятивного среднего чека по группам"
   ]
  },
  {
   "cell_type": "code",
   "execution_count": 33,
   "metadata": {},
   "outputs": [
    {
     "data": {
      "image/png": "[encoded data removed]",
      "text/plain": [
       "<Figure size 432x288 with 1 Axes>"
      ]
     },
     "metadata": {
      "needs_background": "light"
     },
     "output_type": "display_data"
    }
   ],
   "source": [
    "# Построим графики среднего чека по группам — разделим кумулятивную выручку на кумулятивное число заказов\n",
    "\n",
    "plt.plot(cumulative_revenue_a['date'], cumulative_revenue_a['revenue']/cumulative_revenue_a['orders'], label='A')\n",
    "plt.plot(cumulative_revenue_b['date'], cumulative_revenue_b['revenue']/cumulative_revenue_b['orders'], label='B')\n",
    "plt.title('Динамика кумулятивного среднего чека по группам А и В')\n",
    "plt.ylabel('Средний чек')\n",
    "plt.xticks(rotation=30)\n",
    "plt.legend() \n",
    "plt.show()"
   ]
  },
  {
   "cell_type": "markdown",
   "metadata": {},
   "source": [
    "👀 Средний чек в группах стабилизировался к концу наблюдений. Группа В показывает лучший результат, чем А. \n",
    "\n",
    "В группе В - видим резкий скачок вверх от 18 августа. Это еще раз убеждает в необходимости проверить выбросы"
   ]
  },
  {
   "cell_type": "markdown",
   "metadata": {},
   "source": [
    "### Построим график относительного изменения кумулятивного среднего чека группы B к A"
   ]
  },
  {
   "cell_type": "code",
   "execution_count": 34,
   "metadata": {},
   "outputs": [
    {
     "data": {
      "image/png": "[encoded data removed]",
      "text/plain": [
       "<Figure size 432x288 with 1 Axes>"
      ]
     },
     "metadata": {
      "needs_background": "light"
     },
     "output_type": "display_data"
    }
   ],
   "source": [
    "# Собираем данные в датафрейм 'merged_cumulative_revenue'\n",
    "merged_cumulative_revenue = cumulative_revenue_a.merge(cumulative_revenue_b, left_on='date', right_on='date', how='left', suffixes=['A', 'B'])\n",
    "\n",
    "# Строим отношение средних чеков\n",
    "plt.plot(merged_cumulative_revenue['date'], (merged_cumulative_revenue['revenueB']/merged_cumulative_revenue['ordersB'])/(merged_cumulative_revenue['revenueA']/merged_cumulative_revenue['ordersA'])-1)\n",
    "plt.title('Относительное изменение кумулятивного среднего чека группы B к A')\n",
    "plt.ylabel('Выручка, млн.')\n",
    "plt.xticks(rotation=30)\n",
    "\n",
    "# Добавляем ось X\n",
    "plt.axhline(y=0, color='black', linestyle='--') \n",
    "plt.show()"
   ]
  },
  {
   "cell_type": "markdown",
   "metadata": {},
   "source": [
    "👀 В нескольких точках график резко скачет. Видимо, именно тогда были совершены аномальные заказы. В самом начале и середине наблюдений были небольшие просадки в пользу А"
   ]
  },
  {
   "cell_type": "markdown",
   "metadata": {},
   "source": [
    "### Построим график кумулятивного среднего количества заказов на посетителя по группам"
   ]
  },
  {
   "cell_type": "code",
   "execution_count": 35,
   "metadata": {},
   "outputs": [
    {
     "data": {
      "image/png": "[encoded data removed]",
      "text/plain": [
       "<Figure size 432x288 with 1 Axes>"
      ]
     },
     "metadata": {
      "needs_background": "light"
     },
     "output_type": "display_data"
    }
   ],
   "source": [
    "cumulative_data['conversion'] = cumulative_data['orders']/cumulative_data['visitors']\n",
    "\n",
    "# Отделяем данные по группе A\n",
    "cumulative_data_a = cumulative_data[cumulative_data['group']=='A']\n",
    "\n",
    "# Отделяем данные по группе B\n",
    "cumulative_data_b = cumulative_data[cumulative_data['group']=='B']\n",
    "\n",
    "# Строим графики\n",
    "plt.plot(cumulative_data_a['date'], cumulative_data_a['conversion'], label='A')\n",
    "plt.plot(cumulative_data_b['date'], cumulative_data_b['conversion'], label='B')\n",
    "plt.title('Кумулятивное среднее количество заказов на посетителя по группам A и В')\n",
    "plt.ylabel('Выручка, млн.')\n",
    "plt.xticks(rotation=30)\n",
    "plt.legend()\n",
    "plt.show()"
   ]
  },
  {
   "cell_type": "markdown",
   "metadata": {},
   "source": [
    "👀 В начале наблюдейний группа А имела бóльший показатель, но затем, примерно с 6 августа, В вырвалась вперёд. Показатели обоих групп стабилизировались к концу наблюдений"
   ]
  },
  {
   "cell_type": "markdown",
   "metadata": {},
   "source": [
    "### Построим график относительного изменения кумулятивного среднего количества заказов на посетителя группы B к A"
   ]
  },
  {
   "cell_type": "markdown",
   "metadata": {},
   "source": [
    "Его строят, чтобы нагляднее увидеть разницу между группами. Если данных достаточно до статистической значимости - рассматривают стоит ли останавливать тестирование"
   ]
  },
  {
   "cell_type": "code",
   "execution_count": 36,
   "metadata": {},
   "outputs": [
    {
     "data": {
      "image/png": "[encoded data removed]",
      "text/plain": [
       "<Figure size 432x288 with 1 Axes>"
      ]
     },
     "metadata": {
      "needs_background": "light"
     },
     "output_type": "display_data"
    }
   ],
   "source": [
    "merged_cumulative_conversions = cumulative_data_a[['date','conversion']] \\\n",
    "    .merge(cumulative_data_b[['date','conversion']], left_on='date', right_on='date', how='left', suffixes=['A', 'B'])\n",
    "\n",
    "plt.plot(merged_cumulative_conversions['date'], merged_cumulative_conversions['conversionB']/merged_cumulative_conversions['conversionA']-1)\n",
    "plt.title('Относительный прирост кумулятивного среднего количества заказов на посетителя группы B к A')\n",
    "plt.ylabel('Выручка, млн.')\n",
    "plt.xticks(rotation=30)\n",
    "plt.axhline(y=0, color='black', linestyle='--')\n",
    "plt.axhline(y=0.15, color='grey', linestyle='--')\n",
    "plt.show()"
   ]
  },
  {
   "cell_type": "markdown",
   "metadata": {},
   "source": [
    "👀 В начале теста группа В проигрывала А, но затем резко вырвалась вперед. Далее спад и снова рост. В основном график расположен выше нуля. **Прирост около 15%**\n",
    "\n",
    "Но, как мы помним, графики выше сигнализировали нам о наличии аномально крупных заказов.\n",
    "Необходимо почистить выбросы и проанализировать данные еще раз."
   ]
  },
  {
   "cell_type": "markdown",
   "metadata": {},
   "source": [
    "### Построим гистограмму и точечный график количества заказов по пользователям"
   ]
  },
  {
   "cell_type": "code",
   "execution_count": 37,
   "metadata": {},
   "outputs": [],
   "source": [
    "# Найдем число заказов по пользователям\n",
    "# Создадим датафрейм c двумя столбцами: 'visitor_id' и 'orders'. Назовем его orders_by_users\n",
    "\n",
    "orders_by_users = (\n",
    "    orders.groupby('visitor_id', as_index=False)\n",
    "    .agg({'transaction_id': 'nunique'})\n",
    ")\n",
    "orders_by_users.columns =  ['visitor_id', 'orders']"
   ]
  },
  {
   "cell_type": "code",
   "execution_count": 38,
   "metadata": {},
   "outputs": [
    {
     "data": {
      "image/png": "[encoded data removed]",
      "text/plain": [
       "<Figure size 432x288 with 1 Axes>"
      ]
     },
     "metadata": {
      "needs_background": "light"
     },
     "output_type": "display_data"
    },
    {
     "data": {
      "text/plain": [
       "count    973.000000\n",
       "mean       1.044193\n",
       "std        0.238090\n",
       "min        1.000000\n",
       "25%        1.000000\n",
       "50%        1.000000\n",
       "75%        1.000000\n",
       "max        3.000000\n",
       "Name: orders, dtype: float64"
      ]
     },
     "metadata": {},
     "output_type": "display_data"
    }
   ],
   "source": [
    "# Строим гистограмму\n",
    "plt.hist(orders_by_users['orders']) \n",
    "plt.title('Распределение количества заказов по пользователям')\n",
    "plt.xlabel('Количество заказов')\n",
    "plt.ylabel('Количество пользователей')\n",
    "plt.show()\n",
    "\n",
    "display(orders_by_users['orders'].describe())"
   ]
  },
  {
   "cell_type": "markdown",
   "metadata": {},
   "source": [
    "👀 Большинство пользователей совершили всего 1 заказ. Но не совсем ясно, сколько пользователей заказало 2, 3 и более раз. Построим график другого вида - точечный"
   ]
  },
  {
   "cell_type": "code",
   "execution_count": 39,
   "metadata": {},
   "outputs": [
    {
     "data": {
      "image/png": "[encoded data removed]",
      "text/plain": [
       "<Figure size 432x288 with 1 Axes>"
      ]
     },
     "metadata": {
      "needs_background": "light"
     },
     "output_type": "display_data"
    }
   ],
   "source": [
    "# Серия из чисел от 0 до количества наблюдений в orders_by_users\n",
    "x_values = pd.Series(range(0, len(orders_by_users)))\n",
    "\n",
    "# Строим график рассеяния\n",
    "plt.scatter(x_values, orders_by_users['orders'], alpha=0.5) \n",
    "plt.title('Распределение количества заказов по пользователям')\n",
    "plt.xlabel('Количество наблюдений')\n",
    "plt.ylabel('Количество заказов')\n",
    "plt.show()"
   ]
  },
  {
   "cell_type": "markdown",
   "metadata": {},
   "source": [
    "👀 Пользователей, заказавших более 2-4 раз немного. Они вполне могут быть аномальными.\n",
    "\n",
    "4 заказа это много или мало? Какую границу выбрать для определения аномальных пользователей? Ответим на эти вопросы, посчитав далее выборочные перцентили."
   ]
  },
  {
   "cell_type": "markdown",
   "metadata": {},
   "source": [
    "### Посчитаем 95-й и 99-й перцентили количества заказов на пользователя. Выберем границу для определения аномальных пользователей"
   ]
  },
  {
   "cell_type": "markdown",
   "metadata": {},
   "source": [
    "В статистике N-й перцентиль — значение, которое случайная величина не превышает с заданной вероятностью. Принято отсеивать от 1% до 5% наблюдений с крайними значениями."
   ]
  },
  {
   "cell_type": "code",
   "execution_count": 40,
   "metadata": {},
   "outputs": [
    {
     "name": "stdout",
     "output_type": "stream",
     "text": [
      "     visitor_id  orders\n",
      "908  3967698036       3\n",
      "55    249864742       3\n",
      "478  2108163459       3\n",
      "687  2988190573       3\n",
      "890  3908431265       3\n",
      "138   611059232       3\n",
      "632  2742574263       3\n",
      "157   678354126       2\n",
      "323  1404560065       2\n",
      "452  1985475298       2\n",
      "[1. 1. 2.]\n"
     ]
    }
   ],
   "source": [
    "print(orders_by_users.sort_values(by='orders', ascending=False).head(10))\n",
    "print(np.percentile(orders_by_users['orders'], [90, 95, 99])) "
   ]
  },
  {
   "cell_type": "markdown",
   "metadata": {},
   "source": [
    "👀 Видим, что не более 5% пользователей совершали больше 2 заказов. И не более 1% пользователей - больше 4 заказов. Можно выбрать границу аномальных заказов **больше 4**."
   ]
  },
  {
   "cell_type": "markdown",
   "metadata": {},
   "source": [
    "### Построим гистограмму и точечный график стоимостей заказов"
   ]
  },
  {
   "cell_type": "code",
   "execution_count": 41,
   "metadata": {},
   "outputs": [
    {
     "data": {
      "text/plain": [
       "count    1.016000e+03\n",
       "mean     8.300815e+03\n",
       "std      4.212199e+04\n",
       "min      5.000000e+01\n",
       "25%      1.190000e+03\n",
       "50%      2.955000e+03\n",
       "75%      8.134250e+03\n",
       "max      1.294500e+06\n",
       "Name: revenue, dtype: float64"
      ]
     },
     "metadata": {},
     "output_type": "display_data"
    },
    {
     "data": {
      "image/png": "[encoded data removed]",
      "text/plain": [
       "<Figure size 432x288 with 1 Axes>"
      ]
     },
     "metadata": {
      "needs_background": "light"
     },
     "output_type": "display_data"
    }
   ],
   "source": [
    "display(orders['revenue'].describe())\n",
    "\n",
    "# Строим гистограмму\n",
    "plt.hist(orders['revenue']) \n",
    "plt.title('Распределение стоимости заказов по пользователям')\n",
    "plt.xlabel('Стоимость заказов, млн.')\n",
    "plt.ylabel('Количество наблюдений')\n",
    "plt.ylim(0, 300) # Укрупним по оси Y для лучшей видимости выброса на графике\n",
    "plt.show()"
   ]
  },
  {
   "cell_type": "markdown",
   "metadata": {},
   "source": [
    "👀 В данных явно есть заказы дороже 1 млн. Однако большинство всё-таки имеет меньшую стоимость"
   ]
  },
  {
   "cell_type": "code",
   "execution_count": 42,
   "metadata": {
    "scrolled": true
   },
   "outputs": [
    {
     "data": {
      "image/png": "[encoded data removed]",
      "text/plain": [
       "<Figure size 432x288 with 1 Axes>"
      ]
     },
     "metadata": {
      "needs_background": "light"
     },
     "output_type": "display_data"
    }
   ],
   "source": [
    "# Серия из чисел от 0 до количества наблюдений в orders_by_users\n",
    "x_values = pd.Series(range(0,len(orders['revenue'])))\n",
    "\n",
    "# Строим график рассеяния\n",
    "plt.scatter(x_values, orders['revenue'], alpha=0.3)\n",
    "plt.title('Распределение стоимости заказов по пользователям')\n",
    "plt.xlabel('Количество наблюдений')\n",
    "plt.ylabel('Стоимость заказов, млн.')\n",
    "plt.show()"
   ]
  },
  {
   "cell_type": "markdown",
   "metadata": {},
   "source": [
    "👀 Всё, как предполагали: есть некоторое количество дорогих заказов и один из них - огромный дороже 1 млн. Укрупним этот график, чтобы разглядеть данные вблизи без выбросов"
   ]
  },
  {
   "cell_type": "code",
   "execution_count": 43,
   "metadata": {},
   "outputs": [
    {
     "data": {
      "image/png": "[encoded data removed]",
      "text/plain": [
       "<Figure size 432x288 with 1 Axes>"
      ]
     },
     "metadata": {
      "needs_background": "light"
     },
     "output_type": "display_data"
    }
   ],
   "source": [
    "plt.ylim(0, 100000)\n",
    "plt.scatter(x_values, orders['revenue'], alpha=0.4)\n",
    "plt.title('Распределение стоимости заказов по пользователям')\n",
    "plt.show()"
   ]
  },
  {
   "cell_type": "markdown",
   "metadata": {},
   "source": [
    "👀 По графику видим, что, в основном, стоимость заказов распределена до 20 000 рублей. Предварительно, можно выбрать границу аномальных заказов между 20 000-40 000.\n",
    "\n",
    "Для точности, посчитаем 95 и 99 перцентили стоимости заказов на пользователя и выберем границу для определения аномалий."
   ]
  },
  {
   "cell_type": "markdown",
   "metadata": {},
   "source": [
    "### Посчитаем 95-й и 99-й перцентили стоимости заказов. Выберем границу для определения аномальных заказов"
   ]
  },
  {
   "cell_type": "code",
   "execution_count": 44,
   "metadata": {},
   "outputs": [
    {
     "name": "stdout",
     "output_type": "stream",
     "text": [
      "      transaction_id  visitor_id       date  revenue group\n",
      "425        590470918  1920142716 2019-08-19  1294500     B\n",
      "1196      3936777065  2108080724 2019-08-15   202740     B\n",
      "1136       666610489  1307669133 2019-08-13    92550     A\n",
      "744       3668308183   888512513 2019-08-27    86620     B\n",
      "743       3603576309  4133034833 2019-08-09    67990     A\n",
      "1103      1348774318  1164614297 2019-08-12    66350     A\n",
      "1099       316924019   148427295 2019-08-12    65710     A\n",
      "949       1347999392   887908475 2019-08-21    60450     A\n",
      "940       2420050534  4003628586 2019-08-08    58550     B\n",
      "131       3163614039  2254586615 2019-08-22    53904     A\n",
      "[17990. 26785. 53904.]\n"
     ]
    }
   ],
   "source": [
    "print(orders.sort_values(by='revenue', ascending=False).head(10))\n",
    "print(np.percentile(orders['revenue'], [90, 95, 99])) "
   ]
  },
  {
   "cell_type": "markdown",
   "metadata": {},
   "source": [
    "👀 Видим, что не более 5% пользователей тратили больше 28 000 рублей. И не более 1% пользователей - больше 58 233 рублей. Можно выбрать границу аномальных стоимостей заказов **больше 58 233**.\n",
    "\n",
    "Вверху таблицы есть тот самый дорогой заказ почти на 1,3 млн - он точно искажает наши наблюдения"
   ]
  },
  {
   "cell_type": "markdown",
   "metadata": {},
   "source": [
    "### Посчитаем статистическую значимость различий в среднем количестве заказов на посетителя между группами по «сырым» данным"
   ]
  },
  {
   "cell_type": "markdown",
   "metadata": {},
   "source": [
    "Соберем нужные нам данные в таблицу data.\n",
    "\n",
    "Названия столбцов:\n",
    "\n",
    "- `date` — дата;\n",
    "- `orders_per_date_a` — количество заказов в выбранную дату в группе A;\n",
    "- `revenue_per_date_a` — суммарная выручка в выбранную дату в группе A;\n",
    "- `orders_per_date_b` — количество заказов в выбранную дату в группе B;\n",
    "- `revenueper_date_b` — суммарная выручка в выбранную дату в группе B;\n",
    "- `orders_cummulative_a` — суммарное число заказов до выбранной даты включительно в группе A;\n",
    "- `revenue_cummulative_a` — суммарная выручка до выбранной даты включительно в группе A;\n",
    "- `orders_cummulative_b` — суммарное количество заказов до выбранной даты включительно в группе B;\n",
    "- `revenue_cummulative_b` — суммарная выручка до выбранной даты включительно в группе B;\n",
    "- `visitors_per_date_a` — количество пользователей в выбранную дату в группе A;\n",
    "- `visitors_per_date_b` — количество пользователей в выбранную дату в группе B;\n",
    "- `visitors_cummulative_a` — количество пользователей до выбранной даты включительно в группе A;\n",
    "- `visitors_cummulative_b` — количество пользователей до выбранной даты включительно в группе B"
   ]
  },
  {
   "cell_type": "code",
   "execution_count": 45,
   "metadata": {},
   "outputs": [
    {
     "data": {
      "text/html": [
       "<div>\n",
       "<style scoped>\n",
       "    .dataframe tbody tr th:only-of-type {\n",
       "        vertical-align: middle;\n",
       "    }\n",
       "\n",
       "    .dataframe tbody tr th {\n",
       "        vertical-align: top;\n",
       "    }\n",
       "\n",
       "    .dataframe thead th {\n",
       "        text-align: right;\n",
       "    }\n",
       "</style>\n",
       "<table border=\"1\" class=\"dataframe\">\n",
       "  <thead>\n",
       "    <tr style=\"text-align: right;\">\n",
       "      <th></th>\n",
       "      <th>date</th>\n",
       "      <th>orders_per_date_a</th>\n",
       "      <th>revenue_per_date_a</th>\n",
       "      <th>orders_per_date_b</th>\n",
       "      <th>revenue_per_date_b</th>\n",
       "      <th>orders_cummulative_a</th>\n",
       "      <th>revenue_cummulative_a</th>\n",
       "      <th>orders_cummulative_b</th>\n",
       "      <th>revenue_cummulative_b</th>\n",
       "      <th>visitors_per_date_a</th>\n",
       "      <th>visitors_per_date_b</th>\n",
       "      <th>visitors_cummulative_a</th>\n",
       "      <th>visitors_cummulative_b</th>\n",
       "    </tr>\n",
       "  </thead>\n",
       "  <tbody>\n",
       "    <tr>\n",
       "      <th>0</th>\n",
       "      <td>2019-08-01</td>\n",
       "      <td>23</td>\n",
       "      <td>142779</td>\n",
       "      <td>17</td>\n",
       "      <td>59758</td>\n",
       "      <td>23</td>\n",
       "      <td>142779</td>\n",
       "      <td>17</td>\n",
       "      <td>59758</td>\n",
       "      <td>719</td>\n",
       "      <td>713</td>\n",
       "      <td>719</td>\n",
       "      <td>713</td>\n",
       "    </tr>\n",
       "    <tr>\n",
       "      <th>1</th>\n",
       "      <td>2019-08-02</td>\n",
       "      <td>19</td>\n",
       "      <td>91602</td>\n",
       "      <td>23</td>\n",
       "      <td>162043</td>\n",
       "      <td>42</td>\n",
       "      <td>234381</td>\n",
       "      <td>40</td>\n",
       "      <td>221801</td>\n",
       "      <td>619</td>\n",
       "      <td>581</td>\n",
       "      <td>1338</td>\n",
       "      <td>1294</td>\n",
       "    </tr>\n",
       "    <tr>\n",
       "      <th>2</th>\n",
       "      <td>2019-08-03</td>\n",
       "      <td>24</td>\n",
       "      <td>112473</td>\n",
       "      <td>14</td>\n",
       "      <td>67049</td>\n",
       "      <td>66</td>\n",
       "      <td>346854</td>\n",
       "      <td>54</td>\n",
       "      <td>288850</td>\n",
       "      <td>507</td>\n",
       "      <td>509</td>\n",
       "      <td>1845</td>\n",
       "      <td>1803</td>\n",
       "    </tr>\n",
       "    <tr>\n",
       "      <th>3</th>\n",
       "      <td>2019-08-04</td>\n",
       "      <td>11</td>\n",
       "      <td>41176</td>\n",
       "      <td>14</td>\n",
       "      <td>96890</td>\n",
       "      <td>77</td>\n",
       "      <td>388030</td>\n",
       "      <td>68</td>\n",
       "      <td>385740</td>\n",
       "      <td>717</td>\n",
       "      <td>770</td>\n",
       "      <td>2562</td>\n",
       "      <td>2573</td>\n",
       "    </tr>\n",
       "    <tr>\n",
       "      <th>4</th>\n",
       "      <td>2019-08-05</td>\n",
       "      <td>22</td>\n",
       "      <td>86383</td>\n",
       "      <td>21</td>\n",
       "      <td>89908</td>\n",
       "      <td>99</td>\n",
       "      <td>474413</td>\n",
       "      <td>89</td>\n",
       "      <td>475648</td>\n",
       "      <td>756</td>\n",
       "      <td>707</td>\n",
       "      <td>3318</td>\n",
       "      <td>3280</td>\n",
       "    </tr>\n",
       "  </tbody>\n",
       "</table>\n",
       "</div>"
      ],
      "text/plain": [
       "        date  orders_per_date_a  revenue_per_date_a  orders_per_date_b  \\\n",
       "0 2019-08-01                 23              142779                 17   \n",
       "1 2019-08-02                 19               91602                 23   \n",
       "2 2019-08-03                 24              112473                 14   \n",
       "3 2019-08-04                 11               41176                 14   \n",
       "4 2019-08-05                 22               86383                 21   \n",
       "\n",
       "   revenue_per_date_b  orders_cummulative_a  revenue_cummulative_a  \\\n",
       "0               59758                    23                 142779   \n",
       "1              162043                    42                 234381   \n",
       "2               67049                    66                 346854   \n",
       "3               96890                    77                 388030   \n",
       "4               89908                    99                 474413   \n",
       "\n",
       "   orders_cummulative_b  revenue_cummulative_b  visitors_per_date_a  \\\n",
       "0                    17                  59758                  719   \n",
       "1                    40                 221801                  619   \n",
       "2                    54                 288850                  507   \n",
       "3                    68                 385740                  717   \n",
       "4                    89                 475648                  756   \n",
       "\n",
       "   visitors_per_date_b  visitors_cummulative_a  visitors_cummulative_b  \n",
       "0                  713                     719                     713  \n",
       "1                  581                    1338                    1294  \n",
       "2                  509                    1845                    1803  \n",
       "3                  770                    2562                    2573  \n",
       "4                  707                    3318                    3280  "
      ]
     },
     "execution_count": 45,
     "metadata": {},
     "output_type": "execute_result"
    }
   ],
   "source": [
    "# Начнём с подготовки данных (data)\n",
    "\n",
    "visitors_a_daily = visitors[visitors['group'] == 'A'][['date', 'visitors']]\n",
    "visitors_a_daily.columns = ['date', 'visitors_per_date_a']\n",
    "\n",
    "visitors_a_cummulative = visitors_a_daily.apply(\n",
    "    lambda x: visitors_a_daily[visitors_a_daily['date'] <= x['date']].agg(\n",
    "        {'date': 'max', 'visitors_per_date_a': 'sum'}\n",
    "    ),\n",
    "    axis=1,\n",
    ")\n",
    "visitors_a_cummulative.columns = ['date', 'visitors_cummulative_a']\n",
    "\n",
    "visitors_b_daily = visitors[visitors['group'] == 'B'][['date', 'visitors']]\n",
    "visitors_b_daily.columns = ['date', 'visitors_per_date_b']\n",
    "\n",
    "visitors_b_cummulative = visitors_b_daily.apply(\n",
    "    lambda x: visitors_b_daily[visitors_b_daily['date'] <= x['date']].agg(\n",
    "        {'date': 'max', 'visitors_per_date_b': 'sum'}\n",
    "    ),\n",
    "    axis=1,\n",
    ")\n",
    "visitors_b_cummulative.columns = ['date', 'visitors_cummulative_b']\n",
    "\n",
    "orders_a_daily = (\n",
    "    orders[orders['group'] == 'A'][['date', 'transaction_id', 'visitor_id', 'revenue']]\n",
    "    .groupby('date', as_index=False)\n",
    "    .agg({'transaction_id': pd.Series.nunique, 'revenue': 'sum'})\n",
    ")\n",
    "orders_a_daily.columns = ['date', 'orders_per_date_a', 'revenue_per_date_a']\n",
    "\n",
    "orders_a_cummulative = orders_a_daily.apply(\n",
    "    lambda x: orders_a_daily[orders_a_daily['date'] <= x['date']].agg(\n",
    "        {'date': 'max', 'orders_per_date_a': 'sum', 'revenue_per_date_a': 'sum'}\n",
    "    ),\n",
    "    axis=1,\n",
    ").sort_values(by=['date'])\n",
    "orders_a_cummulative.columns = [\n",
    "    'date',\n",
    "    'orders_cummulative_a',\n",
    "    'revenue_cummulative_a',\n",
    "]\n",
    "\n",
    "orders_b_daily = (\n",
    "    orders[orders['group'] == 'B'][['date', 'transaction_id', 'visitor_id', 'revenue']]\n",
    "    .groupby('date', as_index=False)\n",
    "    .agg({'transaction_id': pd.Series.nunique, 'revenue': 'sum'})\n",
    ")\n",
    "orders_b_daily.columns = ['date', 'orders_per_date_b', 'revenue_per_date_b']\n",
    "\n",
    "orders_b_cummulative = orders_b_daily.apply(\n",
    "    lambda x: orders_b_daily[orders_b_daily['date'] <= x['date']].agg(\n",
    "        {'date': 'max', 'orders_per_date_b': 'sum', 'revenue_per_date_b': 'sum'}\n",
    "    ),\n",
    "    axis=1,\n",
    ").sort_values(by=['date'])\n",
    "orders_b_cummulative.columns = [\n",
    "    'date',\n",
    "    'orders_cummulative_b',\n",
    "    'revenue_cummulative_b',\n",
    "]\n",
    "\n",
    "data = (\n",
    "    orders_a_daily.merge(\n",
    "        orders_b_daily, left_on='date', right_on='date', how='left'\n",
    "    )\n",
    "    .merge(orders_a_cummulative, left_on='date', right_on='date', how='left')\n",
    "    .merge(orders_b_cummulative, left_on='date', right_on='date', how='left')\n",
    "    .merge(visitors_a_daily, left_on='date', right_on='date', how='left')\n",
    "    .merge(visitors_b_daily, left_on='date', right_on='date', how='left')\n",
    "    .merge(visitors_a_cummulative, left_on='date', right_on='date', how='left')\n",
    "    .merge(visitors_b_cummulative, left_on='date', right_on='date', how='left')\n",
    ")\n",
    "\n",
    "data.head(5)"
   ]
  },
  {
   "cell_type": "code",
   "execution_count": 46,
   "metadata": {},
   "outputs": [],
   "source": [
    "# Создадим переменные orders_by_users_a и orders_by_users_b со столбцами ['visitor_id', 'orders'], \n",
    "# где для пользователей, совершивших хотя бы 1 заказ, будет указано число заказов\n",
    "\n",
    "orders_by_users_a = (\n",
    "    orders[orders['group'] == 'A']\n",
    "    .groupby('visitor_id', as_index=False)\n",
    "    .agg({'transaction_id': pd.Series.nunique})\n",
    ")\n",
    "orders_by_users_a.columns = ['visitor_id', 'orders']\n",
    "\n",
    "orders_by_users_b = (\n",
    "    orders[orders['group'] == 'B']\n",
    "    .groupby('visitor_id', as_index=False)\n",
    "    .agg({'transaction_id': pd.Series.nunique})\n",
    ")\n",
    "orders_by_users_b.columns = ['visitor_id', 'orders'] "
   ]
  },
  {
   "cell_type": "markdown",
   "metadata": {},
   "source": [
    "В случае, когда в данных есть большие (по сравнению с нормальным распределением) выбросы, алгебраические метрики работают плохо. Да, они учитывают все значения. Но в этом также их слабое место: одно выбивающееся значение существенно влияет на результат.\n",
    "\n",
    "Вероятности получения разных значений критерия Манна-Уитни рассчитаны теоретически, что даёт возможность делать вывод о различии или его отсутствии для любого заданного уровня значимости.\n",
    "Главное отличие непараметрических методов в том, что они работают с рангами, — номерами значений в упорядоченном ряду, — никак не учитывая сами значения. Поэтому к ним прибегают тогда, когда работа с самими значениями невозможна из-за выбросов, сильно сдвигающих параметрические результаты.\n",
    "\n",
    "Чтобы аргументировать дальнейшее применение теста Манна-Уитни (один из аргументов - ненормальность распределения), можно проверить выборки на нормальность распределения. \n",
    "\n",
    "С этой задачей справится тест Шапиро.\n",
    "\n",
    "Гипотезы:\n",
    "- H0: распределение нормально\n",
    "- H1: распределение не нормально\n",
    "\n",
    "α = 0.05"
   ]
  },
  {
   "cell_type": "code",
   "execution_count": 47,
   "metadata": {},
   "outputs": [
    {
     "name": "stdout",
     "output_type": "stream",
     "text": [
      "p-значение в А:  1.2543446751655234e-33\n",
      "Отвергаем нулевую гипотезу: распределение не нормально\n",
      "p-значение в В:  1.9193181043483785e-36\n",
      "Отвергаем нулевую гипотезу: распределение не нормально\n"
     ]
    }
   ],
   "source": [
    "alpha = 0.05  # критический уровень статистической значимости\n",
    "\n",
    "results_a = stats.shapiro(orders_by_users_a)\n",
    "results_b = stats.shapiro(orders_by_users_b)\n",
    "\n",
    "p_value_a = results_a[1]  # второе значение в массиве результатов (с индексом 1) - p-value\n",
    "p_value_b = results_b[1]\n",
    "\n",
    "print('p-значение в А: ', p_value_a)\n",
    "\n",
    "if p_value_a < alpha:\n",
    "    print('Отвергаем нулевую гипотезу: распределение не нормально')\n",
    "else:\n",
    "    print('Не получилось отвергнуть нулевую гипотезу, всё нормально')\n",
    "    \n",
    "print('p-значение в В: ', p_value_b)\n",
    "\n",
    "\n",
    "if p_value_b < alpha:\n",
    "    print('Отвергаем нулевую гипотезу: распределение не нормально')\n",
    "else:\n",
    "    print('Не получилось отвергнуть нулевую гипотезу, всё нормально')    "
   ]
  },
  {
   "cell_type": "markdown",
   "metadata": {},
   "source": [
    "👀 Как и следовало ожидать - гипотеза о нормальности распределения не подтвердилась"
   ]
  },
  {
   "cell_type": "markdown",
   "metadata": {},
   "source": [
    "Посчитаем статистическую значимость различий в среднем числе заказов на пользователя по «сырым» данным — без удаления аномальных пользователей.\n",
    "\n",
    "Для расчета р-value, используем напараметрический тест Уилкоксона-Манна-Уитни, так как у нас имеются выбросы, а сам тест работает с рангами, не учитывая сами значения. \n",
    "\n",
    "Для этого сформулируем гипотезы:\n",
    "- H0: различий в среднем количестве заказов между группами нет\n",
    "- H1: различия в среднем между группами есть\n",
    "\n",
    "α = 0.05"
   ]
  },
  {
   "cell_type": "code",
   "execution_count": 48,
   "metadata": {},
   "outputs": [],
   "source": [
    "# Объявим переменные sample_a и sample_b, в которых пользователям с заказами будет соответствовать число заказов пользователя. \n",
    "# А пользователям без заказов — нули \n",
    "\n",
    "sample_a = pd.concat([orders_by_users_a['orders'],pd.Series(0, index=np.arange(data['visitors_per_date_a']\n",
    "    .sum() - len(orders_by_users_a['orders'])), name='orders')],axis=0)\n",
    "\n",
    "sample_b = pd.concat([orders_by_users_b['orders'],pd.Series(0, index=np.arange(data['visitors_per_date_b']\n",
    "    .sum() - len(orders_by_users_b['orders'])), name='orders')],axis=0)"
   ]
  },
  {
   "cell_type": "markdown",
   "metadata": {},
   "source": [
    "Есть особенность в реализации теста Манна-Уитни stats.mannwhitneyu, тест имеет параметр alternative, по-умолчанию, он принимает значение None для совместимости, но в таком случае тест выполняет проверку похожую на одностороннюю, что не совсем корректно для нашего теста. Более корректные результаты можно получить, используя alternative=\"two-sided\".\n",
    "\n",
    "Двусторонняя гипотеза утверждает, что параметр просто не равен значению, заданному нулевой гипотезой - направление не имеет значения"
   ]
  },
  {
   "cell_type": "code",
   "execution_count": 49,
   "metadata": {},
   "outputs": [
    {
     "name": "stdout",
     "output_type": "stream",
     "text": [
      "0.011\n",
      "0.160\n"
     ]
    }
   ],
   "source": [
    "print(\"{0:.3f}\".format(stats.mannwhitneyu(sample_a, sample_b, alternative='two-sided')[1]))\n",
    "print(\"{0:.3f}\".format(sample_b.mean() / sample_a.mean() - 1))"
   ]
  },
  {
   "cell_type": "markdown",
   "metadata": {},
   "source": [
    "👀 \n",
    "- 0.011 < 0.05 - отвергаем нулевую гипотезу - значит по неочищенным данным между группами есть разница\n",
    "- Относительный прирост В к А = 16%"
   ]
  },
  {
   "cell_type": "markdown",
   "metadata": {},
   "source": [
    "### Посчитаем статистическую значимость различий в среднем чеке заказа между группами по «сырым» данным"
   ]
  },
  {
   "cell_type": "markdown",
   "metadata": {},
   "source": [
    "Посчитаем статистическую значимость различий в среднем чеке между группами по «сырым» данным — без удаления аномальных пользователей.\n",
    "\n",
    "Сформулируем гипотезы:\n",
    "- H0: различий в среднем чеке между группами нет\n",
    "- H1: различия в среднем чеке между группами есть\n",
    "\n",
    "α = 0.05"
   ]
  },
  {
   "cell_type": "code",
   "execution_count": 50,
   "metadata": {},
   "outputs": [
    {
     "name": "stdout",
     "output_type": "stream",
     "text": [
      "0.829\n",
      "0.287\n"
     ]
    }
   ],
   "source": [
    "print('{0:.3f}'.format(stats.mannwhitneyu(orders[orders['group']=='A']['revenue'], orders[orders['group']=='B']['revenue'], alternative='two-sided')[1]))\n",
    "print('{0:.3f}'.format(orders[orders['group']=='B']['revenue'].mean()/orders[orders['group']=='A']['revenue'].mean()-1)) "
   ]
  },
  {
   "cell_type": "markdown",
   "metadata": {},
   "source": [
    "👀\n",
    "- 0.829 > 0.05 - не получилось отвергнуть нулевую гипотезу - значит нет оснований считать группы разными\n",
    "- Относительный прирост В к А = 29%"
   ]
  },
  {
   "cell_type": "markdown",
   "metadata": {},
   "source": [
    "### Посчитаем статистическую значимость различий в среднем количестве заказов на посетителя между группами по «очищенным» данным"
   ]
  },
  {
   "cell_type": "markdown",
   "metadata": {},
   "source": [
    "Напомним себе, что найденные ранее 95-й и 99-й перцентили: \n",
    "- средних чеков - 28 000 и 58 233 рублей \n",
    "- заказов на одного пользователя - 2 и 4 заказа на пользователя\n",
    "\n",
    "Примем за аномальных пользователей тех, кто совершил от 5 заказов и совершил заказ дороже 58 233. Так мы уберём 1% пользователей с наибольшим числом заказов и от 1% пользователей с дорогими заказами. \n",
    "\n",
    "Сделаем срезы пользователей с числом заказов больше 4 — `users_with_many_orders` и пользователей, совершивших заказы дороже 58 233 — `users_with_expensive_orders`. Объединим их в таблице `abnormal_users`.\n",
    "Узнаем, сколько всего аномальных пользователей методом shape()."
   ]
  },
  {
   "cell_type": "code",
   "execution_count": 51,
   "metadata": {},
   "outputs": [
    {
     "name": "stdout",
     "output_type": "stream",
     "text": [
      "1099     148427295\n",
      "949      887908475\n",
      "744      888512513\n",
      "1103    1164614297\n",
      "1136    1307669133\n",
      "Name: visitor_id, dtype: int64\n",
      "9\n"
     ]
    }
   ],
   "source": [
    "users_with_many_orders = pd.concat(\n",
    "    [\n",
    "        orders_by_users_a[orders_by_users_a['orders'] > 4]['visitor_id'],\n",
    "        orders_by_users_b[orders_by_users_b['orders'] > 4]['visitor_id'],\n",
    "    ],\n",
    "    axis=0,\n",
    ")\n",
    "users_with_expensive_orders = orders[orders['revenue'] > 58233]['visitor_id']\n",
    "abnormal_users = (\n",
    "    pd.concat([users_with_many_orders, users_with_expensive_orders], axis=0)\n",
    "    .drop_duplicates()\n",
    "    .sort_values()\n",
    ")\n",
    "print(abnormal_users.head(5))\n",
    "print(abnormal_users.shape[0]) "
   ]
  },
  {
   "cell_type": "markdown",
   "metadata": {},
   "source": [
    "👀 Всего 15 аномальных пользователей. \n",
    "\n",
    "Узнаем, как их действия повлияли на результаты теста. Посчитаем статистическую значимость различий в среднем количестве заказов между группами теста по очищенным данным. Сначала подготовим выборки количества заказов по пользователям по группам теста:"
   ]
  },
  {
   "cell_type": "code",
   "execution_count": 52,
   "metadata": {},
   "outputs": [],
   "source": [
    "sample_a_filtered = pd.concat(\n",
    "    [\n",
    "        orders_by_users_a[\n",
    "            np.logical_not(orders_by_users_a['visitor_id'].isin(abnormal_users))\n",
    "        ]['orders'],\n",
    "        pd.Series(\n",
    "            0,\n",
    "            index=np.arange(\n",
    "                data['visitors_per_date_a'].sum() - len(orders_by_users_a['orders'])\n",
    "            ),\n",
    "            name='orders',\n",
    "        ),\n",
    "    ],\n",
    "    axis=0,\n",
    ")\n",
    "\n",
    "sample_b_filtered = pd.concat(\n",
    "    [\n",
    "        orders_by_users_b[\n",
    "            np.logical_not(orders_by_users_b['visitor_id'].isin(abnormal_users))\n",
    "        ]['orders'],\n",
    "        pd.Series(\n",
    "            0,\n",
    "            index=np.arange(\n",
    "                data['visitors_per_date_b'].sum() - len(orders_by_users_b['orders'])\n",
    "            ),\n",
    "            name='orders',\n",
    "        ),\n",
    "    ],\n",
    "    axis=0,\n",
    ") "
   ]
  },
  {
   "cell_type": "markdown",
   "metadata": {},
   "source": [
    "Применим статистический критерий Манна-Уитни к полученным выборкам, чтобы рассчитать статистическую значимость различий в среднем количестве заказов между группами теста по очищенным данным.\n",
    "\n",
    "Сформулируем гипотезы:\n",
    "- H0: различий в среднем количестве заказов между группами нет\n",
    "- H1: различия в среднем между группами есть\n",
    "\n",
    "α = 0.05"
   ]
  },
  {
   "cell_type": "code",
   "execution_count": 53,
   "metadata": {},
   "outputs": [
    {
     "name": "stdout",
     "output_type": "stream",
     "text": [
      "0.010\n",
      "0.164\n"
     ]
    }
   ],
   "source": [
    "print('{0:.3f}'.format(stats.mannwhitneyu(sample_a_filtered, sample_b_filtered)[1], alternative='two-sided'))\n",
    "print('{0:.3f}'.format(sample_b_filtered.mean()/sample_a_filtered.mean()-1)) "
   ]
  },
  {
   "cell_type": "markdown",
   "metadata": {},
   "source": [
    "👀 Как и в случае с сырым данными, статистическая значимость достигнута. Сегмент В лучше сегмента А\n",
    "- 0.010 < 0.05 -  отвергаем нулевую гипотезу - значит по очищенным данным между группами есть разница\n",
    "- Относительный прирост В к А = 16%"
   ]
  },
  {
   "cell_type": "markdown",
   "metadata": {},
   "source": [
    "### Посчитаем статистическую значимость различий в среднем чеке заказа между группами по «очищенным» данным"
   ]
  },
  {
   "cell_type": "markdown",
   "metadata": {},
   "source": [
    "Применим статистический критерий Манна-Уитни к полученным выборкам, чтобы рассчитать статистическую значимость различий в среднем чеке заказа между группами теста по очищенным данным.\n",
    "\n",
    "Сформулируем гипотезы:\n",
    "- H0: различий в среднем чеке заказа между группами нет\n",
    "- H1: различия в среднем чеке между группами есть\n",
    "\n",
    "α = 0.05"
   ]
  },
  {
   "cell_type": "code",
   "execution_count": 57,
   "metadata": {},
   "outputs": [
    {
     "name": "stdout",
     "output_type": "stream",
     "text": [
      "0.901\n",
      "-0.032\n"
     ]
    }
   ],
   "source": [
    "print('{0:.3f}'.format(stats.mannwhitneyu(orders[np.logical_and(orders['group'] == 'A',\n",
    "                                                 np.logical_not(orders['visitor_id'].isin(abnormal_users)),\n",
    "                )\n",
    "            ]['revenue'],\n",
    "            orders[\n",
    "                np.logical_and(\n",
    "                    orders['group'] == 'B',\n",
    "                    np.logical_not(orders['visitor_id'].isin(abnormal_users)),\n",
    "                )\n",
    "            ]['revenue'],\n",
    "        )[1], alternative='two-sided'\n",
    "    )\n",
    ")\n",
    "\n",
    "print(\n",
    "    \"{0:.3f}\".format(\n",
    "        orders[\n",
    "            np.logical_and(\n",
    "                orders['group'] == 'B',\n",
    "                np.logical_not(orders['visitor_id'].isin(abnormal_users)),\n",
    "            )\n",
    "        ]['revenue'].mean()\n",
    "        / orders[\n",
    "            np.logical_and(\n",
    "                orders['group'] == 'A',\n",
    "                np.logical_not(orders['visitor_id'].isin(abnormal_users)),\n",
    "            )\n",
    "        ]['revenue'].mean()\n",
    "        - 1\n",
    "    )\n",
    ") "
   ]
  },
  {
   "cell_type": "markdown",
   "metadata": {},
   "source": [
    "👀 P-value 0.901 - не получилось отвергнуть нулевую гипотезу - значит нет оснований считать группы разными\n",
    "\n",
    "Относительный прирост В к А = -3,2%"
   ]
  },
  {
   "cell_type": "markdown",
   "metadata": {},
   "source": [
    "### Примем решение по результатам теста и объясним его"
   ]
  },
  {
   "cell_type": "markdown",
   "metadata": {},
   "source": [
    "Для удобства интерпретации результатов, соберем итоги в таблицу. При анализе результатов A/B-теста чем дальше полученные результаты контрольной и тестовой групп друг от друга, тем лучше."
   ]
  },
  {
   "cell_type": "markdown",
   "metadata": {},
   "source": [
    "|     |     | p-value |  |относительный прирост В к А |\n",
    "| --- | --- | --- | --- | --- \n",
    "| Стат. значимость различий в среднем количестве заказов на посетителя | сырые данные | 1,1%   | <font color='green'>между группами есть разница</font> | 16% |\n",
    "| Стат. значимость различий в среднем чеке заказа | сырые данные | 83% | <font color='red'>нет оснований считать группы разными</font> | 29% |\n",
    "| Стат. значимость различий в среднем количестве заказов на посетителя | очищенные данные | 1%   | <font color='green'>между группами есть разница</font> | 16%   |\n",
    "| Стат. значимость различий в среднем чеке заказа | очищенные данные | 90% | <font color='red'>нет оснований считать группы разными</font> | -3,2% |"
   ]
  },
  {
   "cell_type": "markdown",
   "metadata": {},
   "source": [
    "Варианты решений:\n",
    "- Остановить тест, зафиксировать победу одной из групп\n",
    "- Остановить тест, зафиксировать отсутствие различий между группами\n",
    "- Продолжить тест"
   ]
  },
  {
   "cell_type": "markdown",
   "metadata": {},
   "source": [
    "Имеющиеся факты:\n",
    "- Есть статистически значимое различие в среднем количестве заказов на посетителя между группами как по «сырым», так и по данным после фильтрации аномалий\n",
    "- Нет статистически значимого различия по среднему чеку между группами ни по «сырым», ни по данным после фильтрации аномалий\n",
    "- График относительного изменения кумулятивной конверсии группы B к группе A показывает, что результаты группы В стабильно лучше группы А\n",
    "\n",
    "Здесь также надо уточнить, что эксперименты почти всегда направлены на восприятие пользователей. Логично предположить, что если мы воздействуем на пользователей (а не на чеки или другие неодушевленные предметы), то наблюдениями правильно считать пользователей (количество заказов) и наличие между группами разницы уже может удовлетворить исследователя.\n",
    "\n",
    "На этом основании можно остановить тест, зафиксировав победу группы B."
   ]
  },
  {
   "cell_type": "markdown",
   "metadata": {},
   "source": [
    "## Общие выводы"
   ]
  },
  {
   "cell_type": "markdown",
   "metadata": {},
   "source": [
    "**В первой части исследования подготовили и обработали данные:**\n",
    "- импортировали библиотеки\n",
    "- загрузили данные из CSV-файлов в переменные\n",
    "- посмотрели на содержимое датасетов\n",
    "- явные/ неявные пропуски в данных отсутствуют, заполнение не требуется\n",
    "- даты перевели в datetime\n",
    "- названия столбцов - привели в \"змеиный_регистр\"\n",
    "\n",
    "**Во второй части исследовали гипотезы:**\n",
    "1) по методу упорядочивания ICE, следует в первую очередь обратить внимание на гипотезы:\n",
    "\n",
    "- Запустить акцию, дающую скидку на товар в день рождения\n",
    "- Добавить два новых канала привлечения трафика, что позволит привлекать на 30% больше пользователей\n",
    "- Добавить форму подписки на все основные страницы, чтобы собрать базу клиентов для email-рассылок\n",
    "\n",
    "2) если ранжирование гипотез должно включать в себя и охват пользователей интернет-магазина (по RICE), то места необходимо распределить таким образом:\n",
    "\n",
    "- Добавить форму подписки на все основные страницы, чтобы собрать базу клиентов для email-рассылок\n",
    "- Добавить блоки рекомендаций товаров на сайт интернет магазина, чтобы повысить конверсию и средний чек заказа\n",
    "- Добавить два новых канала привлечения трафика, что позволит привлекать на 30% больше пользователей\n",
    "\n",
    "**В третьей части провели A/B-тест:**\n",
    "1. На графике кумулятивной выручки по группам, В показывает лучший показатель почти на всем отрезке наблюдений и продолжает с отрывом лидировать. Есть резкий скачок выручки 18 августа, поэтому запомним, что далее лучше проверить - могли ли в выборку попасть аномально большие значения. Это может сигнализировать о всплесках числа заказов, либо о появлении очень дорогих заказов в выборке\n",
    "\n",
    "2. На графике кумулятивного среднего чека по группам, средний чек в группах стабилизировался к концу наблюдений. Группа В так же показывает лучший результат, чем А\n",
    "\n",
    "3. График относительного изменения кумулятивного среднего чека группы B к A резко скачет в нескольких точках. Видимо, именно тогда были совершены аномальные заказы. В самом начале и середине наблюдений видны небольшие просадки в пользу А, но в целом можно сказать, что показатели группы В гораздо лучше\n",
    "\n",
    "4. В начале наблюдений группа А имела бóльший показатель кумулятивного среднего количества заказов на посетителя по группам, но затем, примерно с 6 августа, В вырвалась вперёд. Показатели обоих групп стабилизировались к концу наблюдений\n",
    "\n",
    "5. Построили график относительного изменения кумулятивного среднего количества заказов на посетителя группы B к A. Выяснили, что в начале теста группа В проигрывала А, но затем резко вырвалась вперед. В основном график расположен выше нуля. Прирост около 15%\n",
    "\n",
    "**Графики просигнализировали нам о наличии аномально крупных заказов. Далее данные проанализировали более детально:**\n",
    "\n",
    "6. Гистограмма и точечный график количества заказов по пользователям показали, что большинство пользователей совершили всего 1 заказ. Пользователей, заказавших более 2-4 раз немного. Они вполне могут быть аномальными\n",
    "7. Посчитали 95-й и 99-й перцентили количества заказов на пользователя. Видим, что не более 5% пользователей совершали больше 2 заказов. И не более 1% пользователей - больше 4 заказов. Можно выбрать границу аномальных заказов больше 4 и удалить их из анализа\n",
    "8. Гистограмма и точечный график стоимостей заказов показали, что в данных есть некоторое количество дорогих заказов и один из них - огромный дороже 1 млн. рублей. По графику видим, что, в основном, стоимость заказов распределена до 20 000 рублей.\n",
    "9. По перцентилям увидели, что не более 5% пользователей тратили больше 28 000 рублей. И не более 1% пользователей - больше 58 233 рублей. Выбрали границу аномальных стоимостей заказов больше 58 233.\n",
    "\n",
    "10. Посчитали статистическую значимость различий по «сырым» и «очищенным» данным, результат занесли в таблицу:\n",
    "\n",
    "|     |     | p-value |  |относительный прирост В к А |\n",
    "| --- | --- | --- | --- | --- \n",
    "| Стат. значимость различий в среднем количестве заказов на посетителя | сырые данные | 1,1%   | <font color='green'>между группами есть разница</font> | 16% |\n",
    "| Стат. значимость различий в среднем чеке заказа | сырые данные | 83% | <font color='red'>нет оснований считать группы разными</font> | 29% |\n",
    "| Стат. значимость различий в среднем количестве заказов на посетителя | очищенные данные | 1%   | <font color='green'>между группами есть разница</font> | 16%   |\n",
    "| Стат. значимость различий в среднем чеке заказа | очищенные данные | 90% | <font color='red'>нет оснований считать группы разными</font> | -3,2% |\n",
    "\n",
    "**Итого, по результату теста**\n",
    "- Есть статистически значимое различие в среднем количестве заказов на посетителя между группами как по «сырым», так и по данным после фильтрации аномалий\n",
    "- Нет статистически значимого различия по среднему чеку между группами ни по «сырым», ни по данным после фильтрации аномалий\n",
    "- График относительного изменения кумулятивной конверсии группы B к группе A показывает, что результаты группы В стабильно лучше группы А\n",
    "\n",
    "Здесь также надо уточнить, что эксперименты почти всегда направлены на восприятие пользователей. Логично предположить, что если мы воздействуем на пользователей (а не на чеки или другие неодушевленные предметы), то наблюдениями правильно считать пользователей (количество заказов) и наличие между группами разницы уже может удовлетворить исследователя.\n",
    "\n",
    "На этом основании можно остановить тест, зафиксировав победу группы B"
   ]
  }
 ],
 "metadata": {
  "ExecuteTimeLog": [
   {
    "duration": 896,
    "start_time": "2023-04-23T10:34:37.942Z"
   },
   {
    "duration": 244,
    "start_time": "2023-04-23T10:42:23.922Z"
   },
   {
    "duration": 18,
    "start_time": "2023-04-23T10:43:38.729Z"
   },
   {
    "duration": 20,
    "start_time": "2023-04-23T10:43:47.106Z"
   },
   {
    "duration": 15,
    "start_time": "2023-04-23T10:43:54.559Z"
   },
   {
    "duration": 2,
    "start_time": "2023-04-23T10:45:03.648Z"
   },
   {
    "duration": 12,
    "start_time": "2023-04-23T10:45:22.063Z"
   },
   {
    "duration": 14,
    "start_time": "2023-04-23T10:45:35.555Z"
   },
   {
    "duration": 11,
    "start_time": "2023-04-23T10:45:47.257Z"
   },
   {
    "duration": 4,
    "start_time": "2023-04-23T11:08:22.828Z"
   },
   {
    "duration": 8,
    "start_time": "2023-04-23T11:08:27.154Z"
   },
   {
    "duration": 4,
    "start_time": "2023-04-23T11:08:44.670Z"
   },
   {
    "duration": 19,
    "start_time": "2023-04-23T11:08:45.828Z"
   },
   {
    "duration": 12,
    "start_time": "2023-04-23T11:08:50.729Z"
   },
   {
    "duration": 14,
    "start_time": "2023-04-23T11:09:11.920Z"
   },
   {
    "duration": 3,
    "start_time": "2023-04-23T11:09:13.119Z"
   },
   {
    "duration": 12,
    "start_time": "2023-04-23T11:09:14.221Z"
   },
   {
    "duration": 3,
    "start_time": "2023-04-23T11:09:41.970Z"
   },
   {
    "duration": 96,
    "start_time": "2023-04-23T11:09:41.975Z"
   },
   {
    "duration": 9,
    "start_time": "2023-04-23T11:09:42.073Z"
   },
   {
    "duration": 19,
    "start_time": "2023-04-23T11:09:42.084Z"
   },
   {
    "duration": 13,
    "start_time": "2023-04-23T11:09:42.105Z"
   },
   {
    "duration": 22,
    "start_time": "2023-04-23T11:09:42.120Z"
   },
   {
    "duration": 27,
    "start_time": "2023-04-23T11:09:42.144Z"
   },
   {
    "duration": 11,
    "start_time": "2023-04-23T11:09:42.173Z"
   },
   {
    "duration": 10,
    "start_time": "2023-04-23T11:09:42.186Z"
   },
   {
    "duration": 17,
    "start_time": "2023-04-23T11:09:48.310Z"
   },
   {
    "duration": 4,
    "start_time": "2023-04-23T11:10:15.545Z"
   },
   {
    "duration": 109,
    "start_time": "2023-04-23T11:12:32.001Z"
   },
   {
    "duration": 10,
    "start_time": "2023-04-23T11:12:42.466Z"
   },
   {
    "duration": 4,
    "start_time": "2023-04-23T11:13:12.625Z"
   },
   {
    "duration": 8,
    "start_time": "2023-04-23T11:13:17.446Z"
   },
   {
    "duration": 3,
    "start_time": "2023-04-23T11:13:39.346Z"
   },
   {
    "duration": 12,
    "start_time": "2023-04-23T11:15:02.950Z"
   },
   {
    "duration": 14,
    "start_time": "2023-04-23T11:15:24.213Z"
   },
   {
    "duration": 12,
    "start_time": "2023-04-23T11:16:02.042Z"
   },
   {
    "duration": 11,
    "start_time": "2023-04-23T11:16:16.543Z"
   },
   {
    "duration": 8,
    "start_time": "2023-04-23T11:17:39.137Z"
   },
   {
    "duration": 50,
    "start_time": "2023-04-23T11:20:00.171Z"
   },
   {
    "duration": 11,
    "start_time": "2023-04-23T11:23:49.459Z"
   },
   {
    "duration": 11,
    "start_time": "2023-04-23T11:31:10.353Z"
   },
   {
    "duration": 11,
    "start_time": "2023-04-23T11:38:09.482Z"
   },
   {
    "duration": 451,
    "start_time": "2023-04-23T12:02:06.103Z"
   },
   {
    "duration": 6,
    "start_time": "2023-04-23T12:09:52.078Z"
   },
   {
    "duration": 191,
    "start_time": "2023-04-23T12:13:30.134Z"
   },
   {
    "duration": 16,
    "start_time": "2023-04-23T12:14:25.143Z"
   },
   {
    "duration": 139,
    "start_time": "2023-04-23T12:16:57.506Z"
   },
   {
    "duration": 11,
    "start_time": "2023-04-23T12:17:07.068Z"
   },
   {
    "duration": 17,
    "start_time": "2023-04-23T12:17:24.986Z"
   },
   {
    "duration": 14,
    "start_time": "2023-04-23T12:17:36.749Z"
   },
   {
    "duration": 337,
    "start_time": "2023-04-23T12:20:26.989Z"
   },
   {
    "duration": 3,
    "start_time": "2023-04-23T12:21:45.187Z"
   },
   {
    "duration": 7,
    "start_time": "2023-04-23T12:22:48.708Z"
   },
   {
    "duration": 15,
    "start_time": "2023-04-23T12:22:56.507Z"
   },
   {
    "duration": 287,
    "start_time": "2023-04-23T12:23:13.241Z"
   },
   {
    "duration": 7,
    "start_time": "2023-04-23T12:23:19.956Z"
   },
   {
    "duration": 14,
    "start_time": "2023-04-23T12:23:21.875Z"
   },
   {
    "duration": 13,
    "start_time": "2023-04-23T12:24:03.447Z"
   },
   {
    "duration": 8,
    "start_time": "2023-04-23T12:24:12.723Z"
   },
   {
    "duration": 9,
    "start_time": "2023-04-23T12:24:16.401Z"
   },
   {
    "duration": 8,
    "start_time": "2023-04-23T12:24:19.278Z"
   },
   {
    "duration": 10,
    "start_time": "2023-04-23T12:25:21.309Z"
   },
   {
    "duration": 18,
    "start_time": "2023-04-23T12:25:30.837Z"
   },
   {
    "duration": 6,
    "start_time": "2023-04-23T12:30:58.499Z"
   },
   {
    "duration": 11,
    "start_time": "2023-04-23T12:31:05.061Z"
   },
   {
    "duration": 177,
    "start_time": "2023-04-23T12:33:42.948Z"
   },
   {
    "duration": 138,
    "start_time": "2023-04-23T12:35:42.599Z"
   },
   {
    "duration": 285,
    "start_time": "2023-04-23T12:37:45.758Z"
   },
   {
    "duration": 14,
    "start_time": "2023-04-23T12:37:52.873Z"
   },
   {
    "duration": 18,
    "start_time": "2023-04-23T12:38:22.763Z"
   },
   {
    "duration": 10,
    "start_time": "2023-04-23T12:38:45.327Z"
   },
   {
    "duration": 9,
    "start_time": "2023-04-23T12:40:59.264Z"
   },
   {
    "duration": 19,
    "start_time": "2023-04-23T12:41:07.380Z"
   },
   {
    "duration": 358,
    "start_time": "2023-04-23T12:41:20.193Z"
   },
   {
    "duration": 207,
    "start_time": "2023-04-23T12:41:41.652Z"
   },
   {
    "duration": 197,
    "start_time": "2023-04-23T12:41:52.087Z"
   },
   {
    "duration": 211,
    "start_time": "2023-04-23T12:42:09.280Z"
   },
   {
    "duration": 168,
    "start_time": "2023-04-23T12:42:15.355Z"
   },
   {
    "duration": 3,
    "start_time": "2023-04-23T12:44:01.145Z"
   },
   {
    "duration": 4,
    "start_time": "2023-04-23T12:44:04.150Z"
   },
   {
    "duration": 79,
    "start_time": "2023-04-23T12:44:04.156Z"
   },
   {
    "duration": 10,
    "start_time": "2023-04-23T12:44:04.237Z"
   },
   {
    "duration": 29,
    "start_time": "2023-04-23T12:44:04.249Z"
   },
   {
    "duration": 15,
    "start_time": "2023-04-23T12:44:04.280Z"
   },
   {
    "duration": 12,
    "start_time": "2023-04-23T12:44:04.297Z"
   },
   {
    "duration": 17,
    "start_time": "2023-04-23T12:44:04.311Z"
   },
   {
    "duration": 11,
    "start_time": "2023-04-23T12:44:04.330Z"
   },
   {
    "duration": 4,
    "start_time": "2023-04-23T12:44:04.344Z"
   },
   {
    "duration": 6,
    "start_time": "2023-04-23T12:44:04.349Z"
   },
   {
    "duration": 34,
    "start_time": "2023-04-23T12:44:04.356Z"
   },
   {
    "duration": 13,
    "start_time": "2023-04-23T12:44:04.392Z"
   },
   {
    "duration": 12,
    "start_time": "2023-04-23T12:44:04.407Z"
   },
   {
    "duration": 13,
    "start_time": "2023-04-23T12:44:04.421Z"
   },
   {
    "duration": 11,
    "start_time": "2023-04-23T12:44:04.436Z"
   },
   {
    "duration": 79,
    "start_time": "2023-04-23T12:44:04.449Z"
   },
   {
    "duration": 8,
    "start_time": "2023-04-23T12:44:04.530Z"
   },
   {
    "duration": 13,
    "start_time": "2023-04-23T12:44:04.540Z"
   },
   {
    "duration": 40,
    "start_time": "2023-04-23T12:44:04.554Z"
   },
   {
    "duration": 29,
    "start_time": "2023-04-23T12:44:04.596Z"
   },
   {
    "duration": 193,
    "start_time": "2023-04-23T12:44:04.627Z"
   },
   {
    "duration": 149,
    "start_time": "2023-04-23T12:44:04.822Z"
   },
   {
    "duration": 299,
    "start_time": "2023-04-23T12:44:04.988Z"
   },
   {
    "duration": 17,
    "start_time": "2023-04-23T12:44:05.291Z"
   },
   {
    "duration": 13,
    "start_time": "2023-04-23T12:44:05.310Z"
   },
   {
    "duration": 8,
    "start_time": "2023-04-23T12:44:05.326Z"
   },
   {
    "duration": 276,
    "start_time": "2023-04-23T12:44:05.336Z"
   },
   {
    "duration": 269,
    "start_time": "2023-04-23T12:44:05.614Z"
   },
   {
    "duration": 9,
    "start_time": "2023-04-23T12:45:12.734Z"
   },
   {
    "duration": 82,
    "start_time": "2023-04-23T12:45:16.280Z"
   },
   {
    "duration": 4,
    "start_time": "2023-04-23T12:45:16.364Z"
   },
   {
    "duration": 14,
    "start_time": "2023-04-23T12:45:16.369Z"
   },
   {
    "duration": 21,
    "start_time": "2023-04-23T12:45:16.385Z"
   },
   {
    "duration": 11,
    "start_time": "2023-04-23T12:45:16.408Z"
   },
   {
    "duration": 11,
    "start_time": "2023-04-23T12:45:16.421Z"
   },
   {
    "duration": 13,
    "start_time": "2023-04-23T12:45:16.433Z"
   },
   {
    "duration": 19,
    "start_time": "2023-04-23T12:45:16.448Z"
   },
   {
    "duration": 23,
    "start_time": "2023-04-23T12:45:16.469Z"
   },
   {
    "duration": 8,
    "start_time": "2023-04-23T12:45:16.495Z"
   },
   {
    "duration": 9,
    "start_time": "2023-04-23T12:45:16.505Z"
   },
   {
    "duration": 13,
    "start_time": "2023-04-23T12:45:16.516Z"
   },
   {
    "duration": 18,
    "start_time": "2023-04-23T12:45:16.531Z"
   },
   {
    "duration": 39,
    "start_time": "2023-04-23T12:45:16.551Z"
   },
   {
    "duration": 18,
    "start_time": "2023-04-23T12:45:16.593Z"
   },
   {
    "duration": 50,
    "start_time": "2023-04-23T12:45:16.613Z"
   },
   {
    "duration": 31,
    "start_time": "2023-04-23T12:45:16.665Z"
   },
   {
    "duration": 12,
    "start_time": "2023-04-23T12:45:16.697Z"
   },
   {
    "duration": 22,
    "start_time": "2023-04-23T12:45:16.711Z"
   },
   {
    "duration": 20,
    "start_time": "2023-04-23T12:45:16.734Z"
   },
   {
    "duration": 220,
    "start_time": "2023-04-23T12:45:16.756Z"
   },
   {
    "duration": 163,
    "start_time": "2023-04-23T12:45:16.977Z"
   },
   {
    "duration": 347,
    "start_time": "2023-04-23T12:45:17.142Z"
   },
   {
    "duration": 20,
    "start_time": "2023-04-23T12:45:17.492Z"
   },
   {
    "duration": 22,
    "start_time": "2023-04-23T12:45:17.515Z"
   },
   {
    "duration": 7,
    "start_time": "2023-04-23T12:45:17.539Z"
   },
   {
    "duration": 255,
    "start_time": "2023-04-23T12:45:17.548Z"
   },
   {
    "duration": 212,
    "start_time": "2023-04-23T12:45:17.807Z"
   },
   {
    "duration": 199,
    "start_time": "2023-04-23T12:46:54.196Z"
   },
   {
    "duration": 65,
    "start_time": "2023-04-23T12:49:00.102Z"
   },
   {
    "duration": 4,
    "start_time": "2023-04-23T12:49:11.426Z"
   },
   {
    "duration": 86,
    "start_time": "2023-04-23T12:49:11.432Z"
   },
   {
    "duration": 3,
    "start_time": "2023-04-23T12:49:11.520Z"
   },
   {
    "duration": 11,
    "start_time": "2023-04-23T12:49:11.524Z"
   },
   {
    "duration": 12,
    "start_time": "2023-04-23T12:49:11.538Z"
   },
   {
    "duration": 14,
    "start_time": "2023-04-23T12:49:11.552Z"
   },
   {
    "duration": 35,
    "start_time": "2023-04-23T12:49:11.567Z"
   },
   {
    "duration": 12,
    "start_time": "2023-04-23T12:49:11.613Z"
   },
   {
    "duration": 11,
    "start_time": "2023-04-23T12:49:11.626Z"
   },
   {
    "duration": 22,
    "start_time": "2023-04-23T12:49:11.639Z"
   },
   {
    "duration": 20,
    "start_time": "2023-04-23T12:49:11.664Z"
   },
   {
    "duration": 13,
    "start_time": "2023-04-23T12:49:11.686Z"
   },
   {
    "duration": 13,
    "start_time": "2023-04-23T12:49:11.701Z"
   },
   {
    "duration": 13,
    "start_time": "2023-04-23T12:49:11.716Z"
   },
   {
    "duration": 14,
    "start_time": "2023-04-23T12:49:11.732Z"
   },
   {
    "duration": 41,
    "start_time": "2023-04-23T12:49:11.748Z"
   },
   {
    "duration": 55,
    "start_time": "2023-04-23T12:49:11.791Z"
   },
   {
    "duration": 9,
    "start_time": "2023-04-23T12:49:11.847Z"
   },
   {
    "duration": 36,
    "start_time": "2023-04-23T12:49:11.858Z"
   },
   {
    "duration": 12,
    "start_time": "2023-04-23T12:49:11.895Z"
   },
   {
    "duration": 15,
    "start_time": "2023-04-23T12:49:11.909Z"
   },
   {
    "duration": 223,
    "start_time": "2023-04-23T12:49:11.926Z"
   },
   {
    "duration": 155,
    "start_time": "2023-04-23T12:49:12.151Z"
   },
   {
    "duration": 349,
    "start_time": "2023-04-23T12:49:12.309Z"
   },
   {
    "duration": 14,
    "start_time": "2023-04-23T12:49:12.660Z"
   },
   {
    "duration": 22,
    "start_time": "2023-04-23T12:49:12.676Z"
   },
   {
    "duration": 8,
    "start_time": "2023-04-23T12:49:12.700Z"
   },
   {
    "duration": 215,
    "start_time": "2023-04-23T12:49:12.716Z"
   },
   {
    "duration": 4,
    "start_time": "2023-04-23T12:49:39.281Z"
   },
   {
    "duration": 4,
    "start_time": "2023-04-23T12:49:43.445Z"
   },
   {
    "duration": 94,
    "start_time": "2023-04-23T12:49:43.452Z"
   },
   {
    "duration": 3,
    "start_time": "2023-04-23T12:49:43.548Z"
   },
   {
    "duration": 11,
    "start_time": "2023-04-23T12:49:43.554Z"
   },
   {
    "duration": 19,
    "start_time": "2023-04-23T12:49:43.568Z"
   },
   {
    "duration": 11,
    "start_time": "2023-04-23T12:49:43.589Z"
   },
   {
    "duration": 14,
    "start_time": "2023-04-23T12:49:43.603Z"
   },
   {
    "duration": 14,
    "start_time": "2023-04-23T12:49:43.620Z"
   },
   {
    "duration": 13,
    "start_time": "2023-04-23T12:49:43.636Z"
   },
   {
    "duration": 39,
    "start_time": "2023-04-23T12:49:43.653Z"
   },
   {
    "duration": 5,
    "start_time": "2023-04-23T12:49:43.694Z"
   },
   {
    "duration": 13,
    "start_time": "2023-04-23T12:49:43.701Z"
   },
   {
    "duration": 13,
    "start_time": "2023-04-23T12:49:43.716Z"
   },
   {
    "duration": 18,
    "start_time": "2023-04-23T12:49:43.731Z"
   },
   {
    "duration": 54,
    "start_time": "2023-04-23T12:49:43.751Z"
   },
   {
    "duration": 10,
    "start_time": "2023-04-23T12:49:43.808Z"
   },
   {
    "duration": 86,
    "start_time": "2023-04-23T12:49:43.820Z"
   },
   {
    "duration": 13,
    "start_time": "2023-04-23T12:49:43.908Z"
   },
   {
    "duration": 10,
    "start_time": "2023-04-23T12:49:43.923Z"
   },
   {
    "duration": 12,
    "start_time": "2023-04-23T12:49:43.936Z"
   },
   {
    "duration": 49,
    "start_time": "2023-04-23T12:49:43.951Z"
   },
   {
    "duration": 255,
    "start_time": "2023-04-23T12:49:44.003Z"
   },
   {
    "duration": 165,
    "start_time": "2023-04-23T12:49:44.261Z"
   },
   {
    "duration": 371,
    "start_time": "2023-04-23T12:49:44.428Z"
   },
   {
    "duration": 19,
    "start_time": "2023-04-23T12:49:44.802Z"
   },
   {
    "duration": 15,
    "start_time": "2023-04-23T12:49:44.824Z"
   },
   {
    "duration": 12,
    "start_time": "2023-04-23T12:49:44.842Z"
   },
   {
    "duration": 274,
    "start_time": "2023-04-23T12:49:44.860Z"
   },
   {
    "duration": 223,
    "start_time": "2023-04-23T12:50:15.663Z"
   },
   {
    "duration": 51,
    "start_time": "2023-04-23T12:58:25.162Z"
   },
   {
    "duration": 138,
    "start_time": "2023-04-23T12:58:57.826Z"
   },
   {
    "duration": 130,
    "start_time": "2023-04-23T13:00:23.348Z"
   },
   {
    "duration": 53,
    "start_time": "2023-04-23T13:01:10.051Z"
   },
   {
    "duration": 180,
    "start_time": "2023-04-23T13:01:23.342Z"
   },
   {
    "duration": 181,
    "start_time": "2023-04-23T13:01:42.130Z"
   },
   {
    "duration": 294,
    "start_time": "2023-04-23T13:03:29.435Z"
   },
   {
    "duration": 12,
    "start_time": "2023-04-23T13:03:39.236Z"
   },
   {
    "duration": 13,
    "start_time": "2023-04-23T13:03:48.635Z"
   },
   {
    "duration": 8,
    "start_time": "2023-04-23T13:04:00.832Z"
   },
   {
    "duration": 9,
    "start_time": "2023-04-23T13:04:01.733Z"
   },
   {
    "duration": 3,
    "start_time": "2023-04-23T13:04:13.685Z"
   },
   {
    "duration": 78,
    "start_time": "2023-04-23T13:04:16.528Z"
   },
   {
    "duration": 3,
    "start_time": "2023-04-23T13:04:16.608Z"
   },
   {
    "duration": 10,
    "start_time": "2023-04-23T13:04:16.613Z"
   },
   {
    "duration": 13,
    "start_time": "2023-04-23T13:04:16.625Z"
   },
   {
    "duration": 15,
    "start_time": "2023-04-23T13:04:16.641Z"
   },
   {
    "duration": 11,
    "start_time": "2023-04-23T13:04:16.658Z"
   },
   {
    "duration": 29,
    "start_time": "2023-04-23T13:04:16.671Z"
   },
   {
    "duration": 10,
    "start_time": "2023-04-23T13:04:16.702Z"
   },
   {
    "duration": 4,
    "start_time": "2023-04-23T13:04:16.714Z"
   },
   {
    "duration": 15,
    "start_time": "2023-04-23T13:04:16.719Z"
   },
   {
    "duration": 14,
    "start_time": "2023-04-23T13:04:16.736Z"
   },
   {
    "duration": 26,
    "start_time": "2023-04-23T13:04:16.752Z"
   },
   {
    "duration": 11,
    "start_time": "2023-04-23T13:04:16.789Z"
   },
   {
    "duration": 10,
    "start_time": "2023-04-23T13:04:16.803Z"
   },
   {
    "duration": 11,
    "start_time": "2023-04-23T13:04:16.815Z"
   },
   {
    "duration": 63,
    "start_time": "2023-04-23T13:04:16.828Z"
   },
   {
    "duration": 8,
    "start_time": "2023-04-23T13:04:16.893Z"
   },
   {
    "duration": 10,
    "start_time": "2023-04-23T13:04:16.904Z"
   },
   {
    "duration": 10,
    "start_time": "2023-04-23T13:04:16.916Z"
   },
   {
    "duration": 11,
    "start_time": "2023-04-23T13:04:16.928Z"
   },
   {
    "duration": 219,
    "start_time": "2023-04-23T13:04:16.941Z"
   },
   {
    "duration": 140,
    "start_time": "2023-04-23T13:04:17.162Z"
   },
   {
    "duration": 289,
    "start_time": "2023-04-23T13:04:17.304Z"
   },
   {
    "duration": 10,
    "start_time": "2023-04-23T13:04:17.595Z"
   },
   {
    "duration": 9,
    "start_time": "2023-04-23T13:04:17.606Z"
   },
   {
    "duration": 22,
    "start_time": "2023-04-23T13:04:17.617Z"
   },
   {
    "duration": 18,
    "start_time": "2023-04-23T13:04:17.642Z"
   },
   {
    "duration": 24,
    "start_time": "2023-04-23T13:04:17.662Z"
   },
   {
    "duration": 189,
    "start_time": "2023-04-23T13:04:17.689Z"
   },
   {
    "duration": 3,
    "start_time": "2023-04-23T13:05:25.717Z"
   },
   {
    "duration": 3,
    "start_time": "2023-04-23T13:05:29.320Z"
   },
   {
    "duration": 4,
    "start_time": "2023-04-23T13:05:30.885Z"
   },
   {
    "duration": 112,
    "start_time": "2023-04-23T13:05:30.891Z"
   },
   {
    "duration": 3,
    "start_time": "2023-04-23T13:05:31.005Z"
   },
   {
    "duration": 34,
    "start_time": "2023-04-23T13:05:31.011Z"
   },
   {
    "duration": 76,
    "start_time": "2023-04-23T13:05:31.047Z"
   },
   {
    "duration": 64,
    "start_time": "2023-04-23T13:05:31.125Z"
   },
   {
    "duration": 53,
    "start_time": "2023-04-23T13:05:31.190Z"
   },
   {
    "duration": 46,
    "start_time": "2023-04-23T13:05:31.244Z"
   },
   {
    "duration": 132,
    "start_time": "2023-04-23T13:05:31.293Z"
   },
   {
    "duration": 27,
    "start_time": "2023-04-23T13:05:31.426Z"
   },
   {
    "duration": 37,
    "start_time": "2023-04-23T13:05:31.455Z"
   },
   {
    "duration": 39,
    "start_time": "2023-04-23T13:05:31.494Z"
   },
   {
    "duration": 51,
    "start_time": "2023-04-23T13:05:31.535Z"
   },
   {
    "duration": 38,
    "start_time": "2023-04-23T13:05:31.588Z"
   },
   {
    "duration": 34,
    "start_time": "2023-04-23T13:05:31.628Z"
   },
   {
    "duration": 34,
    "start_time": "2023-04-23T13:05:31.664Z"
   },
   {
    "duration": 67,
    "start_time": "2023-04-23T13:05:31.700Z"
   },
   {
    "duration": 10,
    "start_time": "2023-04-23T13:05:31.769Z"
   },
   {
    "duration": 41,
    "start_time": "2023-04-23T13:05:31.781Z"
   },
   {
    "duration": 28,
    "start_time": "2023-04-23T13:05:31.824Z"
   },
   {
    "duration": 14,
    "start_time": "2023-04-23T13:05:31.854Z"
   },
   {
    "duration": 189,
    "start_time": "2023-04-23T13:05:31.870Z"
   },
   {
    "duration": 138,
    "start_time": "2023-04-23T13:05:32.061Z"
   },
   {
    "duration": 308,
    "start_time": "2023-04-23T13:05:32.202Z"
   },
   {
    "duration": 11,
    "start_time": "2023-04-23T13:05:32.512Z"
   },
   {
    "duration": 10,
    "start_time": "2023-04-23T13:05:32.525Z"
   },
   {
    "duration": 18,
    "start_time": "2023-04-23T13:05:32.537Z"
   },
   {
    "duration": 9,
    "start_time": "2023-04-23T13:05:32.557Z"
   },
   {
    "duration": 7,
    "start_time": "2023-04-23T13:05:32.590Z"
   },
   {
    "duration": 202,
    "start_time": "2023-04-23T13:05:32.598Z"
   },
   {
    "duration": 143,
    "start_time": "2023-04-23T13:11:10.637Z"
   },
   {
    "duration": 162,
    "start_time": "2023-04-23T13:20:01.430Z"
   },
   {
    "duration": 246,
    "start_time": "2023-04-23T13:23:02.547Z"
   },
   {
    "duration": 4,
    "start_time": "2023-04-23T13:23:21.322Z"
   },
   {
    "duration": 79,
    "start_time": "2023-04-23T13:23:23.413Z"
   },
   {
    "duration": 4,
    "start_time": "2023-04-23T13:23:23.494Z"
   },
   {
    "duration": 11,
    "start_time": "2023-04-23T13:23:23.499Z"
   },
   {
    "duration": 13,
    "start_time": "2023-04-23T13:23:23.511Z"
   },
   {
    "duration": 10,
    "start_time": "2023-04-23T13:23:23.527Z"
   },
   {
    "duration": 12,
    "start_time": "2023-04-23T13:23:23.539Z"
   },
   {
    "duration": 48,
    "start_time": "2023-04-23T13:23:23.553Z"
   },
   {
    "duration": 10,
    "start_time": "2023-04-23T13:23:23.603Z"
   },
   {
    "duration": 5,
    "start_time": "2023-04-23T13:23:23.615Z"
   },
   {
    "duration": 7,
    "start_time": "2023-04-23T13:23:23.622Z"
   },
   {
    "duration": 217,
    "start_time": "2023-04-23T13:23:23.631Z"
   },
   {
    "duration": 0,
    "start_time": "2023-04-23T13:23:23.850Z"
   },
   {
    "duration": 0,
    "start_time": "2023-04-23T13:23:23.852Z"
   },
   {
    "duration": 0,
    "start_time": "2023-04-23T13:23:23.853Z"
   },
   {
    "duration": 0,
    "start_time": "2023-04-23T13:23:23.855Z"
   },
   {
    "duration": 0,
    "start_time": "2023-04-23T13:23:23.856Z"
   },
   {
    "duration": 0,
    "start_time": "2023-04-23T13:23:23.857Z"
   },
   {
    "duration": 0,
    "start_time": "2023-04-23T13:23:23.858Z"
   },
   {
    "duration": 0,
    "start_time": "2023-04-23T13:23:23.859Z"
   },
   {
    "duration": 0,
    "start_time": "2023-04-23T13:23:23.860Z"
   },
   {
    "duration": 0,
    "start_time": "2023-04-23T13:23:23.861Z"
   },
   {
    "duration": 0,
    "start_time": "2023-04-23T13:23:23.862Z"
   },
   {
    "duration": 0,
    "start_time": "2023-04-23T13:23:23.863Z"
   },
   {
    "duration": 0,
    "start_time": "2023-04-23T13:23:23.865Z"
   },
   {
    "duration": 0,
    "start_time": "2023-04-23T13:23:23.866Z"
   },
   {
    "duration": 0,
    "start_time": "2023-04-23T13:23:23.867Z"
   },
   {
    "duration": 0,
    "start_time": "2023-04-23T13:23:23.868Z"
   },
   {
    "duration": 0,
    "start_time": "2023-04-23T13:23:23.869Z"
   },
   {
    "duration": 0,
    "start_time": "2023-04-23T13:23:23.870Z"
   },
   {
    "duration": 13,
    "start_time": "2023-04-23T13:23:50.858Z"
   },
   {
    "duration": 9,
    "start_time": "2023-04-23T13:23:59.108Z"
   },
   {
    "duration": 15,
    "start_time": "2023-04-23T13:23:59.119Z"
   },
   {
    "duration": 16,
    "start_time": "2023-04-23T13:23:59.136Z"
   },
   {
    "duration": 18,
    "start_time": "2023-04-23T13:23:59.154Z"
   },
   {
    "duration": 16,
    "start_time": "2023-04-23T13:23:59.173Z"
   },
   {
    "duration": 39,
    "start_time": "2023-04-23T13:23:59.190Z"
   },
   {
    "duration": 9,
    "start_time": "2023-04-23T13:23:59.231Z"
   },
   {
    "duration": 53,
    "start_time": "2023-04-23T13:23:59.241Z"
   },
   {
    "duration": 15,
    "start_time": "2023-04-23T13:23:59.296Z"
   },
   {
    "duration": 12,
    "start_time": "2023-04-23T13:23:59.313Z"
   },
   {
    "duration": 207,
    "start_time": "2023-04-23T13:23:59.327Z"
   },
   {
    "duration": 142,
    "start_time": "2023-04-23T13:23:59.536Z"
   },
   {
    "duration": 315,
    "start_time": "2023-04-23T13:23:59.688Z"
   },
   {
    "duration": 9,
    "start_time": "2023-04-23T13:24:00.004Z"
   },
   {
    "duration": 44,
    "start_time": "2023-04-23T13:24:00.014Z"
   },
   {
    "duration": 21,
    "start_time": "2023-04-23T13:24:00.060Z"
   },
   {
    "duration": 23,
    "start_time": "2023-04-23T13:24:00.083Z"
   },
   {
    "duration": 8,
    "start_time": "2023-04-23T13:24:00.108Z"
   },
   {
    "duration": 208,
    "start_time": "2023-04-23T13:24:00.118Z"
   },
   {
    "duration": 1098,
    "start_time": "2023-04-23T13:33:57.861Z"
   },
   {
    "duration": 137,
    "start_time": "2023-04-23T13:33:58.961Z"
   },
   {
    "duration": 8,
    "start_time": "2023-04-23T13:33:59.100Z"
   },
   {
    "duration": 23,
    "start_time": "2023-04-23T13:33:59.110Z"
   },
   {
    "duration": 27,
    "start_time": "2023-04-23T13:33:59.134Z"
   },
   {
    "duration": 22,
    "start_time": "2023-04-23T13:33:59.163Z"
   },
   {
    "duration": 14,
    "start_time": "2023-04-23T13:33:59.187Z"
   },
   {
    "duration": 12,
    "start_time": "2023-04-23T13:33:59.203Z"
   },
   {
    "duration": 15,
    "start_time": "2023-04-23T13:33:59.217Z"
   },
   {
    "duration": 5,
    "start_time": "2023-04-23T13:33:59.236Z"
   },
   {
    "duration": 4,
    "start_time": "2023-04-23T13:33:59.243Z"
   },
   {
    "duration": 16,
    "start_time": "2023-04-23T13:33:59.249Z"
   },
   {
    "duration": 31,
    "start_time": "2023-04-23T13:33:59.266Z"
   },
   {
    "duration": 11,
    "start_time": "2023-04-23T13:33:59.300Z"
   },
   {
    "duration": 15,
    "start_time": "2023-04-23T13:33:59.314Z"
   },
   {
    "duration": 14,
    "start_time": "2023-04-23T13:33:59.331Z"
   },
   {
    "duration": 79,
    "start_time": "2023-04-23T13:33:59.347Z"
   },
   {
    "duration": 12,
    "start_time": "2023-04-23T13:33:59.427Z"
   },
   {
    "duration": 9,
    "start_time": "2023-04-23T13:33:59.441Z"
   },
   {
    "duration": 39,
    "start_time": "2023-04-23T13:33:59.451Z"
   },
   {
    "duration": 15,
    "start_time": "2023-04-23T13:33:59.492Z"
   },
   {
    "duration": 210,
    "start_time": "2023-04-23T13:33:59.509Z"
   },
   {
    "duration": 147,
    "start_time": "2023-04-23T13:33:59.721Z"
   },
   {
    "duration": 313,
    "start_time": "2023-04-23T13:33:59.869Z"
   },
   {
    "duration": 12,
    "start_time": "2023-04-23T13:34:00.183Z"
   },
   {
    "duration": 27,
    "start_time": "2023-04-23T13:34:00.197Z"
   },
   {
    "duration": 35,
    "start_time": "2023-04-23T13:34:00.226Z"
   },
   {
    "duration": 17,
    "start_time": "2023-04-23T13:34:00.266Z"
   },
   {
    "duration": 24,
    "start_time": "2023-04-23T13:34:00.285Z"
   },
   {
    "duration": 334,
    "start_time": "2023-04-23T13:34:00.312Z"
   },
   {
    "duration": 130,
    "start_time": "2023-04-23T13:34:32.646Z"
   },
   {
    "duration": 130,
    "start_time": "2023-04-23T13:34:42.194Z"
   },
   {
    "duration": 12,
    "start_time": "2023-04-23T13:35:20.211Z"
   },
   {
    "duration": 11,
    "start_time": "2023-04-23T13:35:24.303Z"
   },
   {
    "duration": 136,
    "start_time": "2023-04-23T13:38:50.401Z"
   },
   {
    "duration": 130,
    "start_time": "2023-04-23T13:39:05.548Z"
   },
   {
    "duration": 144,
    "start_time": "2023-04-23T13:40:32.246Z"
   },
   {
    "duration": 132,
    "start_time": "2023-04-23T13:40:38.912Z"
   },
   {
    "duration": 9,
    "start_time": "2023-04-23T13:40:48.805Z"
   },
   {
    "duration": 126,
    "start_time": "2023-04-23T13:42:08.496Z"
   },
   {
    "duration": 8,
    "start_time": "2023-04-23T13:47:01.441Z"
   },
   {
    "duration": 134,
    "start_time": "2023-04-23T13:56:55.163Z"
   },
   {
    "duration": 186,
    "start_time": "2023-04-23T13:57:16.258Z"
   },
   {
    "duration": 165,
    "start_time": "2023-04-23T13:57:20.161Z"
   },
   {
    "duration": 323,
    "start_time": "2023-04-23T13:57:24.158Z"
   },
   {
    "duration": 10,
    "start_time": "2023-04-23T13:57:27.842Z"
   },
   {
    "duration": 202,
    "start_time": "2023-04-23T14:00:02.892Z"
   },
   {
    "duration": 4,
    "start_time": "2023-04-23T14:02:38.617Z"
   },
   {
    "duration": 3,
    "start_time": "2023-04-23T14:03:45.051Z"
   },
   {
    "duration": 3,
    "start_time": "2023-04-23T14:03:48.718Z"
   },
   {
    "duration": 91,
    "start_time": "2023-04-23T14:03:48.722Z"
   },
   {
    "duration": 9,
    "start_time": "2023-04-23T14:03:48.815Z"
   },
   {
    "duration": 13,
    "start_time": "2023-04-23T14:03:48.826Z"
   },
   {
    "duration": 10,
    "start_time": "2023-04-23T14:03:48.841Z"
   },
   {
    "duration": 12,
    "start_time": "2023-04-23T14:03:48.853Z"
   },
   {
    "duration": 24,
    "start_time": "2023-04-23T14:03:48.866Z"
   },
   {
    "duration": 23,
    "start_time": "2023-04-23T14:03:48.892Z"
   },
   {
    "duration": 4,
    "start_time": "2023-04-23T14:03:48.917Z"
   },
   {
    "duration": 4,
    "start_time": "2023-04-23T14:03:48.923Z"
   },
   {
    "duration": 8,
    "start_time": "2023-04-23T14:03:48.930Z"
   },
   {
    "duration": 13,
    "start_time": "2023-04-23T14:03:48.940Z"
   },
   {
    "duration": 10,
    "start_time": "2023-04-23T14:03:48.955Z"
   },
   {
    "duration": 42,
    "start_time": "2023-04-23T14:03:48.966Z"
   },
   {
    "duration": 8,
    "start_time": "2023-04-23T14:03:49.010Z"
   },
   {
    "duration": 40,
    "start_time": "2023-04-23T14:03:49.020Z"
   },
   {
    "duration": 34,
    "start_time": "2023-04-23T14:03:49.062Z"
   },
   {
    "duration": 10,
    "start_time": "2023-04-23T14:03:49.098Z"
   },
   {
    "duration": 10,
    "start_time": "2023-04-23T14:03:49.109Z"
   },
   {
    "duration": 21,
    "start_time": "2023-04-23T14:03:49.121Z"
   },
   {
    "duration": 204,
    "start_time": "2023-04-23T14:03:49.143Z"
   },
   {
    "duration": 154,
    "start_time": "2023-04-23T14:03:49.349Z"
   },
   {
    "duration": 319,
    "start_time": "2023-04-23T14:03:49.505Z"
   },
   {
    "duration": 9,
    "start_time": "2023-04-23T14:03:49.826Z"
   },
   {
    "duration": 13,
    "start_time": "2023-04-23T14:03:49.836Z"
   },
   {
    "duration": 27,
    "start_time": "2023-04-23T14:03:49.851Z"
   },
   {
    "duration": 17,
    "start_time": "2023-04-23T14:03:49.880Z"
   },
   {
    "duration": 12,
    "start_time": "2023-04-23T14:03:49.899Z"
   },
   {
    "duration": 228,
    "start_time": "2023-04-23T14:03:49.914Z"
   },
   {
    "duration": 3,
    "start_time": "2023-04-23T14:35:43.151Z"
   },
   {
    "duration": 4,
    "start_time": "2023-04-23T14:35:47.085Z"
   },
   {
    "duration": 92,
    "start_time": "2023-04-23T14:35:47.091Z"
   },
   {
    "duration": 18,
    "start_time": "2023-04-23T14:35:47.186Z"
   },
   {
    "duration": 18,
    "start_time": "2023-04-23T14:35:47.206Z"
   },
   {
    "duration": 15,
    "start_time": "2023-04-23T14:35:47.227Z"
   },
   {
    "duration": 12,
    "start_time": "2023-04-23T14:35:47.244Z"
   },
   {
    "duration": 46,
    "start_time": "2023-04-23T14:35:47.258Z"
   },
   {
    "duration": 15,
    "start_time": "2023-04-23T14:35:47.306Z"
   },
   {
    "duration": 9,
    "start_time": "2023-04-23T14:35:47.323Z"
   },
   {
    "duration": 6,
    "start_time": "2023-04-23T14:35:47.334Z"
   },
   {
    "duration": 12,
    "start_time": "2023-04-23T14:35:47.342Z"
   },
   {
    "duration": 36,
    "start_time": "2023-04-23T14:35:47.357Z"
   },
   {
    "duration": 13,
    "start_time": "2023-04-23T14:35:47.399Z"
   },
   {
    "duration": 13,
    "start_time": "2023-04-23T14:35:47.416Z"
   },
   {
    "duration": 12,
    "start_time": "2023-04-23T14:35:47.431Z"
   },
   {
    "duration": 72,
    "start_time": "2023-04-23T14:35:47.445Z"
   },
   {
    "duration": 9,
    "start_time": "2023-04-23T14:35:47.519Z"
   },
   {
    "duration": 9,
    "start_time": "2023-04-23T14:35:47.530Z"
   },
   {
    "duration": 18,
    "start_time": "2023-04-23T14:35:47.541Z"
   },
   {
    "duration": 40,
    "start_time": "2023-04-23T14:35:47.560Z"
   },
   {
    "duration": 197,
    "start_time": "2023-04-23T14:35:47.602Z"
   },
   {
    "duration": 157,
    "start_time": "2023-04-23T14:35:47.801Z"
   },
   {
    "duration": 14,
    "start_time": "2023-04-23T14:35:47.960Z"
   },
   {
    "duration": 35,
    "start_time": "2023-04-23T14:35:47.976Z"
   },
   {
    "duration": 18,
    "start_time": "2023-04-23T14:35:48.013Z"
   },
   {
    "duration": 233,
    "start_time": "2023-04-23T14:35:48.033Z"
   },
   {
    "duration": 27,
    "start_time": "2023-04-23T14:38:15.583Z"
   },
   {
    "duration": 708,
    "start_time": "2023-04-23T14:38:40.380Z"
   },
   {
    "duration": 85,
    "start_time": "2023-04-23T14:38:41.094Z"
   },
   {
    "duration": 28,
    "start_time": "2023-04-23T14:38:41.181Z"
   },
   {
    "duration": 16,
    "start_time": "2023-04-23T14:38:41.212Z"
   },
   {
    "duration": 12,
    "start_time": "2023-04-23T14:38:41.230Z"
   },
   {
    "duration": 16,
    "start_time": "2023-04-23T14:38:41.244Z"
   },
   {
    "duration": 17,
    "start_time": "2023-04-23T14:38:41.261Z"
   },
   {
    "duration": 20,
    "start_time": "2023-04-23T14:38:41.280Z"
   },
   {
    "duration": 7,
    "start_time": "2023-04-23T14:38:41.301Z"
   },
   {
    "duration": 3,
    "start_time": "2023-04-23T14:38:41.311Z"
   },
   {
    "duration": 12,
    "start_time": "2023-04-23T14:38:41.317Z"
   },
   {
    "duration": 19,
    "start_time": "2023-04-23T14:38:41.331Z"
   },
   {
    "duration": 38,
    "start_time": "2023-04-23T14:38:41.353Z"
   },
   {
    "duration": 15,
    "start_time": "2023-04-23T14:38:41.403Z"
   },
   {
    "duration": 11,
    "start_time": "2023-04-23T14:38:41.421Z"
   },
   {
    "duration": 82,
    "start_time": "2023-04-23T14:38:41.434Z"
   },
   {
    "duration": 10,
    "start_time": "2023-04-23T14:38:41.518Z"
   },
   {
    "duration": 23,
    "start_time": "2023-04-23T14:38:41.530Z"
   },
   {
    "duration": 15,
    "start_time": "2023-04-23T14:38:41.555Z"
   },
   {
    "duration": 39,
    "start_time": "2023-04-23T14:38:41.573Z"
   },
   {
    "duration": 291,
    "start_time": "2023-04-23T14:38:41.614Z"
   },
   {
    "duration": 154,
    "start_time": "2023-04-23T14:38:41.907Z"
   },
   {
    "duration": 17,
    "start_time": "2023-04-23T14:38:42.062Z"
   },
   {
    "duration": 19,
    "start_time": "2023-04-23T14:38:42.089Z"
   },
   {
    "duration": 323,
    "start_time": "2023-04-23T14:38:42.111Z"
   },
   {
    "duration": 140,
    "start_time": "2023-04-23T14:46:16.804Z"
   },
   {
    "duration": 131,
    "start_time": "2023-04-23T14:46:52.527Z"
   },
   {
    "duration": 175,
    "start_time": "2023-04-23T14:51:08.398Z"
   },
   {
    "duration": 201,
    "start_time": "2023-04-23T14:52:16.791Z"
   },
   {
    "duration": 90,
    "start_time": "2023-04-23T14:55:42.249Z"
   },
   {
    "duration": 372,
    "start_time": "2023-04-23T14:56:07.303Z"
   },
   {
    "duration": 3,
    "start_time": "2023-04-23T15:00:07.632Z"
   },
   {
    "duration": 695,
    "start_time": "2023-04-23T15:12:45.024Z"
   },
   {
    "duration": 79,
    "start_time": "2023-04-23T15:12:45.721Z"
   },
   {
    "duration": 13,
    "start_time": "2023-04-23T15:12:45.802Z"
   },
   {
    "duration": 43,
    "start_time": "2023-04-23T15:12:45.817Z"
   },
   {
    "duration": 91,
    "start_time": "2023-04-23T15:12:45.863Z"
   },
   {
    "duration": 18,
    "start_time": "2023-04-23T15:12:45.956Z"
   },
   {
    "duration": 20,
    "start_time": "2023-04-23T15:12:45.976Z"
   },
   {
    "duration": 17,
    "start_time": "2023-04-23T15:12:45.998Z"
   },
   {
    "duration": 14,
    "start_time": "2023-04-23T15:12:46.017Z"
   },
   {
    "duration": 6,
    "start_time": "2023-04-23T15:12:46.033Z"
   },
   {
    "duration": 11,
    "start_time": "2023-04-23T15:12:46.041Z"
   },
   {
    "duration": 14,
    "start_time": "2023-04-23T15:12:46.054Z"
   },
   {
    "duration": 17,
    "start_time": "2023-04-23T15:12:46.088Z"
   },
   {
    "duration": 15,
    "start_time": "2023-04-23T15:12:46.109Z"
   },
   {
    "duration": 8,
    "start_time": "2023-04-23T15:12:46.126Z"
   },
   {
    "duration": 75,
    "start_time": "2023-04-23T15:12:46.136Z"
   },
   {
    "duration": 10,
    "start_time": "2023-04-23T15:12:46.213Z"
   },
   {
    "duration": 9,
    "start_time": "2023-04-23T15:12:46.225Z"
   },
   {
    "duration": 12,
    "start_time": "2023-04-23T15:12:46.236Z"
   },
   {
    "duration": 41,
    "start_time": "2023-04-23T15:12:46.249Z"
   },
   {
    "duration": 201,
    "start_time": "2023-04-23T15:12:46.292Z"
   },
   {
    "duration": 145,
    "start_time": "2023-04-23T15:12:46.495Z"
   },
   {
    "duration": 13,
    "start_time": "2023-04-23T15:12:46.642Z"
   },
   {
    "duration": 7,
    "start_time": "2023-04-23T15:12:46.657Z"
   },
   {
    "duration": 297,
    "start_time": "2023-04-23T15:12:46.665Z"
   },
   {
    "duration": 204,
    "start_time": "2023-04-23T15:12:46.964Z"
   },
   {
    "duration": 328,
    "start_time": "2023-04-23T15:12:47.169Z"
   },
   {
    "duration": 266,
    "start_time": "2023-04-23T15:20:20.254Z"
   },
   {
    "duration": 122,
    "start_time": "2023-04-23T15:24:55.064Z"
   },
   {
    "duration": 181,
    "start_time": "2023-04-23T15:25:06.297Z"
   },
   {
    "duration": 205,
    "start_time": "2023-04-23T15:46:41.220Z"
   },
   {
    "duration": 175,
    "start_time": "2023-04-23T15:46:50.622Z"
   },
   {
    "duration": 243,
    "start_time": "2023-04-23T15:47:00.884Z"
   },
   {
    "duration": 199,
    "start_time": "2023-04-23T15:52:22.454Z"
   },
   {
    "duration": 133,
    "start_time": "2023-04-23T15:53:56.735Z"
   },
   {
    "duration": 658,
    "start_time": "2023-04-23T15:59:41.917Z"
   },
   {
    "duration": 80,
    "start_time": "2023-04-23T15:59:42.577Z"
   },
   {
    "duration": 13,
    "start_time": "2023-04-23T15:59:42.659Z"
   },
   {
    "duration": 16,
    "start_time": "2023-04-23T15:59:42.674Z"
   },
   {
    "duration": 36,
    "start_time": "2023-04-23T15:59:42.692Z"
   },
   {
    "duration": 21,
    "start_time": "2023-04-23T15:59:42.730Z"
   },
   {
    "duration": 30,
    "start_time": "2023-04-23T15:59:42.753Z"
   },
   {
    "duration": 19,
    "start_time": "2023-04-23T15:59:42.785Z"
   },
   {
    "duration": 5,
    "start_time": "2023-04-23T15:59:42.806Z"
   },
   {
    "duration": 5,
    "start_time": "2023-04-23T15:59:42.815Z"
   },
   {
    "duration": 12,
    "start_time": "2023-04-23T15:59:42.822Z"
   },
   {
    "duration": 28,
    "start_time": "2023-04-23T15:59:42.837Z"
   },
   {
    "duration": 38,
    "start_time": "2023-04-23T15:59:42.867Z"
   },
   {
    "duration": 16,
    "start_time": "2023-04-23T15:59:42.908Z"
   },
   {
    "duration": 10,
    "start_time": "2023-04-23T15:59:42.927Z"
   },
   {
    "duration": 96,
    "start_time": "2023-04-23T15:59:42.940Z"
   },
   {
    "duration": 12,
    "start_time": "2023-04-23T15:59:43.038Z"
   },
   {
    "duration": 9,
    "start_time": "2023-04-23T15:59:43.053Z"
   },
   {
    "duration": 9,
    "start_time": "2023-04-23T15:59:43.090Z"
   },
   {
    "duration": 12,
    "start_time": "2023-04-23T15:59:43.101Z"
   },
   {
    "duration": 223,
    "start_time": "2023-04-23T15:59:43.114Z"
   },
   {
    "duration": 151,
    "start_time": "2023-04-23T15:59:43.339Z"
   },
   {
    "duration": 14,
    "start_time": "2023-04-23T15:59:43.492Z"
   },
   {
    "duration": 7,
    "start_time": "2023-04-23T15:59:43.508Z"
   },
   {
    "duration": 336,
    "start_time": "2023-04-23T15:59:43.517Z"
   },
   {
    "duration": 215,
    "start_time": "2023-04-23T15:59:43.855Z"
   },
   {
    "duration": 358,
    "start_time": "2023-04-23T15:59:44.073Z"
   },
   {
    "duration": 83,
    "start_time": "2023-04-23T16:02:23.736Z"
   },
   {
    "duration": 11,
    "start_time": "2023-04-23T16:02:34.243Z"
   },
   {
    "duration": 303,
    "start_time": "2023-04-23T16:04:25.574Z"
   },
   {
    "duration": 145,
    "start_time": "2023-04-23T16:04:43.028Z"
   },
   {
    "duration": 14,
    "start_time": "2023-04-23T16:05:35.780Z"
   },
   {
    "duration": 288,
    "start_time": "2023-04-23T16:05:50.324Z"
   },
   {
    "duration": 179,
    "start_time": "2023-04-23T16:06:01.739Z"
   },
   {
    "duration": 18,
    "start_time": "2023-04-23T16:06:27.325Z"
   },
   {
    "duration": 8,
    "start_time": "2023-04-23T16:09:44.642Z"
   },
   {
    "duration": 150,
    "start_time": "2023-04-23T16:09:53.829Z"
   },
   {
    "duration": 717,
    "start_time": "2023-04-23T16:10:27.566Z"
   },
   {
    "duration": 82,
    "start_time": "2023-04-23T16:10:28.285Z"
   },
   {
    "duration": 13,
    "start_time": "2023-04-23T16:10:28.371Z"
   },
   {
    "duration": 13,
    "start_time": "2023-04-23T16:10:28.386Z"
   },
   {
    "duration": 20,
    "start_time": "2023-04-23T16:10:28.401Z"
   },
   {
    "duration": 13,
    "start_time": "2023-04-23T16:10:28.423Z"
   },
   {
    "duration": 17,
    "start_time": "2023-04-23T16:10:28.438Z"
   },
   {
    "duration": 38,
    "start_time": "2023-04-23T16:10:28.457Z"
   },
   {
    "duration": 15,
    "start_time": "2023-04-23T16:10:28.498Z"
   },
   {
    "duration": 9,
    "start_time": "2023-04-23T16:10:28.515Z"
   },
   {
    "duration": 11,
    "start_time": "2023-04-23T16:10:28.525Z"
   },
   {
    "duration": 11,
    "start_time": "2023-04-23T16:10:28.538Z"
   },
   {
    "duration": 18,
    "start_time": "2023-04-23T16:10:28.551Z"
   },
   {
    "duration": 30,
    "start_time": "2023-04-23T16:10:28.571Z"
   },
   {
    "duration": 10,
    "start_time": "2023-04-23T16:10:28.603Z"
   },
   {
    "duration": 85,
    "start_time": "2023-04-23T16:10:28.615Z"
   },
   {
    "duration": 9,
    "start_time": "2023-04-23T16:10:28.702Z"
   },
   {
    "duration": 10,
    "start_time": "2023-04-23T16:10:28.713Z"
   },
   {
    "duration": 10,
    "start_time": "2023-04-23T16:10:28.725Z"
   },
   {
    "duration": 17,
    "start_time": "2023-04-23T16:10:28.737Z"
   },
   {
    "duration": 200,
    "start_time": "2023-04-23T16:10:28.789Z"
   },
   {
    "duration": 151,
    "start_time": "2023-04-23T16:10:28.991Z"
   },
   {
    "duration": 14,
    "start_time": "2023-04-23T16:10:29.144Z"
   },
   {
    "duration": 29,
    "start_time": "2023-04-23T16:10:29.160Z"
   },
   {
    "duration": 302,
    "start_time": "2023-04-23T16:10:29.191Z"
   },
   {
    "duration": 224,
    "start_time": "2023-04-23T16:10:29.495Z"
   },
   {
    "duration": 301,
    "start_time": "2023-04-23T16:10:29.722Z"
   },
   {
    "duration": 360,
    "start_time": "2023-04-23T16:38:08.016Z"
   },
   {
    "duration": 437,
    "start_time": "2023-04-23T16:38:51.448Z"
   },
   {
    "duration": 331,
    "start_time": "2023-04-23T16:39:05.948Z"
   },
   {
    "duration": 343,
    "start_time": "2023-04-23T16:39:20.571Z"
   },
   {
    "duration": 210,
    "start_time": "2023-04-23T16:45:48.312Z"
   },
   {
    "duration": 238,
    "start_time": "2023-04-23T16:45:55.504Z"
   },
   {
    "duration": 276,
    "start_time": "2023-04-23T16:46:20.514Z"
   },
   {
    "duration": 410,
    "start_time": "2023-04-23T16:47:20.220Z"
   },
   {
    "duration": 390,
    "start_time": "2023-04-23T16:47:49.501Z"
   },
   {
    "duration": 388,
    "start_time": "2023-04-23T16:54:07.851Z"
   },
   {
    "duration": 308,
    "start_time": "2023-04-23T16:54:14.932Z"
   },
   {
    "duration": 560,
    "start_time": "2023-04-23T16:54:37.396Z"
   },
   {
    "duration": 366,
    "start_time": "2023-04-23T16:54:55.526Z"
   },
   {
    "duration": 360,
    "start_time": "2023-04-23T16:55:22.112Z"
   },
   {
    "duration": 390,
    "start_time": "2023-04-23T16:55:32.821Z"
   },
   {
    "duration": 379,
    "start_time": "2023-04-23T16:55:40.445Z"
   },
   {
    "duration": 761,
    "start_time": "2023-04-23T17:11:30.015Z"
   },
   {
    "duration": 85,
    "start_time": "2023-04-23T17:11:30.779Z"
   },
   {
    "duration": 15,
    "start_time": "2023-04-23T17:11:30.867Z"
   },
   {
    "duration": 49,
    "start_time": "2023-04-23T17:11:30.884Z"
   },
   {
    "duration": 50,
    "start_time": "2023-04-23T17:11:30.935Z"
   },
   {
    "duration": 51,
    "start_time": "2023-04-23T17:11:30.987Z"
   },
   {
    "duration": 66,
    "start_time": "2023-04-23T17:11:31.040Z"
   },
   {
    "duration": 58,
    "start_time": "2023-04-23T17:11:31.110Z"
   },
   {
    "duration": 33,
    "start_time": "2023-04-23T17:11:31.170Z"
   },
   {
    "duration": 37,
    "start_time": "2023-04-23T17:11:31.208Z"
   },
   {
    "duration": 58,
    "start_time": "2023-04-23T17:11:31.247Z"
   },
   {
    "duration": 29,
    "start_time": "2023-04-23T17:11:31.307Z"
   },
   {
    "duration": 63,
    "start_time": "2023-04-23T17:11:31.338Z"
   },
   {
    "duration": 32,
    "start_time": "2023-04-23T17:11:31.403Z"
   },
   {
    "duration": 44,
    "start_time": "2023-04-23T17:11:31.437Z"
   },
   {
    "duration": 75,
    "start_time": "2023-04-23T17:11:31.483Z"
   },
   {
    "duration": 9,
    "start_time": "2023-04-23T17:11:31.560Z"
   },
   {
    "duration": 45,
    "start_time": "2023-04-23T17:11:31.572Z"
   },
   {
    "duration": 45,
    "start_time": "2023-04-23T17:11:31.619Z"
   },
   {
    "duration": 72,
    "start_time": "2023-04-23T17:11:31.665Z"
   },
   {
    "duration": 260,
    "start_time": "2023-04-23T17:11:31.739Z"
   },
   {
    "duration": 165,
    "start_time": "2023-04-23T17:11:32.001Z"
   },
   {
    "duration": 30,
    "start_time": "2023-04-23T17:11:32.168Z"
   },
   {
    "duration": 10,
    "start_time": "2023-04-23T17:11:32.200Z"
   },
   {
    "duration": 331,
    "start_time": "2023-04-23T17:11:32.212Z"
   },
   {
    "duration": 232,
    "start_time": "2023-04-23T17:11:32.545Z"
   },
   {
    "duration": 356,
    "start_time": "2023-04-23T17:11:32.779Z"
   },
   {
    "duration": 357,
    "start_time": "2023-04-23T17:11:33.140Z"
   },
   {
    "duration": 350,
    "start_time": "2023-04-23T17:11:33.499Z"
   },
   {
    "duration": 86,
    "start_time": "2023-04-23T17:14:22.268Z"
   },
   {
    "duration": 171,
    "start_time": "2023-04-23T17:16:38.564Z"
   },
   {
    "duration": 184,
    "start_time": "2023-04-23T17:17:05.077Z"
   },
   {
    "duration": 9,
    "start_time": "2023-04-23T17:21:26.443Z"
   },
   {
    "duration": 158,
    "start_time": "2023-04-23T17:21:28.824Z"
   },
   {
    "duration": 18,
    "start_time": "2023-04-23T17:24:01.170Z"
   },
   {
    "duration": 15,
    "start_time": "2023-04-23T17:24:47.656Z"
   },
   {
    "duration": 10,
    "start_time": "2023-04-23T17:25:23.284Z"
   },
   {
    "duration": 216,
    "start_time": "2023-04-23T17:27:02.780Z"
   },
   {
    "duration": 326,
    "start_time": "2023-04-23T17:30:17.680Z"
   },
   {
    "duration": 318,
    "start_time": "2023-04-23T17:30:41.274Z"
   },
   {
    "duration": 372,
    "start_time": "2023-04-23T17:31:00.178Z"
   },
   {
    "duration": 326,
    "start_time": "2023-04-23T17:31:10.111Z"
   },
   {
    "duration": 9,
    "start_time": "2023-04-23T17:31:42.506Z"
   },
   {
    "duration": 186,
    "start_time": "2023-04-23T17:31:53.720Z"
   },
   {
    "duration": 221,
    "start_time": "2023-04-23T17:32:47.332Z"
   },
   {
    "duration": 11,
    "start_time": "2023-04-23T17:37:37.291Z"
   },
   {
    "duration": 12,
    "start_time": "2023-04-23T17:38:04.110Z"
   },
   {
    "duration": 9,
    "start_time": "2023-04-23T17:39:10.869Z"
   },
   {
    "duration": 120,
    "start_time": "2023-04-23T17:39:18.338Z"
   },
   {
    "duration": 143,
    "start_time": "2023-04-23T17:40:51.408Z"
   },
   {
    "duration": 10,
    "start_time": "2023-04-23T17:41:35.841Z"
   },
   {
    "duration": 206,
    "start_time": "2023-04-23T17:43:17.350Z"
   },
   {
    "duration": 5,
    "start_time": "2023-04-23T17:51:46.757Z"
   },
   {
    "duration": 7,
    "start_time": "2023-04-23T17:52:27.466Z"
   },
   {
    "duration": 141,
    "start_time": "2023-04-23T18:00:50.720Z"
   },
   {
    "duration": 880,
    "start_time": "2023-04-23T18:06:21.589Z"
   },
   {
    "duration": 150,
    "start_time": "2023-04-23T18:09:45.028Z"
   },
   {
    "duration": 174,
    "start_time": "2023-04-23T18:10:17.973Z"
   },
   {
    "duration": 165,
    "start_time": "2023-04-23T18:10:38.553Z"
   },
   {
    "duration": 185,
    "start_time": "2023-04-23T18:10:47.976Z"
   },
   {
    "duration": 181,
    "start_time": "2023-04-23T18:11:39.164Z"
   },
   {
    "duration": 200,
    "start_time": "2023-04-23T18:13:00.728Z"
   },
   {
    "duration": 229,
    "start_time": "2023-04-23T18:15:11.052Z"
   },
   {
    "duration": 167,
    "start_time": "2023-04-23T18:18:06.873Z"
   },
   {
    "duration": 160,
    "start_time": "2023-04-23T18:19:21.207Z"
   },
   {
    "duration": 171,
    "start_time": "2023-04-23T18:20:07.678Z"
   },
   {
    "duration": 171,
    "start_time": "2023-04-23T18:20:35.178Z"
   },
   {
    "duration": 161,
    "start_time": "2023-04-23T18:21:55.118Z"
   },
   {
    "duration": 159,
    "start_time": "2023-04-23T18:22:04.122Z"
   },
   {
    "duration": 155,
    "start_time": "2023-04-23T18:22:08.831Z"
   },
   {
    "duration": 169,
    "start_time": "2023-04-23T18:22:20.561Z"
   },
   {
    "duration": 152,
    "start_time": "2023-04-23T18:22:29.712Z"
   },
   {
    "duration": 12,
    "start_time": "2023-04-23T18:26:37.975Z"
   },
   {
    "duration": 10,
    "start_time": "2023-04-23T18:28:26.727Z"
   },
   {
    "duration": 8,
    "start_time": "2023-04-23T18:30:49.326Z"
   },
   {
    "duration": 165,
    "start_time": "2023-04-23T18:31:02.696Z"
   },
   {
    "duration": 348,
    "start_time": "2023-04-23T18:31:20.272Z"
   },
   {
    "duration": 10,
    "start_time": "2023-04-23T18:32:15.729Z"
   },
   {
    "duration": 174,
    "start_time": "2023-04-23T18:32:17.472Z"
   },
   {
    "duration": 169,
    "start_time": "2023-04-23T18:32:31.131Z"
   },
   {
    "duration": 151,
    "start_time": "2023-04-23T18:32:57.214Z"
   },
   {
    "duration": 182,
    "start_time": "2023-04-23T18:33:02.970Z"
   },
   {
    "duration": 166,
    "start_time": "2023-04-23T18:33:28.653Z"
   },
   {
    "duration": 9,
    "start_time": "2023-04-23T18:35:21.346Z"
   },
   {
    "duration": 183,
    "start_time": "2023-04-23T18:42:13.255Z"
   },
   {
    "duration": 193,
    "start_time": "2023-04-23T18:42:55.615Z"
   },
   {
    "duration": 176,
    "start_time": "2023-04-23T18:43:09.345Z"
   },
   {
    "duration": 176,
    "start_time": "2023-04-23T18:43:24.443Z"
   },
   {
    "duration": 167,
    "start_time": "2023-04-23T18:45:43.653Z"
   },
   {
    "duration": 238,
    "start_time": "2023-04-23T18:46:29.121Z"
   },
   {
    "duration": 155,
    "start_time": "2023-04-23T18:46:46.826Z"
   },
   {
    "duration": 10,
    "start_time": "2023-04-23T18:47:05.225Z"
   },
   {
    "duration": 13,
    "start_time": "2023-04-23T19:31:03.832Z"
   },
   {
    "duration": 16,
    "start_time": "2023-04-23T19:31:07.983Z"
   },
   {
    "duration": 25,
    "start_time": "2023-04-23T19:46:15.456Z"
   },
   {
    "duration": 122,
    "start_time": "2023-04-23T19:46:36.222Z"
   },
   {
    "duration": 256,
    "start_time": "2023-04-23T19:46:55.589Z"
   },
   {
    "duration": 253,
    "start_time": "2023-04-23T19:47:19.624Z"
   },
   {
    "duration": 6,
    "start_time": "2023-04-23T19:47:32.240Z"
   },
   {
    "duration": 8,
    "start_time": "2023-04-23T19:47:39.872Z"
   },
   {
    "duration": 159,
    "start_time": "2023-04-23T20:44:21.193Z"
   },
   {
    "duration": 146,
    "start_time": "2023-04-23T20:44:25.581Z"
   },
   {
    "duration": 173,
    "start_time": "2023-04-23T20:44:46.286Z"
   },
   {
    "duration": 138,
    "start_time": "2023-04-23T20:44:53.450Z"
   },
   {
    "duration": 10,
    "start_time": "2023-04-23T20:47:24.557Z"
   },
   {
    "duration": 11,
    "start_time": "2023-04-23T20:47:41.122Z"
   },
   {
    "duration": 13,
    "start_time": "2023-04-23T20:48:57.022Z"
   },
   {
    "duration": 8,
    "start_time": "2023-04-23T20:49:06.446Z"
   },
   {
    "duration": 9,
    "start_time": "2023-04-23T20:54:04.921Z"
   },
   {
    "duration": 461,
    "start_time": "2023-04-23T20:54:29.158Z"
   },
   {
    "duration": 25,
    "start_time": "2023-04-23T20:54:37.648Z"
   },
   {
    "duration": 23,
    "start_time": "2023-04-23T21:10:43.803Z"
   },
   {
    "duration": 53,
    "start_time": "2023-04-23T21:13:11.968Z"
   },
   {
    "duration": 12,
    "start_time": "2023-04-23T21:14:05.567Z"
   },
   {
    "duration": 150,
    "start_time": "2023-04-23T21:34:02.475Z"
   },
   {
    "duration": 6,
    "start_time": "2023-04-23T21:34:03.869Z"
   },
   {
    "duration": 22,
    "start_time": "2023-04-23T21:34:07.049Z"
   },
   {
    "duration": 16,
    "start_time": "2023-04-23T21:34:10.229Z"
   },
   {
    "duration": 11,
    "start_time": "2023-04-23T21:35:07.564Z"
   },
   {
    "duration": 8,
    "start_time": "2023-04-23T21:39:17.332Z"
   },
   {
    "duration": 37,
    "start_time": "2023-04-23T21:39:58.652Z"
   },
   {
    "duration": 27,
    "start_time": "2023-04-23T21:40:22.400Z"
   },
   {
    "duration": 16,
    "start_time": "2023-04-23T21:48:48.647Z"
   },
   {
    "duration": 62,
    "start_time": "2023-04-24T07:50:14.651Z"
   },
   {
    "duration": 1223,
    "start_time": "2023-04-24T07:50:46.806Z"
   },
   {
    "duration": 190,
    "start_time": "2023-04-24T07:50:48.031Z"
   },
   {
    "duration": 12,
    "start_time": "2023-04-24T07:50:48.222Z"
   },
   {
    "duration": 30,
    "start_time": "2023-04-24T07:50:48.236Z"
   },
   {
    "duration": 68,
    "start_time": "2023-04-24T07:50:48.267Z"
   },
   {
    "duration": 62,
    "start_time": "2023-04-24T07:50:48.337Z"
   },
   {
    "duration": 66,
    "start_time": "2023-04-24T07:50:48.401Z"
   },
   {
    "duration": 53,
    "start_time": "2023-04-24T07:50:48.468Z"
   },
   {
    "duration": 49,
    "start_time": "2023-04-24T07:50:48.523Z"
   },
   {
    "duration": 28,
    "start_time": "2023-04-24T07:50:48.574Z"
   },
   {
    "duration": 60,
    "start_time": "2023-04-24T07:50:48.604Z"
   },
   {
    "duration": 57,
    "start_time": "2023-04-24T07:50:48.666Z"
   },
   {
    "duration": 68,
    "start_time": "2023-04-24T07:50:48.725Z"
   },
   {
    "duration": 53,
    "start_time": "2023-04-24T07:50:48.794Z"
   },
   {
    "duration": 39,
    "start_time": "2023-04-24T07:50:48.848Z"
   },
   {
    "duration": 72,
    "start_time": "2023-04-24T07:50:48.889Z"
   },
   {
    "duration": 34,
    "start_time": "2023-04-24T07:50:48.963Z"
   },
   {
    "duration": 47,
    "start_time": "2023-04-24T07:50:48.999Z"
   },
   {
    "duration": 47,
    "start_time": "2023-04-24T07:50:49.048Z"
   },
   {
    "duration": 63,
    "start_time": "2023-04-24T07:50:49.096Z"
   },
   {
    "duration": 189,
    "start_time": "2023-04-24T07:50:49.160Z"
   },
   {
    "duration": 122,
    "start_time": "2023-04-24T07:50:49.350Z"
   },
   {
    "duration": 11,
    "start_time": "2023-04-24T07:50:49.474Z"
   },
   {
    "duration": 54,
    "start_time": "2023-04-24T07:50:49.487Z"
   },
   {
    "duration": 308,
    "start_time": "2023-04-24T07:50:49.542Z"
   },
   {
    "duration": 187,
    "start_time": "2023-04-24T07:50:49.851Z"
   },
   {
    "duration": 356,
    "start_time": "2023-04-24T07:50:50.040Z"
   },
   {
    "duration": 226,
    "start_time": "2023-04-24T07:50:50.400Z"
   },
   {
    "duration": 286,
    "start_time": "2023-04-24T07:50:50.628Z"
   },
   {
    "duration": 7,
    "start_time": "2023-04-24T07:50:50.916Z"
   },
   {
    "duration": 141,
    "start_time": "2023-04-24T07:50:50.925Z"
   },
   {
    "duration": 135,
    "start_time": "2023-04-24T07:50:51.067Z"
   },
   {
    "duration": 6,
    "start_time": "2023-04-24T07:50:51.203Z"
   },
   {
    "duration": 151,
    "start_time": "2023-04-24T07:50:51.211Z"
   },
   {
    "duration": 146,
    "start_time": "2023-04-24T07:50:51.363Z"
   },
   {
    "duration": 185,
    "start_time": "2023-04-24T07:50:51.510Z"
   },
   {
    "duration": 8,
    "start_time": "2023-04-24T07:50:51.696Z"
   },
   {
    "duration": 221,
    "start_time": "2023-04-24T07:50:51.706Z"
   },
   {
    "duration": 144,
    "start_time": "2023-04-24T07:50:51.929Z"
   },
   {
    "duration": 6,
    "start_time": "2023-04-24T07:50:52.075Z"
   },
   {
    "duration": 64,
    "start_time": "2023-04-24T07:50:52.082Z"
   },
   {
    "duration": 53,
    "start_time": "2023-04-24T07:50:52.147Z"
   },
   {
    "duration": 53,
    "start_time": "2023-04-24T07:50:52.201Z"
   },
   {
    "duration": 60,
    "start_time": "2023-04-24T07:50:52.256Z"
   },
   {
    "duration": 53,
    "start_time": "2023-04-24T07:50:52.317Z"
   },
   {
    "duration": 78,
    "start_time": "2023-04-24T07:50:52.371Z"
   },
   {
    "duration": 0,
    "start_time": "2023-04-24T07:50:52.451Z"
   },
   {
    "duration": 18,
    "start_time": "2023-04-24T07:54:15.278Z"
   },
   {
    "duration": 258,
    "start_time": "2023-04-24T08:10:28.420Z"
   },
   {
    "duration": 261,
    "start_time": "2023-04-24T08:10:59.846Z"
   },
   {
    "duration": 262,
    "start_time": "2023-04-24T08:11:18.557Z"
   },
   {
    "duration": 266,
    "start_time": "2023-04-24T08:11:32.074Z"
   },
   {
    "duration": 264,
    "start_time": "2023-04-24T08:12:06.097Z"
   },
   {
    "duration": 262,
    "start_time": "2023-04-24T08:12:15.409Z"
   },
   {
    "duration": 290,
    "start_time": "2023-04-24T08:12:44.605Z"
   },
   {
    "duration": 104,
    "start_time": "2023-04-24T08:12:51.190Z"
   },
   {
    "duration": 260,
    "start_time": "2023-04-24T08:12:54.910Z"
   },
   {
    "duration": 329,
    "start_time": "2023-04-24T08:13:01.189Z"
   },
   {
    "duration": 273,
    "start_time": "2023-04-24T08:13:45.954Z"
   },
   {
    "duration": 265,
    "start_time": "2023-04-24T08:13:50.041Z"
   },
   {
    "duration": 253,
    "start_time": "2023-04-24T08:16:04.933Z"
   },
   {
    "duration": 242,
    "start_time": "2023-04-24T08:16:13.574Z"
   },
   {
    "duration": 184,
    "start_time": "2023-04-24T08:20:50.080Z"
   },
   {
    "duration": 66,
    "start_time": "2023-04-24T08:26:10.769Z"
   },
   {
    "duration": 7,
    "start_time": "2023-04-24T08:26:51.844Z"
   },
   {
    "duration": 15,
    "start_time": "2023-04-24T08:27:41.043Z"
   },
   {
    "duration": 7,
    "start_time": "2023-04-24T08:27:54.976Z"
   },
   {
    "duration": 10,
    "start_time": "2023-04-24T08:36:32.210Z"
   },
   {
    "duration": 13,
    "start_time": "2023-04-24T08:36:54.375Z"
   },
   {
    "duration": 13,
    "start_time": "2023-04-24T08:37:33.076Z"
   },
   {
    "duration": 193,
    "start_time": "2023-04-24T10:00:11.249Z"
   },
   {
    "duration": 176,
    "start_time": "2023-04-24T10:00:13.548Z"
   },
   {
    "duration": 171,
    "start_time": "2023-04-24T10:00:56.433Z"
   },
   {
    "duration": 262,
    "start_time": "2023-04-24T10:04:53.101Z"
   },
   {
    "duration": 254,
    "start_time": "2023-04-24T10:06:21.481Z"
   },
   {
    "duration": 302,
    "start_time": "2023-04-24T10:09:19.849Z"
   },
   {
    "duration": 13,
    "start_time": "2023-04-24T10:10:31.360Z"
   },
   {
    "duration": 9,
    "start_time": "2023-04-24T10:10:40.495Z"
   },
   {
    "duration": 281,
    "start_time": "2023-04-24T10:30:45.368Z"
   },
   {
    "duration": 6,
    "start_time": "2023-04-24T10:34:08.636Z"
   },
   {
    "duration": 24,
    "start_time": "2023-04-24T10:40:24.523Z"
   },
   {
    "duration": 2094,
    "start_time": "2023-04-24T10:47:51.015Z"
   },
   {
    "duration": 13,
    "start_time": "2023-04-24T10:50:55.941Z"
   },
   {
    "duration": 1017,
    "start_time": "2023-04-24T16:38:01.008Z"
   },
   {
    "duration": 76,
    "start_time": "2023-04-24T16:38:02.027Z"
   },
   {
    "duration": 11,
    "start_time": "2023-04-24T16:38:02.105Z"
   },
   {
    "duration": 49,
    "start_time": "2023-04-24T16:38:02.118Z"
   },
   {
    "duration": 46,
    "start_time": "2023-04-24T16:38:02.168Z"
   },
   {
    "duration": 48,
    "start_time": "2023-04-24T16:38:02.216Z"
   },
   {
    "duration": 45,
    "start_time": "2023-04-24T16:38:02.266Z"
   },
   {
    "duration": 41,
    "start_time": "2023-04-24T16:38:02.313Z"
   },
   {
    "duration": 108,
    "start_time": "2023-04-24T16:38:02.356Z"
   },
   {
    "duration": 22,
    "start_time": "2023-04-24T16:38:02.467Z"
   },
   {
    "duration": 25,
    "start_time": "2023-04-24T16:38:02.491Z"
   },
   {
    "duration": 40,
    "start_time": "2023-04-24T16:38:02.517Z"
   },
   {
    "duration": 38,
    "start_time": "2023-04-24T16:38:02.558Z"
   },
   {
    "duration": 66,
    "start_time": "2023-04-24T16:38:02.597Z"
   },
   {
    "duration": 63,
    "start_time": "2023-04-24T16:38:02.664Z"
   },
   {
    "duration": 52,
    "start_time": "2023-04-24T16:38:02.729Z"
   },
   {
    "duration": 8,
    "start_time": "2023-04-24T16:38:02.782Z"
   },
   {
    "duration": 74,
    "start_time": "2023-04-24T16:38:02.792Z"
   },
   {
    "duration": 13,
    "start_time": "2023-04-24T16:38:02.868Z"
   },
   {
    "duration": 47,
    "start_time": "2023-04-24T16:38:02.882Z"
   },
   {
    "duration": 194,
    "start_time": "2023-04-24T16:38:02.930Z"
   },
   {
    "duration": 124,
    "start_time": "2023-04-24T16:38:03.125Z"
   },
   {
    "duration": 12,
    "start_time": "2023-04-24T16:38:03.251Z"
   },
   {
    "duration": 10,
    "start_time": "2023-04-24T16:38:03.264Z"
   },
   {
    "duration": 274,
    "start_time": "2023-04-24T16:38:03.276Z"
   },
   {
    "duration": 207,
    "start_time": "2023-04-24T16:38:03.552Z"
   },
   {
    "duration": 535,
    "start_time": "2023-04-24T16:38:03.760Z"
   },
   {
    "duration": 441,
    "start_time": "2023-04-24T16:38:04.348Z"
   },
   {
    "duration": 470,
    "start_time": "2023-04-24T16:38:04.790Z"
   },
   {
    "duration": 6,
    "start_time": "2023-04-24T16:38:05.262Z"
   },
   {
    "duration": 292,
    "start_time": "2023-04-24T16:38:05.269Z"
   },
   {
    "duration": 324,
    "start_time": "2023-04-24T16:38:05.562Z"
   },
   {
    "duration": 63,
    "start_time": "2023-04-24T16:38:05.887Z"
   },
   {
    "duration": 149,
    "start_time": "2023-04-24T16:38:05.952Z"
   },
   {
    "duration": 216,
    "start_time": "2023-04-24T16:38:06.102Z"
   },
   {
    "duration": 149,
    "start_time": "2023-04-24T16:38:06.320Z"
   },
   {
    "duration": 9,
    "start_time": "2023-04-24T16:38:06.471Z"
   },
   {
    "duration": 226,
    "start_time": "2023-04-24T16:38:06.482Z"
   },
   {
    "duration": 143,
    "start_time": "2023-04-24T16:38:06.710Z"
   },
   {
    "duration": 6,
    "start_time": "2023-04-24T16:38:06.854Z"
   },
   {
    "duration": 24,
    "start_time": "2023-04-24T16:38:06.861Z"
   },
   {
    "duration": 8,
    "start_time": "2023-04-24T16:38:06.887Z"
   },
   {
    "duration": 9,
    "start_time": "2023-04-24T16:38:06.897Z"
   },
   {
    "duration": 10,
    "start_time": "2023-04-24T16:38:06.908Z"
   },
   {
    "duration": 71,
    "start_time": "2023-04-24T16:38:06.920Z"
   },
   {
    "duration": 16,
    "start_time": "2023-04-24T16:38:06.993Z"
   },
   {
    "duration": 142,
    "start_time": "2023-04-24T16:45:11.922Z"
   },
   {
    "duration": 1114,
    "start_time": "2023-04-24T17:06:48.186Z"
   },
   {
    "duration": 90,
    "start_time": "2023-04-24T17:06:49.302Z"
   },
   {
    "duration": 17,
    "start_time": "2023-04-24T17:06:49.394Z"
   },
   {
    "duration": 66,
    "start_time": "2023-04-24T17:06:49.413Z"
   },
   {
    "duration": 16,
    "start_time": "2023-04-24T17:06:49.481Z"
   },
   {
    "duration": 16,
    "start_time": "2023-04-24T17:06:49.499Z"
   },
   {
    "duration": 23,
    "start_time": "2023-04-24T17:06:49.517Z"
   },
   {
    "duration": 12,
    "start_time": "2023-04-24T17:06:49.542Z"
   },
   {
    "duration": 28,
    "start_time": "2023-04-24T17:06:49.555Z"
   },
   {
    "duration": 4,
    "start_time": "2023-04-24T17:06:49.585Z"
   },
   {
    "duration": 10,
    "start_time": "2023-04-24T17:06:49.591Z"
   },
   {
    "duration": 15,
    "start_time": "2023-04-24T17:06:49.602Z"
   },
   {
    "duration": 14,
    "start_time": "2023-04-24T17:06:49.619Z"
   },
   {
    "duration": 20,
    "start_time": "2023-04-24T17:06:49.637Z"
   },
   {
    "duration": 27,
    "start_time": "2023-04-24T17:06:49.659Z"
   },
   {
    "duration": 47,
    "start_time": "2023-04-24T17:06:49.688Z"
   },
   {
    "duration": 10,
    "start_time": "2023-04-24T17:06:49.737Z"
   },
   {
    "duration": 102,
    "start_time": "2023-04-24T17:06:49.749Z"
   },
   {
    "duration": 28,
    "start_time": "2023-04-24T17:06:49.852Z"
   },
   {
    "duration": 23,
    "start_time": "2023-04-24T17:06:49.882Z"
   },
   {
    "duration": 198,
    "start_time": "2023-04-24T17:06:49.906Z"
   },
   {
    "duration": 155,
    "start_time": "2023-04-24T17:06:50.106Z"
   },
   {
    "duration": 15,
    "start_time": "2023-04-24T17:06:50.262Z"
   },
   {
    "duration": 16,
    "start_time": "2023-04-24T17:06:50.278Z"
   },
   {
    "duration": 279,
    "start_time": "2023-04-24T17:06:50.296Z"
   },
   {
    "duration": 207,
    "start_time": "2023-04-24T17:06:50.578Z"
   },
   {
    "duration": 279,
    "start_time": "2023-04-24T17:06:50.787Z"
   },
   {
    "duration": 220,
    "start_time": "2023-04-24T17:06:51.068Z"
   },
   {
    "duration": 310,
    "start_time": "2023-04-24T17:06:51.291Z"
   },
   {
    "duration": 9,
    "start_time": "2023-04-24T17:06:51.603Z"
   },
   {
    "duration": 145,
    "start_time": "2023-04-24T17:06:51.613Z"
   },
   {
    "duration": 134,
    "start_time": "2023-04-24T17:06:51.760Z"
   },
   {
    "duration": 7,
    "start_time": "2023-04-24T17:06:51.896Z"
   },
   {
    "duration": 170,
    "start_time": "2023-04-24T17:06:51.905Z"
   },
   {
    "duration": 230,
    "start_time": "2023-04-24T17:06:52.077Z"
   },
   {
    "duration": 146,
    "start_time": "2023-04-24T17:06:52.309Z"
   },
   {
    "duration": 9,
    "start_time": "2023-04-24T17:06:52.457Z"
   },
   {
    "duration": 238,
    "start_time": "2023-04-24T17:06:52.468Z"
   },
   {
    "duration": 158,
    "start_time": "2023-04-24T17:06:52.708Z"
   },
   {
    "duration": 6,
    "start_time": "2023-04-24T17:06:52.868Z"
   },
   {
    "duration": 46,
    "start_time": "2023-04-24T17:06:52.877Z"
   },
   {
    "duration": 13,
    "start_time": "2023-04-24T17:06:52.925Z"
   },
   {
    "duration": 13,
    "start_time": "2023-04-24T17:06:52.939Z"
   },
   {
    "duration": 49,
    "start_time": "2023-04-24T17:06:52.954Z"
   },
   {
    "duration": 68,
    "start_time": "2023-04-24T17:06:53.004Z"
   },
   {
    "duration": 38,
    "start_time": "2023-04-24T17:06:53.075Z"
   },
   {
    "duration": 4,
    "start_time": "2023-04-24T20:12:56.300Z"
   },
   {
    "duration": 115,
    "start_time": "2023-04-24T20:13:23.998Z"
   },
   {
    "duration": 108,
    "start_time": "2023-04-24T20:13:28.914Z"
   },
   {
    "duration": 5,
    "start_time": "2023-04-24T20:13:33.436Z"
   },
   {
    "duration": 11,
    "start_time": "2023-04-24T20:14:26.079Z"
   },
   {
    "duration": 9,
    "start_time": "2023-04-24T20:15:45.412Z"
   },
   {
    "duration": 7,
    "start_time": "2023-04-24T20:16:21.130Z"
   },
   {
    "duration": 18,
    "start_time": "2023-04-24T20:16:23.874Z"
   },
   {
    "duration": 1145,
    "start_time": "2023-04-24T20:16:52.870Z"
   },
   {
    "duration": 110,
    "start_time": "2023-04-24T20:16:54.017Z"
   },
   {
    "duration": 10,
    "start_time": "2023-04-24T20:16:54.129Z"
   },
   {
    "duration": 42,
    "start_time": "2023-04-24T20:16:54.141Z"
   },
   {
    "duration": 16,
    "start_time": "2023-04-24T20:16:54.188Z"
   },
   {
    "duration": 14,
    "start_time": "2023-04-24T20:16:54.206Z"
   },
   {
    "duration": 10,
    "start_time": "2023-04-24T20:16:54.222Z"
   },
   {
    "duration": 25,
    "start_time": "2023-04-24T20:16:54.234Z"
   },
   {
    "duration": 27,
    "start_time": "2023-04-24T20:16:54.268Z"
   },
   {
    "duration": 7,
    "start_time": "2023-04-24T20:16:54.297Z"
   },
   {
    "duration": 9,
    "start_time": "2023-04-24T20:16:54.306Z"
   },
   {
    "duration": 22,
    "start_time": "2023-04-24T20:16:54.317Z"
   },
   {
    "duration": 61,
    "start_time": "2023-04-24T20:16:54.340Z"
   },
   {
    "duration": 13,
    "start_time": "2023-04-24T20:16:54.404Z"
   },
   {
    "duration": 6,
    "start_time": "2023-04-24T20:16:54.419Z"
   },
   {
    "duration": 65,
    "start_time": "2023-04-24T20:16:54.427Z"
   },
   {
    "duration": 8,
    "start_time": "2023-04-24T20:16:54.494Z"
   },
   {
    "duration": 16,
    "start_time": "2023-04-24T20:16:54.504Z"
   },
   {
    "duration": 7,
    "start_time": "2023-04-24T20:16:54.522Z"
   },
   {
    "duration": 96,
    "start_time": "2023-04-24T20:16:54.530Z"
   },
   {
    "duration": 0,
    "start_time": "2023-04-24T20:16:54.628Z"
   },
   {
    "duration": 0,
    "start_time": "2023-04-24T20:16:54.630Z"
   },
   {
    "duration": 0,
    "start_time": "2023-04-24T20:16:54.631Z"
   },
   {
    "duration": 0,
    "start_time": "2023-04-24T20:16:54.632Z"
   },
   {
    "duration": 0,
    "start_time": "2023-04-24T20:16:54.633Z"
   },
   {
    "duration": 0,
    "start_time": "2023-04-24T20:16:54.634Z"
   },
   {
    "duration": 0,
    "start_time": "2023-04-24T20:16:54.635Z"
   },
   {
    "duration": 0,
    "start_time": "2023-04-24T20:16:54.636Z"
   },
   {
    "duration": 0,
    "start_time": "2023-04-24T20:16:54.637Z"
   },
   {
    "duration": 0,
    "start_time": "2023-04-24T20:16:54.638Z"
   },
   {
    "duration": 0,
    "start_time": "2023-04-24T20:16:54.639Z"
   },
   {
    "duration": 0,
    "start_time": "2023-04-24T20:16:54.639Z"
   },
   {
    "duration": 0,
    "start_time": "2023-04-24T20:16:54.644Z"
   },
   {
    "duration": 0,
    "start_time": "2023-04-24T20:16:54.646Z"
   },
   {
    "duration": 0,
    "start_time": "2023-04-24T20:16:54.648Z"
   },
   {
    "duration": 0,
    "start_time": "2023-04-24T20:16:54.648Z"
   },
   {
    "duration": 0,
    "start_time": "2023-04-24T20:16:54.649Z"
   },
   {
    "duration": 0,
    "start_time": "2023-04-24T20:16:54.650Z"
   },
   {
    "duration": 1,
    "start_time": "2023-04-24T20:16:54.656Z"
   },
   {
    "duration": 0,
    "start_time": "2023-04-24T20:16:54.657Z"
   },
   {
    "duration": 0,
    "start_time": "2023-04-24T20:16:54.658Z"
   },
   {
    "duration": 0,
    "start_time": "2023-04-24T20:16:54.658Z"
   },
   {
    "duration": 0,
    "start_time": "2023-04-24T20:16:54.659Z"
   },
   {
    "duration": 0,
    "start_time": "2023-04-24T20:16:54.660Z"
   },
   {
    "duration": 0,
    "start_time": "2023-04-24T20:16:54.660Z"
   },
   {
    "duration": 0,
    "start_time": "2023-04-24T20:16:54.661Z"
   },
   {
    "duration": 0,
    "start_time": "2023-04-24T20:16:54.662Z"
   },
   {
    "duration": 0,
    "start_time": "2023-04-24T20:16:54.662Z"
   },
   {
    "duration": 0,
    "start_time": "2023-04-24T20:16:54.667Z"
   },
   {
    "duration": 0,
    "start_time": "2023-04-24T20:16:54.668Z"
   },
   {
    "duration": 0,
    "start_time": "2023-04-24T20:16:54.669Z"
   },
   {
    "duration": 6,
    "start_time": "2023-04-24T20:34:48.446Z"
   },
   {
    "duration": 6,
    "start_time": "2023-04-24T20:36:24.905Z"
   },
   {
    "duration": 6,
    "start_time": "2023-04-24T20:37:31.301Z"
   },
   {
    "duration": 26,
    "start_time": "2023-04-24T20:38:07.571Z"
   },
   {
    "duration": 12,
    "start_time": "2023-04-24T20:40:48.871Z"
   },
   {
    "duration": 8,
    "start_time": "2023-04-24T20:42:33.117Z"
   },
   {
    "duration": 6,
    "start_time": "2023-04-24T20:46:42.474Z"
   },
   {
    "duration": 5,
    "start_time": "2023-04-24T20:46:45.139Z"
   },
   {
    "duration": 27,
    "start_time": "2023-04-24T20:46:58.145Z"
   },
   {
    "duration": 9,
    "start_time": "2023-04-24T20:49:21.484Z"
   },
   {
    "duration": 11,
    "start_time": "2023-04-24T20:49:41.923Z"
   },
   {
    "duration": 5,
    "start_time": "2023-04-24T20:49:50.840Z"
   },
   {
    "duration": 25,
    "start_time": "2023-04-24T20:50:05.346Z"
   },
   {
    "duration": 6,
    "start_time": "2023-04-24T20:50:06.799Z"
   },
   {
    "duration": 10,
    "start_time": "2023-04-24T21:01:39.646Z"
   },
   {
    "duration": 139,
    "start_time": "2023-04-24T21:05:13.947Z"
   },
   {
    "duration": 6,
    "start_time": "2023-04-24T21:05:19.996Z"
   },
   {
    "duration": 6,
    "start_time": "2023-04-24T21:05:49.635Z"
   },
   {
    "duration": 6,
    "start_time": "2023-04-24T21:05:59.605Z"
   },
   {
    "duration": 6,
    "start_time": "2023-04-24T21:06:05.713Z"
   },
   {
    "duration": 1185,
    "start_time": "2023-04-24T21:06:26.789Z"
   },
   {
    "duration": 98,
    "start_time": "2023-04-24T21:06:27.978Z"
   },
   {
    "duration": 11,
    "start_time": "2023-04-24T21:06:28.080Z"
   },
   {
    "duration": 27,
    "start_time": "2023-04-24T21:06:28.092Z"
   },
   {
    "duration": 21,
    "start_time": "2023-04-24T21:06:28.120Z"
   },
   {
    "duration": 46,
    "start_time": "2023-04-24T21:06:28.142Z"
   },
   {
    "duration": 12,
    "start_time": "2023-04-24T21:06:28.190Z"
   },
   {
    "duration": 25,
    "start_time": "2023-04-24T21:06:28.204Z"
   },
   {
    "duration": 4,
    "start_time": "2023-04-24T21:06:28.232Z"
   },
   {
    "duration": 47,
    "start_time": "2023-04-24T21:06:28.238Z"
   },
   {
    "duration": 14,
    "start_time": "2023-04-24T21:06:28.286Z"
   },
   {
    "duration": 20,
    "start_time": "2023-04-24T21:06:28.301Z"
   },
   {
    "duration": 19,
    "start_time": "2023-04-24T21:06:28.322Z"
   },
   {
    "duration": 30,
    "start_time": "2023-04-24T21:06:28.342Z"
   },
   {
    "duration": 42,
    "start_time": "2023-04-24T21:06:28.374Z"
   },
   {
    "duration": 61,
    "start_time": "2023-04-24T21:06:28.418Z"
   },
   {
    "duration": 9,
    "start_time": "2023-04-24T21:06:28.481Z"
   },
   {
    "duration": 31,
    "start_time": "2023-04-24T21:06:28.491Z"
   },
   {
    "duration": 51,
    "start_time": "2023-04-24T21:06:28.524Z"
   },
   {
    "duration": 19,
    "start_time": "2023-04-24T21:06:28.577Z"
   },
   {
    "duration": 22,
    "start_time": "2023-04-24T21:06:28.597Z"
   },
   {
    "duration": 22,
    "start_time": "2023-04-24T21:06:28.620Z"
   },
   {
    "duration": 163,
    "start_time": "2023-04-24T21:06:28.643Z"
   },
   {
    "duration": 0,
    "start_time": "2023-04-24T21:06:28.808Z"
   },
   {
    "duration": 0,
    "start_time": "2023-04-24T21:06:28.809Z"
   },
   {
    "duration": 0,
    "start_time": "2023-04-24T21:06:28.810Z"
   },
   {
    "duration": 0,
    "start_time": "2023-04-24T21:06:28.811Z"
   },
   {
    "duration": 0,
    "start_time": "2023-04-24T21:06:28.812Z"
   },
   {
    "duration": 0,
    "start_time": "2023-04-24T21:06:28.813Z"
   },
   {
    "duration": 0,
    "start_time": "2023-04-24T21:06:28.813Z"
   },
   {
    "duration": 0,
    "start_time": "2023-04-24T21:06:28.815Z"
   },
   {
    "duration": 0,
    "start_time": "2023-04-24T21:06:28.816Z"
   },
   {
    "duration": 0,
    "start_time": "2023-04-24T21:06:28.817Z"
   },
   {
    "duration": 0,
    "start_time": "2023-04-24T21:06:28.818Z"
   },
   {
    "duration": 0,
    "start_time": "2023-04-24T21:06:28.819Z"
   },
   {
    "duration": 1,
    "start_time": "2023-04-24T21:06:28.820Z"
   },
   {
    "duration": 0,
    "start_time": "2023-04-24T21:06:28.822Z"
   },
   {
    "duration": 0,
    "start_time": "2023-04-24T21:06:28.823Z"
   },
   {
    "duration": 0,
    "start_time": "2023-04-24T21:06:28.823Z"
   },
   {
    "duration": 0,
    "start_time": "2023-04-24T21:06:28.825Z"
   },
   {
    "duration": 0,
    "start_time": "2023-04-24T21:06:28.826Z"
   },
   {
    "duration": 0,
    "start_time": "2023-04-24T21:06:28.855Z"
   },
   {
    "duration": 0,
    "start_time": "2023-04-24T21:06:28.856Z"
   },
   {
    "duration": 0,
    "start_time": "2023-04-24T21:06:28.864Z"
   },
   {
    "duration": 0,
    "start_time": "2023-04-24T21:06:28.865Z"
   },
   {
    "duration": 0,
    "start_time": "2023-04-24T21:06:28.866Z"
   },
   {
    "duration": 0,
    "start_time": "2023-04-24T21:06:28.867Z"
   },
   {
    "duration": 0,
    "start_time": "2023-04-24T21:06:28.868Z"
   },
   {
    "duration": 1,
    "start_time": "2023-04-24T21:06:28.868Z"
   },
   {
    "duration": 0,
    "start_time": "2023-04-24T21:06:28.869Z"
   },
   {
    "duration": 0,
    "start_time": "2023-04-24T21:06:28.870Z"
   },
   {
    "duration": 0,
    "start_time": "2023-04-24T21:06:28.871Z"
   },
   {
    "duration": 7,
    "start_time": "2023-04-24T21:09:13.597Z"
   },
   {
    "duration": 6,
    "start_time": "2023-04-24T21:09:16.623Z"
   },
   {
    "duration": 1183,
    "start_time": "2023-04-24T21:09:31.697Z"
   },
   {
    "duration": 95,
    "start_time": "2023-04-24T21:09:32.882Z"
   },
   {
    "duration": 11,
    "start_time": "2023-04-24T21:09:32.979Z"
   },
   {
    "duration": 17,
    "start_time": "2023-04-24T21:09:32.991Z"
   },
   {
    "duration": 13,
    "start_time": "2023-04-24T21:09:33.010Z"
   },
   {
    "duration": 20,
    "start_time": "2023-04-24T21:09:33.024Z"
   },
   {
    "duration": 43,
    "start_time": "2023-04-24T21:09:33.046Z"
   },
   {
    "duration": 13,
    "start_time": "2023-04-24T21:09:33.091Z"
   },
   {
    "duration": 9,
    "start_time": "2023-04-24T21:09:33.106Z"
   },
   {
    "duration": 9,
    "start_time": "2023-04-24T21:09:33.117Z"
   },
   {
    "duration": 10,
    "start_time": "2023-04-24T21:09:33.128Z"
   },
   {
    "duration": 24,
    "start_time": "2023-04-24T21:09:33.139Z"
   },
   {
    "duration": 19,
    "start_time": "2023-04-24T21:09:33.171Z"
   },
   {
    "duration": 11,
    "start_time": "2023-04-24T21:09:33.193Z"
   },
   {
    "duration": 11,
    "start_time": "2023-04-24T21:09:33.206Z"
   },
   {
    "duration": 60,
    "start_time": "2023-04-24T21:09:33.219Z"
   },
   {
    "duration": 9,
    "start_time": "2023-04-24T21:09:33.281Z"
   },
   {
    "duration": 6,
    "start_time": "2023-04-24T21:09:33.292Z"
   },
   {
    "duration": 8,
    "start_time": "2023-04-24T21:09:33.300Z"
   },
   {
    "duration": 7,
    "start_time": "2023-04-24T21:09:33.310Z"
   },
   {
    "duration": 7,
    "start_time": "2023-04-24T21:09:33.319Z"
   },
   {
    "duration": 7,
    "start_time": "2023-04-24T21:09:33.327Z"
   },
   {
    "duration": 41,
    "start_time": "2023-04-24T21:09:33.336Z"
   },
   {
    "duration": 58,
    "start_time": "2023-04-24T21:09:33.379Z"
   },
   {
    "duration": 39,
    "start_time": "2023-04-24T21:09:33.438Z"
   },
   {
    "duration": 13,
    "start_time": "2023-04-24T21:09:33.479Z"
   },
   {
    "duration": 207,
    "start_time": "2023-04-24T21:09:33.494Z"
   },
   {
    "duration": 130,
    "start_time": "2023-04-24T21:09:33.703Z"
   },
   {
    "duration": 12,
    "start_time": "2023-04-24T21:09:33.835Z"
   },
   {
    "duration": 28,
    "start_time": "2023-04-24T21:09:33.864Z"
   },
   {
    "duration": 305,
    "start_time": "2023-04-24T21:09:33.893Z"
   },
   {
    "duration": 216,
    "start_time": "2023-04-24T21:09:34.200Z"
   },
   {
    "duration": 361,
    "start_time": "2023-04-24T21:09:34.418Z"
   },
   {
    "duration": 255,
    "start_time": "2023-04-24T21:09:34.781Z"
   },
   {
    "duration": 337,
    "start_time": "2023-04-24T21:09:35.038Z"
   },
   {
    "duration": 6,
    "start_time": "2023-04-24T21:09:35.378Z"
   },
   {
    "duration": 158,
    "start_time": "2023-04-24T21:09:35.386Z"
   },
   {
    "duration": 180,
    "start_time": "2023-04-24T21:09:35.545Z"
   },
   {
    "duration": 7,
    "start_time": "2023-04-24T21:09:35.726Z"
   },
   {
    "duration": 193,
    "start_time": "2023-04-24T21:09:35.735Z"
   },
   {
    "duration": 250,
    "start_time": "2023-04-24T21:09:35.931Z"
   },
   {
    "duration": 131,
    "start_time": "2023-04-24T21:09:36.183Z"
   },
   {
    "duration": 7,
    "start_time": "2023-04-24T21:09:36.316Z"
   },
   {
    "duration": 259,
    "start_time": "2023-04-24T21:09:36.325Z"
   },
   {
    "duration": 173,
    "start_time": "2023-04-24T21:09:36.586Z"
   },
   {
    "duration": 16,
    "start_time": "2023-04-24T21:09:36.760Z"
   },
   {
    "duration": 63,
    "start_time": "2023-04-24T21:09:36.778Z"
   },
   {
    "duration": 41,
    "start_time": "2023-04-24T21:09:36.843Z"
   },
   {
    "duration": 25,
    "start_time": "2023-04-24T21:09:36.885Z"
   },
   {
    "duration": 28,
    "start_time": "2023-04-24T21:09:36.912Z"
   },
   {
    "duration": 57,
    "start_time": "2023-04-24T21:09:36.941Z"
   },
   {
    "duration": 13,
    "start_time": "2023-04-24T21:09:37.000Z"
   },
   {
    "duration": 13,
    "start_time": "2023-04-24T21:24:05.711Z"
   },
   {
    "duration": 13,
    "start_time": "2023-04-24T21:25:39.991Z"
   },
   {
    "duration": 123,
    "start_time": "2023-04-24T22:05:57.999Z"
   },
   {
    "duration": 49,
    "start_time": "2023-04-24T22:06:38.934Z"
   },
   {
    "duration": 8,
    "start_time": "2023-04-24T22:08:07.679Z"
   },
   {
    "duration": 1102,
    "start_time": "2023-04-24T22:08:39.811Z"
   },
   {
    "duration": 118,
    "start_time": "2023-04-24T22:08:40.914Z"
   },
   {
    "duration": 28,
    "start_time": "2023-04-24T22:08:41.033Z"
   },
   {
    "duration": 38,
    "start_time": "2023-04-24T22:08:41.063Z"
   },
   {
    "duration": 14,
    "start_time": "2023-04-24T22:08:41.103Z"
   },
   {
    "duration": 27,
    "start_time": "2023-04-24T22:08:41.119Z"
   },
   {
    "duration": 46,
    "start_time": "2023-04-24T22:08:41.147Z"
   },
   {
    "duration": 12,
    "start_time": "2023-04-24T22:08:41.194Z"
   },
   {
    "duration": 7,
    "start_time": "2023-04-24T22:08:41.207Z"
   },
   {
    "duration": 13,
    "start_time": "2023-04-24T22:08:41.216Z"
   },
   {
    "duration": 7,
    "start_time": "2023-04-24T22:08:41.230Z"
   },
   {
    "duration": 33,
    "start_time": "2023-04-24T22:08:41.238Z"
   },
   {
    "duration": 15,
    "start_time": "2023-04-24T22:08:41.284Z"
   },
   {
    "duration": 11,
    "start_time": "2023-04-24T22:08:41.300Z"
   },
   {
    "duration": 17,
    "start_time": "2023-04-24T22:08:41.312Z"
   },
   {
    "duration": 57,
    "start_time": "2023-04-24T22:08:41.331Z"
   },
   {
    "duration": 8,
    "start_time": "2023-04-24T22:08:41.390Z"
   },
   {
    "duration": 15,
    "start_time": "2023-04-24T22:08:41.399Z"
   },
   {
    "duration": 8,
    "start_time": "2023-04-24T22:08:41.415Z"
   },
   {
    "duration": 11,
    "start_time": "2023-04-24T22:08:41.424Z"
   },
   {
    "duration": 56,
    "start_time": "2023-04-24T22:08:41.436Z"
   },
   {
    "duration": 12,
    "start_time": "2023-04-24T22:08:41.493Z"
   },
   {
    "duration": 18,
    "start_time": "2023-04-24T22:08:41.506Z"
   },
   {
    "duration": 83,
    "start_time": "2023-04-24T22:08:41.525Z"
   },
   {
    "duration": 12,
    "start_time": "2023-04-24T22:08:41.609Z"
   },
   {
    "duration": 19,
    "start_time": "2023-04-24T22:08:41.623Z"
   },
   {
    "duration": 42,
    "start_time": "2023-04-24T22:08:41.643Z"
   },
   {
    "duration": 187,
    "start_time": "2023-04-24T22:08:41.689Z"
   },
   {
    "duration": 131,
    "start_time": "2023-04-24T22:08:41.878Z"
   },
   {
    "duration": 13,
    "start_time": "2023-04-24T22:08:42.010Z"
   },
   {
    "duration": 15,
    "start_time": "2023-04-24T22:08:42.024Z"
   },
   {
    "duration": 343,
    "start_time": "2023-04-24T22:08:42.040Z"
   },
   {
    "duration": 202,
    "start_time": "2023-04-24T22:08:42.385Z"
   },
   {
    "duration": 249,
    "start_time": "2023-04-24T22:08:42.592Z"
   },
   {
    "duration": 244,
    "start_time": "2023-04-24T22:08:42.843Z"
   },
   {
    "duration": 256,
    "start_time": "2023-04-24T22:08:43.092Z"
   },
   {
    "duration": 13,
    "start_time": "2023-04-24T22:08:43.371Z"
   },
   {
    "duration": 198,
    "start_time": "2023-04-24T22:08:43.387Z"
   },
   {
    "duration": 153,
    "start_time": "2023-04-24T22:08:43.587Z"
   },
   {
    "duration": 7,
    "start_time": "2023-04-24T22:08:43.741Z"
   },
   {
    "duration": 175,
    "start_time": "2023-04-24T22:08:43.772Z"
   },
   {
    "duration": 239,
    "start_time": "2023-04-24T22:08:43.948Z"
   },
   {
    "duration": 131,
    "start_time": "2023-04-24T22:08:44.189Z"
   },
   {
    "duration": 7,
    "start_time": "2023-04-24T22:08:44.322Z"
   },
   {
    "duration": 273,
    "start_time": "2023-04-24T22:08:44.330Z"
   },
   {
    "duration": 189,
    "start_time": "2023-04-24T22:08:44.605Z"
   },
   {
    "duration": 6,
    "start_time": "2023-04-24T22:08:44.795Z"
   },
   {
    "duration": 9,
    "start_time": "2023-04-24T22:08:44.803Z"
   },
   {
    "duration": 20,
    "start_time": "2023-04-24T22:08:44.814Z"
   },
   {
    "duration": 27,
    "start_time": "2023-04-24T22:08:44.836Z"
   },
   {
    "duration": 17,
    "start_time": "2023-04-24T22:08:44.864Z"
   },
   {
    "duration": 14,
    "start_time": "2023-04-24T22:08:44.887Z"
   },
   {
    "duration": 20,
    "start_time": "2023-04-24T22:08:44.903Z"
   },
   {
    "duration": 13,
    "start_time": "2023-04-24T22:08:44.925Z"
   },
   {
    "duration": 19,
    "start_time": "2023-04-24T22:24:14.773Z"
   },
   {
    "duration": 251,
    "start_time": "2023-04-24T22:26:55.280Z"
   },
   {
    "duration": 155,
    "start_time": "2023-04-24T22:27:08.577Z"
   },
   {
    "duration": 8,
    "start_time": "2023-04-24T22:42:54.483Z"
   },
   {
    "duration": 22,
    "start_time": "2023-04-24T23:02:57.004Z"
   },
   {
    "duration": 10,
    "start_time": "2023-04-24T23:08:37.792Z"
   },
   {
    "duration": 20,
    "start_time": "2023-04-24T23:11:39.992Z"
   },
   {
    "duration": 20,
    "start_time": "2023-04-24T23:13:04.335Z"
   },
   {
    "duration": 1092,
    "start_time": "2023-04-24T23:15:36.779Z"
   },
   {
    "duration": 98,
    "start_time": "2023-04-24T23:15:37.876Z"
   },
   {
    "duration": 11,
    "start_time": "2023-04-24T23:15:37.976Z"
   },
   {
    "duration": 17,
    "start_time": "2023-04-24T23:15:37.989Z"
   },
   {
    "duration": 14,
    "start_time": "2023-04-24T23:15:38.007Z"
   },
   {
    "duration": 12,
    "start_time": "2023-04-24T23:15:38.023Z"
   },
   {
    "duration": 22,
    "start_time": "2023-04-24T23:15:38.037Z"
   },
   {
    "duration": 23,
    "start_time": "2023-04-24T23:15:38.067Z"
   },
   {
    "duration": 16,
    "start_time": "2023-04-24T23:15:38.091Z"
   },
   {
    "duration": 6,
    "start_time": "2023-04-24T23:15:38.110Z"
   },
   {
    "duration": 14,
    "start_time": "2023-04-24T23:15:38.117Z"
   },
   {
    "duration": 11,
    "start_time": "2023-04-24T23:15:38.132Z"
   },
   {
    "duration": 26,
    "start_time": "2023-04-24T23:15:38.145Z"
   },
   {
    "duration": 15,
    "start_time": "2023-04-24T23:15:38.174Z"
   },
   {
    "duration": 7,
    "start_time": "2023-04-24T23:15:38.191Z"
   },
   {
    "duration": 33,
    "start_time": "2023-04-24T23:15:38.199Z"
   },
   {
    "duration": 8,
    "start_time": "2023-04-24T23:15:38.233Z"
   },
   {
    "duration": 31,
    "start_time": "2023-04-24T23:15:38.242Z"
   },
   {
    "duration": 7,
    "start_time": "2023-04-24T23:15:38.275Z"
   },
   {
    "duration": 8,
    "start_time": "2023-04-24T23:15:38.283Z"
   },
   {
    "duration": 8,
    "start_time": "2023-04-24T23:15:38.292Z"
   },
   {
    "duration": 8,
    "start_time": "2023-04-24T23:15:38.301Z"
   },
   {
    "duration": 7,
    "start_time": "2023-04-24T23:15:38.311Z"
   },
   {
    "duration": 70,
    "start_time": "2023-04-24T23:15:38.319Z"
   },
   {
    "duration": 13,
    "start_time": "2023-04-24T23:15:38.390Z"
   },
   {
    "duration": 19,
    "start_time": "2023-04-24T23:15:38.404Z"
   },
   {
    "duration": 16,
    "start_time": "2023-04-24T23:15:38.425Z"
   },
   {
    "duration": 165,
    "start_time": "2023-04-24T23:15:38.451Z"
   },
   {
    "duration": 122,
    "start_time": "2023-04-24T23:15:38.618Z"
   },
   {
    "duration": 34,
    "start_time": "2023-04-24T23:15:38.741Z"
   },
   {
    "duration": 16,
    "start_time": "2023-04-24T23:15:38.777Z"
   },
   {
    "duration": 278,
    "start_time": "2023-04-24T23:15:38.795Z"
   },
   {
    "duration": 203,
    "start_time": "2023-04-24T23:15:39.075Z"
   },
   {
    "duration": 254,
    "start_time": "2023-04-24T23:15:39.279Z"
   },
   {
    "duration": 207,
    "start_time": "2023-04-24T23:15:39.535Z"
   },
   {
    "duration": 280,
    "start_time": "2023-04-24T23:15:39.755Z"
   },
   {
    "duration": 30,
    "start_time": "2023-04-24T23:15:40.037Z"
   },
   {
    "duration": 141,
    "start_time": "2023-04-24T23:15:40.075Z"
   },
   {
    "duration": 157,
    "start_time": "2023-04-24T23:15:40.218Z"
   },
   {
    "duration": 7,
    "start_time": "2023-04-24T23:15:40.377Z"
   },
   {
    "duration": 142,
    "start_time": "2023-04-24T23:15:40.385Z"
   },
   {
    "duration": 211,
    "start_time": "2023-04-24T23:15:40.528Z"
   },
   {
    "duration": 138,
    "start_time": "2023-04-24T23:15:40.740Z"
   },
   {
    "duration": 7,
    "start_time": "2023-04-24T23:15:40.880Z"
   },
   {
    "duration": 230,
    "start_time": "2023-04-24T23:15:40.889Z"
   },
   {
    "duration": 148,
    "start_time": "2023-04-24T23:15:41.121Z"
   },
   {
    "duration": 7,
    "start_time": "2023-04-24T23:15:41.276Z"
   },
   {
    "duration": 12,
    "start_time": "2023-04-24T23:15:41.285Z"
   },
   {
    "duration": 24,
    "start_time": "2023-04-24T23:15:41.299Z"
   },
   {
    "duration": 10,
    "start_time": "2023-04-24T23:15:41.325Z"
   },
   {
    "duration": 31,
    "start_time": "2023-04-24T23:15:41.337Z"
   },
   {
    "duration": 10,
    "start_time": "2023-04-24T23:15:41.372Z"
   },
   {
    "duration": 31,
    "start_time": "2023-04-24T23:15:41.383Z"
   },
   {
    "duration": 14,
    "start_time": "2023-04-24T23:15:41.415Z"
   },
   {
    "duration": 1113,
    "start_time": "2023-04-24T23:28:36.734Z"
   },
   {
    "duration": 84,
    "start_time": "2023-04-24T23:28:37.854Z"
   },
   {
    "duration": 23,
    "start_time": "2023-04-24T23:28:37.940Z"
   },
   {
    "duration": 22,
    "start_time": "2023-04-24T23:28:37.964Z"
   },
   {
    "duration": 20,
    "start_time": "2023-04-24T23:28:37.988Z"
   },
   {
    "duration": 14,
    "start_time": "2023-04-24T23:28:38.009Z"
   },
   {
    "duration": 12,
    "start_time": "2023-04-24T23:28:38.025Z"
   },
   {
    "duration": 24,
    "start_time": "2023-04-24T23:28:38.039Z"
   },
   {
    "duration": 19,
    "start_time": "2023-04-24T23:28:38.072Z"
   },
   {
    "duration": 7,
    "start_time": "2023-04-24T23:28:38.092Z"
   },
   {
    "duration": 8,
    "start_time": "2023-04-24T23:28:38.101Z"
   },
   {
    "duration": 11,
    "start_time": "2023-04-24T23:28:38.110Z"
   },
   {
    "duration": 10,
    "start_time": "2023-04-24T23:28:38.123Z"
   },
   {
    "duration": 22,
    "start_time": "2023-04-24T23:28:38.137Z"
   },
   {
    "duration": 10,
    "start_time": "2023-04-24T23:28:38.172Z"
   },
   {
    "duration": 36,
    "start_time": "2023-04-24T23:28:38.183Z"
   },
   {
    "duration": 8,
    "start_time": "2023-04-24T23:28:38.220Z"
   },
   {
    "duration": 5,
    "start_time": "2023-04-24T23:28:38.230Z"
   },
   {
    "duration": 34,
    "start_time": "2023-04-24T23:28:38.237Z"
   },
   {
    "duration": 10,
    "start_time": "2023-04-24T23:28:38.272Z"
   },
   {
    "duration": 8,
    "start_time": "2023-04-24T23:28:38.284Z"
   },
   {
    "duration": 11,
    "start_time": "2023-04-24T23:28:38.293Z"
   },
   {
    "duration": 9,
    "start_time": "2023-04-24T23:28:38.306Z"
   },
   {
    "duration": 70,
    "start_time": "2023-04-24T23:28:38.316Z"
   },
   {
    "duration": 13,
    "start_time": "2023-04-24T23:28:38.387Z"
   },
   {
    "duration": 16,
    "start_time": "2023-04-24T23:28:38.402Z"
   },
   {
    "duration": 14,
    "start_time": "2023-04-24T23:28:38.420Z"
   },
   {
    "duration": 164,
    "start_time": "2023-04-24T23:28:38.435Z"
   },
   {
    "duration": 134,
    "start_time": "2023-04-24T23:28:38.600Z"
   },
   {
    "duration": 24,
    "start_time": "2023-04-24T23:28:38.735Z"
   },
   {
    "duration": 20,
    "start_time": "2023-04-24T23:28:38.760Z"
   },
   {
    "duration": 295,
    "start_time": "2023-04-24T23:28:38.782Z"
   },
   {
    "duration": 199,
    "start_time": "2023-04-24T23:28:39.079Z"
   },
   {
    "duration": 253,
    "start_time": "2023-04-24T23:28:39.280Z"
   },
   {
    "duration": 212,
    "start_time": "2023-04-24T23:28:39.534Z"
   },
   {
    "duration": 286,
    "start_time": "2023-04-24T23:28:39.751Z"
   },
   {
    "duration": 33,
    "start_time": "2023-04-24T23:28:40.038Z"
   },
   {
    "duration": 145,
    "start_time": "2023-04-24T23:28:40.073Z"
   },
   {
    "duration": 159,
    "start_time": "2023-04-24T23:28:40.220Z"
   },
   {
    "duration": 7,
    "start_time": "2023-04-24T23:28:40.381Z"
   },
   {
    "duration": 141,
    "start_time": "2023-04-24T23:28:40.393Z"
   },
   {
    "duration": 219,
    "start_time": "2023-04-24T23:28:40.536Z"
   },
   {
    "duration": 126,
    "start_time": "2023-04-24T23:28:40.756Z"
   },
   {
    "duration": 8,
    "start_time": "2023-04-24T23:28:40.883Z"
   },
   {
    "duration": 232,
    "start_time": "2023-04-24T23:28:40.892Z"
   },
   {
    "duration": 150,
    "start_time": "2023-04-24T23:28:41.125Z"
   },
   {
    "duration": 7,
    "start_time": "2023-04-24T23:28:41.277Z"
   },
   {
    "duration": 8,
    "start_time": "2023-04-24T23:28:41.286Z"
   },
   {
    "duration": 22,
    "start_time": "2023-04-24T23:28:41.295Z"
   },
   {
    "duration": 9,
    "start_time": "2023-04-24T23:28:41.318Z"
   },
   {
    "duration": 35,
    "start_time": "2023-04-24T23:28:41.328Z"
   },
   {
    "duration": 16,
    "start_time": "2023-04-24T23:28:41.368Z"
   },
   {
    "duration": 22,
    "start_time": "2023-04-24T23:28:41.386Z"
   },
   {
    "duration": 12,
    "start_time": "2023-04-24T23:28:41.410Z"
   },
   {
    "duration": 1317,
    "start_time": "2023-04-25T16:48:42.491Z"
   },
   {
    "duration": 296,
    "start_time": "2023-04-25T16:48:43.810Z"
   },
   {
    "duration": 15,
    "start_time": "2023-04-25T16:48:44.108Z"
   },
   {
    "duration": 18,
    "start_time": "2023-04-25T16:48:44.125Z"
   },
   {
    "duration": 17,
    "start_time": "2023-04-25T16:48:44.146Z"
   },
   {
    "duration": 32,
    "start_time": "2023-04-25T16:48:44.165Z"
   },
   {
    "duration": 13,
    "start_time": "2023-04-25T16:48:44.199Z"
   },
   {
    "duration": 14,
    "start_time": "2023-04-25T16:48:44.214Z"
   },
   {
    "duration": 8,
    "start_time": "2023-04-25T16:48:44.230Z"
   },
   {
    "duration": 21,
    "start_time": "2023-04-25T16:48:44.240Z"
   },
   {
    "duration": 15,
    "start_time": "2023-04-25T16:48:44.265Z"
   },
   {
    "duration": 16,
    "start_time": "2023-04-25T16:48:44.282Z"
   },
   {
    "duration": 13,
    "start_time": "2023-04-25T16:48:44.300Z"
   },
   {
    "duration": 13,
    "start_time": "2023-04-25T16:48:44.316Z"
   },
   {
    "duration": 13,
    "start_time": "2023-04-25T16:48:44.330Z"
   },
   {
    "duration": 67,
    "start_time": "2023-04-25T16:48:44.345Z"
   },
   {
    "duration": 8,
    "start_time": "2023-04-25T16:48:44.413Z"
   },
   {
    "duration": 11,
    "start_time": "2023-04-25T16:48:44.422Z"
   },
   {
    "duration": 13,
    "start_time": "2023-04-25T16:48:44.434Z"
   },
   {
    "duration": 19,
    "start_time": "2023-04-25T16:48:44.449Z"
   },
   {
    "duration": 14,
    "start_time": "2023-04-25T16:48:44.471Z"
   },
   {
    "duration": 11,
    "start_time": "2023-04-25T16:48:44.488Z"
   },
   {
    "duration": 23,
    "start_time": "2023-04-25T16:48:44.500Z"
   },
   {
    "duration": 73,
    "start_time": "2023-04-25T16:48:44.525Z"
   },
   {
    "duration": 13,
    "start_time": "2023-04-25T16:48:44.600Z"
   },
   {
    "duration": 20,
    "start_time": "2023-04-25T16:48:44.614Z"
   },
   {
    "duration": 20,
    "start_time": "2023-04-25T16:48:44.636Z"
   },
   {
    "duration": 214,
    "start_time": "2023-04-25T16:48:44.667Z"
   },
   {
    "duration": 127,
    "start_time": "2023-04-25T16:48:44.886Z"
   },
   {
    "duration": 13,
    "start_time": "2023-04-25T16:48:45.014Z"
   },
   {
    "duration": 18,
    "start_time": "2023-04-25T16:48:45.029Z"
   },
   {
    "duration": 292,
    "start_time": "2023-04-25T16:48:45.049Z"
   },
   {
    "duration": 249,
    "start_time": "2023-04-25T16:48:45.342Z"
   },
   {
    "duration": 328,
    "start_time": "2023-04-25T16:48:45.592Z"
   },
   {
    "duration": 220,
    "start_time": "2023-04-25T16:48:45.922Z"
   },
   {
    "duration": 308,
    "start_time": "2023-04-25T16:48:46.144Z"
   },
   {
    "duration": 11,
    "start_time": "2023-04-25T16:48:46.453Z"
   },
   {
    "duration": 177,
    "start_time": "2023-04-25T16:48:46.466Z"
   },
   {
    "duration": 169,
    "start_time": "2023-04-25T16:48:46.644Z"
   },
   {
    "duration": 8,
    "start_time": "2023-04-25T16:48:46.815Z"
   },
   {
    "duration": 178,
    "start_time": "2023-04-25T16:48:46.827Z"
   },
   {
    "duration": 238,
    "start_time": "2023-04-25T16:48:47.007Z"
   },
   {
    "duration": 156,
    "start_time": "2023-04-25T16:48:47.246Z"
   },
   {
    "duration": 9,
    "start_time": "2023-04-25T16:48:47.404Z"
   },
   {
    "duration": 271,
    "start_time": "2023-04-25T16:48:47.416Z"
   },
   {
    "duration": 176,
    "start_time": "2023-04-25T16:48:47.689Z"
   },
   {
    "duration": 12,
    "start_time": "2023-04-25T16:48:47.870Z"
   },
   {
    "duration": 9,
    "start_time": "2023-04-25T16:48:47.889Z"
   },
   {
    "duration": 25,
    "start_time": "2023-04-25T16:48:47.900Z"
   },
   {
    "duration": 12,
    "start_time": "2023-04-25T16:48:47.927Z"
   },
   {
    "duration": 24,
    "start_time": "2023-04-25T16:48:47.941Z"
   },
   {
    "duration": 27,
    "start_time": "2023-04-25T16:48:47.966Z"
   },
   {
    "duration": 23,
    "start_time": "2023-04-25T16:48:47.998Z"
   },
   {
    "duration": 15,
    "start_time": "2023-04-25T16:48:48.023Z"
   },
   {
    "duration": 1175,
    "start_time": "2023-07-06T09:07:50.895Z"
   },
   {
    "duration": 197,
    "start_time": "2023-07-06T09:07:52.073Z"
   },
   {
    "duration": 16,
    "start_time": "2023-07-06T09:07:52.272Z"
   },
   {
    "duration": 14,
    "start_time": "2023-07-06T09:07:52.290Z"
   },
   {
    "duration": 13,
    "start_time": "2023-07-06T09:07:52.306Z"
   },
   {
    "duration": 15,
    "start_time": "2023-07-06T09:07:52.321Z"
   },
   {
    "duration": 34,
    "start_time": "2023-07-06T09:07:52.337Z"
   },
   {
    "duration": 18,
    "start_time": "2023-07-06T09:07:52.373Z"
   },
   {
    "duration": 4,
    "start_time": "2023-07-06T09:07:52.394Z"
   },
   {
    "duration": 10,
    "start_time": "2023-07-06T09:07:52.400Z"
   },
   {
    "duration": 10,
    "start_time": "2023-07-06T09:07:52.411Z"
   },
   {
    "duration": 33,
    "start_time": "2023-07-06T09:07:52.423Z"
   },
   {
    "duration": 15,
    "start_time": "2023-07-06T09:07:52.458Z"
   },
   {
    "duration": 18,
    "start_time": "2023-07-06T09:07:52.476Z"
   },
   {
    "duration": 58,
    "start_time": "2023-07-06T09:07:52.496Z"
   },
   {
    "duration": 44,
    "start_time": "2023-07-06T09:07:52.557Z"
   },
   {
    "duration": 9,
    "start_time": "2023-07-06T09:07:52.603Z"
   },
   {
    "duration": 23,
    "start_time": "2023-07-06T09:07:52.614Z"
   },
   {
    "duration": 8,
    "start_time": "2023-07-06T09:07:52.655Z"
   },
   {
    "duration": 7,
    "start_time": "2023-07-06T09:07:52.665Z"
   },
   {
    "duration": 10,
    "start_time": "2023-07-06T09:07:52.674Z"
   },
   {
    "duration": 7,
    "start_time": "2023-07-06T09:07:52.686Z"
   },
   {
    "duration": 7,
    "start_time": "2023-07-06T09:07:52.695Z"
   },
   {
    "duration": 97,
    "start_time": "2023-07-06T09:07:52.704Z"
   },
   {
    "duration": 14,
    "start_time": "2023-07-06T09:07:52.803Z"
   },
   {
    "duration": 27,
    "start_time": "2023-07-06T09:07:52.819Z"
   },
   {
    "duration": 18,
    "start_time": "2023-07-06T09:07:52.848Z"
   },
   {
    "duration": 191,
    "start_time": "2023-07-06T09:07:52.868Z"
   },
   {
    "duration": 141,
    "start_time": "2023-07-06T09:07:53.061Z"
   },
   {
    "duration": 12,
    "start_time": "2023-07-06T09:07:53.204Z"
   },
   {
    "duration": 17,
    "start_time": "2023-07-06T09:07:53.219Z"
   },
   {
    "duration": 298,
    "start_time": "2023-07-06T09:07:53.238Z"
   },
   {
    "duration": 220,
    "start_time": "2023-07-06T09:07:53.537Z"
   },
   {
    "duration": 308,
    "start_time": "2023-07-06T09:07:53.760Z"
   },
   {
    "duration": 226,
    "start_time": "2023-07-06T09:07:54.070Z"
   },
   {
    "duration": 307,
    "start_time": "2023-07-06T09:07:54.298Z"
   },
   {
    "duration": 7,
    "start_time": "2023-07-06T09:07:54.607Z"
   },
   {
    "duration": 178,
    "start_time": "2023-07-06T09:07:54.616Z"
   },
   {
    "duration": 172,
    "start_time": "2023-07-06T09:07:54.796Z"
   },
   {
    "duration": 9,
    "start_time": "2023-07-06T09:07:54.969Z"
   },
   {
    "duration": 182,
    "start_time": "2023-07-06T09:07:54.983Z"
   },
   {
    "duration": 233,
    "start_time": "2023-07-06T09:07:55.167Z"
   },
   {
    "duration": 138,
    "start_time": "2023-07-06T09:07:55.402Z"
   },
   {
    "duration": 17,
    "start_time": "2023-07-06T09:07:55.541Z"
   },
   {
    "duration": 259,
    "start_time": "2023-07-06T09:07:55.559Z"
   },
   {
    "duration": 166,
    "start_time": "2023-07-06T09:07:55.820Z"
   },
   {
    "duration": 7,
    "start_time": "2023-07-06T09:07:55.988Z"
   },
   {
    "duration": 10,
    "start_time": "2023-07-06T09:07:55.997Z"
   },
   {
    "duration": 26,
    "start_time": "2023-07-06T09:07:56.008Z"
   },
   {
    "duration": 12,
    "start_time": "2023-07-06T09:07:56.055Z"
   },
   {
    "duration": 33,
    "start_time": "2023-07-06T09:07:56.068Z"
   },
   {
    "duration": 19,
    "start_time": "2023-07-06T09:07:56.103Z"
   },
   {
    "duration": 24,
    "start_time": "2023-07-06T09:07:56.124Z"
   },
   {
    "duration": 15,
    "start_time": "2023-07-06T09:07:56.149Z"
   },
   {
    "duration": 15,
    "start_time": "2023-07-06T09:10:08.034Z"
   },
   {
    "duration": 15,
    "start_time": "2023-07-06T09:12:52.748Z"
   },
   {
    "duration": 16,
    "start_time": "2023-07-06T09:13:44.919Z"
   }
  ],
  "kernelspec": {
   "display_name": "Python 3 (ipykernel)",
   "language": "python",
   "name": "python3"
  },
  "language_info": {
   "codemirror_mode": {
    "name": "ipython",
    "version": 3
   },
   "file_extension": ".py",
   "mimetype": "text/x-python",
   "name": "python",
   "nbconvert_exporter": "python",
   "pygments_lexer": "ipython3",
   "version": "3.9.5"
  },
  "toc": {
   "base_numbering": 1,
   "nav_menu": {},
   "number_sections": true,
   "sideBar": true,
   "skip_h1_title": true,
   "title_cell": "Навигация",
   "title_sidebar": "Contents",
   "toc_cell": true,
   "toc_position": {
    "height": "calc(100% - 180px)",
    "left": "10px",
    "top": "150px",
    "width": "342.461px"
   },
   "toc_section_display": true,
   "toc_window_display": true
  }
 },
 "nbformat": 4,
 "nbformat_minor": 2
}
